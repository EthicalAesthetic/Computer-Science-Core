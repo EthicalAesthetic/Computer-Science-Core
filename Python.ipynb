{
  "cells": [
    {
      "cell_type": "markdown",
      "metadata": {
        "id": "S74uhC-SpC69"
      },
      "source": [
        "<!DOCTYPE html>\n",
        "<html>\n",
        "<body>\n",
        "<div align=\"center\">\n",
        "<h2>Prepared by Asif Bhat</h2>\n",
        "    \n",
        "<h1>Python Tutorial</h1>\n",
        "</div>\n",
        "</body>\n",
        "</html>"
      ]
    },
    {
      "cell_type": "code",
      "execution_count": 2,
      "metadata": {
        "id": "FgwxKtaBpC7B"
      },
      "outputs": [],
      "source": [
        "import sys\n",
        "import keyword\n",
        "import operator\n",
        "from datetime import datetime\n",
        "import os"
      ]
    },
    {
      "cell_type": "markdown",
      "metadata": {
        "id": "JWf_LvfXpC7E"
      },
      "source": [
        "## Keywords"
      ]
    },
    {
      "cell_type": "markdown",
      "metadata": {
        "id": "JyA-KOJbpC7F"
      },
      "source": [
        "Keywords are the reserved words in Python and can't be used as an identifier"
      ]
    },
    {
      "cell_type": "code",
      "execution_count": 5,
      "metadata": {
        "id": "ZW6VEMkDpC7G",
        "outputId": "c83cb0a8-f2ab-49e9-93cf-dc810f43afe8",
        "colab": {
          "base_uri": "https://localhost:8080/"
        }
      },
      "outputs": [
        {
          "output_type": "stream",
          "name": "stdout",
          "text": [
            "['False', 'None', 'True', 'and', 'as', 'assert', 'async', 'await', 'break', 'class', 'continue', 'def', 'del', 'elif', 'else', 'except', 'finally', 'for', 'from', 'global', 'if', 'import', 'in', 'is', 'lambda', 'nonlocal', 'not', 'or', 'pass', 'raise', 'return', 'try', 'while', 'with', 'yield']\n"
          ]
        }
      ],
      "source": [
        "print(keyword.kwlist) # List all Python Keywords"
      ]
    },
    {
      "cell_type": "code",
      "execution_count": 6,
      "metadata": {
        "id": "V8FUMzFopC7I",
        "outputId": "e9172d78-56e8-4957-f15d-8b5be1f50489",
        "colab": {
          "base_uri": "https://localhost:8080/"
        }
      },
      "outputs": [
        {
          "output_type": "execute_result",
          "data": {
            "text/plain": [
              "35"
            ]
          },
          "metadata": {},
          "execution_count": 6
        }
      ],
      "source": [
        "len(keyword.kwlist) # Python contains 35 keywords"
      ]
    },
    {
      "cell_type": "markdown",
      "metadata": {
        "id": "1U5kX4WNpC7J"
      },
      "source": [
        "## Identifiers"
      ]
    },
    {
      "cell_type": "markdown",
      "metadata": {
        "id": "6L5tTAQApC7K"
      },
      "source": [
        "An identifier is a name given to entities like class, functions, variables, etc. It helps to differentiate one entity from another."
      ]
    },
    {
      "cell_type": "code",
      "execution_count": 7,
      "metadata": {
        "id": "npwbQCr2pC7M",
        "outputId": "2098fb3d-1c5f-4003-f6d5-203989eba1c3",
        "colab": {
          "base_uri": "https://localhost:8080/",
          "height": 110
        }
      },
      "outputs": [
        {
          "output_type": "error",
          "ename": "SyntaxError",
          "evalue": "invalid decimal literal (ipython-input-2026980919.py, line 1)",
          "traceback": [
            "\u001b[0;36m  File \u001b[0;32m\"/tmp/ipython-input-2026980919.py\"\u001b[0;36m, line \u001b[0;32m1\u001b[0m\n\u001b[0;31m    1var = 10 # Identifier can't start with a digit\u001b[0m\n\u001b[0m    ^\u001b[0m\n\u001b[0;31mSyntaxError\u001b[0m\u001b[0;31m:\u001b[0m invalid decimal literal\n"
          ]
        }
      ],
      "source": [
        "1var = 10 # Identifier can't start with a digit"
      ]
    },
    {
      "cell_type": "code",
      "execution_count": null,
      "metadata": {
        "id": "eZnB5I74pC7N",
        "outputId": "0e6b248e-9f9a-40d5-a727-32f91c6bd69b"
      },
      "outputs": [
        {
          "ename": "SyntaxError",
          "evalue": "invalid syntax (<ipython-input-14-cfbf60736601>, line 1)",
          "output_type": "error",
          "traceback": [
            "\u001b[1;36m  File \u001b[1;32m\"<ipython-input-14-cfbf60736601>\"\u001b[1;36m, line \u001b[1;32m1\u001b[0m\n\u001b[1;33m    val2@ = 35 # Identifier can't use special symbols\u001b[0m\n\u001b[1;37m          ^\u001b[0m\n\u001b[1;31mSyntaxError\u001b[0m\u001b[1;31m:\u001b[0m invalid syntax\n"
          ]
        }
      ],
      "source": [
        "val2@ = 35 # Identifier can't use special symbols"
      ]
    },
    {
      "cell_type": "code",
      "execution_count": null,
      "metadata": {
        "id": "0tqRRyIVpC7N",
        "outputId": "2ade0edd-c66c-480d-c450-a8e7b413f89a"
      },
      "outputs": [
        {
          "ename": "SyntaxError",
          "evalue": "invalid syntax (<ipython-input-15-f7061d4fc9ba>, line 1)",
          "output_type": "error",
          "traceback": [
            "\u001b[1;36m  File \u001b[1;32m\"<ipython-input-15-f7061d4fc9ba>\"\u001b[1;36m, line \u001b[1;32m1\u001b[0m\n\u001b[1;33m    import = 125 # Keywords can't be used as identifiers\u001b[0m\n\u001b[1;37m           ^\u001b[0m\n\u001b[1;31mSyntaxError\u001b[0m\u001b[1;31m:\u001b[0m invalid syntax\n"
          ]
        }
      ],
      "source": [
        "import = 125 # Keywords can't be used as identifiers"
      ]
    },
    {
      "cell_type": "code",
      "execution_count": 8,
      "metadata": {
        "id": "goBwD-dApC7O"
      },
      "outputs": [],
      "source": [
        "\"\"\"\n",
        "Correct way of defining an identifier\n",
        "(Identifiers can be a combination of letters in lowercase (a to z) or uppercase (A to Z) or digits (0 to 9) or an underscore)\n",
        "\"\"\"\n",
        "\n",
        "val2 = 10"
      ]
    },
    {
      "cell_type": "code",
      "execution_count": 9,
      "metadata": {
        "id": "WufUUD0UpC7P"
      },
      "outputs": [],
      "source": [
        "val_ = 99"
      ]
    },
    {
      "cell_type": "markdown",
      "metadata": {
        "id": "dqz9sPYRpC7Q"
      },
      "source": [
        "# Comments in Python"
      ]
    },
    {
      "cell_type": "markdown",
      "metadata": {
        "id": "xvbkqRqipC7Q"
      },
      "source": [
        "Comments can be used to explain the code for more readabilty."
      ]
    },
    {
      "cell_type": "code",
      "execution_count": null,
      "metadata": {
        "id": "VrWnda_WpC7Q"
      },
      "outputs": [],
      "source": [
        "# Single line comment\n",
        "val1  = 10"
      ]
    },
    {
      "cell_type": "code",
      "execution_count": null,
      "metadata": {
        "id": "mUR6WOINpC7S"
      },
      "outputs": [],
      "source": [
        "# Multiple\n",
        "# line\n",
        "# comment\n",
        "val1  = 10"
      ]
    },
    {
      "cell_type": "code",
      "execution_count": null,
      "metadata": {
        "id": "nvAvi293pC7S"
      },
      "outputs": [],
      "source": [
        "'''\n",
        "Multiple\n",
        "line\n",
        "comment\n",
        "'''\n",
        "val1  = 10"
      ]
    },
    {
      "cell_type": "code",
      "execution_count": null,
      "metadata": {
        "id": "d1HGKf9spC7T"
      },
      "outputs": [],
      "source": [
        "\"\"\"\n",
        "Multiple\n",
        "line\n",
        "comment\n",
        "\"\"\"\n",
        "val1  = 10"
      ]
    },
    {
      "cell_type": "markdown",
      "metadata": {
        "id": "vyEzPhehpC7U"
      },
      "source": [
        "## Statements"
      ]
    },
    {
      "cell_type": "markdown",
      "metadata": {
        "id": "e81XxjTwpC7U"
      },
      "source": [
        "Instructions that a Python interpreter can execute."
      ]
    },
    {
      "cell_type": "code",
      "execution_count": 10,
      "metadata": {
        "id": "y6-7wj5ZpC7V",
        "outputId": "479484b6-7751-4bd2-fada-2b17d7710080",
        "colab": {
          "base_uri": "https://localhost:8080/"
        }
      },
      "outputs": [
        {
          "output_type": "execute_result",
          "data": {
            "text/plain": [
              "30"
            ]
          },
          "metadata": {},
          "execution_count": 10
        }
      ],
      "source": [
        "# Single line statement\n",
        "p1 = 10 + 20\n",
        "p1"
      ]
    },
    {
      "cell_type": "code",
      "execution_count": null,
      "metadata": {
        "id": "tS0jY1mMpC7V",
        "outputId": "dbdc3225-3972-46a9-9957-383387a6369c"
      },
      "outputs": [
        {
          "data": {
            "text/plain": [
              "['a', 'b', 'c', 'd']"
            ]
          },
          "execution_count": 28,
          "metadata": {},
          "output_type": "execute_result"
        }
      ],
      "source": [
        "# Single line statement\n",
        "p2 = ['a' , 'b' , 'c' , 'd']\n",
        "p2"
      ]
    },
    {
      "cell_type": "code",
      "execution_count": 12,
      "metadata": {
        "id": "vCIgiXWkpC7X",
        "outputId": "98622e15-e00d-4c47-c5eb-e122f3da52de",
        "colab": {
          "base_uri": "https://localhost:8080/"
        }
      },
      "outputs": [
        {
          "output_type": "execute_result",
          "data": {
            "text/plain": [
              "290"
            ]
          },
          "metadata": {},
          "execution_count": 12
        }
      ],
      "source": [
        "# Multiple line statement\n",
        "p1 = 20 + 30 \\\n",
        "     + 40 + 50 +\\\n",
        "     + 70 + 80\n",
        "p1"
      ]
    },
    {
      "cell_type": "code",
      "execution_count": null,
      "metadata": {
        "id": "Vua6xHCtpC7X",
        "outputId": "18d74472-336d-4e17-e0a3-6a9839e94f29"
      },
      "outputs": [
        {
          "data": {
            "text/plain": [
              "['a', 'b', 'c', 'd']"
            ]
          },
          "execution_count": 29,
          "metadata": {},
          "output_type": "execute_result"
        }
      ],
      "source": [
        "# Multiple line statement\n",
        "p2 = ['a' ,\n",
        "      'b' ,\n",
        "      'c' ,\n",
        "      'd'\n",
        "     ]\n",
        "p2"
      ]
    },
    {
      "cell_type": "markdown",
      "metadata": {
        "id": "fN_AdfYopC7Z"
      },
      "source": [
        "## Indentation"
      ]
    },
    {
      "cell_type": "markdown",
      "metadata": {
        "id": "8yxrTk5mpC7Z"
      },
      "source": [
        "Indentation refers to the spaces at the beginning of a code line. It is very important as Python uses indentation to indicate a block of code.If the indentation is not correct we will endup with <b>IndentationError</b> error."
      ]
    },
    {
      "cell_type": "code",
      "execution_count": null,
      "metadata": {
        "id": "dfO_NWeXpC7a",
        "outputId": "d38950ab-caa2-47e0-c6f3-7d22e5cb9ccc"
      },
      "outputs": [
        {
          "name": "stdout",
          "output_type": "stream",
          "text": [
            "P is equal to 10\n"
          ]
        }
      ],
      "source": [
        "p = 10\n",
        "if p == 10:\n",
        "    print ('P is equal to 10') # correct indentation"
      ]
    },
    {
      "cell_type": "code",
      "execution_count": null,
      "metadata": {
        "id": "kGH83ukApC7b",
        "outputId": "8a562933-29c5-4e38-a125-0780aa458dcc"
      },
      "outputs": [
        {
          "ename": "IndentationError",
          "evalue": "expected an indented block (<ipython-input-38-d7879ffaae93>, line 3)",
          "output_type": "error",
          "traceback": [
            "\u001b[1;36m  File \u001b[1;32m\"<ipython-input-38-d7879ffaae93>\"\u001b[1;36m, line \u001b[1;32m3\u001b[0m\n\u001b[1;33m    print ('P is equal to 10')\u001b[0m\n\u001b[1;37m        ^\u001b[0m\n\u001b[1;31mIndentationError\u001b[0m\u001b[1;31m:\u001b[0m expected an indented block\n"
          ]
        }
      ],
      "source": [
        "# if indentation is skipped we will encounter \"IndentationError: expected an indented block\"\n",
        "p = 10\n",
        "if p == 10:\n",
        "print ('P is equal to 10')"
      ]
    },
    {
      "cell_type": "code",
      "execution_count": null,
      "metadata": {
        "id": "rQ_PinwZpC7b",
        "outputId": "71310112-16d3-4a61-cde1-435d66ff686b"
      },
      "outputs": [
        {
          "name": "stdout",
          "output_type": "stream",
          "text": [
            "0\n",
            "1\n",
            "2\n",
            "3\n",
            "4\n"
          ]
        }
      ],
      "source": [
        "for i in range(0,5):\n",
        "    print(i)               # correct indentation"
      ]
    },
    {
      "cell_type": "code",
      "execution_count": null,
      "metadata": {
        "id": "hAs6GMjDpC7c",
        "outputId": "0ff60d72-07b1-466b-b80f-5f54ef47ca78"
      },
      "outputs": [
        {
          "ename": "IndentationError",
          "evalue": "expected an indented block (<ipython-input-43-4a6de03bf63e>, line 2)",
          "output_type": "error",
          "traceback": [
            "\u001b[1;36m  File \u001b[1;32m\"<ipython-input-43-4a6de03bf63e>\"\u001b[1;36m, line \u001b[1;32m2\u001b[0m\n\u001b[1;33m    print(i)\u001b[0m\n\u001b[1;37m        ^\u001b[0m\n\u001b[1;31mIndentationError\u001b[0m\u001b[1;31m:\u001b[0m expected an indented block\n"
          ]
        }
      ],
      "source": [
        "# if indentation is skipped we will encounter \"IndentationError: expected an indented block\"\n",
        "for i in range(0,5):\n",
        "print(i)"
      ]
    },
    {
      "cell_type": "code",
      "execution_count": null,
      "metadata": {
        "id": "Xk2bjJSepC7d",
        "outputId": "6743c7e5-2cc5-419c-f2aa-fe48c7fa3b12"
      },
      "outputs": [
        {
          "name": "stdout",
          "output_type": "stream",
          "text": [
            "0\n",
            "1\n",
            "2\n",
            "3\n",
            "4\n"
          ]
        }
      ],
      "source": [
        "for i in range(0,5): print(i)  # correct indentation but less readable"
      ]
    },
    {
      "cell_type": "code",
      "execution_count": null,
      "metadata": {
        "id": "z6kXCxG4pC7f",
        "outputId": "a235f31b-dd96-4278-af77-be0f9622e6b1"
      },
      "outputs": [
        {
          "name": "stdout",
          "output_type": "stream",
          "text": [
            "0\n",
            "1\n",
            "2\n",
            "3\n",
            "4\n",
            "20\n"
          ]
        }
      ],
      "source": [
        "j=20\n",
        "for i in range(0,5):\n",
        "    print(i) # inside the for loop\n",
        "print(j) # outside the for loop"
      ]
    },
    {
      "cell_type": "markdown",
      "metadata": {
        "id": "IFAvxVACpC7g"
      },
      "source": [
        "## Docstrings"
      ]
    },
    {
      "cell_type": "markdown",
      "metadata": {
        "id": "6hUKz6yZpC7g"
      },
      "source": [
        "1) Docstrings provide a convenient way of associating documentation with functions, classes, methods or modules.\n",
        "\n",
        "2) They appear right after the definition of a function, method, class, or module."
      ]
    },
    {
      "cell_type": "code",
      "execution_count": null,
      "metadata": {
        "id": "HkoRVxXlpC7g"
      },
      "outputs": [],
      "source": [
        "def square(num):\n",
        "    '''Square Function :- This function will return the square of a number'''\n",
        "    return num**2"
      ]
    },
    {
      "cell_type": "code",
      "execution_count": null,
      "metadata": {
        "id": "Dqa7mqVupC7h",
        "outputId": "76198c34-7509-40c7-9359-415738aea08d"
      },
      "outputs": [
        {
          "data": {
            "text/plain": [
              "4"
            ]
          },
          "execution_count": 51,
          "metadata": {},
          "output_type": "execute_result"
        }
      ],
      "source": [
        "square(2)"
      ]
    },
    {
      "cell_type": "code",
      "execution_count": null,
      "metadata": {
        "id": "2HcFNrtrpC7i",
        "outputId": "73526dcc-2fdc-4536-f8e9-04c6de990ed1"
      },
      "outputs": [
        {
          "data": {
            "text/plain": [
              "'Square Function :- This function will return the square of a number'"
            ]
          },
          "execution_count": 52,
          "metadata": {},
          "output_type": "execute_result"
        }
      ],
      "source": [
        "square.__doc__  # We can access the Docstring using __doc__ method"
      ]
    },
    {
      "cell_type": "code",
      "execution_count": null,
      "metadata": {
        "id": "P3GrbA-1pC7i"
      },
      "outputs": [],
      "source": [
        "def evenodd(num):\n",
        "    '''evenodd Function :- This function will test whether a numbr is Even or Odd'''\n",
        "    if num % 2 == 0:\n",
        "        print(\"Even Number\")\n",
        "    else:\n",
        "        print(\"Odd Number\")"
      ]
    },
    {
      "cell_type": "code",
      "execution_count": null,
      "metadata": {
        "id": "17pj4k1vpC7v",
        "outputId": "5b3f2f62-1aea-473c-8372-476f2f652133"
      },
      "outputs": [
        {
          "name": "stdout",
          "output_type": "stream",
          "text": [
            "Odd Number\n"
          ]
        }
      ],
      "source": [
        "evenodd(3)"
      ]
    },
    {
      "cell_type": "code",
      "execution_count": null,
      "metadata": {
        "id": "DYDFgsrppC7v",
        "outputId": "86b4e695-1954-47fa-fa84-e0c1ec24f396"
      },
      "outputs": [
        {
          "name": "stdout",
          "output_type": "stream",
          "text": [
            "Even Number\n"
          ]
        }
      ],
      "source": [
        "evenodd(2)"
      ]
    },
    {
      "cell_type": "code",
      "execution_count": null,
      "metadata": {
        "id": "2Lz2gav5pC7w",
        "outputId": "f3dc4ec0-ff7c-4296-b394-8280a5fcb4ea"
      },
      "outputs": [
        {
          "data": {
            "text/plain": [
              "'evenodd Function :- This function will test whether a numbr is Even or Odd'"
            ]
          },
          "execution_count": 56,
          "metadata": {},
          "output_type": "execute_result"
        }
      ],
      "source": [
        "evenodd.__doc__"
      ]
    },
    {
      "cell_type": "markdown",
      "metadata": {
        "id": "2z9EFH7SpC7w"
      },
      "source": [
        "## Variables"
      ]
    },
    {
      "cell_type": "markdown",
      "metadata": {
        "id": "b2fLeW_tpC7x"
      },
      "source": [
        "A Python variable is a reserved memory location to store values.A variable is created the moment you first assign a value to it."
      ]
    },
    {
      "cell_type": "code",
      "execution_count": 21,
      "metadata": {
        "id": "EFXYJWF9pC7y"
      },
      "outputs": [],
      "source": [
        "p = 30"
      ]
    },
    {
      "cell_type": "code",
      "execution_count": 22,
      "metadata": {
        "id": "UzzvYbuHpC7y",
        "outputId": "dc2de1af-1448-448a-d207-5669db664b0a",
        "colab": {
          "base_uri": "https://localhost:8080/"
        }
      },
      "outputs": [
        {
          "output_type": "execute_result",
          "data": {
            "text/plain": [
              "11643016"
            ]
          },
          "metadata": {},
          "execution_count": 22
        }
      ],
      "source": [
        "'''\n",
        "id() function returns the “identity” of the object.\n",
        "The identity of an object - Is an integer\n",
        "                          - Guaranteed to be unique\n",
        "                          - Constant for this object during its lifetime.\n",
        "'''\n",
        "id(p)"
      ]
    },
    {
      "cell_type": "code",
      "execution_count": 25,
      "metadata": {
        "id": "fWwqfP5xpC7z",
        "outputId": "8a52f224-d65b-4678-ec1c-e146a098b715",
        "colab": {
          "base_uri": "https://localhost:8080/",
          "height": 36
        }
      },
      "outputs": [
        {
          "output_type": "execute_result",
          "data": {
            "text/plain": [
              "'0xb1a888'"
            ],
            "application/vnd.google.colaboratory.intrinsic+json": {
              "type": "string"
            }
          },
          "metadata": {},
          "execution_count": 25
        }
      ],
      "source": [
        "hex(id(p)) # Memory address of the variable"
      ]
    },
    {
      "cell_type": "code",
      "execution_count": null,
      "metadata": {
        "id": "3ek6JKfepC70",
        "outputId": "96bbba6c-846c-4f24-f562-eb10554d2609"
      },
      "outputs": [
        {
          "data": {
            "text/plain": [
              "(20, int, '0x7fff6d71a3f0')"
            ]
          },
          "execution_count": 94,
          "metadata": {},
          "output_type": "execute_result"
        }
      ],
      "source": [
        "p = 20  #Creates an integer object with value 20 and assigns the variable p to point to that object.\n",
        "q = 20  # Create new reference q which will point to value 20. p & q will be pointing to same memory location.\n",
        "r = q  # variable r will also point to the same location where p & q are pointing/\n",
        "p , type(p), hex(id(p)) # Variable P is pointing to memory location '0x7fff6d71a3f0' where value 20 is stored"
      ]
    },
    {
      "cell_type": "code",
      "execution_count": null,
      "metadata": {
        "id": "PiqjumCHpC70",
        "outputId": "af11df9a-4165-40d8-d137-65aa272888a2"
      },
      "outputs": [
        {
          "data": {
            "text/plain": [
              "(20, int, '0x7fff6d71a3f0')"
            ]
          },
          "execution_count": 95,
          "metadata": {},
          "output_type": "execute_result"
        }
      ],
      "source": [
        "q , type(q), hex(id(q))"
      ]
    },
    {
      "cell_type": "code",
      "execution_count": null,
      "metadata": {
        "id": "iEjSImp5pC71",
        "outputId": "cd1bd157-fa38-43bd-ce09-aea699f0f049"
      },
      "outputs": [
        {
          "data": {
            "text/plain": [
              "(20, int, '0x7fff6d71a3f0')"
            ]
          },
          "execution_count": 96,
          "metadata": {},
          "output_type": "execute_result"
        }
      ],
      "source": [
        "r , type(r), hex(id(r))"
      ]
    },
    {
      "cell_type": "markdown",
      "metadata": {
        "id": "cVcC631RpC71"
      },
      "source": [
        "<img src=\"https://github.com/datasciencescoop/Python/blob/master/variable.PNG?raw=1\">"
      ]
    },
    {
      "cell_type": "code",
      "execution_count": null,
      "metadata": {
        "id": "rUqd1sbjpC71",
        "outputId": "cecc0c56-1604-42cb-ed3d-05d6295a85ff"
      },
      "outputs": [
        {
          "data": {
            "text/plain": [
              "30"
            ]
          },
          "execution_count": 146,
          "metadata": {},
          "output_type": "execute_result"
        }
      ],
      "source": [
        "p = 20\n",
        "p = p + 10 # Variable Overwriting\n",
        "p"
      ]
    },
    {
      "cell_type": "markdown",
      "metadata": {
        "id": "vUaCHh8mpC72"
      },
      "source": [
        "### Variable Assigment"
      ]
    },
    {
      "cell_type": "code",
      "execution_count": null,
      "metadata": {
        "id": "dMZuu0sbpC73",
        "outputId": "c343a8af-29c9-447a-a652-190f3416929c"
      },
      "outputs": [
        {
          "name": "stdout",
          "output_type": "stream",
          "text": [
            "10\n",
            "2.57\n",
            "Python Language\n"
          ]
        }
      ],
      "source": [
        "intvar = 10 # Integer variable\n",
        "floatvar = 2.57 # Float Variable\n",
        "strvar = \"Python Language\" # String variable\n",
        "\n",
        "print(intvar)\n",
        "print(floatvar)\n",
        "print(strvar)"
      ]
    },
    {
      "cell_type": "markdown",
      "metadata": {
        "id": "N_5AQ0fcpC73"
      },
      "source": [
        "### Multiple Assignments"
      ]
    },
    {
      "cell_type": "code",
      "execution_count": null,
      "metadata": {
        "id": "_-GjhEYjpC74",
        "outputId": "094fd75b-c8b0-43fa-f71d-ff4d597541b5"
      },
      "outputs": [
        {
          "name": "stdout",
          "output_type": "stream",
          "text": [
            "10\n",
            "2.57\n",
            "Python Language\n"
          ]
        }
      ],
      "source": [
        "intvar , floatvar , strvar = 10,2.57,\"Python Language\" # Using commas to separate variables and their corresponding values.\n",
        "print(intvar)\n",
        "print(floatvar)\n",
        "print(strvar)"
      ]
    },
    {
      "cell_type": "code",
      "execution_count": 31,
      "metadata": {
        "id": "-UsoEKnppC76",
        "outputId": "394ab3f2-ed38-438f-b25c-f36c6a32eb7f",
        "colab": {
          "base_uri": "https://localhost:8080/"
        }
      },
      "outputs": [
        {
          "output_type": "stream",
          "name": "stdout",
          "text": [
            "44 44 44 44\n"
          ]
        },
        {
          "output_type": "execute_result",
          "data": {
            "text/plain": [
              "11643464"
            ]
          },
          "metadata": {},
          "execution_count": 31
        }
      ],
      "source": [
        "p1 = p2 = p3 = p4 = 44 # All variables pointing to same value\n",
        "print(p1,p2,p3,p4)\n",
        "id(p1)"
      ]
    },
    {
      "cell_type": "markdown",
      "metadata": {
        "id": "5CwUAaihpC76"
      },
      "source": [
        "# Data Types"
      ]
    },
    {
      "cell_type": "markdown",
      "metadata": {
        "id": "lQSefzAdpC77"
      },
      "source": [
        "## Numeric"
      ]
    },
    {
      "cell_type": "code",
      "execution_count": null,
      "metadata": {
        "id": "_HrZ-nCWpC77",
        "outputId": "2b5cf276-b4f5-4e2e-abfa-225650a8b05d"
      },
      "outputs": [
        {
          "name": "stdout",
          "output_type": "stream",
          "text": [
            "10\n",
            "<class 'int'>\n",
            "28\n",
            "10  is Integer? True\n"
          ]
        }
      ],
      "source": [
        "val1 = 10  # Integer data type\n",
        "print(val1)\n",
        "print(type(val1)) # type of object\n",
        "print(sys.getsizeof(val1)) # size of integer object in bytes\n",
        "print(val1, \" is Integer?\", isinstance(val1, int)) # val1 is an instance of int class"
      ]
    },
    {
      "cell_type": "code",
      "execution_count": null,
      "metadata": {
        "id": "I-CNVyRKpC78",
        "outputId": "92e75ac1-e3e1-4784-f2e5-8cad3b8b95a7"
      },
      "outputs": [
        {
          "name": "stdout",
          "output_type": "stream",
          "text": [
            "92.78\n",
            "<class 'float'>\n",
            "24\n",
            "92.78  is float? True\n"
          ]
        }
      ],
      "source": [
        "val2 = 92.78 # Float data type\n",
        "print(val2)\n",
        "print(type(val2)) # type of object\n",
        "print(sys.getsizeof(val2)) # size of float object in bytes\n",
        "print(val2, \" is float?\", isinstance(val2, float)) # Val2 is an instance of float class"
      ]
    },
    {
      "cell_type": "code",
      "execution_count": null,
      "metadata": {
        "id": "WlPC5G0IpC79",
        "outputId": "75a6231b-91e0-4a19-b871-52e00ab951aa"
      },
      "outputs": [
        {
          "name": "stdout",
          "output_type": "stream",
          "text": [
            "(25+10j)\n",
            "<class 'complex'>\n",
            "32\n",
            "(25+10j)  is complex? True\n"
          ]
        }
      ],
      "source": [
        "val3 = 25 + 10j # Complex data type\n",
        "print(val3)\n",
        "print(type(val3)) # type of object\n",
        "print(sys.getsizeof(val3)) # size of float object in bytes\n",
        "print(val3, \" is complex?\", isinstance(val3, complex)) # val3 is an instance of complex class"
      ]
    },
    {
      "cell_type": "code",
      "execution_count": null,
      "metadata": {
        "scrolled": true,
        "id": "ev1JAHJApC7-",
        "outputId": "5263cd25-8212-4228-fdfe-1b60002d8eaa"
      },
      "outputs": [
        {
          "data": {
            "text/plain": [
              "24"
            ]
          },
          "execution_count": 119,
          "metadata": {},
          "output_type": "execute_result"
        }
      ],
      "source": [
        "sys.getsizeof(int()) # size of integer object in bytes"
      ]
    },
    {
      "cell_type": "code",
      "execution_count": null,
      "metadata": {
        "id": "XO3olQiWpC7_",
        "outputId": "548ffb1c-b560-4baf-d65c-2859b556cfc5"
      },
      "outputs": [
        {
          "data": {
            "text/plain": [
              "24"
            ]
          },
          "execution_count": 120,
          "metadata": {},
          "output_type": "execute_result"
        }
      ],
      "source": [
        "sys.getsizeof(float())  # size of float object in bytes"
      ]
    },
    {
      "cell_type": "code",
      "execution_count": null,
      "metadata": {
        "id": "9V1JbbxQpC8A",
        "outputId": "144f7157-afdf-4151-d94b-046659e949fd"
      },
      "outputs": [
        {
          "data": {
            "text/plain": [
              "32"
            ]
          },
          "execution_count": 138,
          "metadata": {},
          "output_type": "execute_result"
        }
      ],
      "source": [
        "sys.getsizeof(complex()) # size of complex object in bytes"
      ]
    },
    {
      "cell_type": "markdown",
      "metadata": {
        "id": "IbSFSyWWpC8A"
      },
      "source": [
        "## Boolean"
      ]
    },
    {
      "cell_type": "markdown",
      "metadata": {
        "id": "jVRYmlxGpC8A"
      },
      "source": [
        "Boolean data type can have only two possible values __true__ or __false__."
      ]
    },
    {
      "cell_type": "code",
      "execution_count": null,
      "metadata": {
        "id": "BWaqOjQ2pC8B"
      },
      "outputs": [],
      "source": [
        "bool1 = True"
      ]
    },
    {
      "cell_type": "code",
      "execution_count": null,
      "metadata": {
        "id": "lWoEEls6pC8B"
      },
      "outputs": [],
      "source": [
        "bool2 = False"
      ]
    },
    {
      "cell_type": "code",
      "execution_count": null,
      "metadata": {
        "id": "AkEckc_7pC8C",
        "outputId": "ef0345f6-0798-4bce-e25e-a3bac9d0b7a1"
      },
      "outputs": [
        {
          "name": "stdout",
          "output_type": "stream",
          "text": [
            "<class 'bool'>\n"
          ]
        }
      ],
      "source": [
        "print(type(bool1))"
      ]
    },
    {
      "cell_type": "code",
      "execution_count": null,
      "metadata": {
        "id": "q1Q3bYGGpC8D",
        "outputId": "3340e1e1-3e29-49be-887e-e58ac67db372"
      },
      "outputs": [
        {
          "name": "stdout",
          "output_type": "stream",
          "text": [
            "<class 'bool'>\n"
          ]
        }
      ],
      "source": [
        "print(type(bool2))"
      ]
    },
    {
      "cell_type": "code",
      "execution_count": null,
      "metadata": {
        "id": "6ncDmRpMpC8D",
        "outputId": "eeef2a62-c3bd-4067-ddf3-3910bb07ba21"
      },
      "outputs": [
        {
          "data": {
            "text/plain": [
              "True"
            ]
          },
          "execution_count": 148,
          "metadata": {},
          "output_type": "execute_result"
        }
      ],
      "source": [
        "isinstance(bool1, bool)"
      ]
    },
    {
      "cell_type": "code",
      "execution_count": null,
      "metadata": {
        "scrolled": true,
        "id": "YgjFjXGzpC8E",
        "outputId": "7a77dfdb-313f-4c00-a3ad-2621c0201575"
      },
      "outputs": [
        {
          "data": {
            "text/plain": [
              "False"
            ]
          },
          "execution_count": 235,
          "metadata": {},
          "output_type": "execute_result"
        }
      ],
      "source": [
        "bool(0)"
      ]
    },
    {
      "cell_type": "code",
      "execution_count": null,
      "metadata": {
        "id": "0eX_ecWFpC8F",
        "outputId": "604f826d-b0b1-4131-fd2d-f55dead55055"
      },
      "outputs": [
        {
          "data": {
            "text/plain": [
              "True"
            ]
          },
          "execution_count": 236,
          "metadata": {},
          "output_type": "execute_result"
        }
      ],
      "source": [
        "bool(1)"
      ]
    },
    {
      "cell_type": "code",
      "execution_count": null,
      "metadata": {
        "id": "qiGQMKqHpC8F",
        "outputId": "bec3029f-0a71-4ba5-b503-f664bd41a1c0"
      },
      "outputs": [
        {
          "data": {
            "text/plain": [
              "False"
            ]
          },
          "execution_count": 237,
          "metadata": {},
          "output_type": "execute_result"
        }
      ],
      "source": [
        "bool(None)"
      ]
    },
    {
      "cell_type": "code",
      "execution_count": null,
      "metadata": {
        "scrolled": true,
        "id": "0yS2i2CNpC8G",
        "outputId": "65a12ca7-aaf3-44b2-a97d-70b974cfd044"
      },
      "outputs": [
        {
          "data": {
            "text/plain": [
              "False"
            ]
          },
          "execution_count": 238,
          "metadata": {},
          "output_type": "execute_result"
        }
      ],
      "source": [
        "bool (False)"
      ]
    },
    {
      "cell_type": "markdown",
      "metadata": {
        "id": "-o5XFHqhpC8G"
      },
      "source": [
        "## Strings"
      ]
    },
    {
      "cell_type": "markdown",
      "metadata": {
        "id": "0nJ5aUZzpC8J"
      },
      "source": [
        "### String Creation"
      ]
    },
    {
      "cell_type": "code",
      "execution_count": null,
      "metadata": {
        "id": "_nD0zlCGpC8K",
        "outputId": "6406b9e3-c1bc-4ed6-fa6e-15bfa1971855"
      },
      "outputs": [
        {
          "name": "stdout",
          "output_type": "stream",
          "text": [
            "HELLO PYTHON\n"
          ]
        }
      ],
      "source": [
        "str1 = \"HELLO PYTHON\"\n",
        "\n",
        "print(str1)"
      ]
    },
    {
      "cell_type": "code",
      "execution_count": null,
      "metadata": {
        "id": "fFdVTLybpC8K",
        "outputId": "81656072-9845-4f6d-fea9-b977b1a5b80f"
      },
      "outputs": [
        {
          "name": "stdout",
          "output_type": "stream",
          "text": [
            "Hello World\n"
          ]
        }
      ],
      "source": [
        "mystr = 'Hello World' # Define string using single quotes\n",
        "print(mystr)"
      ]
    },
    {
      "cell_type": "code",
      "execution_count": null,
      "metadata": {
        "id": "snRR5n-LpC8M",
        "outputId": "880056e5-a71d-4f73-dad1-11a5d37f097e"
      },
      "outputs": [
        {
          "name": "stdout",
          "output_type": "stream",
          "text": [
            "Hello World\n"
          ]
        }
      ],
      "source": [
        "mystr = \"Hello World\" # Define string using double quotes\n",
        "print(mystr)"
      ]
    },
    {
      "cell_type": "code",
      "execution_count": null,
      "metadata": {
        "id": "02vsNJmZpC8N",
        "outputId": "e2c36f69-69b4-458b-fc09-54590a993aa5"
      },
      "outputs": [
        {
          "name": "stdout",
          "output_type": "stream",
          "text": [
            "Hello               \n",
            "            World \n"
          ]
        }
      ],
      "source": [
        "mystr = '''Hello\n",
        "            World '''   # Define string using triple quotes\n",
        "print(mystr)"
      ]
    },
    {
      "cell_type": "code",
      "execution_count": null,
      "metadata": {
        "id": "OSlWA7bgpC8O",
        "outputId": "744008dc-cc65-4d06-d43f-e4600770818e"
      },
      "outputs": [
        {
          "name": "stdout",
          "output_type": "stream",
          "text": [
            "Hello\n",
            "           World\n"
          ]
        }
      ],
      "source": [
        "mystr = \"\"\"Hello\n",
        "           World\"\"\"  # Define string using triple quotes\n",
        "print(mystr)"
      ]
    },
    {
      "cell_type": "code",
      "execution_count": null,
      "metadata": {
        "id": "AiWCutm2pC8P",
        "outputId": "1dcb5a16-0cd0-4250-86a5-d5427626dc49"
      },
      "outputs": [
        {
          "name": "stdout",
          "output_type": "stream",
          "text": [
            "Happy Monday Everyone\n"
          ]
        }
      ],
      "source": [
        "mystr = ('Happy '\n",
        "         'Monday '\n",
        "         'Everyone')\n",
        "print(mystr)"
      ]
    },
    {
      "cell_type": "code",
      "execution_count": null,
      "metadata": {
        "id": "zGG5i8lSpC8R",
        "outputId": "69fd7c93-6536-453c-efb3-939ba3a75a3a"
      },
      "outputs": [
        {
          "data": {
            "text/plain": [
              "'Woohoo Woohoo Woohoo Woohoo Woohoo '"
            ]
          },
          "execution_count": 199,
          "metadata": {},
          "output_type": "execute_result"
        }
      ],
      "source": [
        "mystr2 = 'Woohoo '\n",
        "mystr2 = mystr2*5\n",
        "mystr2"
      ]
    },
    {
      "cell_type": "code",
      "execution_count": null,
      "metadata": {
        "id": "XQMYyM2ApC8R",
        "outputId": "f018eed6-3921-4835-a03c-5183047fff30"
      },
      "outputs": [
        {
          "data": {
            "text/plain": [
              "35"
            ]
          },
          "execution_count": 200,
          "metadata": {},
          "output_type": "execute_result"
        }
      ],
      "source": [
        "len(mystr2) # Length of string"
      ]
    },
    {
      "cell_type": "markdown",
      "metadata": {
        "id": "qZeBesF2pC8S"
      },
      "source": [
        "### String Indexing"
      ]
    },
    {
      "cell_type": "markdown",
      "metadata": {
        "id": "KtcG4dkopC8T"
      },
      "source": [
        "<img src=\"https://github.com/datasciencescoop/Python/blob/master/string.PNG?raw=1\">"
      ]
    },
    {
      "cell_type": "code",
      "execution_count": null,
      "metadata": {
        "id": "u3USufqtpC8T",
        "outputId": "45cc5bc3-88bf-4c02-cd73-5023ffc2ecd8"
      },
      "outputs": [
        {
          "data": {
            "text/plain": [
              "'HELLO PYTHON'"
            ]
          },
          "execution_count": 201,
          "metadata": {},
          "output_type": "execute_result"
        }
      ],
      "source": [
        "str1"
      ]
    },
    {
      "cell_type": "code",
      "execution_count": null,
      "metadata": {
        "id": "13VCQ9nZpC8T",
        "outputId": "231aa83d-4ee6-4477-9764-0edd356345e0"
      },
      "outputs": [
        {
          "data": {
            "text/plain": [
              "'H'"
            ]
          },
          "execution_count": 202,
          "metadata": {},
          "output_type": "execute_result"
        }
      ],
      "source": [
        "str1[0] # First character in string \"str1\""
      ]
    },
    {
      "cell_type": "code",
      "execution_count": null,
      "metadata": {
        "id": "uMLP_YLcpC8U",
        "outputId": "4e39b8dd-889c-4fdd-e4e4-40430791914c"
      },
      "outputs": [
        {
          "data": {
            "text/plain": [
              "'N'"
            ]
          },
          "execution_count": 203,
          "metadata": {},
          "output_type": "execute_result"
        }
      ],
      "source": [
        "str1[len(str1)-1] # Last character in string using len function"
      ]
    },
    {
      "cell_type": "code",
      "execution_count": null,
      "metadata": {
        "id": "fFJ9fqAXpC8V",
        "outputId": "43a8d7fa-6c75-4dcb-d8f7-712b97c276a4"
      },
      "outputs": [
        {
          "data": {
            "text/plain": [
              "'N'"
            ]
          },
          "execution_count": 204,
          "metadata": {},
          "output_type": "execute_result"
        }
      ],
      "source": [
        "str1[-1] # Last character in string"
      ]
    },
    {
      "cell_type": "code",
      "execution_count": null,
      "metadata": {
        "id": "KiLO0YL_pC8V",
        "outputId": "51ab3f95-cf30-469d-cf72-b1b5244be21e"
      },
      "outputs": [
        {
          "data": {
            "text/plain": [
              "'P'"
            ]
          },
          "execution_count": 205,
          "metadata": {},
          "output_type": "execute_result"
        }
      ],
      "source": [
        "str1[6] #Fetch 7th element of the string"
      ]
    },
    {
      "cell_type": "code",
      "execution_count": null,
      "metadata": {
        "id": "zYI4PABypC8W",
        "outputId": "04b4aa93-ca09-43fa-f5ef-36b66443d964"
      },
      "outputs": [
        {
          "data": {
            "text/plain": [
              "' '"
            ]
          },
          "execution_count": 206,
          "metadata": {},
          "output_type": "execute_result"
        }
      ],
      "source": [
        "str1[5]"
      ]
    },
    {
      "cell_type": "markdown",
      "metadata": {
        "id": "45fbfiW9pC8X"
      },
      "source": [
        "### String Slicing"
      ]
    },
    {
      "cell_type": "code",
      "execution_count": null,
      "metadata": {
        "id": "57iOiA2gpC8X",
        "outputId": "267fc8e7-fb76-4fc6-ae51-58f324cb2a81"
      },
      "outputs": [
        {
          "data": {
            "text/plain": [
              "'HELLO'"
            ]
          },
          "execution_count": 207,
          "metadata": {},
          "output_type": "execute_result"
        }
      ],
      "source": [
        "str1[0:5] # String slicing - Fetch all characters from 0 to 5 index location excluding the character at loc 5."
      ]
    },
    {
      "cell_type": "code",
      "execution_count": null,
      "metadata": {
        "id": "AhsTO5jypC8Y",
        "outputId": "9cabc016-8f42-4d0a-93bd-3cec24a6bd46"
      },
      "outputs": [
        {
          "data": {
            "text/plain": [
              "'PYTHON'"
            ]
          },
          "execution_count": 208,
          "metadata": {},
          "output_type": "execute_result"
        }
      ],
      "source": [
        "str1[6:12] # String slicing - Retreive all characters between 6 - 12 index loc excluding index loc 12."
      ]
    },
    {
      "cell_type": "code",
      "execution_count": null,
      "metadata": {
        "id": "JVPAzsJLpC8Z",
        "outputId": "521e308d-5adf-4096-ccc5-1949a943e20d"
      },
      "outputs": [
        {
          "data": {
            "text/plain": [
              "'THON'"
            ]
          },
          "execution_count": 209,
          "metadata": {},
          "output_type": "execute_result"
        }
      ],
      "source": [
        "str1[-4:] # Retreive last four characters of the string"
      ]
    },
    {
      "cell_type": "code",
      "execution_count": null,
      "metadata": {
        "id": "iQGg75VTpC8Z",
        "outputId": "51ebcd4f-ea7b-48f9-99ac-72429cf14655"
      },
      "outputs": [
        {
          "data": {
            "text/plain": [
              "'PYTHON'"
            ]
          },
          "execution_count": 210,
          "metadata": {},
          "output_type": "execute_result"
        }
      ],
      "source": [
        "str1[-6:] # Retreive last six characters of the string"
      ]
    },
    {
      "cell_type": "code",
      "execution_count": null,
      "metadata": {
        "id": "7xyb1TuTpC8b",
        "outputId": "b6da6be0-eaa5-4eda-bfd2-692340ac47f2"
      },
      "outputs": [
        {
          "data": {
            "text/plain": [
              "'HELL'"
            ]
          },
          "execution_count": 211,
          "metadata": {},
          "output_type": "execute_result"
        }
      ],
      "source": [
        "str1[:4] # Retreive first four characters of the string"
      ]
    },
    {
      "cell_type": "code",
      "execution_count": null,
      "metadata": {
        "id": "UgxmSuHapC8c",
        "outputId": "c266e885-f424-4435-f94b-5faf696d8aaf"
      },
      "outputs": [
        {
          "data": {
            "text/plain": [
              "'HELLO '"
            ]
          },
          "execution_count": 212,
          "metadata": {},
          "output_type": "execute_result"
        }
      ],
      "source": [
        "str1[:6] # Retreive first six characters of the string"
      ]
    },
    {
      "cell_type": "markdown",
      "metadata": {
        "id": "tNVCT4oHpC8c"
      },
      "source": [
        "### Update & Delete String"
      ]
    },
    {
      "cell_type": "code",
      "execution_count": null,
      "metadata": {
        "id": "S5MOMuhVpC8d",
        "outputId": "09c3ab71-fbd3-49b9-b2d7-8562f1034383"
      },
      "outputs": [
        {
          "data": {
            "text/plain": [
              "'HELLO PYTHON'"
            ]
          },
          "execution_count": 213,
          "metadata": {},
          "output_type": "execute_result"
        }
      ],
      "source": [
        "str1"
      ]
    },
    {
      "cell_type": "code",
      "execution_count": null,
      "metadata": {
        "id": "zbZQTH-IpC8e",
        "outputId": "919efe57-f684-44d5-9c99-980261a55a81"
      },
      "outputs": [
        {
          "ename": "TypeError",
          "evalue": "'str' object does not support item assignment",
          "output_type": "error",
          "traceback": [
            "\u001b[1;31m---------------------------------------------------------------------------\u001b[0m",
            "\u001b[1;31mTypeError\u001b[0m                                 Traceback (most recent call last)",
            "\u001b[1;32m<ipython-input-214-ea670ff3ec72>\u001b[0m in \u001b[0;36m<module>\u001b[1;34m\u001b[0m\n\u001b[0;32m      1\u001b[0m \u001b[1;31m#Strings are immutable which means elements of a string cannot be changed once they have been assigned.\u001b[0m\u001b[1;33m\u001b[0m\u001b[1;33m\u001b[0m\u001b[1;33m\u001b[0m\u001b[0m\n\u001b[1;32m----> 2\u001b[1;33m \u001b[0mstr1\u001b[0m\u001b[1;33m[\u001b[0m\u001b[1;36m0\u001b[0m\u001b[1;33m:\u001b[0m\u001b[1;36m5\u001b[0m\u001b[1;33m]\u001b[0m \u001b[1;33m=\u001b[0m \u001b[1;34m'HOLAA'\u001b[0m\u001b[1;33m\u001b[0m\u001b[1;33m\u001b[0m\u001b[0m\n\u001b[0m",
            "\u001b[1;31mTypeError\u001b[0m: 'str' object does not support item assignment"
          ]
        }
      ],
      "source": [
        "#Strings are immutable which means elements of a string cannot be changed once they have been assigned.\n",
        "str1[0:5] = 'HOLAA'"
      ]
    },
    {
      "cell_type": "code",
      "execution_count": null,
      "metadata": {
        "id": "xEndEwlypC8f",
        "outputId": "2507021c-1e65-4e8f-934c-e22adc419806"
      },
      "outputs": [
        {
          "ename": "NameError",
          "evalue": "name 'srt1' is not defined",
          "output_type": "error",
          "traceback": [
            "\u001b[1;31m---------------------------------------------------------------------------\u001b[0m",
            "\u001b[1;31mNameError\u001b[0m                                 Traceback (most recent call last)",
            "\u001b[1;32m<ipython-input-215-7fcc0cc83dcc>\u001b[0m in \u001b[0;36m<module>\u001b[1;34m\u001b[0m\n\u001b[0;32m      1\u001b[0m \u001b[1;32mdel\u001b[0m \u001b[0mstr1\u001b[0m \u001b[1;31m# Delete a string\u001b[0m\u001b[1;33m\u001b[0m\u001b[1;33m\u001b[0m\u001b[0m\n\u001b[1;32m----> 2\u001b[1;33m \u001b[0mprint\u001b[0m\u001b[1;33m(\u001b[0m\u001b[0msrt1\u001b[0m\u001b[1;33m)\u001b[0m\u001b[1;33m\u001b[0m\u001b[1;33m\u001b[0m\u001b[0m\n\u001b[0m",
            "\u001b[1;31mNameError\u001b[0m: name 'srt1' is not defined"
          ]
        }
      ],
      "source": [
        "del str1 # Delete a string\n",
        "print(srt1)"
      ]
    },
    {
      "cell_type": "markdown",
      "metadata": {
        "id": "JqMs2NWvpC8g"
      },
      "source": [
        "### String concatenation"
      ]
    },
    {
      "cell_type": "code",
      "execution_count": null,
      "metadata": {
        "id": "Ydd1SfilpC8h",
        "outputId": "3bed43b3-6017-4a18-fa3b-c84ef51f7768"
      },
      "outputs": [
        {
          "name": "stdout",
          "output_type": "stream",
          "text": [
            "HelloAsif\n"
          ]
        }
      ],
      "source": [
        "# String concatenation\n",
        "s1 = \"Hello\"\n",
        "s2 = \"Asif\"\n",
        "s3 = s1 + s2\n",
        "print(s3)"
      ]
    },
    {
      "cell_type": "code",
      "execution_count": null,
      "metadata": {
        "id": "RtTx1fscpC8i",
        "outputId": "0a2b9d7d-34a7-48e8-a371-9f03d958fe43"
      },
      "outputs": [
        {
          "name": "stdout",
          "output_type": "stream",
          "text": [
            "Hello Asif\n"
          ]
        }
      ],
      "source": [
        "# String concatenation\n",
        "s1 = \"Hello\"\n",
        "s2 = \"Asif\"\n",
        "s3 = s1 + \" \" + s2\n",
        "print(s3)"
      ]
    },
    {
      "cell_type": "markdown",
      "metadata": {
        "id": "eEzFO7SapC8j"
      },
      "source": [
        "### Iterating through a String"
      ]
    },
    {
      "cell_type": "code",
      "execution_count": null,
      "metadata": {
        "id": "-GI7w35CpC8j"
      },
      "outputs": [],
      "source": [
        "mystr1 = \"Hello Everyone\""
      ]
    },
    {
      "cell_type": "code",
      "execution_count": null,
      "metadata": {
        "id": "YyA0lpKrpC8k",
        "outputId": "490b2c86-3b71-4949-9c37-d2df35adf345"
      },
      "outputs": [
        {
          "name": "stdout",
          "output_type": "stream",
          "text": [
            "H\n",
            "e\n",
            "l\n",
            "l\n",
            "o\n",
            " \n",
            "E\n",
            "v\n",
            "e\n",
            "r\n",
            "y\n",
            "o\n",
            "n\n",
            "e\n"
          ]
        }
      ],
      "source": [
        "# Iteration\n",
        "for i in mystr1:\n",
        "    print(i)"
      ]
    },
    {
      "cell_type": "code",
      "execution_count": null,
      "metadata": {
        "id": "jeX2qfgUpC8k",
        "outputId": "244f29ae-07c0-44d0-8283-897594f84e77"
      },
      "outputs": [
        {
          "name": "stdout",
          "output_type": "stream",
          "text": [
            "(0, 'H')\n",
            "(1, 'e')\n",
            "(2, 'l')\n",
            "(3, 'l')\n",
            "(4, 'o')\n",
            "(5, ' ')\n",
            "(6, 'E')\n",
            "(7, 'v')\n",
            "(8, 'e')\n",
            "(9, 'r')\n",
            "(10, 'y')\n",
            "(11, 'o')\n",
            "(12, 'n')\n",
            "(13, 'e')\n"
          ]
        }
      ],
      "source": [
        "for i in enumerate(mystr1):\n",
        "    print(i)"
      ]
    },
    {
      "cell_type": "code",
      "execution_count": null,
      "metadata": {
        "id": "PF6EaqnPpC8l",
        "outputId": "d1b77af6-db3b-447f-ce1f-6fae1799e4b9"
      },
      "outputs": [
        {
          "data": {
            "text/plain": [
              "[(0, 'H'),\n",
              " (1, 'e'),\n",
              " (2, 'l'),\n",
              " (3, 'l'),\n",
              " (4, 'o'),\n",
              " (5, ' '),\n",
              " (6, 'E'),\n",
              " (7, 'v'),\n",
              " (8, 'e'),\n",
              " (9, 'r'),\n",
              " (10, 'y'),\n",
              " (11, 'o'),\n",
              " (12, 'n'),\n",
              " (13, 'e')]"
            ]
          },
          "execution_count": 221,
          "metadata": {},
          "output_type": "execute_result"
        }
      ],
      "source": [
        "list(enumerate(mystr1)) # Enumerate method adds a counter to an iterable and returns it in a form of enumerate object."
      ]
    },
    {
      "cell_type": "markdown",
      "metadata": {
        "id": "H6-uq8t_pC8l"
      },
      "source": [
        "### String Membership"
      ]
    },
    {
      "cell_type": "code",
      "execution_count": null,
      "metadata": {
        "id": "bhCmSQnApC8l",
        "outputId": "6a4a82c4-bc41-43ff-dec7-dfd28a2839a2"
      },
      "outputs": [
        {
          "name": "stdout",
          "output_type": "stream",
          "text": [
            "True\n",
            "True\n",
            "False\n"
          ]
        }
      ],
      "source": [
        "# String membership\n",
        "\n",
        "mystr1 = \"Hello Everyone\"\n",
        "\n",
        "print ('Hello' in mystr1) # Check whether substring \"Hello\" is present in string \"mysrt1\"\n",
        "print ('Everyone' in mystr1) # Check whether substring \"Everyone\" is present in string \"mysrt1\"\n",
        "print ('Hi' in mystr1) # Check whether substring \"Hi\" is present in string \"mysrt1\""
      ]
    },
    {
      "cell_type": "markdown",
      "metadata": {
        "id": "G1bN1hG4pC8m"
      },
      "source": [
        "### String Partitioning"
      ]
    },
    {
      "cell_type": "code",
      "execution_count": null,
      "metadata": {
        "id": "n6IbRkfGpC8m",
        "outputId": "8fd1c20b-9b22-49aa-b23f-926517716041"
      },
      "outputs": [
        {
          "name": "stdout",
          "output_type": "stream",
          "text": [
            "('Natural language processing with Python ', 'and', ' R and Java')\n"
          ]
        }
      ],
      "source": [
        "\"\"\"\n",
        "The partition() method searches for a specified string and splits the string into a tuple containing three elements.\n",
        "\n",
        " - The first element contains the part before the argument string.\n",
        "\n",
        " - The second element contains the argument string.\n",
        "\n",
        " - The third element contains the part after the argument string.\n",
        "\"\"\"\n",
        "\n",
        "str5 = \"Natural language processing with Python and R and Java\"\n",
        "L = str5.partition(\"and\")\n",
        "print(L)"
      ]
    },
    {
      "cell_type": "code",
      "execution_count": null,
      "metadata": {
        "id": "PbFEfm6BpC8n",
        "outputId": "bdd71224-39a0-4e20-a990-99ed8e0102a7"
      },
      "outputs": [
        {
          "name": "stdout",
          "output_type": "stream",
          "text": [
            "('Natural language processing with Python and R ', 'and', ' Java')\n"
          ]
        }
      ],
      "source": [
        "\"\"\"\n",
        "The rpartition() method searches for the last occurence of the specified string and splits the string into a tuple\n",
        "containing three elements.\n",
        "\n",
        " - The first element contains the part before the argument string.\n",
        "\n",
        " - The second element contains the argument string.\n",
        "\n",
        " - The third element contains the part after the argument string.\n",
        "\"\"\"\n",
        "\n",
        "str5 = \"Natural language processing with Python and R and Java\"\n",
        "L = str5.rpartition(\"and\")\n",
        "print(L)"
      ]
    },
    {
      "cell_type": "markdown",
      "metadata": {
        "id": "490uZpvXpC8o"
      },
      "source": [
        "### String Functions"
      ]
    },
    {
      "cell_type": "code",
      "execution_count": null,
      "metadata": {
        "id": "pbNeTZrbpC8p",
        "outputId": "3a2ab455-59cd-49c3-ca6a-dc7432e37b32"
      },
      "outputs": [
        {
          "data": {
            "text/plain": [
              "'   Hello Everyone  '"
            ]
          },
          "execution_count": 267,
          "metadata": {},
          "output_type": "execute_result"
        }
      ],
      "source": [
        "mystr2 = \"   Hello Everyone  \"\n",
        "mystr2"
      ]
    },
    {
      "cell_type": "code",
      "execution_count": null,
      "metadata": {
        "id": "-Hc_LWylpC8p",
        "outputId": "404090ed-6f4a-4aec-c57e-8f5c562e08b6"
      },
      "outputs": [
        {
          "data": {
            "text/plain": [
              "'Hello Everyone'"
            ]
          },
          "execution_count": 268,
          "metadata": {},
          "output_type": "execute_result"
        }
      ],
      "source": [
        "mystr2.strip() # Removes white space from begining & end"
      ]
    },
    {
      "cell_type": "code",
      "execution_count": null,
      "metadata": {
        "id": "15oF81a4pC8p",
        "outputId": "bae5940d-1445-436b-a8cb-89568c96f1c6"
      },
      "outputs": [
        {
          "data": {
            "text/plain": [
              "'   Hello Everyone'"
            ]
          },
          "execution_count": 270,
          "metadata": {},
          "output_type": "execute_result"
        }
      ],
      "source": [
        "mystr2.rstrip() # Removes all whitespaces at the end of the string"
      ]
    },
    {
      "cell_type": "code",
      "execution_count": null,
      "metadata": {
        "id": "82DyjdAYpC8q",
        "outputId": "1e41df10-3e61-4b9c-d394-95490526799f"
      },
      "outputs": [
        {
          "data": {
            "text/plain": [
              "'Hello Everyone  '"
            ]
          },
          "execution_count": 269,
          "metadata": {},
          "output_type": "execute_result"
        }
      ],
      "source": [
        "mystr2.lstrip() # Removes all whitespaces at the begining of the string"
      ]
    },
    {
      "cell_type": "code",
      "execution_count": null,
      "metadata": {
        "id": "J8Y6TIX9pC8r",
        "outputId": "41cdcbc1-7135-49ca-d5e0-f7b3d63fbc69"
      },
      "outputs": [
        {
          "data": {
            "text/plain": [
              "'*********Hello Everyone***********All the Best**********'"
            ]
          },
          "execution_count": 272,
          "metadata": {},
          "output_type": "execute_result"
        }
      ],
      "source": [
        "mystr2 = \"*********Hello Everyone***********All the Best**********\"\n",
        "mystr2"
      ]
    },
    {
      "cell_type": "code",
      "execution_count": null,
      "metadata": {
        "id": "rES_SmEdpC8s",
        "outputId": "fa3f73e5-0a71-4821-9b7e-7e758b156a3e"
      },
      "outputs": [
        {
          "data": {
            "text/plain": [
              "'Hello Everyone***********All the Best'"
            ]
          },
          "execution_count": 273,
          "metadata": {},
          "output_type": "execute_result"
        }
      ],
      "source": [
        "mystr2.strip('*') # Removes all '*' characters from begining & end of the string"
      ]
    },
    {
      "cell_type": "code",
      "execution_count": null,
      "metadata": {
        "id": "cJtOMCzIpC8t",
        "outputId": "82cddc73-ca00-4502-e107-f3d681b9f563"
      },
      "outputs": [
        {
          "data": {
            "text/plain": [
              "'*********Hello Everyone***********All the Best'"
            ]
          },
          "execution_count": 274,
          "metadata": {},
          "output_type": "execute_result"
        }
      ],
      "source": [
        "mystr2.rstrip('*') # Removes all '*' characters at the end of the string"
      ]
    },
    {
      "cell_type": "code",
      "execution_count": null,
      "metadata": {
        "id": "65S2OtELpC8v",
        "outputId": "0db40f86-3621-4e1f-a004-a53da7073b7d"
      },
      "outputs": [
        {
          "data": {
            "text/plain": [
              "'Hello Everyone***********All the Best**********'"
            ]
          },
          "execution_count": 275,
          "metadata": {},
          "output_type": "execute_result"
        }
      ],
      "source": [
        "mystr2.lstrip('*') # Removes all '*' characters at the begining of the string"
      ]
    },
    {
      "cell_type": "code",
      "execution_count": null,
      "metadata": {
        "id": "hVQbpchUpC8v"
      },
      "outputs": [],
      "source": [
        "mystr2 = \"   Hello Everyone  \""
      ]
    },
    {
      "cell_type": "code",
      "execution_count": null,
      "metadata": {
        "id": "Ya9w9fBZpC8w",
        "outputId": "136aaba0-8e4b-45f1-9c00-f17278832649"
      },
      "outputs": [
        {
          "data": {
            "text/plain": [
              "'   hello everyone  '"
            ]
          },
          "execution_count": 277,
          "metadata": {},
          "output_type": "execute_result"
        }
      ],
      "source": [
        "mystr2.lower() # Return whole string in lowercase"
      ]
    },
    {
      "cell_type": "code",
      "execution_count": null,
      "metadata": {
        "id": "jAsMcVA7pC8w",
        "outputId": "428d4abc-e735-4952-9ba0-6dcf4cdd026e"
      },
      "outputs": [
        {
          "data": {
            "text/plain": [
              "'   HELLO EVERYONE  '"
            ]
          },
          "execution_count": 278,
          "metadata": {},
          "output_type": "execute_result"
        }
      ],
      "source": [
        "mystr2.upper() # Return whole string in uppercase"
      ]
    },
    {
      "cell_type": "code",
      "execution_count": null,
      "metadata": {
        "id": "GHmKic58pC8x",
        "outputId": "ef26401e-7f5d-458e-f17b-b6f15fd1e030"
      },
      "outputs": [
        {
          "data": {
            "text/plain": [
              "'   Hollo Everyone  '"
            ]
          },
          "execution_count": 279,
          "metadata": {},
          "output_type": "execute_result"
        }
      ],
      "source": [
        "mystr2.replace(\"He\" , \"Ho\") #Replace substring \"He\" with \"Ho\""
      ]
    },
    {
      "cell_type": "code",
      "execution_count": null,
      "metadata": {
        "id": "bPzWI3VTpC8y",
        "outputId": "74697e0d-d6f9-4df4-f47b-504cca293616"
      },
      "outputs": [
        {
          "data": {
            "text/plain": [
              "'HelloEveryone'"
            ]
          },
          "execution_count": 280,
          "metadata": {},
          "output_type": "execute_result"
        }
      ],
      "source": [
        "mystr2.replace(\" \" , \"\") # Remove all whitespaces using replace function"
      ]
    },
    {
      "cell_type": "code",
      "execution_count": null,
      "metadata": {
        "id": "5nW0b39lpC8z"
      },
      "outputs": [],
      "source": [
        "mystr5 = \"one two Three one two two three\""
      ]
    },
    {
      "cell_type": "code",
      "execution_count": null,
      "metadata": {
        "id": "7s5IOweWpC8z",
        "outputId": "43fc4f19-d30f-4b32-a6ba-805d4e88226c"
      },
      "outputs": [
        {
          "data": {
            "text/plain": [
              "2"
            ]
          },
          "execution_count": 230,
          "metadata": {},
          "output_type": "execute_result"
        }
      ],
      "source": [
        "mystr5.count(\"one\") # Number of times substring \"one\" occurred in string."
      ]
    },
    {
      "cell_type": "code",
      "execution_count": null,
      "metadata": {
        "id": "iwIaTv83pC80",
        "outputId": "1b945775-1f5a-4499-f92d-2909f586b1e9"
      },
      "outputs": [
        {
          "data": {
            "text/plain": [
              "3"
            ]
          },
          "execution_count": 231,
          "metadata": {},
          "output_type": "execute_result"
        }
      ],
      "source": [
        "mystr5.count(\"two\") # Number of times substring \"two\" occurred in string."
      ]
    },
    {
      "cell_type": "code",
      "execution_count": null,
      "metadata": {
        "id": "gESYKj-JpC80",
        "outputId": "224c9eb0-0b30-4691-d98b-530d627529f3"
      },
      "outputs": [
        {
          "data": {
            "text/plain": [
              "True"
            ]
          },
          "execution_count": 232,
          "metadata": {},
          "output_type": "execute_result"
        }
      ],
      "source": [
        "mystr5.startswith(\"one\")  # Return boolean value True if string starts with \"one\""
      ]
    },
    {
      "cell_type": "code",
      "execution_count": null,
      "metadata": {
        "id": "1Qe9qZd_pC81",
        "outputId": "d367cab3-262d-47ab-947c-58a7d5adced0"
      },
      "outputs": [
        {
          "data": {
            "text/plain": [
              "True"
            ]
          },
          "execution_count": 233,
          "metadata": {},
          "output_type": "execute_result"
        }
      ],
      "source": [
        "mystr5.endswith(\"three\") # Return boolean value True if string ends with \"three\""
      ]
    },
    {
      "cell_type": "code",
      "execution_count": 32,
      "metadata": {
        "id": "EZ2-57KJpC81"
      },
      "outputs": [],
      "source": [
        "mystr4 = \"one two three four one two two three five five six seven six seven one one one ten eight ten nine eleven ten ten nine\""
      ]
    },
    {
      "cell_type": "code",
      "execution_count": null,
      "metadata": {
        "id": "oIgl1CFYpC81",
        "outputId": "aeac00cd-9572-4701-e874-2104f176d9b6"
      },
      "outputs": [
        {
          "data": {
            "text/plain": [
              "['one',\n",
              " 'two',\n",
              " 'three',\n",
              " 'four',\n",
              " 'one',\n",
              " 'two',\n",
              " 'two',\n",
              " 'three',\n",
              " 'five',\n",
              " 'five',\n",
              " 'six',\n",
              " 'seven',\n",
              " 'six',\n",
              " 'seven',\n",
              " 'one',\n",
              " 'one',\n",
              " 'one',\n",
              " 'ten',\n",
              " 'eight',\n",
              " 'ten',\n",
              " 'nine',\n",
              " 'eleven',\n",
              " 'ten',\n",
              " 'ten',\n",
              " 'nine']"
            ]
          },
          "execution_count": 235,
          "metadata": {},
          "output_type": "execute_result"
        }
      ],
      "source": [
        "mylist = mystr4.split() # Split String into substrings\n",
        "mylist"
      ]
    },
    {
      "cell_type": "code",
      "execution_count": null,
      "metadata": {
        "id": "Y4DNhk1xpC83",
        "outputId": "28803b04-bdb8-466e-c3a4-8acb54f8fc19"
      },
      "outputs": [
        {
          "name": "stdout",
          "output_type": "stream",
          "text": [
            "Cost of item1 , item2 and item3 are 40 , 55 and 77\n"
          ]
        }
      ],
      "source": [
        "# Combining string & numbers using format method\n",
        "item1 = 40\n",
        "item2 = 55\n",
        "item3 = 77\n",
        "\n",
        "res = \"Cost of item1 , item2 and item3 are {} , {} and {}\"\n",
        "\n",
        "print(res.format(item1,item2,item3))"
      ]
    },
    {
      "cell_type": "code",
      "execution_count": null,
      "metadata": {
        "id": "7HIWfeuwpC83",
        "outputId": "650c9165-68a0-41cd-8ce2-7c004937ff9b"
      },
      "outputs": [
        {
          "name": "stdout",
          "output_type": "stream",
          "text": [
            "Cost of item3 , item2 and item1 are 77 , 55 and 40\n"
          ]
        }
      ],
      "source": [
        "# Combining string & numbers using format method\n",
        "item1 = 40\n",
        "item2 = 55\n",
        "item3 = 77\n",
        "\n",
        "res = \"Cost of item3 , item2 and item1 are {2} , {1} and {0}\"\n",
        "\n",
        "print(res.format(item1,item2,item3))"
      ]
    },
    {
      "cell_type": "code",
      "execution_count": null,
      "metadata": {
        "id": "bxB2U5rXpC84",
        "outputId": "ff89f2be-6457-4d7a-fdd9-3db7288cfccb"
      },
      "outputs": [
        {
          "name": "stdout",
          "output_type": "stream",
          "text": [
            "                                          WELCOME EVERYONE                                          \n"
          ]
        }
      ],
      "source": [
        "str2 = \" WELCOME EVERYONE \"\n",
        "str2 = str2.center(100) # center align the string using a specific character as the fill character.\n",
        "print(str2)"
      ]
    },
    {
      "cell_type": "code",
      "execution_count": null,
      "metadata": {
        "id": "ZPy1dKKUpC85",
        "outputId": "d62423a1-7d6c-44d4-9801-59cb8c06da26"
      },
      "outputs": [
        {
          "name": "stdout",
          "output_type": "stream",
          "text": [
            "***************************************** WELCOME EVERYONE *****************************************\n"
          ]
        }
      ],
      "source": [
        "str2 = \" WELCOME EVERYONE \"\n",
        "str2 = str2.center(100,'*') # center align the string using a specific character ('*') as the fill character.\n",
        "print(str2)"
      ]
    },
    {
      "cell_type": "code",
      "execution_count": null,
      "metadata": {
        "id": "To44H-n3pC85",
        "outputId": "e1f9d6e4-5306-466b-884d-772a5b54a221"
      },
      "outputs": [
        {
          "name": "stdout",
          "output_type": "stream",
          "text": [
            "                                 WELCOME EVERYONE \n"
          ]
        }
      ],
      "source": [
        "str2 = \" WELCOME EVERYONE \"\n",
        "str2 = str2.rjust(50) # Right align the string using a specific character as the fill character.\n",
        "print(str2)"
      ]
    },
    {
      "cell_type": "code",
      "execution_count": null,
      "metadata": {
        "id": "MHQv4aPIpC85",
        "outputId": "0a2e43df-419f-4767-f14a-ce12590a7471"
      },
      "outputs": [
        {
          "name": "stdout",
          "output_type": "stream",
          "text": [
            "******************************** WELCOME EVERYONE \n"
          ]
        }
      ],
      "source": [
        "str2 = \" WELCOME EVERYONE \"\n",
        "str2 = str2.rjust(50,'*') # Right align the string using a specific character ('*') as the fill character.\n",
        "print(str2)"
      ]
    },
    {
      "cell_type": "code",
      "execution_count": null,
      "metadata": {
        "id": "-9eHytULpC86",
        "outputId": "ee39bcf1-f99d-461f-9f18-21a5f9dbd8b2"
      },
      "outputs": [
        {
          "name": "stdout",
          "output_type": "stream",
          "text": [
            "19\n"
          ]
        }
      ],
      "source": [
        "str4 = \"one two three four five six seven\"\n",
        "loc = str4.find(\"five\") # Find the location of word 'five' in the string \"str4\"\n",
        "print(loc)"
      ]
    },
    {
      "cell_type": "code",
      "execution_count": null,
      "metadata": {
        "id": "mWmiFKMepC86",
        "outputId": "27e3eec4-c7ec-44e7-e97a-b2ee8807a66e"
      },
      "outputs": [
        {
          "name": "stdout",
          "output_type": "stream",
          "text": [
            "19\n"
          ]
        }
      ],
      "source": [
        "str4 = \"one two three four five six seven\"\n",
        "loc = str4.index(\"five\") # Find the location of word 'five' in the string \"str4\"\n",
        "print(loc)"
      ]
    },
    {
      "cell_type": "code",
      "execution_count": null,
      "metadata": {
        "id": "7dMMgNLPpC87",
        "outputId": "a484bd97-c2a3-421d-8829-b3fc3593d473"
      },
      "outputs": [
        {
          "name": "stdout",
          "output_type": "stream",
          "text": [
            "False\n",
            "True\n",
            "True\n",
            "True\n"
          ]
        }
      ],
      "source": [
        "mystr6 = '123456789'\n",
        "print(mystr6.isalpha()) # returns True if all the characters in the text are letters\n",
        "print(mystr6.isalnum())  # returns True if a string contains only letters or numbers or both\n",
        "print(mystr6.isdecimal()) # returns True if all the characters are decimals (0-9)\n",
        "print(mystr6.isnumeric()) # returns True if all the characters are numeric (0-9)"
      ]
    },
    {
      "cell_type": "code",
      "execution_count": null,
      "metadata": {
        "id": "RT-n_2tJpC88",
        "outputId": "41228251-da4d-49d8-ad21-3eb2cc7607c9"
      },
      "outputs": [
        {
          "name": "stdout",
          "output_type": "stream",
          "text": [
            "True\n",
            "True\n",
            "False\n",
            "False\n"
          ]
        }
      ],
      "source": [
        "mystr6 = 'abcde'\n",
        "print(mystr6.isalpha()) # returns True if all the characters in the text are letters\n",
        "print(mystr6.isalnum())  # returns True if a string contains only letters or numbers or both\n",
        "print(mystr6.isdecimal()) # returns True if all the characters are decimals (0-9)\n",
        "print(mystr6.isnumeric()) # returns True if all the characters are numeric (0-9)"
      ]
    },
    {
      "cell_type": "code",
      "execution_count": null,
      "metadata": {
        "id": "c4vglxVRpC89",
        "outputId": "53dc8858-b686-439c-8fa5-5b56e5d94c9f"
      },
      "outputs": [
        {
          "name": "stdout",
          "output_type": "stream",
          "text": [
            "False\n",
            "True\n",
            "False\n",
            "False\n"
          ]
        }
      ],
      "source": [
        "mystr6 = 'abc12309'\n",
        "print(mystr6.isalpha()) # returns True if all the characters in the text are letters\n",
        "print(mystr6.isalnum())  # returns True if a string contains only letters or numbers or both\n",
        "print(mystr6.isdecimal()) # returns True if all the characters are decimals (0-9)\n",
        "print(mystr6.isnumeric()) # returns True if all the characters are numeric (0-9)"
      ]
    },
    {
      "cell_type": "code",
      "execution_count": null,
      "metadata": {
        "id": "RX_jZPJ2pC8-",
        "outputId": "9b7bc25c-f969-46b1-8a17-c3a583341edd"
      },
      "outputs": [
        {
          "name": "stdout",
          "output_type": "stream",
          "text": [
            "True\n",
            "False\n"
          ]
        }
      ],
      "source": [
        "mystr7 = 'ABCDEF'\n",
        "print(mystr7.isupper())  # Returns True if all the characters are in upper case\n",
        "print(mystr7.islower())  # Returns True if all the characters are in lower case"
      ]
    },
    {
      "cell_type": "code",
      "execution_count": null,
      "metadata": {
        "id": "NkXtCtX6pC9A",
        "outputId": "966fa69d-81cd-41f6-b7cc-0584a6dfaaf2"
      },
      "outputs": [
        {
          "name": "stdout",
          "output_type": "stream",
          "text": [
            "False\n",
            "True\n"
          ]
        }
      ],
      "source": [
        "mystr8 = 'abcdef'\n",
        "print(mystr8.isupper())  # Returns True if all the characters are in upper case\n",
        "print(mystr8.islower())  # Returns True if all the characters are in lower case"
      ]
    },
    {
      "cell_type": "code",
      "execution_count": null,
      "metadata": {
        "id": "NuxOeG3KpC9B",
        "outputId": "6810938a-7316-41d6-ef3b-6e19f935e108"
      },
      "outputs": [
        {
          "name": "stdout",
          "output_type": "stream",
          "text": [
            "51\n"
          ]
        }
      ],
      "source": [
        "str6 = \"one two three four one two two three five five six one ten eight ten nine eleven ten ten nine\"\n",
        "\n",
        "loc = str6.rfind(\"one\") # last occurrence of word 'one' in string \"str6\"\n",
        "print(loc)"
      ]
    },
    {
      "cell_type": "code",
      "execution_count": null,
      "metadata": {
        "id": "723o4MbipC9C",
        "outputId": "8ce2cd6a-a4cc-48ad-8714-ffd74b07bd1d"
      },
      "outputs": [
        {
          "name": "stdout",
          "output_type": "stream",
          "text": [
            "51\n"
          ]
        }
      ],
      "source": [
        "loc = str6.rindex(\"one\") # last occurrence of word 'one' in string \"str6\"\n",
        "\n",
        "print(loc)"
      ]
    },
    {
      "cell_type": "code",
      "execution_count": null,
      "metadata": {
        "id": "jRr7-ugxpC9C",
        "outputId": "5d79ade2-dde8-40e6-d90d-61a1275bddb2"
      },
      "outputs": [
        {
          "data": {
            "text/plain": [
              "'   abc def ghi'"
            ]
          },
          "execution_count": 264,
          "metadata": {},
          "output_type": "execute_result"
        }
      ],
      "source": [
        "txt = \"   abc def ghi   \"\n",
        "\n",
        "txt.rstrip()"
      ]
    },
    {
      "cell_type": "code",
      "execution_count": null,
      "metadata": {
        "id": "giuRmfXfpC9D",
        "outputId": "99ad64ff-8971-443d-acc9-324c905fb9d5"
      },
      "outputs": [
        {
          "data": {
            "text/plain": [
              "'abc def ghi   '"
            ]
          },
          "execution_count": 265,
          "metadata": {},
          "output_type": "execute_result"
        }
      ],
      "source": [
        "txt = \"   abc def ghi   \"\n",
        "\n",
        "txt.lstrip()"
      ]
    },
    {
      "cell_type": "code",
      "execution_count": null,
      "metadata": {
        "id": "9zezUM4IpC9E",
        "outputId": "17479496-be56-4c10-95b9-2f116f368a22"
      },
      "outputs": [
        {
          "data": {
            "text/plain": [
              "'abc def ghi'"
            ]
          },
          "execution_count": 266,
          "metadata": {},
          "output_type": "execute_result"
        }
      ],
      "source": [
        "txt = \"   abc def ghi   \"\n",
        "\n",
        "txt.strip()"
      ]
    },
    {
      "cell_type": "markdown",
      "metadata": {
        "id": "Jh__eJuYpC9F"
      },
      "source": [
        "### Using Escape Character"
      ]
    },
    {
      "cell_type": "code",
      "execution_count": null,
      "metadata": {
        "id": "cYlHI59rpC9F",
        "outputId": "431f44ab-5e7d-484d-bed3-72122806bb23"
      },
      "outputs": [
        {
          "ename": "SyntaxError",
          "evalue": "invalid syntax (<ipython-input-252-0fa35a74da86>, line 2)",
          "output_type": "error",
          "traceback": [
            "\u001b[1;36m  File \u001b[1;32m\"<ipython-input-252-0fa35a74da86>\"\u001b[1;36m, line \u001b[1;32m2\u001b[0m\n\u001b[1;33m    mystr = \"My favourite TV Series is \"Game of Thrones\"\"\u001b[0m\n\u001b[1;37m                                           ^\u001b[0m\n\u001b[1;31mSyntaxError\u001b[0m\u001b[1;31m:\u001b[0m invalid syntax\n"
          ]
        }
      ],
      "source": [
        "#Using double quotes in the string is not allowed.\n",
        "mystr = \"My favourite TV Series is \"Game of Thrones\"\""
      ]
    },
    {
      "cell_type": "code",
      "execution_count": null,
      "metadata": {
        "id": "PRmTE9LfpC9G",
        "outputId": "bf8726e3-f630-48c2-c802-f22417b09e40"
      },
      "outputs": [
        {
          "name": "stdout",
          "output_type": "stream",
          "text": [
            "My favourite series is \"Game of Thrones\"\n"
          ]
        }
      ],
      "source": [
        "#Using escape character to allow illegal characters\n",
        "mystr = \"My favourite series is \\\"Game of Thrones\\\"\"\n",
        "print(mystr)"
      ]
    },
    {
      "cell_type": "markdown",
      "metadata": {
        "id": "Qo-qdMjqpC9G"
      },
      "source": [
        "# List"
      ]
    },
    {
      "cell_type": "markdown",
      "metadata": {
        "id": "XvWMwhIupC9H"
      },
      "source": [
        "1) List is an ordered sequence of items.\n",
        "\n",
        "2) We can have different data types under a list. E.g we can have integer, float and string items in a same list."
      ]
    },
    {
      "cell_type": "markdown",
      "metadata": {
        "id": "-O12qhoNpC9H"
      },
      "source": [
        "### List Creation"
      ]
    },
    {
      "cell_type": "code",
      "execution_count": null,
      "metadata": {
        "id": "Hgw7PlwppC9H"
      },
      "outputs": [],
      "source": [
        "list1 = []      # Empty List"
      ]
    },
    {
      "cell_type": "code",
      "execution_count": null,
      "metadata": {
        "id": "7C8FNksapC9I",
        "outputId": "90d66f5c-afd3-472f-8d0c-dd65edc473e6"
      },
      "outputs": [
        {
          "name": "stdout",
          "output_type": "stream",
          "text": [
            "<class 'list'>\n"
          ]
        }
      ],
      "source": [
        "print(type(list1))"
      ]
    },
    {
      "cell_type": "code",
      "execution_count": null,
      "metadata": {
        "id": "wK99wBF3pC9I"
      },
      "outputs": [],
      "source": [
        "list2 = [10,30,60]      # List of integers numbers"
      ]
    },
    {
      "cell_type": "code",
      "execution_count": null,
      "metadata": {
        "id": "o4ZnbChRpC9J"
      },
      "outputs": [],
      "source": [
        "list3 = [10.77,30.66,60.89]       # List of float numbers"
      ]
    },
    {
      "cell_type": "code",
      "execution_count": null,
      "metadata": {
        "id": "7EYnBGAbpC9J"
      },
      "outputs": [],
      "source": [
        "list4 = ['one','two' , \"three\"]   # List of strings"
      ]
    },
    {
      "cell_type": "code",
      "execution_count": null,
      "metadata": {
        "id": "cC2cbhR1pC9L"
      },
      "outputs": [],
      "source": [
        "list5 = ['Asif', 25 ,[50, 100],[150, 90]]    # Nested Lists"
      ]
    },
    {
      "cell_type": "code",
      "execution_count": null,
      "metadata": {
        "id": "Niw1THvYpC9M"
      },
      "outputs": [],
      "source": [
        "list6 = [100, 'Asif', 17.765]   # List of mixed data types"
      ]
    },
    {
      "cell_type": "code",
      "execution_count": null,
      "metadata": {
        "id": "_TsXqw8cpC9N"
      },
      "outputs": [],
      "source": [
        "list7 = ['Asif', 25 ,[50, 100],[150, 90] , {'John' , 'David'}]"
      ]
    },
    {
      "cell_type": "code",
      "execution_count": null,
      "metadata": {
        "id": "QrnketJupC9N",
        "outputId": "a2d263d6-849c-4086-bf5a-c5ef86e7d4fe"
      },
      "outputs": [
        {
          "data": {
            "text/plain": [
              "3"
            ]
          },
          "execution_count": 430,
          "metadata": {},
          "output_type": "execute_result"
        }
      ],
      "source": [
        "len(list6) #Length of list"
      ]
    },
    {
      "cell_type": "markdown",
      "metadata": {
        "id": "HYQ0x3CmpC9O"
      },
      "source": [
        "### List Indexing"
      ]
    },
    {
      "cell_type": "markdown",
      "metadata": {
        "id": "HrO7KW8LpC9O"
      },
      "source": [
        "<img src=\"https://github.com/datasciencescoop/Python/blob/master/list.PNG?raw=1\">"
      ]
    },
    {
      "cell_type": "code",
      "execution_count": null,
      "metadata": {
        "id": "tQtsQfc7pC9O",
        "outputId": "8c81686d-647e-4adb-a25e-a54f19f3ef89"
      },
      "outputs": [
        {
          "data": {
            "text/plain": [
              "10"
            ]
          },
          "execution_count": 432,
          "metadata": {},
          "output_type": "execute_result"
        }
      ],
      "source": [
        "list2[0] # Retreive first element of the list"
      ]
    },
    {
      "cell_type": "code",
      "execution_count": null,
      "metadata": {
        "id": "dEhCh1G7pC9P",
        "outputId": "13f5bf0d-b0de-45dc-b013-e3c4d1874311"
      },
      "outputs": [
        {
          "data": {
            "text/plain": [
              "'one'"
            ]
          },
          "execution_count": 433,
          "metadata": {},
          "output_type": "execute_result"
        }
      ],
      "source": [
        "list4[0] # Retreive first element of the list"
      ]
    },
    {
      "cell_type": "code",
      "execution_count": null,
      "metadata": {
        "id": "XiAw0peYpC9Q",
        "outputId": "7d792243-8a10-4e38-8ef9-a6bab00cea7c"
      },
      "outputs": [
        {
          "data": {
            "text/plain": [
              "'o'"
            ]
          },
          "execution_count": 434,
          "metadata": {},
          "output_type": "execute_result"
        }
      ],
      "source": [
        "list4[0][0] # Nested indexing - Access the first character of the first list element"
      ]
    },
    {
      "cell_type": "code",
      "execution_count": null,
      "metadata": {
        "id": "J5UxODEApC9Q",
        "outputId": "2b4e4981-0f92-4251-9424-6866d9194951"
      },
      "outputs": [
        {
          "data": {
            "text/plain": [
              "'three'"
            ]
          },
          "execution_count": 435,
          "metadata": {},
          "output_type": "execute_result"
        }
      ],
      "source": [
        "list4[-1] # Last item of the list"
      ]
    },
    {
      "cell_type": "code",
      "execution_count": null,
      "metadata": {
        "id": "Y7VwvkJFpC9R",
        "outputId": "c6bcd3fa-5d45-426e-fab7-0b8835dae844"
      },
      "outputs": [
        {
          "data": {
            "text/plain": [
              "[150, 90]"
            ]
          },
          "execution_count": 436,
          "metadata": {},
          "output_type": "execute_result"
        }
      ],
      "source": [
        "list5[-1]  # Last item of the list"
      ]
    },
    {
      "cell_type": "markdown",
      "metadata": {
        "id": "pT6305sUpC9S"
      },
      "source": [
        "### List Slicing"
      ]
    },
    {
      "cell_type": "code",
      "execution_count": null,
      "metadata": {
        "id": "nhCHo3wjpC9S"
      },
      "outputs": [],
      "source": [
        "mylist = ['one' , 'two' , 'three' , 'four' , 'five' , 'six' , 'seven' , 'eight']"
      ]
    },
    {
      "cell_type": "code",
      "execution_count": null,
      "metadata": {
        "id": "04KS8iwFpC9T",
        "outputId": "ce89cb3a-8a0c-4ea4-ad25-8ac704ec6dfc"
      },
      "outputs": [
        {
          "data": {
            "text/plain": [
              "['one', 'two', 'three']"
            ]
          },
          "execution_count": 438,
          "metadata": {},
          "output_type": "execute_result"
        }
      ],
      "source": [
        "mylist[0:3] # Return all items from 0th to 3rd index location excluding the item at loc 3."
      ]
    },
    {
      "cell_type": "code",
      "execution_count": null,
      "metadata": {
        "id": "52O-eNISpC9T",
        "outputId": "30ce3eed-3f1f-440e-eb5d-7174c5acbd92"
      },
      "outputs": [
        {
          "data": {
            "text/plain": [
              "['three', 'four', 'five']"
            ]
          },
          "execution_count": 439,
          "metadata": {},
          "output_type": "execute_result"
        }
      ],
      "source": [
        "mylist[2:5] # List all items from 2nd to 5th index location excluding the item at loc 5."
      ]
    },
    {
      "cell_type": "code",
      "execution_count": null,
      "metadata": {
        "id": "5HDrPIArpC9U",
        "outputId": "bdd3f7b2-0ef8-45d4-f2e5-50fb454c3f25"
      },
      "outputs": [
        {
          "data": {
            "text/plain": [
              "['one', 'two', 'three']"
            ]
          },
          "execution_count": 440,
          "metadata": {},
          "output_type": "execute_result"
        }
      ],
      "source": [
        "mylist[:3] # Return first three items"
      ]
    },
    {
      "cell_type": "code",
      "execution_count": null,
      "metadata": {
        "id": "vrj-ktCDpC9U",
        "outputId": "323f434f-d159-4583-aeb7-6b295082087b"
      },
      "outputs": [
        {
          "data": {
            "text/plain": [
              "['one', 'two']"
            ]
          },
          "execution_count": 441,
          "metadata": {},
          "output_type": "execute_result"
        }
      ],
      "source": [
        "mylist[:2]  # Return first two items"
      ]
    },
    {
      "cell_type": "code",
      "execution_count": null,
      "metadata": {
        "id": "UdtSH3X6pC9V",
        "outputId": "892a1f0a-f571-4ffa-d224-b16d2d698be0"
      },
      "outputs": [
        {
          "data": {
            "text/plain": [
              "['six', 'seven', 'eight']"
            ]
          },
          "execution_count": 442,
          "metadata": {},
          "output_type": "execute_result"
        }
      ],
      "source": [
        "mylist[-3:] # Return last three items"
      ]
    },
    {
      "cell_type": "code",
      "execution_count": null,
      "metadata": {
        "id": "3evIQ_lBpC9V",
        "outputId": "89fd30ad-2f0e-4835-af8e-f67f082c89de"
      },
      "outputs": [
        {
          "data": {
            "text/plain": [
              "['seven', 'eight']"
            ]
          },
          "execution_count": 443,
          "metadata": {},
          "output_type": "execute_result"
        }
      ],
      "source": [
        "mylist[-2:] # Return last two items"
      ]
    },
    {
      "cell_type": "code",
      "execution_count": null,
      "metadata": {
        "id": "DrZ3_XFFpC9V",
        "outputId": "cf8ea12f-809c-49bb-abd0-de3446269e79"
      },
      "outputs": [
        {
          "data": {
            "text/plain": [
              "'eight'"
            ]
          },
          "execution_count": 444,
          "metadata": {},
          "output_type": "execute_result"
        }
      ],
      "source": [
        "mylist[-1] # Return last item of the list"
      ]
    },
    {
      "cell_type": "code",
      "execution_count": null,
      "metadata": {
        "id": "1gaGaTEDpC9W",
        "outputId": "f6b4f7a8-b67e-4e30-a60a-cab572ed144e"
      },
      "outputs": [
        {
          "data": {
            "text/plain": [
              "['one', 'two', 'three', 'four', 'five', 'six', 'seven', 'eight']"
            ]
          },
          "execution_count": 445,
          "metadata": {},
          "output_type": "execute_result"
        }
      ],
      "source": [
        "mylist[:] # Return whole list"
      ]
    },
    {
      "cell_type": "markdown",
      "metadata": {
        "id": "ZcnybKUDpC9X"
      },
      "source": [
        "### Add , Remove & Change Items"
      ]
    },
    {
      "cell_type": "code",
      "execution_count": null,
      "metadata": {
        "id": "UDvZY8fupC9Z",
        "outputId": "ea917230-9486-4161-b0e8-2e85c968bb88"
      },
      "outputs": [
        {
          "data": {
            "text/plain": [
              "['one', 'two', 'three', 'four', 'five', 'six', 'seven', 'eight']"
            ]
          },
          "execution_count": 446,
          "metadata": {},
          "output_type": "execute_result"
        }
      ],
      "source": [
        "mylist"
      ]
    },
    {
      "cell_type": "code",
      "execution_count": null,
      "metadata": {
        "id": "-JqOJK25pC9a",
        "outputId": "ee2da165-944b-426a-ccfc-57c5d7137951"
      },
      "outputs": [
        {
          "data": {
            "text/plain": [
              "['one', 'two', 'three', 'four', 'five', 'six', 'seven', 'eight', 'nine']"
            ]
          },
          "execution_count": 447,
          "metadata": {},
          "output_type": "execute_result"
        }
      ],
      "source": [
        "mylist.append('nine') # Add an item to the end of the list\n",
        "mylist"
      ]
    },
    {
      "cell_type": "code",
      "execution_count": null,
      "metadata": {
        "id": "N63NGlSMpC9a",
        "outputId": "ab501bc6-b78b-48f6-f443-ba0d29e87c5b"
      },
      "outputs": [
        {
          "data": {
            "text/plain": [
              "['one', 'two', 'three', 'four', 'five', 'six', 'seven', 'eight', 'nine', 'ten']"
            ]
          },
          "execution_count": 448,
          "metadata": {},
          "output_type": "execute_result"
        }
      ],
      "source": [
        "mylist.insert(9,'ten') # Add item at index location 9\n",
        "mylist"
      ]
    },
    {
      "cell_type": "code",
      "execution_count": null,
      "metadata": {
        "id": "vj0bCuGhpC9b",
        "outputId": "53d7999e-b595-4858-920d-aa0c8da085cf"
      },
      "outputs": [
        {
          "data": {
            "text/plain": [
              "['one',\n",
              " 'ONE',\n",
              " 'two',\n",
              " 'three',\n",
              " 'four',\n",
              " 'five',\n",
              " 'six',\n",
              " 'seven',\n",
              " 'eight',\n",
              " 'nine',\n",
              " 'ten']"
            ]
          },
          "execution_count": 449,
          "metadata": {},
          "output_type": "execute_result"
        }
      ],
      "source": [
        "mylist.insert(1,'ONE') # Add item at index location 1\n",
        "mylist"
      ]
    },
    {
      "cell_type": "code",
      "execution_count": null,
      "metadata": {
        "id": "sr8_q0BdpC9e",
        "outputId": "51819d6a-fdbf-47e2-d435-7aa94ecddcb8"
      },
      "outputs": [
        {
          "data": {
            "text/plain": [
              "['one', 'two', 'three', 'four', 'five', 'six', 'seven', 'eight', 'nine', 'ten']"
            ]
          },
          "execution_count": 450,
          "metadata": {},
          "output_type": "execute_result"
        }
      ],
      "source": [
        "mylist.remove('ONE') # Remove item \"ONE\"\n",
        "mylist"
      ]
    },
    {
      "cell_type": "code",
      "execution_count": null,
      "metadata": {
        "id": "bK0XMfOUpC9f",
        "outputId": "6df1f2dc-e7fc-4b71-f5d7-a08c153f0f65"
      },
      "outputs": [
        {
          "data": {
            "text/plain": [
              "['one', 'two', 'three', 'four', 'five', 'six', 'seven', 'eight', 'nine']"
            ]
          },
          "execution_count": 451,
          "metadata": {},
          "output_type": "execute_result"
        }
      ],
      "source": [
        "mylist.pop() # Remove last item of the list\n",
        "mylist"
      ]
    },
    {
      "cell_type": "code",
      "execution_count": null,
      "metadata": {
        "id": "Ate2GBeTpC9f",
        "outputId": "85b86b97-bb8c-4eee-a194-369156d9eadf"
      },
      "outputs": [
        {
          "data": {
            "text/plain": [
              "['one', 'two', 'three', 'four', 'five', 'six', 'seven', 'eight']"
            ]
          },
          "execution_count": 452,
          "metadata": {},
          "output_type": "execute_result"
        }
      ],
      "source": [
        "mylist.pop(8) # Remove item at index location 8\n",
        "mylist"
      ]
    },
    {
      "cell_type": "code",
      "execution_count": null,
      "metadata": {
        "id": "Sy37kWW2pC9g",
        "outputId": "2edb4fb7-80b5-4ea4-8e7f-2347009f0c02"
      },
      "outputs": [
        {
          "data": {
            "text/plain": [
              "['one', 'two', 'three', 'four', 'five', 'six', 'seven']"
            ]
          },
          "execution_count": 453,
          "metadata": {},
          "output_type": "execute_result"
        }
      ],
      "source": [
        "del mylist[7] # Remove item at index location 7\n",
        "mylist"
      ]
    },
    {
      "cell_type": "code",
      "execution_count": null,
      "metadata": {
        "id": "SrtXqcu1pC9h",
        "outputId": "1c1bce31-04b2-445b-9680-faf1664a3066"
      },
      "outputs": [
        {
          "data": {
            "text/plain": [
              "[1, 2, 3, 'four', 'five', 'six', 'seven']"
            ]
          },
          "execution_count": 454,
          "metadata": {},
          "output_type": "execute_result"
        }
      ],
      "source": [
        "# Change value of the string\n",
        "mylist[0] = 1\n",
        "mylist[1] = 2\n",
        "mylist[2] = 3\n",
        "mylist"
      ]
    },
    {
      "cell_type": "code",
      "execution_count": null,
      "metadata": {
        "id": "z2hWiTsupC9i",
        "outputId": "ef4175a5-cbbd-4c23-9b77-9668f633786b"
      },
      "outputs": [
        {
          "data": {
            "text/plain": [
              "[]"
            ]
          },
          "execution_count": 455,
          "metadata": {},
          "output_type": "execute_result"
        }
      ],
      "source": [
        "mylist.clear()  # Empty List / Delete all items in the list\n",
        "mylist"
      ]
    },
    {
      "cell_type": "code",
      "execution_count": null,
      "metadata": {
        "id": "2fmhTF8CpC9i",
        "outputId": "43ab613d-2615-477f-dd45-ca054b6f4521"
      },
      "outputs": [
        {
          "ename": "NameError",
          "evalue": "name 'mylist' is not defined",
          "output_type": "error",
          "traceback": [
            "\u001b[1;31m---------------------------------------------------------------------------\u001b[0m",
            "\u001b[1;31mNameError\u001b[0m                                 Traceback (most recent call last)",
            "\u001b[1;32m<ipython-input-456-50c7849aa2cb>\u001b[0m in \u001b[0;36m<module>\u001b[1;34m\u001b[0m\n\u001b[0;32m      1\u001b[0m \u001b[1;32mdel\u001b[0m \u001b[0mmylist\u001b[0m \u001b[1;31m# Delete the whole list\u001b[0m\u001b[1;33m\u001b[0m\u001b[1;33m\u001b[0m\u001b[0m\n\u001b[1;32m----> 2\u001b[1;33m \u001b[0mmylist\u001b[0m\u001b[1;33m\u001b[0m\u001b[1;33m\u001b[0m\u001b[0m\n\u001b[0m",
            "\u001b[1;31mNameError\u001b[0m: name 'mylist' is not defined"
          ]
        }
      ],
      "source": [
        "del mylist # Delete the whole list\n",
        "mylist"
      ]
    },
    {
      "cell_type": "markdown",
      "metadata": {
        "id": "1GSH3qybpC9j"
      },
      "source": [
        "### Copy List"
      ]
    },
    {
      "cell_type": "code",
      "execution_count": null,
      "metadata": {
        "id": "9i3IQVK2pC9k"
      },
      "outputs": [],
      "source": [
        "mylist = ['one', 'two', 'three', 'four', 'five', 'six', 'seven', 'eight', 'nine', 'ten']"
      ]
    },
    {
      "cell_type": "code",
      "execution_count": null,
      "metadata": {
        "id": "QLmYzCRDpC9k"
      },
      "outputs": [],
      "source": [
        "mylist1 = mylist # Create a new reference \"mylist1\""
      ]
    },
    {
      "cell_type": "code",
      "execution_count": null,
      "metadata": {
        "id": "YHMjRlpNpC9l",
        "outputId": "3bee85a8-4db1-4b43-bd24-782e00be6028"
      },
      "outputs": [
        {
          "data": {
            "text/plain": [
              "(1537348392776, 1537348392776)"
            ]
          },
          "execution_count": 459,
          "metadata": {},
          "output_type": "execute_result"
        }
      ],
      "source": [
        "id(mylist) , id(mylist1) # The address of both mylist & mylist1 will be the same as both are pointing to same list."
      ]
    },
    {
      "cell_type": "code",
      "execution_count": null,
      "metadata": {
        "id": "QuVUCBUfpC9l"
      },
      "outputs": [],
      "source": [
        "mylist2 = mylist.copy() # Create a copy of the list"
      ]
    },
    {
      "cell_type": "code",
      "execution_count": null,
      "metadata": {
        "id": "GlvwxkqcpC9l",
        "outputId": "39959eb9-2046-4fe7-fec3-79faad6fde21"
      },
      "outputs": [
        {
          "data": {
            "text/plain": [
              "1537345955016"
            ]
          },
          "execution_count": 461,
          "metadata": {},
          "output_type": "execute_result"
        }
      ],
      "source": [
        "id(mylist2) # The address of mylist2 will be different from mylist because mylist2 is pointing to the copy of the existing list"
      ]
    },
    {
      "cell_type": "code",
      "execution_count": null,
      "metadata": {
        "id": "D8ZpKyBxpC9m"
      },
      "outputs": [],
      "source": [
        "mylist[0] = 1"
      ]
    },
    {
      "cell_type": "code",
      "execution_count": null,
      "metadata": {
        "id": "lFf85VuPpC9m",
        "outputId": "0cc841ef-00fd-44c0-c547-710cdb9d7d8f"
      },
      "outputs": [
        {
          "data": {
            "text/plain": [
              "[1, 'two', 'three', 'four', 'five', 'six', 'seven', 'eight', 'nine', 'ten']"
            ]
          },
          "execution_count": 463,
          "metadata": {},
          "output_type": "execute_result"
        }
      ],
      "source": [
        "mylist"
      ]
    },
    {
      "cell_type": "code",
      "execution_count": null,
      "metadata": {
        "id": "0-WM1eqFpC9n",
        "outputId": "899b883d-8def-40ba-e148-efb9126f12f5"
      },
      "outputs": [
        {
          "data": {
            "text/plain": [
              "[1, 'two', 'three', 'four', 'five', 'six', 'seven', 'eight', 'nine', 'ten']"
            ]
          },
          "execution_count": 464,
          "metadata": {},
          "output_type": "execute_result"
        }
      ],
      "source": [
        "mylist1 # mylist1 will be also impacted as it is pointing to the same list"
      ]
    },
    {
      "cell_type": "code",
      "execution_count": null,
      "metadata": {
        "id": "vZ9Kr9X_pC9n",
        "outputId": "d93596a1-ad4e-4171-fa0b-ed0b3a3db2d4"
      },
      "outputs": [
        {
          "data": {
            "text/plain": [
              "['one', 'two', 'three', 'four', 'five', 'six', 'seven', 'eight', 'nine', 'ten']"
            ]
          },
          "execution_count": 465,
          "metadata": {},
          "output_type": "execute_result"
        }
      ],
      "source": [
        "mylist2 # Copy of list won't be impacted due to changes made on the original list"
      ]
    },
    {
      "cell_type": "markdown",
      "metadata": {
        "id": "jfi0qQSHpC9o"
      },
      "source": [
        "### Join Lists"
      ]
    },
    {
      "cell_type": "code",
      "execution_count": null,
      "metadata": {
        "id": "sGNH2wMYpC9o"
      },
      "outputs": [],
      "source": [
        "list1 = ['one', 'two', 'three', 'four']\n",
        "list2 = ['five', 'six', 'seven', 'eight']"
      ]
    },
    {
      "cell_type": "code",
      "execution_count": null,
      "metadata": {
        "id": "wXUrU9lzpC9o",
        "outputId": "d10b0007-7549-4816-8316-8d87c9d6546c"
      },
      "outputs": [
        {
          "data": {
            "text/plain": [
              "['one', 'two', 'three', 'four', 'five', 'six', 'seven', 'eight']"
            ]
          },
          "execution_count": 467,
          "metadata": {},
          "output_type": "execute_result"
        }
      ],
      "source": [
        "list3 = list1 + list2 # Join two lists by '+' operator\n",
        "list3"
      ]
    },
    {
      "cell_type": "code",
      "execution_count": null,
      "metadata": {
        "id": "5XmpsO3epC9p",
        "outputId": "8378bb1d-c76e-44e7-aac5-b752b4836adb"
      },
      "outputs": [
        {
          "data": {
            "text/plain": [
              "['one', 'two', 'three', 'four', 'five', 'six', 'seven', 'eight']"
            ]
          },
          "execution_count": 468,
          "metadata": {},
          "output_type": "execute_result"
        }
      ],
      "source": [
        "list1.extend(list2) #Append list2 with list1\n",
        "list1"
      ]
    },
    {
      "cell_type": "code",
      "execution_count": null,
      "metadata": {
        "id": "thkYOfWepC9p",
        "outputId": "f1c141de-9d02-4c40-b3ea-40a7410f386d"
      },
      "outputs": [
        {
          "data": {
            "text/plain": [
              "'Hello & Good Morning & Everyone'"
            ]
          },
          "execution_count": 10,
          "metadata": {},
          "output_type": "execute_result"
        }
      ],
      "source": [
        "# Join Method\n",
        "input_str = [\"Hello\" , \"Good Morning\" , \"Everyone\"]\n",
        "mystr = ' & '.join(input_str)\n",
        "mystr"
      ]
    },
    {
      "cell_type": "code",
      "execution_count": null,
      "metadata": {
        "id": "-U5cqvjapC9q",
        "outputId": "b47dc26e-4d08-477a-9e21-9da51a5edf59"
      },
      "outputs": [
        {
          "data": {
            "text/plain": [
              "'Hello Good Morning Everyone'"
            ]
          },
          "execution_count": 11,
          "metadata": {},
          "output_type": "execute_result"
        }
      ],
      "source": [
        "# Join Method\n",
        "input_str = [\"Hello\" , \"Good Morning\" , \"Everyone\"]\n",
        "mystr = ' '.join(input_str)\n",
        "mystr"
      ]
    },
    {
      "cell_type": "markdown",
      "metadata": {
        "id": "OyVRRh3BpC9r"
      },
      "source": [
        "### List Membership"
      ]
    },
    {
      "cell_type": "code",
      "execution_count": null,
      "metadata": {
        "id": "sgxBc0ZWpC9r",
        "outputId": "e4ac1063-0660-42ba-b3d5-8916322716c1"
      },
      "outputs": [
        {
          "data": {
            "text/plain": [
              "['one', 'two', 'three', 'four', 'five', 'six', 'seven', 'eight']"
            ]
          },
          "execution_count": 469,
          "metadata": {},
          "output_type": "execute_result"
        }
      ],
      "source": [
        "list1"
      ]
    },
    {
      "cell_type": "code",
      "execution_count": null,
      "metadata": {
        "id": "2GnjVJy5pC9s",
        "outputId": "99bc1e72-9767-472d-b7d0-72c2f319ad12"
      },
      "outputs": [
        {
          "data": {
            "text/plain": [
              "True"
            ]
          },
          "execution_count": 470,
          "metadata": {},
          "output_type": "execute_result"
        }
      ],
      "source": [
        "'one' in list1 # Check if 'one' exist in the list"
      ]
    },
    {
      "cell_type": "code",
      "execution_count": null,
      "metadata": {
        "id": "oD5fRTorpC9t",
        "outputId": "346fa97a-9a14-46c8-d0ab-f6a84710175b"
      },
      "outputs": [
        {
          "data": {
            "text/plain": [
              "False"
            ]
          },
          "execution_count": 471,
          "metadata": {},
          "output_type": "execute_result"
        }
      ],
      "source": [
        "'ten' in list1 # Check if 'ten' exist in the list"
      ]
    },
    {
      "cell_type": "code",
      "execution_count": null,
      "metadata": {
        "id": "GGbcsjU6pC95",
        "outputId": "3cb5366c-cd7c-4ff2-b2c2-6c0611f3f47e"
      },
      "outputs": [
        {
          "name": "stdout",
          "output_type": "stream",
          "text": [
            "Three is present in the list\n"
          ]
        }
      ],
      "source": [
        "if 'three' in list1: # Check if 'three' exist in the list\n",
        "    print('Three is present in the list')\n",
        "else:\n",
        "    print('Three is not present in the list')"
      ]
    },
    {
      "cell_type": "code",
      "execution_count": null,
      "metadata": {
        "id": "pFhwdFfnpC96",
        "outputId": "bc2a5015-96dd-400a-d438-487864255a46"
      },
      "outputs": [
        {
          "name": "stdout",
          "output_type": "stream",
          "text": [
            "eleven is not present in the list\n"
          ]
        }
      ],
      "source": [
        "if 'eleven' in list1:  # Check if 'eleven' exist in the list\n",
        "    print('eleven is present in the list')\n",
        "else:\n",
        "    print('eleven is not present in the list')"
      ]
    },
    {
      "cell_type": "markdown",
      "metadata": {
        "id": "GNmTfwNvpC97"
      },
      "source": [
        "### Reverse & Sort List"
      ]
    },
    {
      "cell_type": "code",
      "execution_count": null,
      "metadata": {
        "id": "yjZpWW39pC97",
        "outputId": "a3bcfa91-88f0-46d3-e4d7-52dbd410f7a6"
      },
      "outputs": [
        {
          "data": {
            "text/plain": [
              "['one', 'two', 'three', 'four', 'five', 'six', 'seven', 'eight']"
            ]
          },
          "execution_count": 474,
          "metadata": {},
          "output_type": "execute_result"
        }
      ],
      "source": [
        "list1"
      ]
    },
    {
      "cell_type": "code",
      "execution_count": null,
      "metadata": {
        "id": "FaADotCppC98",
        "outputId": "2ab45442-e977-41cf-a24c-4b262a5dc9ef"
      },
      "outputs": [
        {
          "data": {
            "text/plain": [
              "['eight', 'seven', 'six', 'five', 'four', 'three', 'two', 'one']"
            ]
          },
          "execution_count": 475,
          "metadata": {},
          "output_type": "execute_result"
        }
      ],
      "source": [
        "list1.reverse() # Reverse the list\n",
        "list1"
      ]
    },
    {
      "cell_type": "code",
      "execution_count": null,
      "metadata": {
        "id": "Iihwd192pC99",
        "outputId": "dcfe773c-0001-407e-f3fa-8e19ad1e687c"
      },
      "outputs": [
        {
          "data": {
            "text/plain": [
              "['one', 'two', 'three', 'four', 'five', 'six', 'seven', 'eight']"
            ]
          },
          "execution_count": 476,
          "metadata": {},
          "output_type": "execute_result"
        }
      ],
      "source": [
        "list1 = list1[::-1] # Reverse the list\n",
        "list1"
      ]
    },
    {
      "cell_type": "code",
      "execution_count": null,
      "metadata": {
        "id": "LdVwG3ImpC99",
        "outputId": "1b46239d-e020-466b-c6cc-caae61336251"
      },
      "outputs": [
        {
          "data": {
            "text/plain": [
              "[2, 5, 9, 12, 34, 88, 99]"
            ]
          },
          "execution_count": 477,
          "metadata": {},
          "output_type": "execute_result"
        }
      ],
      "source": [
        "mylist3 = [9,5,2,99,12,88,34]\n",
        "mylist3.sort()   # Sort list in ascending order\n",
        "mylist3"
      ]
    },
    {
      "cell_type": "code",
      "execution_count": null,
      "metadata": {
        "id": "WQ4At1dfpC9-",
        "outputId": "9512fdac-ffe3-47e4-bfea-e7e1b9cd5098"
      },
      "outputs": [
        {
          "data": {
            "text/plain": [
              "[99, 88, 34, 12, 9, 5, 2]"
            ]
          },
          "execution_count": 478,
          "metadata": {},
          "output_type": "execute_result"
        }
      ],
      "source": [
        "mylist3 = [9,5,2,99,12,88,34]\n",
        "mylist3.sort(reverse=True)  # Sort list in descending order\n",
        "mylist3"
      ]
    },
    {
      "cell_type": "code",
      "execution_count": null,
      "metadata": {
        "id": "4Mova1bnpC-B",
        "outputId": "d517ca54-b2a2-4308-e9da-f5f12206e573"
      },
      "outputs": [
        {
          "data": {
            "text/plain": [
              "[11, 21, 33, 65, 88, 98]"
            ]
          },
          "execution_count": 584,
          "metadata": {},
          "output_type": "execute_result"
        }
      ],
      "source": [
        "mylist4 = [88,65,33,21,11,98]\n",
        "sorted(mylist4)        # Returns a new sorted list and doesn't change original list"
      ]
    },
    {
      "cell_type": "code",
      "execution_count": null,
      "metadata": {
        "id": "jwB6niSdpC-C",
        "outputId": "a98600f6-f7f8-4e80-a829-451d347993c1"
      },
      "outputs": [
        {
          "data": {
            "text/plain": [
              "[88, 65, 33, 21, 11, 98]"
            ]
          },
          "execution_count": 585,
          "metadata": {},
          "output_type": "execute_result"
        }
      ],
      "source": [
        "mylist4"
      ]
    },
    {
      "cell_type": "markdown",
      "metadata": {
        "id": "-6d3ahTrpC-C"
      },
      "source": [
        "### Loop through a list"
      ]
    },
    {
      "cell_type": "code",
      "execution_count": null,
      "metadata": {
        "id": "-oeU4fj1pC-D",
        "outputId": "fcc4fac4-71ca-4051-8f97-a173c4ec94a8"
      },
      "outputs": [
        {
          "data": {
            "text/plain": [
              "['one', 'two', 'three', 'four', 'five', 'six', 'seven', 'eight']"
            ]
          },
          "execution_count": 481,
          "metadata": {},
          "output_type": "execute_result"
        }
      ],
      "source": [
        "list1"
      ]
    },
    {
      "cell_type": "code",
      "execution_count": null,
      "metadata": {
        "id": "hls74klVpC-D",
        "outputId": "213ae560-4306-4d58-9021-18b58c8696a3"
      },
      "outputs": [
        {
          "name": "stdout",
          "output_type": "stream",
          "text": [
            "one\n",
            "two\n",
            "three\n",
            "four\n",
            "five\n",
            "six\n",
            "seven\n",
            "eight\n"
          ]
        }
      ],
      "source": [
        "for i in list1:\n",
        "    print(i)"
      ]
    },
    {
      "cell_type": "code",
      "execution_count": null,
      "metadata": {
        "id": "T2hhKUYBpC-E",
        "outputId": "7fba5b88-fe5a-43bc-82ad-fc0230198db4"
      },
      "outputs": [
        {
          "name": "stdout",
          "output_type": "stream",
          "text": [
            "(0, 'one')\n",
            "(1, 'two')\n",
            "(2, 'three')\n",
            "(3, 'four')\n",
            "(4, 'five')\n",
            "(5, 'six')\n",
            "(6, 'seven')\n",
            "(7, 'eight')\n"
          ]
        }
      ],
      "source": [
        "for i in enumerate(list1):\n",
        "    print(i)"
      ]
    },
    {
      "cell_type": "markdown",
      "metadata": {
        "id": "mI2wmtJFpC-E"
      },
      "source": [
        "### Count"
      ]
    },
    {
      "cell_type": "code",
      "execution_count": null,
      "metadata": {
        "id": "Z50RVBD4pC-E"
      },
      "outputs": [],
      "source": [
        "list10 =['one', 'two', 'three', 'four', 'one', 'one', 'two', 'three']"
      ]
    },
    {
      "cell_type": "code",
      "execution_count": null,
      "metadata": {
        "id": "Hq3qKRmRpC-F",
        "outputId": "7c4c6a8f-11ed-4e63-e308-4bba390848a1"
      },
      "outputs": [
        {
          "data": {
            "text/plain": [
              "3"
            ]
          },
          "execution_count": 486,
          "metadata": {},
          "output_type": "execute_result"
        }
      ],
      "source": [
        "list10.count('one') # Number of times item \"one\" occurred in the list."
      ]
    },
    {
      "cell_type": "code",
      "execution_count": null,
      "metadata": {
        "id": "AXh46luCpC-G",
        "outputId": "5a8e1983-2083-4ad4-bf1f-a3a6b1c5daee"
      },
      "outputs": [
        {
          "data": {
            "text/plain": [
              "2"
            ]
          },
          "execution_count": 487,
          "metadata": {},
          "output_type": "execute_result"
        }
      ],
      "source": [
        "list10.count('two') # Occurence of item 'two' in the list"
      ]
    },
    {
      "cell_type": "code",
      "execution_count": null,
      "metadata": {
        "id": "19iqBCdxpC-G",
        "outputId": "b1ba80aa-ffc2-4264-a0be-7fc4743112d2"
      },
      "outputs": [
        {
          "data": {
            "text/plain": [
              "1"
            ]
          },
          "execution_count": 489,
          "metadata": {},
          "output_type": "execute_result"
        }
      ],
      "source": [
        "list10.count('four') #Occurence of item 'four' in the list"
      ]
    },
    {
      "cell_type": "markdown",
      "metadata": {
        "id": "tXVV1wTMpC-H"
      },
      "source": [
        "### All / Any"
      ]
    },
    {
      "cell_type": "markdown",
      "metadata": {
        "id": "60qj3L9FpC-H"
      },
      "source": [
        "The __all()__ method returns:\n",
        "\n",
        "- __True__ - If all elements in a list are true\n",
        "- __False__ - If any element in a list is false\n",
        "\n",
        "\n",
        "The __any()__ function returns True if any element in the list is True. If not, any() returns False."
      ]
    },
    {
      "cell_type": "code",
      "execution_count": null,
      "metadata": {
        "id": "iEohvCbBpC-H"
      },
      "outputs": [],
      "source": [
        "L1 = [1,2,3,4,0]"
      ]
    },
    {
      "cell_type": "code",
      "execution_count": null,
      "metadata": {
        "id": "Tqoqq9MVpC-I",
        "outputId": "958e5c12-a81f-4677-c1b6-531697774709"
      },
      "outputs": [
        {
          "data": {
            "text/plain": [
              "False"
            ]
          },
          "execution_count": 817,
          "metadata": {},
          "output_type": "execute_result"
        }
      ],
      "source": [
        "all(L1) # Will Return false as one value is false (Value 0)"
      ]
    },
    {
      "cell_type": "code",
      "execution_count": null,
      "metadata": {
        "id": "SEdNJmzXpC-I",
        "outputId": "89598b72-13d0-4542-ca12-e377156730d6"
      },
      "outputs": [
        {
          "data": {
            "text/plain": [
              "True"
            ]
          },
          "execution_count": 818,
          "metadata": {},
          "output_type": "execute_result"
        }
      ],
      "source": [
        "any(L1)  # Will Return True as we have items in the list with True value"
      ]
    },
    {
      "cell_type": "code",
      "execution_count": null,
      "metadata": {
        "id": "y0gpg7NDpC-I"
      },
      "outputs": [],
      "source": [
        "L2 = [1,2,3,4,True,False]"
      ]
    },
    {
      "cell_type": "code",
      "execution_count": null,
      "metadata": {
        "id": "l0LRCTdFpC-J",
        "outputId": "7c3be666-c3a8-4e47-e918-e57f334a4159"
      },
      "outputs": [
        {
          "data": {
            "text/plain": [
              "False"
            ]
          },
          "execution_count": 820,
          "metadata": {},
          "output_type": "execute_result"
        }
      ],
      "source": [
        "all(L2) # Returns false as one value is false"
      ]
    },
    {
      "cell_type": "code",
      "execution_count": null,
      "metadata": {
        "id": "eX-jNy-wpC-J",
        "outputId": "ecdf0b32-6bfd-43da-a477-62ded56c9952"
      },
      "outputs": [
        {
          "data": {
            "text/plain": [
              "True"
            ]
          },
          "execution_count": 821,
          "metadata": {},
          "output_type": "execute_result"
        }
      ],
      "source": [
        "any(L2)  # Will Return True as we have items in the list with True value"
      ]
    },
    {
      "cell_type": "code",
      "execution_count": null,
      "metadata": {
        "id": "9hcVpjmmpC-J"
      },
      "outputs": [],
      "source": [
        "L3 = [1,2,3,True]"
      ]
    },
    {
      "cell_type": "code",
      "execution_count": null,
      "metadata": {
        "id": "1GDCeklvpC-K",
        "outputId": "2d2389fa-a057-4277-a8bf-5486b4247ff6"
      },
      "outputs": [
        {
          "data": {
            "text/plain": [
              "True"
            ]
          },
          "execution_count": 823,
          "metadata": {},
          "output_type": "execute_result"
        }
      ],
      "source": [
        "all(L3) # Will return True as all items in the list are True"
      ]
    },
    {
      "cell_type": "code",
      "execution_count": null,
      "metadata": {
        "id": "w8xoH66SpC-L",
        "outputId": "2945fb18-573d-4b2e-828e-8e2bda048929"
      },
      "outputs": [
        {
          "data": {
            "text/plain": [
              "True"
            ]
          },
          "execution_count": 824,
          "metadata": {},
          "output_type": "execute_result"
        }
      ],
      "source": [
        "any(L3) # Will Return True as we have items in the list with True value"
      ]
    },
    {
      "cell_type": "markdown",
      "metadata": {
        "id": "bQSivDfDpC-N"
      },
      "source": [
        "### List Comprehensions"
      ]
    },
    {
      "cell_type": "markdown",
      "metadata": {
        "id": "jdr845L3pC-N"
      },
      "source": [
        "- List Comprehensions provide an elegant way to create new lists.\n",
        "\n",
        "- It consists of brackets containing an expression followed by a for clause, then zero or more for or if clauses."
      ]
    },
    {
      "cell_type": "code",
      "execution_count": null,
      "metadata": {
        "id": "vYy6UC8bpC-O",
        "outputId": "eb97dff9-cf93-4981-8fbc-d66e9bf96795"
      },
      "outputs": [
        {
          "data": {
            "text/plain": [
              "['W', 'E', 'L', 'C', 'O', 'M', 'E']"
            ]
          },
          "execution_count": 287,
          "metadata": {},
          "output_type": "execute_result"
        }
      ],
      "source": [
        "mystring = \"WELCOME\"\n",
        "mylist = [ i for i in mystring ] # Iterating through a string Using List Comprehension\n",
        "mylist"
      ]
    },
    {
      "cell_type": "code",
      "execution_count": null,
      "metadata": {
        "id": "w4BKCjDdpC-O",
        "outputId": "8e0b1ca3-1c21-4570-bf3d-816462617344"
      },
      "outputs": [
        {
          "data": {
            "text/plain": [
              "[0, 2, 4, 6, 8, 10, 12, 14, 16, 18, 20, 22, 24, 26, 28, 30, 32, 34, 36, 38]"
            ]
          },
          "execution_count": 289,
          "metadata": {},
          "output_type": "execute_result"
        }
      ],
      "source": [
        "mylist1 = [ i for i in range(40) if i % 2 == 0] # Display all even numbers between 0 - 40 using List Comprehension\n",
        "mylist1"
      ]
    },
    {
      "cell_type": "code",
      "execution_count": null,
      "metadata": {
        "id": "tVW2EkzJpC-P",
        "outputId": "ca2ab5e0-e5c1-4ff2-a0ac-16223ebb4d42"
      },
      "outputs": [
        {
          "data": {
            "text/plain": [
              "[1, 3, 5, 7, 9, 11, 13, 15, 17, 19, 21, 23, 25, 27, 29, 31, 33, 35, 37, 39]"
            ]
          },
          "execution_count": 290,
          "metadata": {},
          "output_type": "execute_result"
        }
      ],
      "source": [
        "mylist2 = [ i for i in range(40) if i % 2 == 1] # Display all odd numbers between 0 - 40 using List Comprehension\n",
        "mylist2"
      ]
    },
    {
      "cell_type": "code",
      "execution_count": null,
      "metadata": {
        "id": "t5CSsy75pC-P",
        "outputId": "f768d55b-d7b3-4aed-e306-666147dea487"
      },
      "outputs": [
        {
          "data": {
            "text/plain": [
              "[0, 1, 4, 9, 16, 25, 36, 49, 64, 81]"
            ]
          },
          "execution_count": 325,
          "metadata": {},
          "output_type": "execute_result"
        }
      ],
      "source": [
        "mylist3 = [num**2 for num in range(10)] # calculate square of all numbers between 0 - 10 using List Comprehension\n",
        "mylist3"
      ]
    },
    {
      "cell_type": "markdown",
      "metadata": {
        "id": "5yQLEX6epC-Q"
      },
      "source": [
        "<img src=\"https://github.com/datasciencescoop/Python/blob/master/Lcomprehension.PNG?raw=1\">"
      ]
    },
    {
      "cell_type": "code",
      "execution_count": null,
      "metadata": {
        "id": "KaHy6Zw0pC-Q",
        "outputId": "bf7d5314-f739-4f7f-e582-7a2468ef1960"
      },
      "outputs": [
        {
          "data": {
            "text/plain": [
              "[20, 30, 40, 50, 60, 70, 80]"
            ]
          },
          "execution_count": 317,
          "metadata": {},
          "output_type": "execute_result"
        }
      ],
      "source": [
        "# Multiple whole list by 10\n",
        "list1 = [2,3,4,5,6,7,8]\n",
        "list1 = [i*10 for i in list1]\n",
        "list1"
      ]
    },
    {
      "cell_type": "code",
      "execution_count": null,
      "metadata": {
        "id": "XaobWcAXpC-S",
        "outputId": "016b117e-5f1b-498b-a7a7-76232f4018e6"
      },
      "outputs": [
        {
          "data": {
            "text/plain": [
              "[0, 36, 72, 108, 144, 180]"
            ]
          },
          "execution_count": 299,
          "metadata": {},
          "output_type": "execute_result"
        }
      ],
      "source": [
        "#List all numbers divisible by 3 , 9 & 12 using nested \"if\" with List Comprehension\n",
        "mylist4 = [i for i in range(200) if i % 3 == 0 if i % 9 == 0 if i % 12 == 0]\n",
        "mylist4"
      ]
    },
    {
      "cell_type": "code",
      "execution_count": null,
      "metadata": {
        "id": "p9DIVG74pC-T",
        "outputId": "e72e1519-4598-4be3-bc52-ae5ce70ef414"
      },
      "outputs": [
        {
          "name": "stdout",
          "output_type": "stream",
          "text": [
            "0 is Even Number\n",
            "1 is odd number\n",
            "2 is Even Number\n",
            "3 is odd number\n",
            "4 is Even Number\n",
            "5 is odd number\n",
            "6 is Even Number\n",
            "7 is odd number\n",
            "8 is Even Number\n",
            "9 is odd number\n"
          ]
        }
      ],
      "source": [
        "# Odd even test\n",
        "l1 = [print(\"{} is Even Number\".format(i)) if i%2==0 else print(\"{} is odd number\".format(i)) for i in range(10)]"
      ]
    },
    {
      "cell_type": "code",
      "execution_count": null,
      "metadata": {
        "id": "lodYJDQIpC-U",
        "outputId": "b1cbc81b-d5a6-4540-9484-1b4faf9d8682"
      },
      "outputs": [
        {
          "data": {
            "text/plain": [
              "['1', '2', '3', '4', '5', '6', '7', '8', '9']"
            ]
          },
          "execution_count": 315,
          "metadata": {},
          "output_type": "execute_result"
        }
      ],
      "source": [
        "# Extract numbers from a string\n",
        "mystr = \"One 1 two 2 three 3 four 4 five 5 six 6789\"\n",
        "numbers = [i for i in mystr if i.isdigit()]\n",
        "numbers"
      ]
    },
    {
      "cell_type": "code",
      "execution_count": null,
      "metadata": {
        "id": "kmHn0Z28pC-V",
        "outputId": "4b6fcda0-e09b-4621-9114-45632cb0fc01"
      },
      "outputs": [
        {
          "data": {
            "text/plain": [
              "['O',\n",
              " 'n',\n",
              " 'e',\n",
              " 't',\n",
              " 'w',\n",
              " 'o',\n",
              " 't',\n",
              " 'h',\n",
              " 'r',\n",
              " 'e',\n",
              " 'e',\n",
              " 'f',\n",
              " 'o',\n",
              " 'u',\n",
              " 'r',\n",
              " 'f',\n",
              " 'i',\n",
              " 'v',\n",
              " 'e',\n",
              " 's',\n",
              " 'i',\n",
              " 'x']"
            ]
          },
          "execution_count": 316,
          "metadata": {},
          "output_type": "execute_result"
        }
      ],
      "source": [
        "# Extract letters from a string\n",
        "\n",
        "mystr = \"One 1 two 2 three 3 four 4 five 5 six 6789\"\n",
        "numbers = [i for i in mystr if i.isalpha()]\n",
        "numbers"
      ]
    },
    {
      "cell_type": "code",
      "execution_count": null,
      "metadata": {
        "id": "WYBNSU6ipC-V",
        "outputId": "48a45dce-bdfd-445a-def5-4ea8853eeabe"
      },
      "outputs": [
        {
          "data": {
            "text/plain": [
              "['Extra Small', 'Small', 'Medium', 'Large', 'Extra Large']"
            ]
          },
          "execution_count": 1,
          "metadata": {},
          "output_type": "execute_result"
        }
      ],
      "source": [
        "# If else in List Comprehension\n",
        "list1 = ['XS' , 'S', 'M' , 'L' , 'XL']\n",
        "\n",
        "['Extra Small' if i =='XS' else ('Small' if i =='S' else ('Medium' if i =='M'\n",
        "                                                          else ('Large' if i=='L' else 'Extra Large')))  for i in list1]"
      ]
    },
    {
      "cell_type": "markdown",
      "metadata": {
        "id": "iXNVjztWpC-W"
      },
      "source": [
        "# Tuples"
      ]
    },
    {
      "cell_type": "markdown",
      "metadata": {
        "id": "9AzK10zTpC-W"
      },
      "source": [
        "1. Tuple is similar to List except that the objects in tuple are immutable which means we cannot change the elements of a tuple once assigned.\n",
        "\n",
        "2. When we do not want to change the data over time, tuple is a preferred data type.\n",
        "\n",
        "3. Iterating over the elements of a tuple is faster compared to iterating over a list."
      ]
    },
    {
      "cell_type": "markdown",
      "metadata": {
        "id": "OjUVsAGepC-X"
      },
      "source": [
        "### Tuple Creation"
      ]
    },
    {
      "cell_type": "code",
      "execution_count": null,
      "metadata": {
        "id": "f5Weq5REpC-X"
      },
      "outputs": [],
      "source": [
        "tup1 = ()      # Empty tuple"
      ]
    },
    {
      "cell_type": "code",
      "execution_count": null,
      "metadata": {
        "id": "9VjSppVcpC-X"
      },
      "outputs": [],
      "source": [
        "tup2 = (10,30,60)      # tuple of integers numbers"
      ]
    },
    {
      "cell_type": "code",
      "execution_count": null,
      "metadata": {
        "id": "gm4jciGmpC-Y"
      },
      "outputs": [],
      "source": [
        "tup3 = (10.77,30.66,60.89)       # tuple of float numbers"
      ]
    },
    {
      "cell_type": "code",
      "execution_count": null,
      "metadata": {
        "id": "RlgGOGTkpC-Y"
      },
      "outputs": [],
      "source": [
        "tup4 = ('one','two' , \"three\")   # tuple of strings"
      ]
    },
    {
      "cell_type": "code",
      "execution_count": null,
      "metadata": {
        "id": "B7NTcTO3pC-Y"
      },
      "outputs": [],
      "source": [
        "tup5 = ('Asif', 25 ,(50, 100),(150, 90))   # Nested tuples"
      ]
    },
    {
      "cell_type": "code",
      "execution_count": null,
      "metadata": {
        "id": "ZpnC4JVEpC-Z"
      },
      "outputs": [],
      "source": [
        "tup6 = (100, 'Asif', 17.765)   # Tuple of mixed data types"
      ]
    },
    {
      "cell_type": "code",
      "execution_count": null,
      "metadata": {
        "id": "8JuFjc_vpC-Z"
      },
      "outputs": [],
      "source": [
        "tup7 = ('Asif', 25 ,[50, 100],[150, 90] , {'John' , 'David'} , (99,22,33))"
      ]
    },
    {
      "cell_type": "code",
      "execution_count": null,
      "metadata": {
        "id": "MGcZ-1_cpC-a",
        "outputId": "9706df3b-b0cc-4005-ea1d-fb517d3b16fd"
      },
      "outputs": [
        {
          "data": {
            "text/plain": [
              "6"
            ]
          },
          "execution_count": 540,
          "metadata": {},
          "output_type": "execute_result"
        }
      ],
      "source": [
        "len(tup7) #Length of list"
      ]
    },
    {
      "cell_type": "markdown",
      "metadata": {
        "id": "pJb3-u7CpC-a"
      },
      "source": [
        "### Tuple Indexing"
      ]
    },
    {
      "cell_type": "code",
      "execution_count": null,
      "metadata": {
        "id": "B4jqPq6vpC-b",
        "outputId": "c6fad9f9-b116-4e89-e603-b46f963833b5"
      },
      "outputs": [
        {
          "data": {
            "text/plain": [
              "10"
            ]
          },
          "execution_count": 541,
          "metadata": {},
          "output_type": "execute_result"
        }
      ],
      "source": [
        "tup2[0] # Retreive first element of the tuple"
      ]
    },
    {
      "cell_type": "code",
      "execution_count": null,
      "metadata": {
        "id": "MeBaEX0dpC-b",
        "outputId": "7d75a6b0-7910-4ff1-acab-2d59661e32f2"
      },
      "outputs": [
        {
          "data": {
            "text/plain": [
              "'one'"
            ]
          },
          "execution_count": 542,
          "metadata": {},
          "output_type": "execute_result"
        }
      ],
      "source": [
        "tup4[0] # Retreive first element of the tuple"
      ]
    },
    {
      "cell_type": "code",
      "execution_count": null,
      "metadata": {
        "id": "f6ohjD0dpC-c",
        "outputId": "a8541ef9-2b88-4fc0-fecd-bd142576e0e4"
      },
      "outputs": [
        {
          "data": {
            "text/plain": [
              "'o'"
            ]
          },
          "execution_count": 543,
          "metadata": {},
          "output_type": "execute_result"
        }
      ],
      "source": [
        "tup4[0][0] # Nested indexing - Access the first character of the first tuple element"
      ]
    },
    {
      "cell_type": "code",
      "execution_count": null,
      "metadata": {
        "id": "39ZOkvJipC-d",
        "outputId": "ea156c22-8d87-4d75-bfc4-59dc0ac889d7"
      },
      "outputs": [
        {
          "data": {
            "text/plain": [
              "'three'"
            ]
          },
          "execution_count": 544,
          "metadata": {},
          "output_type": "execute_result"
        }
      ],
      "source": [
        "tup4[-1] # Last item of the tuple"
      ]
    },
    {
      "cell_type": "code",
      "execution_count": null,
      "metadata": {
        "id": "4K8sBH1CpC-d",
        "outputId": "616e2a7b-5ef4-4411-b4cc-a94083cae0af"
      },
      "outputs": [
        {
          "data": {
            "text/plain": [
              "(150, 90)"
            ]
          },
          "execution_count": 545,
          "metadata": {},
          "output_type": "execute_result"
        }
      ],
      "source": [
        "tup5[-1]  # Last item of the tuple"
      ]
    },
    {
      "cell_type": "markdown",
      "metadata": {
        "id": "Xmh9aXaBpC-e"
      },
      "source": [
        "### Tuple Slicing"
      ]
    },
    {
      "cell_type": "code",
      "execution_count": null,
      "metadata": {
        "id": "MhOyVBEKpC-e"
      },
      "outputs": [],
      "source": [
        "mytuple = ('one' , 'two' , 'three' , 'four' , 'five' , 'six' , 'seven' , 'eight')"
      ]
    },
    {
      "cell_type": "code",
      "execution_count": null,
      "metadata": {
        "id": "YV4ZzYa5pC-f",
        "outputId": "409feaed-3bab-47de-9791-a8c11e120e5a"
      },
      "outputs": [
        {
          "data": {
            "text/plain": [
              "('one', 'two', 'three')"
            ]
          },
          "execution_count": 547,
          "metadata": {},
          "output_type": "execute_result"
        }
      ],
      "source": [
        "mytuple[0:3] # Return all items from 0th to 3rd index location excluding the item at loc 3."
      ]
    },
    {
      "cell_type": "code",
      "execution_count": null,
      "metadata": {
        "id": "wqh25lKUpC-f",
        "outputId": "ed15f16d-743a-48bf-f7fd-3c68d2449ac6"
      },
      "outputs": [
        {
          "data": {
            "text/plain": [
              "('three', 'four', 'five')"
            ]
          },
          "execution_count": 548,
          "metadata": {},
          "output_type": "execute_result"
        }
      ],
      "source": [
        "mytuple[2:5] # List all items from 2nd to 5th index location excluding the item at loc 5."
      ]
    },
    {
      "cell_type": "code",
      "execution_count": null,
      "metadata": {
        "id": "j1_7irwzpC-g",
        "outputId": "e7607823-a669-4b90-fbed-89919dfd1a53"
      },
      "outputs": [
        {
          "data": {
            "text/plain": [
              "('one', 'two', 'three')"
            ]
          },
          "execution_count": 549,
          "metadata": {},
          "output_type": "execute_result"
        }
      ],
      "source": [
        "mytuple[:3] # Return first three items"
      ]
    },
    {
      "cell_type": "code",
      "execution_count": null,
      "metadata": {
        "id": "vkcOxjGFpC-h",
        "outputId": "09454a75-8ec7-40d9-b0ee-bd5a36e598b2"
      },
      "outputs": [
        {
          "data": {
            "text/plain": [
              "('one', 'two')"
            ]
          },
          "execution_count": 550,
          "metadata": {},
          "output_type": "execute_result"
        }
      ],
      "source": [
        "mytuple[:2]  # Return first two items"
      ]
    },
    {
      "cell_type": "code",
      "execution_count": null,
      "metadata": {
        "id": "jrCTZDGEpC-h",
        "outputId": "72886f9a-065f-4d31-cf83-e892ec147376"
      },
      "outputs": [
        {
          "data": {
            "text/plain": [
              "('six', 'seven', 'eight')"
            ]
          },
          "execution_count": 551,
          "metadata": {},
          "output_type": "execute_result"
        }
      ],
      "source": [
        "mytuple[-3:] # Return last three items"
      ]
    },
    {
      "cell_type": "code",
      "execution_count": null,
      "metadata": {
        "id": "KiMyVhvkpC-i",
        "outputId": "e3863762-0d81-4af1-f7b6-f08e2d2ccf12"
      },
      "outputs": [
        {
          "data": {
            "text/plain": [
              "('seven', 'eight')"
            ]
          },
          "execution_count": 552,
          "metadata": {},
          "output_type": "execute_result"
        }
      ],
      "source": [
        "mytuple[-2:] # Return last two items"
      ]
    },
    {
      "cell_type": "code",
      "execution_count": null,
      "metadata": {
        "id": "hp21NX_XpC-i",
        "outputId": "9038e20b-856e-4bde-912e-5348588c64f6"
      },
      "outputs": [
        {
          "data": {
            "text/plain": [
              "'eight'"
            ]
          },
          "execution_count": 553,
          "metadata": {},
          "output_type": "execute_result"
        }
      ],
      "source": [
        "mytuple[-1] # Return last item of the tuple"
      ]
    },
    {
      "cell_type": "code",
      "execution_count": null,
      "metadata": {
        "id": "4iLJc22jpC-k",
        "outputId": "7960cdaf-a497-49b4-d6d3-2d18831f322a"
      },
      "outputs": [
        {
          "data": {
            "text/plain": [
              "('one', 'two', 'three', 'four', 'five', 'six', 'seven', 'eight')"
            ]
          },
          "execution_count": 554,
          "metadata": {},
          "output_type": "execute_result"
        }
      ],
      "source": [
        "mytuple[:] # Return whole tuple"
      ]
    },
    {
      "cell_type": "markdown",
      "metadata": {
        "id": "hyDdcSLApC-k"
      },
      "source": [
        "### Remove & Change Items"
      ]
    },
    {
      "cell_type": "code",
      "execution_count": null,
      "metadata": {
        "id": "L3ilyDuypC-l",
        "outputId": "c2d6f0fc-6e40-4662-dc2b-1e15ab839100"
      },
      "outputs": [
        {
          "data": {
            "text/plain": [
              "('one', 'two', 'three', 'four', 'five', 'six', 'seven', 'eight')"
            ]
          },
          "execution_count": 555,
          "metadata": {},
          "output_type": "execute_result"
        }
      ],
      "source": [
        "mytuple"
      ]
    },
    {
      "cell_type": "code",
      "execution_count": null,
      "metadata": {
        "id": "Qp5xkudUpC-l",
        "outputId": "9b0780d1-1c05-422f-9190-3666f4759c90"
      },
      "outputs": [
        {
          "ename": "TypeError",
          "evalue": "'tuple' object doesn't support item deletion",
          "output_type": "error",
          "traceback": [
            "\u001b[1;31m---------------------------------------------------------------------------\u001b[0m",
            "\u001b[1;31mTypeError\u001b[0m                                 Traceback (most recent call last)",
            "\u001b[1;32m<ipython-input-556-667a276aa503>\u001b[0m in \u001b[0;36m<module>\u001b[1;34m\u001b[0m\n\u001b[1;32m----> 1\u001b[1;33m \u001b[1;32mdel\u001b[0m \u001b[0mmytuple\u001b[0m\u001b[1;33m[\u001b[0m\u001b[1;36m0\u001b[0m\u001b[1;33m]\u001b[0m\u001b[1;33m\u001b[0m\u001b[1;33m\u001b[0m\u001b[0m\n\u001b[0m",
            "\u001b[1;31mTypeError\u001b[0m: 'tuple' object doesn't support item deletion"
          ]
        }
      ],
      "source": [
        "del mytuple[0] # Tuples are immutable which means we can't DELETE tuple items"
      ]
    },
    {
      "cell_type": "code",
      "execution_count": null,
      "metadata": {
        "id": "mEh1a3zppC-m",
        "outputId": "1e90229f-b5cc-4775-9fa5-16bb9d2608ed"
      },
      "outputs": [
        {
          "ename": "TypeError",
          "evalue": "'tuple' object does not support item assignment",
          "output_type": "error",
          "traceback": [
            "\u001b[1;31m---------------------------------------------------------------------------\u001b[0m",
            "\u001b[1;31mTypeError\u001b[0m                                 Traceback (most recent call last)",
            "\u001b[1;32m<ipython-input-557-4cf492702bfd>\u001b[0m in \u001b[0;36m<module>\u001b[1;34m\u001b[0m\n\u001b[1;32m----> 1\u001b[1;33m \u001b[0mmytuple\u001b[0m\u001b[1;33m[\u001b[0m\u001b[1;36m0\u001b[0m\u001b[1;33m]\u001b[0m \u001b[1;33m=\u001b[0m \u001b[1;36m1\u001b[0m\u001b[1;33m\u001b[0m\u001b[1;33m\u001b[0m\u001b[0m\n\u001b[0m",
            "\u001b[1;31mTypeError\u001b[0m: 'tuple' object does not support item assignment"
          ]
        }
      ],
      "source": [
        "mytuple[0] = 1 # Tuples are immutable which means we can't CHANGE tuple items"
      ]
    },
    {
      "cell_type": "code",
      "execution_count": null,
      "metadata": {
        "id": "TiIH7DOrpC-m"
      },
      "outputs": [],
      "source": [
        "del mytuple # Deleting entire tuple object is possible"
      ]
    },
    {
      "cell_type": "markdown",
      "metadata": {
        "id": "Ay7cGQtjpC-m"
      },
      "source": [
        "### Loop through a tuple"
      ]
    },
    {
      "cell_type": "code",
      "execution_count": null,
      "metadata": {
        "id": "Yez9DFVJpC-m",
        "outputId": "16bd6614-f12f-4095-de06-8e553b4dc2a6"
      },
      "outputs": [
        {
          "data": {
            "text/plain": [
              "('one', 'two', 'three', 'four', 'five', 'six', 'seven', 'eight')"
            ]
          },
          "execution_count": 570,
          "metadata": {},
          "output_type": "execute_result"
        }
      ],
      "source": [
        "mytuple"
      ]
    },
    {
      "cell_type": "code",
      "execution_count": null,
      "metadata": {
        "id": "hAJuV2f9pC-n",
        "outputId": "a611a7b4-3a32-468f-b1bb-1573da5d2cbe"
      },
      "outputs": [
        {
          "name": "stdout",
          "output_type": "stream",
          "text": [
            "one\n",
            "two\n",
            "three\n",
            "four\n",
            "five\n",
            "six\n",
            "seven\n",
            "eight\n"
          ]
        }
      ],
      "source": [
        "for i in mytuple:\n",
        "    print(i)"
      ]
    },
    {
      "cell_type": "code",
      "execution_count": null,
      "metadata": {
        "id": "P0t8d2R_pC-o",
        "outputId": "c505a73b-3758-448b-ef17-d5de97fbbe17"
      },
      "outputs": [
        {
          "name": "stdout",
          "output_type": "stream",
          "text": [
            "(0, 'one')\n",
            "(1, 'two')\n",
            "(2, 'three')\n",
            "(3, 'four')\n",
            "(4, 'five')\n",
            "(5, 'six')\n",
            "(6, 'seven')\n",
            "(7, 'eight')\n"
          ]
        }
      ],
      "source": [
        "for i in enumerate(mytuple):\n",
        "    print(i)"
      ]
    },
    {
      "cell_type": "markdown",
      "metadata": {
        "id": "VPDF54ePpC-o"
      },
      "source": [
        "### Count"
      ]
    },
    {
      "cell_type": "code",
      "execution_count": null,
      "metadata": {
        "id": "-WeyQ2p_pC-p"
      },
      "outputs": [],
      "source": [
        "mytuple1 =('one', 'two', 'three', 'four', 'one', 'one', 'two', 'three')"
      ]
    },
    {
      "cell_type": "code",
      "execution_count": null,
      "metadata": {
        "id": "xVXqcoCUpC-p",
        "outputId": "321aa15d-e6ae-4fd0-b368-bbd04b0e5766"
      },
      "outputs": [
        {
          "data": {
            "text/plain": [
              "3"
            ]
          },
          "execution_count": 574,
          "metadata": {},
          "output_type": "execute_result"
        }
      ],
      "source": [
        "mytuple1.count('one') # Number of times item \"one\" occurred in the tuple."
      ]
    },
    {
      "cell_type": "code",
      "execution_count": null,
      "metadata": {
        "id": "C1SXgOPKpC-q",
        "outputId": "8ac6a8e0-6a64-47ea-d9e0-26d6c2a8c97d"
      },
      "outputs": [
        {
          "data": {
            "text/plain": [
              "2"
            ]
          },
          "execution_count": 575,
          "metadata": {},
          "output_type": "execute_result"
        }
      ],
      "source": [
        "mytuple1.count('two') # Occurence of item 'two' in the tuple"
      ]
    },
    {
      "cell_type": "code",
      "execution_count": null,
      "metadata": {
        "id": "RJhwYoiqpC-r",
        "outputId": "23b9d898-c5fd-4264-85ab-2a6708eba9c0"
      },
      "outputs": [
        {
          "data": {
            "text/plain": [
              "1"
            ]
          },
          "execution_count": 576,
          "metadata": {},
          "output_type": "execute_result"
        }
      ],
      "source": [
        "mytuple1.count('four') #Occurence of item 'four' in the tuple"
      ]
    },
    {
      "cell_type": "markdown",
      "metadata": {
        "id": "rEp7pwS_pC-s"
      },
      "source": [
        "### Tuple Membership"
      ]
    },
    {
      "cell_type": "code",
      "execution_count": null,
      "metadata": {
        "id": "wMZtNDSDpC-s",
        "outputId": "97109980-5cba-4061-eff2-ece219a8e387"
      },
      "outputs": [
        {
          "data": {
            "text/plain": [
              "('one', 'two', 'three', 'four', 'five', 'six', 'seven', 'eight')"
            ]
          },
          "execution_count": 577,
          "metadata": {},
          "output_type": "execute_result"
        }
      ],
      "source": [
        "mytuple"
      ]
    },
    {
      "cell_type": "code",
      "execution_count": null,
      "metadata": {
        "id": "ZZTbEoXvpC-s",
        "outputId": "2f0cf2fa-fdf7-40cd-9d19-d2a4c371cb16"
      },
      "outputs": [
        {
          "data": {
            "text/plain": [
              "True"
            ]
          },
          "execution_count": 578,
          "metadata": {},
          "output_type": "execute_result"
        }
      ],
      "source": [
        "'one' in mytuple # Check if 'one' exist in the list"
      ]
    },
    {
      "cell_type": "code",
      "execution_count": null,
      "metadata": {
        "id": "7CyQ_-Y-pC-t",
        "outputId": "1232c5b7-5273-45db-9e6b-91a124e0975f"
      },
      "outputs": [
        {
          "data": {
            "text/plain": [
              "False"
            ]
          },
          "execution_count": 579,
          "metadata": {},
          "output_type": "execute_result"
        }
      ],
      "source": [
        "'ten' in mytuple # Check if 'ten' exist in the list"
      ]
    },
    {
      "cell_type": "code",
      "execution_count": null,
      "metadata": {
        "id": "kJnuvHuBpC-u",
        "outputId": "116905dd-64d7-4df4-98a2-0e34b88a1990"
      },
      "outputs": [
        {
          "name": "stdout",
          "output_type": "stream",
          "text": [
            "Three is present in the tuple\n"
          ]
        }
      ],
      "source": [
        "if 'three' in mytuple: # Check if 'three' exist in the list\n",
        "    print('Three is present in the tuple')\n",
        "else:\n",
        "    print('Three is not present in the tuple')"
      ]
    },
    {
      "cell_type": "code",
      "execution_count": null,
      "metadata": {
        "id": "_IEhE6zzpC-w",
        "outputId": "6360d1a0-07bf-40c2-aee3-03acd5a87f3b"
      },
      "outputs": [
        {
          "name": "stdout",
          "output_type": "stream",
          "text": [
            "eleven is not present in the tuple\n"
          ]
        }
      ],
      "source": [
        "if 'eleven' in mytuple:  # Check if 'eleven' exist in the list\n",
        "    print('eleven is present in the tuple')\n",
        "else:\n",
        "    print('eleven is not present in the tuple')"
      ]
    },
    {
      "cell_type": "markdown",
      "metadata": {
        "id": "KB8kCy90pC-x"
      },
      "source": [
        "### Index Position"
      ]
    },
    {
      "cell_type": "code",
      "execution_count": null,
      "metadata": {
        "id": "MH_pFvCnpC-x",
        "outputId": "dbf74a1b-1cef-4ba8-dd95-0e4b0ec80f3a"
      },
      "outputs": [
        {
          "data": {
            "text/plain": [
              "('one', 'two', 'three', 'four', 'five', 'six', 'seven', 'eight')"
            ]
          },
          "execution_count": 586,
          "metadata": {},
          "output_type": "execute_result"
        }
      ],
      "source": [
        "mytuple"
      ]
    },
    {
      "cell_type": "code",
      "execution_count": null,
      "metadata": {
        "id": "nug55r_wpC-y",
        "outputId": "935d6b87-9613-4c83-f259-64d2c1145a6e"
      },
      "outputs": [
        {
          "data": {
            "text/plain": [
              "0"
            ]
          },
          "execution_count": 587,
          "metadata": {},
          "output_type": "execute_result"
        }
      ],
      "source": [
        "mytuple.index('one') # Index of first element equal to 'one'"
      ]
    },
    {
      "cell_type": "code",
      "execution_count": null,
      "metadata": {
        "id": "3VV-IIdSpC-0",
        "outputId": "2e7a0472-f17b-4fa9-9b3b-fe483de17f05"
      },
      "outputs": [
        {
          "data": {
            "text/plain": [
              "4"
            ]
          },
          "execution_count": 590,
          "metadata": {},
          "output_type": "execute_result"
        }
      ],
      "source": [
        "mytuple.index('five') # Index of first element equal to 'five'"
      ]
    },
    {
      "cell_type": "code",
      "execution_count": null,
      "metadata": {
        "id": "tlZ29NFYpC-0",
        "outputId": "9569466a-d6a8-4e82-9e9c-e80083f43b72"
      },
      "outputs": [
        {
          "data": {
            "text/plain": [
              "('one', 'two', 'three', 'four', 'one', 'one', 'two', 'three')"
            ]
          },
          "execution_count": 591,
          "metadata": {},
          "output_type": "execute_result"
        }
      ],
      "source": [
        "mytuple1"
      ]
    },
    {
      "cell_type": "code",
      "execution_count": null,
      "metadata": {
        "id": "VwsAlc5SpC-1",
        "outputId": "39128192-ed36-408d-b410-678a6e14e80b"
      },
      "outputs": [
        {
          "data": {
            "text/plain": [
              "0"
            ]
          },
          "execution_count": 593,
          "metadata": {},
          "output_type": "execute_result"
        }
      ],
      "source": [
        "mytuple1.index('one') # Index of first element equal to 'one'"
      ]
    },
    {
      "cell_type": "markdown",
      "metadata": {
        "id": "VR0iS1c4pC-2"
      },
      "source": [
        "### Sorting"
      ]
    },
    {
      "cell_type": "code",
      "execution_count": null,
      "metadata": {
        "id": "7Hua6bvEpC-2"
      },
      "outputs": [],
      "source": [
        "mytuple2 = (43,67,99,12,6,90,67)"
      ]
    },
    {
      "cell_type": "code",
      "execution_count": null,
      "metadata": {
        "id": "WtgC3UAbpC-3",
        "outputId": "33c4f1f7-6100-43b3-ba27-72480a64c92b"
      },
      "outputs": [
        {
          "data": {
            "text/plain": [
              "[6, 12, 43, 67, 67, 90, 99]"
            ]
          },
          "execution_count": 595,
          "metadata": {},
          "output_type": "execute_result"
        }
      ],
      "source": [
        "sorted(mytuple2)  # Returns a new sorted list and doesn't change original tuple"
      ]
    },
    {
      "cell_type": "code",
      "execution_count": null,
      "metadata": {
        "id": "hHUFqXZ_pC-4",
        "outputId": "896328b2-78b6-4248-f650-798b6c9c543f"
      },
      "outputs": [
        {
          "data": {
            "text/plain": [
              "[99, 90, 67, 67, 43, 12, 6]"
            ]
          },
          "execution_count": 596,
          "metadata": {},
          "output_type": "execute_result"
        }
      ],
      "source": [
        "sorted(mytuple2, reverse=True) # Sort in descending order"
      ]
    },
    {
      "cell_type": "markdown",
      "metadata": {
        "id": "3ULK5t26pC-4"
      },
      "source": [
        "# Sets"
      ]
    },
    {
      "cell_type": "markdown",
      "metadata": {
        "id": "cc_1YZLppC-4"
      },
      "source": [
        "1) Unordered & Unindexed collection of items.\n",
        "\n",
        "2) Set elements are unique. Duplicate elements are not allowed.\n",
        "\n",
        "3) Set elements are immutable (cannot be changed).\n",
        "\n",
        "4) Set itself is mutable. We can add or remove items from it."
      ]
    },
    {
      "cell_type": "markdown",
      "metadata": {
        "id": "WxdW2HUspC-5"
      },
      "source": [
        "### Set Creation"
      ]
    },
    {
      "cell_type": "code",
      "execution_count": null,
      "metadata": {
        "id": "iP9ZGl3QpC-5",
        "outputId": "a571a011-2133-487b-f71f-2680f43aa989"
      },
      "outputs": [
        {
          "data": {
            "text/plain": [
              "{1, 2, 3, 4, 5}"
            ]
          },
          "execution_count": 634,
          "metadata": {},
          "output_type": "execute_result"
        }
      ],
      "source": [
        "myset = {1,2,3,4,5} # Set of numbers\n",
        "myset"
      ]
    },
    {
      "cell_type": "code",
      "execution_count": null,
      "metadata": {
        "id": "rbExMM2EpC-6",
        "outputId": "5baca2df-28a1-46fb-83d2-9f10fe8f219c"
      },
      "outputs": [
        {
          "data": {
            "text/plain": [
              "5"
            ]
          },
          "execution_count": 635,
          "metadata": {},
          "output_type": "execute_result"
        }
      ],
      "source": [
        "len(myset) #Length of the set"
      ]
    },
    {
      "cell_type": "code",
      "execution_count": null,
      "metadata": {
        "id": "kB55OP_fpC-7",
        "outputId": "fd2283de-0f93-47e0-b830-93ea4d9eb009"
      },
      "outputs": [
        {
          "data": {
            "text/plain": [
              "{1, 2, 3, 4, 5}"
            ]
          },
          "execution_count": 636,
          "metadata": {},
          "output_type": "execute_result"
        }
      ],
      "source": [
        "my_set = {1,1,2,2,3,4,5,5}\n",
        "my_set                    # Duplicate elements are not allowed."
      ]
    },
    {
      "cell_type": "code",
      "execution_count": null,
      "metadata": {
        "id": "Ya0YRYL2pC-7",
        "outputId": "8089c38e-0845-47ce-d63e-ab68a69411e1"
      },
      "outputs": [
        {
          "data": {
            "text/plain": [
              "{1.79, 2.08, 3.99, 4.56, 5.45}"
            ]
          },
          "execution_count": 637,
          "metadata": {},
          "output_type": "execute_result"
        }
      ],
      "source": [
        "myset1 = {1.79,2.08,3.99,4.56,5.45} # Set of float numbers\n",
        "myset1"
      ]
    },
    {
      "cell_type": "code",
      "execution_count": null,
      "metadata": {
        "id": "W6opkDYDpC-8",
        "outputId": "66c36ce3-cc14-4acf-862b-284eefead6c4"
      },
      "outputs": [
        {
          "data": {
            "text/plain": [
              "{'Asif', 'John', 'Tyrion'}"
            ]
          },
          "execution_count": 638,
          "metadata": {},
          "output_type": "execute_result"
        }
      ],
      "source": [
        "myset2 = {'Asif' , 'John' , 'Tyrion'} # Set of Strings\n",
        "myset2"
      ]
    },
    {
      "cell_type": "code",
      "execution_count": null,
      "metadata": {
        "id": "AoMUuldPpC--",
        "outputId": "31c68869-1130-459c-d273-42b3768f5511"
      },
      "outputs": [
        {
          "data": {
            "text/plain": [
              "{(11, 22, 32), 10, 20, 'Hola'}"
            ]
          },
          "execution_count": 639,
          "metadata": {},
          "output_type": "execute_result"
        }
      ],
      "source": [
        "myset3 = {10,20, \"Hola\", (11, 22, 32)} # Mixed datatypes\n",
        "myset3"
      ]
    },
    {
      "cell_type": "code",
      "execution_count": null,
      "metadata": {
        "id": "_AIh6TKopC-_",
        "outputId": "d4a0aee2-b146-49ee-88b1-09c07a90f894"
      },
      "outputs": [
        {
          "ename": "TypeError",
          "evalue": "unhashable type: 'list'",
          "output_type": "error",
          "traceback": [
            "\u001b[1;31m---------------------------------------------------------------------------\u001b[0m",
            "\u001b[1;31mTypeError\u001b[0m                                 Traceback (most recent call last)",
            "\u001b[1;32m<ipython-input-640-d23fdc3a319e>\u001b[0m in \u001b[0;36m<module>\u001b[1;34m\u001b[0m\n\u001b[1;32m----> 1\u001b[1;33m \u001b[0mmyset3\u001b[0m \u001b[1;33m=\u001b[0m \u001b[1;33m{\u001b[0m\u001b[1;36m10\u001b[0m\u001b[1;33m,\u001b[0m\u001b[1;36m20\u001b[0m\u001b[1;33m,\u001b[0m \u001b[1;34m\"Hola\"\u001b[0m\u001b[1;33m,\u001b[0m \u001b[1;33m[\u001b[0m\u001b[1;36m11\u001b[0m\u001b[1;33m,\u001b[0m \u001b[1;36m22\u001b[0m\u001b[1;33m,\u001b[0m \u001b[1;36m32\u001b[0m\u001b[1;33m]\u001b[0m\u001b[1;33m}\u001b[0m \u001b[1;31m# set doesn't allow mutable items like lists\u001b[0m\u001b[1;33m\u001b[0m\u001b[1;33m\u001b[0m\u001b[0m\n\u001b[0m\u001b[0;32m      2\u001b[0m \u001b[0mmyset3\u001b[0m\u001b[1;33m\u001b[0m\u001b[1;33m\u001b[0m\u001b[0m\n",
            "\u001b[1;31mTypeError\u001b[0m: unhashable type: 'list'"
          ]
        }
      ],
      "source": [
        "myset3 = {10,20, \"Hola\", [11, 22, 32]} # set doesn't allow mutable items like lists\n",
        "myset3"
      ]
    },
    {
      "cell_type": "code",
      "execution_count": null,
      "metadata": {
        "id": "eiUqLgrtpC-_",
        "outputId": "61883975-fc9d-485b-c423-056a23a46346"
      },
      "outputs": [
        {
          "name": "stdout",
          "output_type": "stream",
          "text": [
            "<class 'set'>\n"
          ]
        }
      ],
      "source": [
        "myset4 = set() # Create an empty set\n",
        "print(type(myset4))"
      ]
    },
    {
      "cell_type": "code",
      "execution_count": null,
      "metadata": {
        "id": "XQRBuIJjpC_A",
        "outputId": "e93d1669-ba13-4da4-9e8e-8649238cde5f"
      },
      "outputs": [
        {
          "data": {
            "text/plain": [
              "{'four', 'one', 'three', 'two'}"
            ]
          },
          "execution_count": 673,
          "metadata": {},
          "output_type": "execute_result"
        }
      ],
      "source": [
        "my_set1 = set(('one' , 'two' , 'three' , 'four'))\n",
        "my_set1"
      ]
    },
    {
      "cell_type": "markdown",
      "metadata": {
        "id": "StMWcWiXpC_A"
      },
      "source": [
        "### Loop through a Set"
      ]
    },
    {
      "cell_type": "code",
      "execution_count": null,
      "metadata": {
        "id": "g4lxsvWcpC_B",
        "outputId": "5e8522b6-1a00-4708-c523-943d87df39eb"
      },
      "outputs": [
        {
          "name": "stdout",
          "output_type": "stream",
          "text": [
            "eight\n",
            "one\n",
            "seven\n",
            "three\n",
            "five\n",
            "two\n",
            "six\n",
            "four\n"
          ]
        }
      ],
      "source": [
        "myset = {'one', 'two', 'three', 'four', 'five', 'six', 'seven', 'eight'}\n",
        "\n",
        "for i in myset:\n",
        "    print(i)"
      ]
    },
    {
      "cell_type": "code",
      "execution_count": null,
      "metadata": {
        "id": "Js0geB1ipC_C",
        "outputId": "2b3bb82c-fec7-4ae1-db6e-cb7ea0cf52b6"
      },
      "outputs": [
        {
          "name": "stdout",
          "output_type": "stream",
          "text": [
            "(0, 'eight')\n",
            "(1, 'one')\n",
            "(2, 'seven')\n",
            "(3, 'three')\n",
            "(4, 'five')\n",
            "(5, 'two')\n",
            "(6, 'six')\n",
            "(7, 'four')\n"
          ]
        }
      ],
      "source": [
        "for i in enumerate(myset):\n",
        "    print(i)"
      ]
    },
    {
      "cell_type": "markdown",
      "metadata": {
        "id": "SN4XccHopC_D"
      },
      "source": [
        "### Set Membership"
      ]
    },
    {
      "cell_type": "code",
      "execution_count": null,
      "metadata": {
        "id": "z2KxvOaepC_E",
        "outputId": "de72a8f2-1962-4207-aec7-7551c094acc9"
      },
      "outputs": [
        {
          "data": {
            "text/plain": [
              "{'eight', 'five', 'four', 'one', 'seven', 'six', 'three', 'two'}"
            ]
          },
          "execution_count": 675,
          "metadata": {},
          "output_type": "execute_result"
        }
      ],
      "source": [
        "myset"
      ]
    },
    {
      "cell_type": "code",
      "execution_count": null,
      "metadata": {
        "id": "9Swe5dbfpC_E",
        "outputId": "dfc100f4-d310-4ebe-fae1-f470891ccf29"
      },
      "outputs": [
        {
          "data": {
            "text/plain": [
              "True"
            ]
          },
          "execution_count": 676,
          "metadata": {},
          "output_type": "execute_result"
        }
      ],
      "source": [
        "'one' in myset # Check if 'one' exist in the set"
      ]
    },
    {
      "cell_type": "code",
      "execution_count": null,
      "metadata": {
        "id": "KMWZlSthpC_F",
        "outputId": "944d2e37-ce29-422f-cfa2-4f9086af3b79"
      },
      "outputs": [
        {
          "data": {
            "text/plain": [
              "False"
            ]
          },
          "execution_count": 677,
          "metadata": {},
          "output_type": "execute_result"
        }
      ],
      "source": [
        "'ten' in myset # Check if 'ten' exist in the set"
      ]
    },
    {
      "cell_type": "code",
      "execution_count": null,
      "metadata": {
        "id": "X3v4fwZXpC_F",
        "outputId": "90bf5d69-0c4a-4336-9108-e2b77304cf43"
      },
      "outputs": [
        {
          "name": "stdout",
          "output_type": "stream",
          "text": [
            "Three is present in the set\n"
          ]
        }
      ],
      "source": [
        "if 'three' in myset: # Check if 'three' exist in the set\n",
        "    print('Three is present in the set')\n",
        "else:\n",
        "    print('Three is not present in the set')"
      ]
    },
    {
      "cell_type": "code",
      "execution_count": null,
      "metadata": {
        "id": "zS-y2bnspC_G",
        "outputId": "85bef813-fc11-4163-bd4c-78e8272fe98b"
      },
      "outputs": [
        {
          "name": "stdout",
          "output_type": "stream",
          "text": [
            "eleven is not present in the set\n"
          ]
        }
      ],
      "source": [
        "if 'eleven' in myset:  # Check if 'eleven' exist in the list\n",
        "    print('eleven is present in the set')\n",
        "else:\n",
        "    print('eleven is not present in the set')"
      ]
    },
    {
      "cell_type": "markdown",
      "metadata": {
        "id": "4qjSyuSUpC_G"
      },
      "source": [
        "### Add & Remove Items"
      ]
    },
    {
      "cell_type": "code",
      "execution_count": null,
      "metadata": {
        "id": "HhN3sugQpC_G",
        "outputId": "b9d98bef-465c-43c4-cea9-dac2e7608b53"
      },
      "outputs": [
        {
          "data": {
            "text/plain": [
              "{'eight', 'five', 'four', 'one', 'seven', 'six', 'three', 'two'}"
            ]
          },
          "execution_count": 680,
          "metadata": {},
          "output_type": "execute_result"
        }
      ],
      "source": [
        "myset"
      ]
    },
    {
      "cell_type": "code",
      "execution_count": null,
      "metadata": {
        "id": "LQrwJeL6pC_H",
        "outputId": "572bc88f-ea31-4d29-8fb4-720f08b81113"
      },
      "outputs": [
        {
          "data": {
            "text/plain": [
              "{'NINE', 'eight', 'five', 'four', 'one', 'seven', 'six', 'three', 'two'}"
            ]
          },
          "execution_count": 681,
          "metadata": {},
          "output_type": "execute_result"
        }
      ],
      "source": [
        "myset.add('NINE') # Add item to a set using add() method\n",
        "myset"
      ]
    },
    {
      "cell_type": "code",
      "execution_count": null,
      "metadata": {
        "id": "dxLOER67pC_H",
        "outputId": "1f5ccc63-8827-460c-baa3-f959d7d5e09c"
      },
      "outputs": [
        {
          "data": {
            "text/plain": [
              "{'ELEVEN',\n",
              " 'NINE',\n",
              " 'TEN',\n",
              " 'TWELVE',\n",
              " 'eight',\n",
              " 'five',\n",
              " 'four',\n",
              " 'one',\n",
              " 'seven',\n",
              " 'six',\n",
              " 'three',\n",
              " 'two'}"
            ]
          },
          "execution_count": 683,
          "metadata": {},
          "output_type": "execute_result"
        }
      ],
      "source": [
        "myset.update(['TEN' , 'ELEVEN' , 'TWELVE'])  # Add multiple item to a set using update() method\n",
        "myset"
      ]
    },
    {
      "cell_type": "code",
      "execution_count": null,
      "metadata": {
        "id": "Zpq66wlHpC_I",
        "outputId": "e87bbed5-7646-4d46-d264-58e983ec48df"
      },
      "outputs": [
        {
          "data": {
            "text/plain": [
              "{'ELEVEN',\n",
              " 'TEN',\n",
              " 'TWELVE',\n",
              " 'eight',\n",
              " 'five',\n",
              " 'four',\n",
              " 'one',\n",
              " 'seven',\n",
              " 'six',\n",
              " 'three',\n",
              " 'two'}"
            ]
          },
          "execution_count": 684,
          "metadata": {},
          "output_type": "execute_result"
        }
      ],
      "source": [
        "myset.remove('NINE') # remove item in a set using remove() method\n",
        "myset"
      ]
    },
    {
      "cell_type": "code",
      "execution_count": null,
      "metadata": {
        "id": "m2dPF5wspC_I",
        "outputId": "98aa8675-a0cc-4a65-9dfc-d37d0b4f66d0"
      },
      "outputs": [
        {
          "data": {
            "text/plain": [
              "{'ELEVEN',\n",
              " 'TWELVE',\n",
              " 'eight',\n",
              " 'five',\n",
              " 'four',\n",
              " 'one',\n",
              " 'seven',\n",
              " 'six',\n",
              " 'three',\n",
              " 'two'}"
            ]
          },
          "execution_count": 685,
          "metadata": {},
          "output_type": "execute_result"
        }
      ],
      "source": [
        "myset.discard('TEN') # remove item from a set using discard() method\n",
        "myset"
      ]
    },
    {
      "cell_type": "code",
      "execution_count": null,
      "metadata": {
        "id": "kK10i_V0pC_J",
        "outputId": "a745bded-1313-4202-ac4d-207f2e441a7f"
      },
      "outputs": [
        {
          "data": {
            "text/plain": [
              "set()"
            ]
          },
          "execution_count": 688,
          "metadata": {},
          "output_type": "execute_result"
        }
      ],
      "source": [
        "myset.clear() # Delete all items in a set\n",
        "myset"
      ]
    },
    {
      "cell_type": "code",
      "execution_count": null,
      "metadata": {
        "id": "QTsZFN4-pC_K",
        "outputId": "3d64e53f-1968-4ba9-b3f7-2c3e637b442b"
      },
      "outputs": [
        {
          "ename": "NameError",
          "evalue": "name 'myset' is not defined",
          "output_type": "error",
          "traceback": [
            "\u001b[1;31m---------------------------------------------------------------------------\u001b[0m",
            "\u001b[1;31mNameError\u001b[0m                                 Traceback (most recent call last)",
            "\u001b[1;32m<ipython-input-689-0912ea1b8932>\u001b[0m in \u001b[0;36m<module>\u001b[1;34m\u001b[0m\n\u001b[0;32m      1\u001b[0m \u001b[1;32mdel\u001b[0m \u001b[0mmyset\u001b[0m\u001b[1;33m\u001b[0m\u001b[1;33m\u001b[0m\u001b[0m\n\u001b[1;32m----> 2\u001b[1;33m \u001b[0mmyset\u001b[0m\u001b[1;33m\u001b[0m\u001b[1;33m\u001b[0m\u001b[0m\n\u001b[0m",
            "\u001b[1;31mNameError\u001b[0m: name 'myset' is not defined"
          ]
        }
      ],
      "source": [
        "del myset # Delete the set object\n",
        "myset"
      ]
    },
    {
      "cell_type": "markdown",
      "metadata": {
        "id": "aIYScFxepC_K"
      },
      "source": [
        "### Copy Set"
      ]
    },
    {
      "cell_type": "code",
      "execution_count": null,
      "metadata": {
        "id": "ASFUJa3zpC_L",
        "outputId": "05e44b87-2c29-4167-ebfb-2521c7734e03"
      },
      "outputs": [
        {
          "data": {
            "text/plain": [
              "{'eight', 'five', 'four', 'one', 'seven', 'six', 'three', 'two'}"
            ]
          },
          "execution_count": 705,
          "metadata": {},
          "output_type": "execute_result"
        }
      ],
      "source": [
        "myset = {'one', 'two', 'three', 'four', 'five', 'six', 'seven', 'eight'}\n",
        "myset"
      ]
    },
    {
      "cell_type": "code",
      "execution_count": null,
      "metadata": {
        "id": "5uzD4cH8pC_L",
        "outputId": "297c9afe-baea-4c78-8493-141ca7659235"
      },
      "outputs": [
        {
          "data": {
            "text/plain": [
              "{'eight', 'five', 'four', 'one', 'seven', 'six', 'three', 'two'}"
            ]
          },
          "execution_count": 706,
          "metadata": {},
          "output_type": "execute_result"
        }
      ],
      "source": [
        "myset1 = myset  # Create a new reference \"myset1\"\n",
        "myset1"
      ]
    },
    {
      "cell_type": "code",
      "execution_count": null,
      "metadata": {
        "id": "MrA4h2NSpC_M",
        "outputId": "543899d8-d0a4-4752-9deb-d7a30b83c971"
      },
      "outputs": [
        {
          "data": {
            "text/plain": [
              "(1537349033320, 1537349033320)"
            ]
          },
          "execution_count": 707,
          "metadata": {},
          "output_type": "execute_result"
        }
      ],
      "source": [
        "id(myset) , id(myset1)  # The address of both myset & myset1 will be the same as both are pointing to same set."
      ]
    },
    {
      "cell_type": "code",
      "execution_count": null,
      "metadata": {
        "id": "hLMH7ABfpC_M",
        "outputId": "f87148a0-a160-45ee-d52c-58e08ff40f32"
      },
      "outputs": [
        {
          "data": {
            "text/plain": [
              "{'eight', 'five', 'four', 'one', 'seven', 'six', 'three', 'two'}"
            ]
          },
          "execution_count": 708,
          "metadata": {},
          "output_type": "execute_result"
        }
      ],
      "source": [
        "my_set = myset.copy() # Create a copy of the list\n",
        "my_set"
      ]
    },
    {
      "cell_type": "code",
      "execution_count": null,
      "metadata": {
        "id": "yVmR6uHvpC_M",
        "outputId": "e985b9da-686e-4219-8686-5e961f190ad1"
      },
      "outputs": [
        {
          "data": {
            "text/plain": [
              "1537352902024"
            ]
          },
          "execution_count": 710,
          "metadata": {},
          "output_type": "execute_result"
        }
      ],
      "source": [
        "id(my_set) # The address of my_set will be different from myset because my_set is pointing to the copy of the existing set."
      ]
    },
    {
      "cell_type": "code",
      "execution_count": null,
      "metadata": {
        "id": "N9s9B01ipC_N",
        "outputId": "2cad22f8-d508-4016-8407-140abdf67162"
      },
      "outputs": [
        {
          "data": {
            "text/plain": [
              "{'eight', 'five', 'four', 'nine', 'one', 'seven', 'six', 'three', 'two'}"
            ]
          },
          "execution_count": 711,
          "metadata": {},
          "output_type": "execute_result"
        }
      ],
      "source": [
        "myset.add('nine')\n",
        "myset"
      ]
    },
    {
      "cell_type": "code",
      "execution_count": null,
      "metadata": {
        "id": "3U0l_TZ_pC_Q",
        "outputId": "6852c156-00a7-4a65-c102-9129702f042e"
      },
      "outputs": [
        {
          "data": {
            "text/plain": [
              "{'eight', 'five', 'four', 'nine', 'one', 'seven', 'six', 'three', 'two'}"
            ]
          },
          "execution_count": 712,
          "metadata": {},
          "output_type": "execute_result"
        }
      ],
      "source": [
        "myset1 # myset1 will be also impacted as it is pointing to the same Set"
      ]
    },
    {
      "cell_type": "code",
      "execution_count": null,
      "metadata": {
        "id": "l6uJjS0npC_R",
        "outputId": "e8d472e4-f8eb-431b-8a82-04e8efecb254"
      },
      "outputs": [
        {
          "data": {
            "text/plain": [
              "{'eight', 'five', 'four', 'one', 'seven', 'six', 'three', 'two'}"
            ]
          },
          "execution_count": 713,
          "metadata": {},
          "output_type": "execute_result"
        }
      ],
      "source": [
        "my_set # Copy of the set won't be impacted due to changes made on the original Set."
      ]
    },
    {
      "cell_type": "markdown",
      "metadata": {
        "id": "lPrK9duepC_S"
      },
      "source": [
        "### Set Operation"
      ]
    },
    {
      "cell_type": "markdown",
      "metadata": {
        "id": "N6rDrX91pC_T"
      },
      "source": [
        "#### Union"
      ]
    },
    {
      "cell_type": "code",
      "execution_count": null,
      "metadata": {
        "id": "LCtTBoUopC_T"
      },
      "outputs": [],
      "source": [
        "A = {1,2,3,4,5}\n",
        "B = {4,5,6,7,8}\n",
        "C = {8,9,10}"
      ]
    },
    {
      "cell_type": "code",
      "execution_count": null,
      "metadata": {
        "id": "m_y9ImJrpC_V",
        "outputId": "6f7d2356-c434-43c2-c5ce-eb38e75ddb2d"
      },
      "outputs": [
        {
          "data": {
            "text/plain": [
              "{1, 2, 3, 4, 5, 6, 7, 8}"
            ]
          },
          "execution_count": 758,
          "metadata": {},
          "output_type": "execute_result"
        }
      ],
      "source": [
        "A | B  # Union of A and B (All elements from both sets. NO DUPLICATES)"
      ]
    },
    {
      "cell_type": "code",
      "execution_count": null,
      "metadata": {
        "id": "wp2UUCljpC_W",
        "outputId": "75820b1f-5a55-4a66-b2ad-7c56cb1b0c01"
      },
      "outputs": [
        {
          "data": {
            "text/plain": [
              "{1, 2, 3, 4, 5, 6, 7, 8}"
            ]
          },
          "execution_count": 759,
          "metadata": {},
          "output_type": "execute_result"
        }
      ],
      "source": [
        "A.union(B) # Union of A and B"
      ]
    },
    {
      "cell_type": "code",
      "execution_count": null,
      "metadata": {
        "id": "riSqoG8apC_W",
        "outputId": "c40d6ea4-8d02-4853-bc87-15d07519354a"
      },
      "outputs": [
        {
          "data": {
            "text/plain": [
              "{1, 2, 3, 4, 5, 6, 7, 8, 9, 10}"
            ]
          },
          "execution_count": 760,
          "metadata": {},
          "output_type": "execute_result"
        }
      ],
      "source": [
        "A.union(B, C)  # Union of A, B and C."
      ]
    },
    {
      "cell_type": "code",
      "execution_count": null,
      "metadata": {
        "id": "xBIVMVKXpC_X",
        "outputId": "b266c018-4d63-4e6e-e379-b27bb8dd88a2"
      },
      "outputs": [
        {
          "data": {
            "text/plain": [
              "{1, 2, 3, 4, 5, 6, 7, 8, 9, 10}"
            ]
          },
          "execution_count": 761,
          "metadata": {},
          "output_type": "execute_result"
        }
      ],
      "source": [
        "\"\"\"\n",
        "Updates the set calling the update() method with union of A , B & C.\n",
        "\n",
        "For below example Set A will be updated with union of A,B & C.\n",
        "\"\"\"\n",
        "A.update(B,C)\n",
        "A"
      ]
    },
    {
      "cell_type": "markdown",
      "metadata": {
        "id": "If0MVDwhpC_Y"
      },
      "source": [
        "<img src=\"https://upload.wikimedia.org/wikipedia/commons/3/30/Venn0111.svg\">"
      ]
    },
    {
      "cell_type": "markdown",
      "metadata": {
        "id": "JqLEeyXqpC_Y"
      },
      "source": [
        "#### Intersection"
      ]
    },
    {
      "cell_type": "code",
      "execution_count": null,
      "metadata": {
        "id": "u2eeS9SJpC_Z"
      },
      "outputs": [],
      "source": [
        "A = {1,2,3,4,5}\n",
        "B = {4,5,6,7,8}"
      ]
    },
    {
      "cell_type": "code",
      "execution_count": null,
      "metadata": {
        "id": "JMo1VA1_pC_Z",
        "outputId": "56f68681-bfd6-4b3d-923d-a08f25eca7f4"
      },
      "outputs": [
        {
          "data": {
            "text/plain": [
              "{4, 5}"
            ]
          },
          "execution_count": 763,
          "metadata": {},
          "output_type": "execute_result"
        }
      ],
      "source": [
        "A & B  # Intersection of A and B (Common items in both sets)"
      ]
    },
    {
      "cell_type": "code",
      "execution_count": null,
      "metadata": {
        "id": "u6GeM_NapC_a",
        "outputId": "0e193457-82cd-4dcc-aceb-64d21aac4a88"
      },
      "outputs": [
        {
          "ename": "SyntaxError",
          "evalue": "invalid syntax (<ipython-input-764-f01b60f4d31d>, line 1)",
          "output_type": "error",
          "traceback": [
            "\u001b[1;36m  File \u001b[1;32m\"<ipython-input-764-f01b60f4d31d>\"\u001b[1;36m, line \u001b[1;32m1\u001b[0m\n\u001b[1;33m    A.intersection(B)  Intersection of A and B\u001b[0m\n\u001b[1;37m                                  ^\u001b[0m\n\u001b[1;31mSyntaxError\u001b[0m\u001b[1;31m:\u001b[0m invalid syntax\n"
          ]
        }
      ],
      "source": [
        "A.intersection(B)  Intersection of A and B"
      ]
    },
    {
      "cell_type": "code",
      "execution_count": null,
      "metadata": {
        "id": "n_MrkmpipC_a",
        "outputId": "6593ff8f-3f46-424f-d5a5-2f0b53700c58"
      },
      "outputs": [
        {
          "data": {
            "text/plain": [
              "{4, 5}"
            ]
          },
          "execution_count": 765,
          "metadata": {},
          "output_type": "execute_result"
        }
      ],
      "source": [
        "\"\"\"\n",
        "Updates the set calling the intersection_update() method with the intersection of sets.\n",
        "\n",
        "For below example Set A will be updated  with the intersection of A & B.\n",
        "\"\"\"\n",
        "A.intersection_update(B)\n",
        "A"
      ]
    },
    {
      "cell_type": "markdown",
      "metadata": {
        "id": "pEAPrCFFpC_b"
      },
      "source": [
        "<img src=\"https://upload.wikimedia.org/wikipedia/commons/9/99/Venn0001.svg\">"
      ]
    },
    {
      "cell_type": "markdown",
      "metadata": {
        "id": "DLlgWUAwpC_c"
      },
      "source": [
        "#### Difference"
      ]
    },
    {
      "cell_type": "code",
      "execution_count": null,
      "metadata": {
        "id": "r0QcStHzpC_c"
      },
      "outputs": [],
      "source": [
        "A = {1,2,3,4,5}\n",
        "B = {4,5,6,7,8}"
      ]
    },
    {
      "cell_type": "code",
      "execution_count": null,
      "metadata": {
        "id": "E8iLJMXxpC_d",
        "outputId": "c62db6e1-0f94-4761-89c8-3436e0d40c8d"
      },
      "outputs": [
        {
          "data": {
            "text/plain": [
              "{1, 2, 3}"
            ]
          },
          "execution_count": 767,
          "metadata": {},
          "output_type": "execute_result"
        }
      ],
      "source": [
        "A - B  # set of elements that are only in A but not in B"
      ]
    },
    {
      "cell_type": "code",
      "execution_count": null,
      "metadata": {
        "id": "MdQWEHX9pC_d",
        "outputId": "f4c8e536-ab58-4aeb-fcc8-e2015200955b"
      },
      "outputs": [
        {
          "data": {
            "text/plain": [
              "{1, 2, 3}"
            ]
          },
          "execution_count": 768,
          "metadata": {},
          "output_type": "execute_result"
        }
      ],
      "source": [
        "A.difference(B) # Difference of sets"
      ]
    },
    {
      "cell_type": "code",
      "execution_count": null,
      "metadata": {
        "id": "NoOx7KYopC_e",
        "outputId": "243c0c4b-2c8e-4d78-f634-70b1a840b3c2"
      },
      "outputs": [
        {
          "data": {
            "text/plain": [
              "{6, 7, 8}"
            ]
          },
          "execution_count": 769,
          "metadata": {},
          "output_type": "execute_result"
        }
      ],
      "source": [
        "B- A  # set of elements that are only in B but not in A"
      ]
    },
    {
      "cell_type": "code",
      "execution_count": null,
      "metadata": {
        "id": "-zqqz5DFpC_e",
        "outputId": "e4602c65-3929-46ff-e614-afd24350ae9a"
      },
      "outputs": [
        {
          "data": {
            "text/plain": [
              "{6, 7, 8}"
            ]
          },
          "execution_count": 770,
          "metadata": {},
          "output_type": "execute_result"
        }
      ],
      "source": [
        "B.difference(A)"
      ]
    },
    {
      "cell_type": "code",
      "execution_count": null,
      "metadata": {
        "id": "kNlEwISspC_f",
        "outputId": "5b292596-3bcc-4119-868f-da9cf6d7cf8e"
      },
      "outputs": [
        {
          "data": {
            "text/plain": [
              "{6, 7, 8}"
            ]
          },
          "execution_count": 771,
          "metadata": {},
          "output_type": "execute_result"
        }
      ],
      "source": [
        "\"\"\"\n",
        "Updates the set calling the difference_update() method with the difference of sets.\n",
        "\n",
        "For below example Set B will be updated  with the difference of B & A.\n",
        "\"\"\"\n",
        "B.difference_update(A)\n",
        "B"
      ]
    },
    {
      "cell_type": "markdown",
      "metadata": {
        "id": "MGjg2g6PpC_i"
      },
      "source": [
        "<img src=\"https://upload.wikimedia.org/wikipedia/commons/5/5a/Venn0010.svg\">"
      ]
    },
    {
      "cell_type": "markdown",
      "metadata": {
        "id": "qlABu2cvpC_j"
      },
      "source": [
        "#### Symmetric Difference"
      ]
    },
    {
      "cell_type": "code",
      "execution_count": null,
      "metadata": {
        "id": "QTcsrHA1pC_k"
      },
      "outputs": [],
      "source": [
        "A = {1,2,3,4,5}\n",
        "B = {4,5,6,7,8}"
      ]
    },
    {
      "cell_type": "code",
      "execution_count": null,
      "metadata": {
        "id": "czs3HbPdpC_l",
        "outputId": "8d0b49d5-970a-463c-9d19-f5325e6fcf42"
      },
      "outputs": [
        {
          "data": {
            "text/plain": [
              "{1, 2, 3, 6, 7, 8}"
            ]
          },
          "execution_count": 773,
          "metadata": {},
          "output_type": "execute_result"
        }
      ],
      "source": [
        "A ^ B # Symmetric difference (Set of elements in A and B but not in both. \"EXCLUDING THE INTERSECTION\")."
      ]
    },
    {
      "cell_type": "code",
      "execution_count": null,
      "metadata": {
        "id": "Tg-rgfKKpC_m",
        "outputId": "8bbbc833-f1d4-48bc-af32-699481f1e37c"
      },
      "outputs": [
        {
          "data": {
            "text/plain": [
              "{1, 2, 3, 6, 7, 8}"
            ]
          },
          "execution_count": 774,
          "metadata": {},
          "output_type": "execute_result"
        }
      ],
      "source": [
        "A.symmetric_difference(B)  # Symmetric difference of sets"
      ]
    },
    {
      "cell_type": "code",
      "execution_count": null,
      "metadata": {
        "id": "Kp0Um9PUpC_m",
        "outputId": "cbfb773d-7a27-4db1-8524-1668f1774660"
      },
      "outputs": [
        {
          "data": {
            "text/plain": [
              "{1, 2, 3, 6, 7, 8}"
            ]
          },
          "execution_count": 775,
          "metadata": {},
          "output_type": "execute_result"
        }
      ],
      "source": [
        "\"\"\"\n",
        "Updates the set calling the symmetric_difference_update() method with the symmetric difference of sets.\n",
        "\n",
        "For below example Set A will be updated  with the symmetric difference of A & B.\n",
        "\"\"\"\n",
        "\n",
        "A.symmetric_difference_update(B)\n",
        "A"
      ]
    },
    {
      "cell_type": "markdown",
      "metadata": {
        "id": "GQq-Gq_NpC_m"
      },
      "source": [
        "<img src=\"https://upload.wikimedia.org/wikipedia/commons/4/46/Venn0110.svg\">"
      ]
    },
    {
      "cell_type": "markdown",
      "metadata": {
        "id": "S-tGR0RgpC_n"
      },
      "source": [
        "### Subset , Superset & Disjoint"
      ]
    },
    {
      "cell_type": "code",
      "execution_count": null,
      "metadata": {
        "id": "bFwl270BpC_n"
      },
      "outputs": [],
      "source": [
        "A = {1,2,3,4,5,6,7,8,9}\n",
        "B = {3,4,5,6,7,8}\n",
        "C = {10,20,30,40}"
      ]
    },
    {
      "cell_type": "code",
      "execution_count": null,
      "metadata": {
        "id": "aJOJxPrEpC_n",
        "outputId": "c17255c6-7f98-4fae-b026-31b284c74820"
      },
      "outputs": [
        {
          "data": {
            "text/plain": [
              "True"
            ]
          },
          "execution_count": 785,
          "metadata": {},
          "output_type": "execute_result"
        }
      ],
      "source": [
        "B.issubset(A) # Set B is said to be the subset of set A if all elements of B are in A."
      ]
    },
    {
      "cell_type": "code",
      "execution_count": null,
      "metadata": {
        "id": "OO5WhsCKpC_o",
        "outputId": "048cd43b-6003-4dd0-8469-7a5d221ed1cb"
      },
      "outputs": [
        {
          "data": {
            "text/plain": [
              "True"
            ]
          },
          "execution_count": 786,
          "metadata": {},
          "output_type": "execute_result"
        }
      ],
      "source": [
        "A.issuperset(B) # Set A is said to be the superset of set B if all elements of B are in A."
      ]
    },
    {
      "cell_type": "code",
      "execution_count": null,
      "metadata": {
        "id": "0jRLUh4ApC_p",
        "outputId": "31f9acc1-8358-4796-b061-8628aeae7c1e"
      },
      "outputs": [
        {
          "data": {
            "text/plain": [
              "True"
            ]
          },
          "execution_count": 787,
          "metadata": {},
          "output_type": "execute_result"
        }
      ],
      "source": [
        "C.isdisjoint(A) # Two sets are said to be disjoint sets if they have no common elements."
      ]
    },
    {
      "cell_type": "code",
      "execution_count": null,
      "metadata": {
        "id": "mS0NMcE0pC_p",
        "outputId": "1a9adb7c-1300-4e8c-a4df-f924bd697f50"
      },
      "outputs": [
        {
          "data": {
            "text/plain": [
              "False"
            ]
          },
          "execution_count": 788,
          "metadata": {},
          "output_type": "execute_result"
        }
      ],
      "source": [
        "B.isdisjoint(A) # Two sets are said to be disjoint sets if they have no common elements."
      ]
    },
    {
      "cell_type": "markdown",
      "metadata": {
        "id": "NlltYZRCpC_q"
      },
      "source": [
        "### Other Builtin functions"
      ]
    },
    {
      "cell_type": "code",
      "execution_count": null,
      "metadata": {
        "id": "DRiBx01IpC_q",
        "outputId": "72325274-d64c-443e-91aa-4778fb5869bc"
      },
      "outputs": [
        {
          "data": {
            "text/plain": [
              "{1, 2, 3, 4, 5, 6, 7, 8, 9}"
            ]
          },
          "execution_count": 789,
          "metadata": {},
          "output_type": "execute_result"
        }
      ],
      "source": [
        "A"
      ]
    },
    {
      "cell_type": "code",
      "execution_count": null,
      "metadata": {
        "id": "f4RfvF2cpC_q",
        "outputId": "2ae830ae-546a-42af-9538-fa660f7ad57e"
      },
      "outputs": [
        {
          "data": {
            "text/plain": [
              "45"
            ]
          },
          "execution_count": 790,
          "metadata": {},
          "output_type": "execute_result"
        }
      ],
      "source": [
        "sum(A)"
      ]
    },
    {
      "cell_type": "code",
      "execution_count": null,
      "metadata": {
        "id": "_E2ZAYrBpC_r",
        "outputId": "1b0e9be0-5add-45e2-ed3b-65d293ff9796"
      },
      "outputs": [
        {
          "data": {
            "text/plain": [
              "9"
            ]
          },
          "execution_count": 791,
          "metadata": {},
          "output_type": "execute_result"
        }
      ],
      "source": [
        "max(A)"
      ]
    },
    {
      "cell_type": "code",
      "execution_count": null,
      "metadata": {
        "id": "DUhr7_f8pC_s",
        "outputId": "ac938ac6-aa7f-4353-eee4-e1febaa1337c"
      },
      "outputs": [
        {
          "data": {
            "text/plain": [
              "1"
            ]
          },
          "execution_count": 792,
          "metadata": {},
          "output_type": "execute_result"
        }
      ],
      "source": [
        "min(A)"
      ]
    },
    {
      "cell_type": "code",
      "execution_count": null,
      "metadata": {
        "id": "o4j5CdXApC_s",
        "outputId": "f2547227-4a87-472a-ca47-05cda784add9"
      },
      "outputs": [
        {
          "data": {
            "text/plain": [
              "9"
            ]
          },
          "execution_count": 793,
          "metadata": {},
          "output_type": "execute_result"
        }
      ],
      "source": [
        "len(A)"
      ]
    },
    {
      "cell_type": "code",
      "execution_count": null,
      "metadata": {
        "id": "S2KxNSyMpC_t",
        "outputId": "d5cbccc2-e1b2-46d6-e0d9-5f7b5e1f9c98"
      },
      "outputs": [
        {
          "data": {
            "text/plain": [
              "[(0, 1), (1, 2), (2, 3), (3, 4), (4, 5), (5, 6), (6, 7), (7, 8), (8, 9)]"
            ]
          },
          "execution_count": 795,
          "metadata": {},
          "output_type": "execute_result"
        }
      ],
      "source": [
        "list(enumerate(A))"
      ]
    },
    {
      "cell_type": "code",
      "execution_count": null,
      "metadata": {
        "id": "YSCt9pBipC_u",
        "outputId": "a28c3cf6-3fac-4368-bcd5-5ea7242b9251"
      },
      "outputs": [
        {
          "data": {
            "text/plain": [
              "[9, 8, 7, 6, 5, 4, 3, 2, 1]"
            ]
          },
          "execution_count": 798,
          "metadata": {},
          "output_type": "execute_result"
        }
      ],
      "source": [
        "D= sorted(A,reverse=True)\n",
        "D"
      ]
    },
    {
      "cell_type": "code",
      "execution_count": null,
      "metadata": {
        "id": "gb7Enfu6pC_u",
        "outputId": "95c718b1-4eb0-49d3-fc5c-e226840d95c9"
      },
      "outputs": [
        {
          "data": {
            "text/plain": [
              "[1, 2, 3, 4, 5, 6, 7, 8, 9]"
            ]
          },
          "execution_count": 799,
          "metadata": {},
          "output_type": "execute_result"
        }
      ],
      "source": [
        "sorted(D)"
      ]
    },
    {
      "cell_type": "markdown",
      "metadata": {
        "id": "ZSbTsI1JpC_u"
      },
      "source": [
        "# Dictionary"
      ]
    },
    {
      "cell_type": "markdown",
      "metadata": {
        "id": "yB-JtLaUpC_v"
      },
      "source": [
        "- Dictionary is a mutable data type in Python.\n",
        "\n",
        "- A python dictionary is a collection of key and value pairs separated by a colon (:) & enclosed in curly braces {}.\n",
        "\n",
        "- Keys must be unique in a dictionary, duplicate values are allowed."
      ]
    },
    {
      "cell_type": "markdown",
      "metadata": {
        "id": "f8_EKy7spC_v"
      },
      "source": [
        "<img src=\"https://github.com/datasciencescoop/Python/blob/master/dict.PNG?raw=1\">"
      ]
    },
    {
      "cell_type": "markdown",
      "metadata": {
        "id": "v4Lyoe8MpC_v"
      },
      "source": [
        "### Create Dictionary"
      ]
    },
    {
      "cell_type": "code",
      "execution_count": null,
      "metadata": {
        "id": "61YI3kmrpC_v",
        "outputId": "2b39cd64-8c2a-4983-b376-8c194ef0d9e0"
      },
      "outputs": [
        {
          "data": {
            "text/plain": [
              "{}"
            ]
          },
          "execution_count": 947,
          "metadata": {},
          "output_type": "execute_result"
        }
      ],
      "source": [
        "mydict = dict() # empty dictionary\n",
        "mydict"
      ]
    },
    {
      "cell_type": "code",
      "execution_count": null,
      "metadata": {
        "id": "dXjTHkAqpC_w",
        "outputId": "457261d4-0297-46c7-8923-5ead66cbe898"
      },
      "outputs": [
        {
          "data": {
            "text/plain": [
              "{}"
            ]
          },
          "execution_count": 948,
          "metadata": {},
          "output_type": "execute_result"
        }
      ],
      "source": [
        "mydict = {}   # empty dictionary\n",
        "mydict"
      ]
    },
    {
      "cell_type": "code",
      "execution_count": null,
      "metadata": {
        "id": "ojB6P_49pC_w",
        "outputId": "60589ac0-403f-4db3-877d-652f6faa10df"
      },
      "outputs": [
        {
          "data": {
            "text/plain": [
              "{1: 'one', 2: 'two', 3: 'three'}"
            ]
          },
          "execution_count": 949,
          "metadata": {},
          "output_type": "execute_result"
        }
      ],
      "source": [
        "mydict = {1:'one' , 2:'two' , 3:'three'} # dictionary with integer keys\n",
        "mydict"
      ]
    },
    {
      "cell_type": "code",
      "execution_count": null,
      "metadata": {
        "id": "e9KLCQDBpC_x",
        "outputId": "a4d29cfc-2f1e-444b-85e8-5a97a2ca1e21"
      },
      "outputs": [
        {
          "data": {
            "text/plain": [
              "{1: 'one', 2: 'two', 3: 'three'}"
            ]
          },
          "execution_count": 950,
          "metadata": {},
          "output_type": "execute_result"
        }
      ],
      "source": [
        "mydict = dict({1:'one' , 2:'two' , 3:'three'}) # Create dictionary using dict()\n",
        "mydict"
      ]
    },
    {
      "cell_type": "code",
      "execution_count": null,
      "metadata": {
        "id": "CzKB7635pC_x",
        "outputId": "683896d9-de85-4b34-d245-eaa3062d7d1f"
      },
      "outputs": [
        {
          "data": {
            "text/plain": [
              "{'A': 'one', 'B': 'two', 'C': 'three'}"
            ]
          },
          "execution_count": 951,
          "metadata": {},
          "output_type": "execute_result"
        }
      ],
      "source": [
        "mydict = {'A':'one' , 'B':'two' , 'C':'three'} # dictionary with character keys\n",
        "mydict"
      ]
    },
    {
      "cell_type": "code",
      "execution_count": null,
      "metadata": {
        "id": "I2fZhnlFpC_y",
        "outputId": "6ebe5762-fb78-4c44-f03e-3b472a163af7"
      },
      "outputs": [
        {
          "data": {
            "text/plain": [
              "{1: 'one', 'A': 'two', 3: 'three'}"
            ]
          },
          "execution_count": 318,
          "metadata": {},
          "output_type": "execute_result"
        }
      ],
      "source": [
        "mydict = {1:'one' , 'A':'two' , 3:'three'} # dictionary with mixed keys\n",
        "mydict"
      ]
    },
    {
      "cell_type": "code",
      "execution_count": null,
      "metadata": {
        "id": "gjnJZnI5pC_y",
        "outputId": "4af39b4b-9132-407b-caa1-5a1244a08612"
      },
      "outputs": [
        {
          "data": {
            "text/plain": [
              "dict_keys([1, 'A', 3])"
            ]
          },
          "execution_count": 319,
          "metadata": {},
          "output_type": "execute_result"
        }
      ],
      "source": [
        "mydict.keys() # Return Dictionary Keys using keys() method"
      ]
    },
    {
      "cell_type": "code",
      "execution_count": null,
      "metadata": {
        "scrolled": true,
        "id": "gjSUv5ABpC_z",
        "outputId": "2ad72c58-aabd-4b9e-aa3c-d45d77197351"
      },
      "outputs": [
        {
          "data": {
            "text/plain": [
              "dict_values(['one', 'two', 'three'])"
            ]
          },
          "execution_count": 320,
          "metadata": {},
          "output_type": "execute_result"
        }
      ],
      "source": [
        "mydict.values() # Return Dictionary Values using values() method"
      ]
    },
    {
      "cell_type": "code",
      "execution_count": null,
      "metadata": {
        "id": "l5vI_VbRpC_0",
        "outputId": "b18fd761-2e7a-40b7-92c7-cef86cbaeb4b"
      },
      "outputs": [
        {
          "data": {
            "text/plain": [
              "dict_items([(1, 'one'), ('A', 'two'), (3, 'three')])"
            ]
          },
          "execution_count": 321,
          "metadata": {},
          "output_type": "execute_result"
        }
      ],
      "source": [
        "mydict.items() # Access each key-value pair within a dictionary"
      ]
    },
    {
      "cell_type": "code",
      "execution_count": null,
      "metadata": {
        "id": "H5-N6ZTdpC_1",
        "outputId": "574a071d-c725-4481-fbbd-2e35869a304f"
      },
      "outputs": [
        {
          "data": {
            "text/plain": [
              "{1: 'one', 2: 'two', 'A': ['asif', 'john', 'Maria']}"
            ]
          },
          "execution_count": 955,
          "metadata": {},
          "output_type": "execute_result"
        }
      ],
      "source": [
        "mydict = {1:'one' , 2:'two' , 'A':['asif' , 'john' , 'Maria']} # dictionary with mixed keys\n",
        "mydict"
      ]
    },
    {
      "cell_type": "code",
      "execution_count": null,
      "metadata": {
        "id": "yL7bjI_CpC_2",
        "outputId": "c5a1d8b9-fae7-4d1e-c7a1-51f368ce81ec"
      },
      "outputs": [
        {
          "data": {
            "text/plain": [
              "{1: 'one',\n",
              " 2: 'two',\n",
              " 'A': ['asif', 'john', 'Maria'],\n",
              " 'B': ('Bat', 'cat', 'hat')}"
            ]
          },
          "execution_count": 956,
          "metadata": {},
          "output_type": "execute_result"
        }
      ],
      "source": [
        "mydict = {1:'one' , 2:'two' , 'A':['asif' , 'john' , 'Maria'],  'B':('Bat' , 'cat' , 'hat')} # dictionary with mixed keys\n",
        "mydict"
      ]
    },
    {
      "cell_type": "code",
      "execution_count": null,
      "metadata": {
        "id": "lreocMXBpC_2",
        "outputId": "3045c45f-373a-4f9a-e1ed-820c19d6ecd7"
      },
      "outputs": [
        {
          "data": {
            "text/plain": [
              "{1: 'one',\n",
              " 2: 'two',\n",
              " 'A': {'Name': 'asif', 'Age': 20},\n",
              " 'B': ('Bat', 'cat', 'hat')}"
            ]
          },
          "execution_count": 1,
          "metadata": {},
          "output_type": "execute_result"
        }
      ],
      "source": [
        "mydict = {1:'one' , 2:'two' , 'A':{'Name':'asif' , 'Age' :20},  'B':('Bat' , 'cat' , 'hat')} # dictionary with mixed keys\n",
        "mydict"
      ]
    },
    {
      "cell_type": "code",
      "execution_count": null,
      "metadata": {
        "id": "HM2V07dLpC_3",
        "outputId": "f3448cf7-0da1-49e3-c895-717435ee857a"
      },
      "outputs": [
        {
          "data": {
            "text/plain": [
              "{'c': None, 'd': None, 'a': None, 'b': None}"
            ]
          },
          "execution_count": 957,
          "metadata": {},
          "output_type": "execute_result"
        }
      ],
      "source": [
        "keys = {'a' , 'b' , 'c' , 'd'}\n",
        "mydict3 = dict.fromkeys(keys)   # Create a dictionary from a sequence of keys\n",
        "mydict3"
      ]
    },
    {
      "cell_type": "code",
      "execution_count": null,
      "metadata": {
        "id": "BbwMffP-pC_3",
        "outputId": "1f948eb2-33ef-44e0-af0e-25d2ddf6f5b8"
      },
      "outputs": [
        {
          "data": {
            "text/plain": [
              "{'c': 10, 'd': 10, 'a': 10, 'b': 10}"
            ]
          },
          "execution_count": 958,
          "metadata": {},
          "output_type": "execute_result"
        }
      ],
      "source": [
        "keys = {'a' , 'b' , 'c' , 'd'}\n",
        "value = 10\n",
        "mydict3 = dict.fromkeys(keys , value)  # Create a dictionary from a sequence of keys with value\n",
        "mydict3"
      ]
    },
    {
      "cell_type": "code",
      "execution_count": null,
      "metadata": {
        "id": "bnDFtW3KpC_4",
        "outputId": "93f6a0d4-c78a-4c7b-a866-b7d6f42eba31"
      },
      "outputs": [
        {
          "data": {
            "text/plain": [
              "{'c': [10, 20, 30], 'd': [10, 20, 30], 'a': [10, 20, 30], 'b': [10, 20, 30]}"
            ]
          },
          "execution_count": 959,
          "metadata": {},
          "output_type": "execute_result"
        }
      ],
      "source": [
        "keys = {'a' , 'b' , 'c' , 'd'}\n",
        "value = [10,20,30]\n",
        "mydict3 = dict.fromkeys(keys , value)  # Create a dictionary from a sequence of keys with value list\n",
        "mydict3"
      ]
    },
    {
      "cell_type": "code",
      "execution_count": null,
      "metadata": {
        "id": "0pyAJYOhpC_4",
        "outputId": "d24aedff-ee2c-492e-c0c3-e7d1416b8488"
      },
      "outputs": [
        {
          "data": {
            "text/plain": [
              "{'c': [10, 20, 30, 40],\n",
              " 'd': [10, 20, 30, 40],\n",
              " 'a': [10, 20, 30, 40],\n",
              " 'b': [10, 20, 30, 40]}"
            ]
          },
          "execution_count": 960,
          "metadata": {},
          "output_type": "execute_result"
        }
      ],
      "source": [
        "value.append(40)\n",
        "mydict3"
      ]
    },
    {
      "cell_type": "markdown",
      "metadata": {
        "id": "cakUm4YQpC_5"
      },
      "source": [
        "### Accessing Items"
      ]
    },
    {
      "cell_type": "code",
      "execution_count": null,
      "metadata": {
        "id": "ivBfVugopC_6",
        "outputId": "578f952f-f04e-4d09-d178-7cc57622d0a6"
      },
      "outputs": [
        {
          "data": {
            "text/plain": [
              "{1: 'one', 2: 'two', 3: 'three', 4: 'four'}"
            ]
          },
          "execution_count": 961,
          "metadata": {},
          "output_type": "execute_result"
        }
      ],
      "source": [
        "mydict = {1:'one' , 2:'two' , 3:'three' , 4:'four'}\n",
        "mydict"
      ]
    },
    {
      "cell_type": "code",
      "execution_count": null,
      "metadata": {
        "id": "W1I4PIUkpC_6",
        "outputId": "739849ef-d969-4b9d-b6d4-aa42420a4c01"
      },
      "outputs": [
        {
          "data": {
            "text/plain": [
              "'one'"
            ]
          },
          "execution_count": 962,
          "metadata": {},
          "output_type": "execute_result"
        }
      ],
      "source": [
        "mydict[1] # Access item using key"
      ]
    },
    {
      "cell_type": "code",
      "execution_count": null,
      "metadata": {
        "id": "VqIh3HkwpC_7",
        "outputId": "b4ba1754-4a26-4b02-8af2-7140d3f222f6"
      },
      "outputs": [
        {
          "data": {
            "text/plain": [
              "'one'"
            ]
          },
          "execution_count": 963,
          "metadata": {},
          "output_type": "execute_result"
        }
      ],
      "source": [
        "mydict.get(1) # Access item using get() method"
      ]
    },
    {
      "cell_type": "code",
      "execution_count": null,
      "metadata": {
        "id": "QVUjHjeLpC_7",
        "outputId": "2e698f62-0ed0-44e6-be5a-e692031ae74d"
      },
      "outputs": [
        {
          "data": {
            "text/plain": [
              "{'Name': 'Asif', 'ID': 74123, 'DOB': 1991, 'job': 'Analyst'}"
            ]
          },
          "execution_count": 964,
          "metadata": {},
          "output_type": "execute_result"
        }
      ],
      "source": [
        "mydict1 = {'Name':'Asif' , 'ID': 74123 , 'DOB': 1991 , 'job' :'Analyst'}\n",
        "mydict1"
      ]
    },
    {
      "cell_type": "code",
      "execution_count": null,
      "metadata": {
        "id": "8TMxeoTrpC_8",
        "outputId": "a4d47c3e-8718-4d5d-91a2-81a5db5a294b"
      },
      "outputs": [
        {
          "data": {
            "text/plain": [
              "'Asif'"
            ]
          },
          "execution_count": 965,
          "metadata": {},
          "output_type": "execute_result"
        }
      ],
      "source": [
        "mydict1['Name']  # Access item using key"
      ]
    },
    {
      "cell_type": "code",
      "execution_count": null,
      "metadata": {
        "id": "BFBnVxpapC_8",
        "outputId": "61cae223-ceff-4af0-abda-b377b5c28e3d"
      },
      "outputs": [
        {
          "data": {
            "text/plain": [
              "'Analyst'"
            ]
          },
          "execution_count": 966,
          "metadata": {},
          "output_type": "execute_result"
        }
      ],
      "source": [
        "mydict1.get('job')  # Access item using get() method"
      ]
    },
    {
      "cell_type": "markdown",
      "metadata": {
        "id": "zNTjC1ihpC_8"
      },
      "source": [
        "### Add, Remove & Change Items"
      ]
    },
    {
      "cell_type": "code",
      "execution_count": null,
      "metadata": {
        "id": "IFhZV8ZbpC_9",
        "outputId": "ac46b52d-4f49-4f07-f0fc-afe6112cfcf8"
      },
      "outputs": [
        {
          "data": {
            "text/plain": [
              "{'Name': 'Asif', 'ID': 12345, 'DOB': 1991, 'Address': 'Hilsinki'}"
            ]
          },
          "execution_count": 967,
          "metadata": {},
          "output_type": "execute_result"
        }
      ],
      "source": [
        "mydict1 = {'Name':'Asif' , 'ID': 12345 , 'DOB': 1991 , 'Address' : 'Hilsinki'}\n",
        "mydict1"
      ]
    },
    {
      "cell_type": "code",
      "execution_count": null,
      "metadata": {
        "id": "oiJ1KSu6pC_9",
        "outputId": "1d4d3608-aad2-4c27-844e-0130edae3164"
      },
      "outputs": [
        {
          "data": {
            "text/plain": [
              "{'Name': 'Asif', 'ID': 12345, 'DOB': 1992, 'Address': 'Delhi'}"
            ]
          },
          "execution_count": 968,
          "metadata": {},
          "output_type": "execute_result"
        }
      ],
      "source": [
        "mydict1['DOB'] = 1992  # Changing Dictionary Items\n",
        "mydict1['Address'] = 'Delhi'\n",
        "mydict1"
      ]
    },
    {
      "cell_type": "code",
      "execution_count": null,
      "metadata": {
        "id": "zxHhkFSSpC_9",
        "outputId": "b6c04272-3e45-4573-a9f7-d15600062ce1"
      },
      "outputs": [
        {
          "data": {
            "text/plain": [
              "{'Name': 'Asif', 'ID': 12345, 'DOB': 1995, 'Address': 'Delhi'}"
            ]
          },
          "execution_count": 969,
          "metadata": {},
          "output_type": "execute_result"
        }
      ],
      "source": [
        "dict1 = {'DOB':1995}\n",
        "mydict1.update(dict1)\n",
        "mydict1"
      ]
    },
    {
      "cell_type": "code",
      "execution_count": null,
      "metadata": {
        "id": "y_OP4x0DpC_-",
        "outputId": "9483998f-b488-4480-afc5-657bc16eb988"
      },
      "outputs": [
        {
          "data": {
            "text/plain": [
              "{'Name': 'Asif',\n",
              " 'ID': 12345,\n",
              " 'DOB': 1995,\n",
              " 'Address': 'Delhi',\n",
              " 'Job': 'Analyst'}"
            ]
          },
          "execution_count": 970,
          "metadata": {},
          "output_type": "execute_result"
        }
      ],
      "source": [
        "mydict1['Job'] = 'Analyst' # Adding items in the dictionary\n",
        "mydict1"
      ]
    },
    {
      "cell_type": "code",
      "execution_count": null,
      "metadata": {
        "id": "vixPndJQpC_-",
        "outputId": "caa5f337-7088-41a9-d560-9143afef0ee0"
      },
      "outputs": [
        {
          "data": {
            "text/plain": [
              "{'Name': 'Asif', 'ID': 12345, 'DOB': 1995, 'Address': 'Delhi'}"
            ]
          },
          "execution_count": 971,
          "metadata": {},
          "output_type": "execute_result"
        }
      ],
      "source": [
        "mydict1.pop('Job') # Removing items in the dictionary using Pop method\n",
        "mydict1"
      ]
    },
    {
      "cell_type": "code",
      "execution_count": null,
      "metadata": {
        "id": "UfB4t6IipC_-",
        "outputId": "c9c25825-fa14-4f0c-81cc-af262c7d5540"
      },
      "outputs": [
        {
          "data": {
            "text/plain": [
              "('Address', 'Delhi')"
            ]
          },
          "execution_count": 972,
          "metadata": {},
          "output_type": "execute_result"
        }
      ],
      "source": [
        "mydict1.popitem() # A random item is removed"
      ]
    },
    {
      "cell_type": "code",
      "execution_count": null,
      "metadata": {
        "id": "kT_gGWZDpC__",
        "outputId": "e32542fc-2350-4c07-c6b1-3d46bac01e94"
      },
      "outputs": [
        {
          "data": {
            "text/plain": [
              "{'Name': 'Asif', 'ID': 12345, 'DOB': 1995}"
            ]
          },
          "execution_count": 973,
          "metadata": {},
          "output_type": "execute_result"
        }
      ],
      "source": [
        "mydict1"
      ]
    },
    {
      "cell_type": "code",
      "execution_count": null,
      "metadata": {
        "id": "jqdL22MdpDAA",
        "outputId": "a097fddf-738f-4fac-f887-cc907425cb25"
      },
      "outputs": [
        {
          "data": {
            "text/plain": [
              "{'Name': 'Asif', 'DOB': 1995}"
            ]
          },
          "execution_count": 974,
          "metadata": {},
          "output_type": "execute_result"
        }
      ],
      "source": [
        "del[mydict1['ID']] # Removing item using del method\n",
        "mydict1"
      ]
    },
    {
      "cell_type": "code",
      "execution_count": null,
      "metadata": {
        "id": "JppMNTavpDAA",
        "outputId": "37c1547a-7e26-4266-a514-291209273a20"
      },
      "outputs": [
        {
          "data": {
            "text/plain": [
              "{}"
            ]
          },
          "execution_count": 975,
          "metadata": {},
          "output_type": "execute_result"
        }
      ],
      "source": [
        "mydict1.clear() # Delete all items of the dictionary using clear method\n",
        "mydict1"
      ]
    },
    {
      "cell_type": "code",
      "execution_count": null,
      "metadata": {
        "id": "6kdoS5P8pDAB",
        "outputId": "7ed85873-cac6-4b55-8962-a06ff9e9abdb"
      },
      "outputs": [
        {
          "ename": "NameError",
          "evalue": "name 'mydict1' is not defined",
          "output_type": "error",
          "traceback": [
            "\u001b[1;31m---------------------------------------------------------------------------\u001b[0m",
            "\u001b[1;31mNameError\u001b[0m                                 Traceback (most recent call last)",
            "\u001b[1;32m<ipython-input-976-da2fba4eca0f>\u001b[0m in \u001b[0;36m<module>\u001b[1;34m\u001b[0m\n\u001b[0;32m      1\u001b[0m \u001b[1;32mdel\u001b[0m \u001b[0mmydict1\u001b[0m \u001b[1;31m# Delete the dictionary object\u001b[0m\u001b[1;33m\u001b[0m\u001b[1;33m\u001b[0m\u001b[0m\n\u001b[1;32m----> 2\u001b[1;33m \u001b[0mmydict1\u001b[0m\u001b[1;33m\u001b[0m\u001b[1;33m\u001b[0m\u001b[0m\n\u001b[0m",
            "\u001b[1;31mNameError\u001b[0m: name 'mydict1' is not defined"
          ]
        }
      ],
      "source": [
        "del mydict1 # Delete the dictionary object\n",
        "mydict1"
      ]
    },
    {
      "cell_type": "markdown",
      "metadata": {
        "id": "NPfcFaQCpDAB"
      },
      "source": [
        "### Copy Dictionary"
      ]
    },
    {
      "cell_type": "code",
      "execution_count": null,
      "metadata": {
        "id": "OZncRozepDAC",
        "outputId": "eea21032-da23-48f0-dc77-98edf6f43257"
      },
      "outputs": [
        {
          "data": {
            "text/plain": [
              "{'Name': 'Asif', 'ID': 12345, 'DOB': 1991, 'Address': 'Hilsinki'}"
            ]
          },
          "execution_count": 977,
          "metadata": {},
          "output_type": "execute_result"
        }
      ],
      "source": [
        "mydict = {'Name':'Asif' , 'ID': 12345 , 'DOB': 1991 , 'Address' : 'Hilsinki'}\n",
        "mydict"
      ]
    },
    {
      "cell_type": "code",
      "execution_count": null,
      "metadata": {
        "id": "LL-6TBtnpDAC"
      },
      "outputs": [],
      "source": [
        "mydict1 = mydict # Create a new reference \"mydict1\""
      ]
    },
    {
      "cell_type": "code",
      "execution_count": null,
      "metadata": {
        "id": "-ww4zAxgpDAD",
        "outputId": "89e9a9a2-e15d-4067-a09c-cacc4e897a44"
      },
      "outputs": [
        {
          "data": {
            "text/plain": [
              "(1537346312776, 1537346312776)"
            ]
          },
          "execution_count": 979,
          "metadata": {},
          "output_type": "execute_result"
        }
      ],
      "source": [
        "id(mydict) , id(mydict1) # The address of both mydict & mydict1 will be the same as both are pointing to same dictionary."
      ]
    },
    {
      "cell_type": "code",
      "execution_count": null,
      "metadata": {
        "id": "-k05zFVzpDAE"
      },
      "outputs": [],
      "source": [
        "mydict2 = mydict.copy() # Create a copy of the dictionary"
      ]
    },
    {
      "cell_type": "code",
      "execution_count": null,
      "metadata": {
        "id": "6BagDKKRpDAF",
        "outputId": "5468b99a-3588-4d67-9c1a-ec903c1055a5"
      },
      "outputs": [
        {
          "data": {
            "text/plain": [
              "1537345875784"
            ]
          },
          "execution_count": 981,
          "metadata": {},
          "output_type": "execute_result"
        }
      ],
      "source": [
        "id(mydict2) # The address of mydict2 will be different from mydict because mydict2 is pointing to the copy of the existing dict."
      ]
    },
    {
      "cell_type": "code",
      "execution_count": null,
      "metadata": {
        "id": "KZnNTOgRpDAG"
      },
      "outputs": [],
      "source": [
        "mydict['Address'] = 'Mumbai'"
      ]
    },
    {
      "cell_type": "code",
      "execution_count": null,
      "metadata": {
        "id": "JHM02TT-pDAH",
        "outputId": "c9d07916-e5cb-40b6-9395-c6c59e0c3461"
      },
      "outputs": [
        {
          "data": {
            "text/plain": [
              "{'Name': 'Asif', 'ID': 12345, 'DOB': 1991, 'Address': 'Mumbai'}"
            ]
          },
          "execution_count": 983,
          "metadata": {},
          "output_type": "execute_result"
        }
      ],
      "source": [
        "mydict"
      ]
    },
    {
      "cell_type": "code",
      "execution_count": null,
      "metadata": {
        "id": "-SzyHT87pDAH",
        "outputId": "bede3c72-c4db-4178-84f6-f18cf6d5fd40"
      },
      "outputs": [
        {
          "data": {
            "text/plain": [
              "{'Name': 'Asif', 'ID': 12345, 'DOB': 1991, 'Address': 'Mumbai'}"
            ]
          },
          "execution_count": 984,
          "metadata": {},
          "output_type": "execute_result"
        }
      ],
      "source": [
        "mydict1 # mydict1 will be also impacted as it is pointing to the same dictionary"
      ]
    },
    {
      "cell_type": "code",
      "execution_count": null,
      "metadata": {
        "id": "tlZG-ZSppDAI",
        "outputId": "ba7a2aea-beda-48ff-8731-37c7e3176b96"
      },
      "outputs": [
        {
          "data": {
            "text/plain": [
              "{'Name': 'Asif', 'ID': 12345, 'DOB': 1991, 'Address': 'Hilsinki'}"
            ]
          },
          "execution_count": 985,
          "metadata": {},
          "output_type": "execute_result"
        }
      ],
      "source": [
        "mydict2 # Copy of list won't be impacted due to the changes made in the original dictionary"
      ]
    },
    {
      "cell_type": "markdown",
      "metadata": {
        "id": "KxpnBYRjpDAI"
      },
      "source": [
        "### Loop through a Dictionary"
      ]
    },
    {
      "cell_type": "code",
      "execution_count": null,
      "metadata": {
        "id": "QVS46NzUpDAI",
        "outputId": "99ba977d-4ce5-423c-ac3f-e81d6df798be"
      },
      "outputs": [
        {
          "data": {
            "text/plain": [
              "{'Name': 'Asif',\n",
              " 'ID': 12345,\n",
              " 'DOB': 1991,\n",
              " 'Address': 'Hilsinki',\n",
              " 'Job': 'Analyst'}"
            ]
          },
          "execution_count": 986,
          "metadata": {},
          "output_type": "execute_result"
        }
      ],
      "source": [
        "mydict1 = {'Name':'Asif' , 'ID': 12345 , 'DOB': 1991 , 'Address' : 'Hilsinki' , 'Job': 'Analyst'}\n",
        "mydict1"
      ]
    },
    {
      "cell_type": "code",
      "execution_count": null,
      "metadata": {
        "id": "5t2tuxuKpDAJ",
        "outputId": "3b4c9f1a-df1b-4fd1-a996-5b8428e188fb"
      },
      "outputs": [
        {
          "name": "stdout",
          "output_type": "stream",
          "text": [
            "Name : Asif\n",
            "ID : 12345\n",
            "DOB : 1991\n",
            "Address : Hilsinki\n",
            "Job : Analyst\n"
          ]
        }
      ],
      "source": [
        "for i in mydict1:\n",
        "    print(i , ':' , mydict1[i]) # Key & value pair"
      ]
    },
    {
      "cell_type": "code",
      "execution_count": null,
      "metadata": {
        "id": "NbYXUf5mpDAK",
        "outputId": "b0e14c6d-4b03-401a-b5be-336615758372"
      },
      "outputs": [
        {
          "name": "stdout",
          "output_type": "stream",
          "text": [
            "Asif\n",
            "12345\n",
            "1991\n",
            "Hilsinki\n",
            "Analyst\n"
          ]
        }
      ],
      "source": [
        "for i in mydict1:\n",
        "    print(mydict1[i]) # Dictionary items"
      ]
    },
    {
      "cell_type": "markdown",
      "metadata": {
        "id": "77283GI4pDAK"
      },
      "source": [
        "### Dictionary Membership"
      ]
    },
    {
      "cell_type": "code",
      "execution_count": null,
      "metadata": {
        "id": "ehBy4tVIpDAL",
        "outputId": "e0a9ddc3-57fe-4030-f69a-5b27207a698f"
      },
      "outputs": [
        {
          "data": {
            "text/plain": [
              "{'Name': 'Asif', 'ID': 12345, 'DOB': 1991, 'Job': 'Analyst'}"
            ]
          },
          "execution_count": 989,
          "metadata": {},
          "output_type": "execute_result"
        }
      ],
      "source": [
        "mydict1 = {'Name':'Asif' , 'ID': 12345 , 'DOB': 1991 , 'Job': 'Analyst'}\n",
        "mydict1"
      ]
    },
    {
      "cell_type": "code",
      "execution_count": null,
      "metadata": {
        "id": "xdWDXvvBpDAL",
        "outputId": "ab722ab2-354f-41a1-fb11-28b165d91af4"
      },
      "outputs": [
        {
          "data": {
            "text/plain": [
              "True"
            ]
          },
          "execution_count": 990,
          "metadata": {},
          "output_type": "execute_result"
        }
      ],
      "source": [
        "'Name' in mydict1 # Test if a key is in a dictionary or not."
      ]
    },
    {
      "cell_type": "code",
      "execution_count": null,
      "metadata": {
        "id": "OG2FyDHspDAL",
        "outputId": "74dd8102-f972-4ee5-b19f-1b16f1b09af0"
      },
      "outputs": [
        {
          "data": {
            "text/plain": [
              "False"
            ]
          },
          "execution_count": 991,
          "metadata": {},
          "output_type": "execute_result"
        }
      ],
      "source": [
        "'Asif' in mydict1  # Membership test can be only done for keys."
      ]
    },
    {
      "cell_type": "code",
      "execution_count": null,
      "metadata": {
        "id": "btCpOfeIpDAM",
        "outputId": "8a88c81c-705e-450c-c140-8c3ea481f4e3"
      },
      "outputs": [
        {
          "data": {
            "text/plain": [
              "True"
            ]
          },
          "execution_count": 992,
          "metadata": {},
          "output_type": "execute_result"
        }
      ],
      "source": [
        "'ID' in mydict1"
      ]
    },
    {
      "cell_type": "code",
      "execution_count": null,
      "metadata": {
        "id": "3DuW8Pa3pDAM",
        "outputId": "da19d6b4-eebb-4f4a-8169-c8bc86915ddc"
      },
      "outputs": [
        {
          "data": {
            "text/plain": [
              "False"
            ]
          },
          "execution_count": 993,
          "metadata": {},
          "output_type": "execute_result"
        }
      ],
      "source": [
        "'Address' in mydict1"
      ]
    },
    {
      "cell_type": "markdown",
      "metadata": {
        "id": "tJdt5P8GpDAN"
      },
      "source": [
        "### All / Any"
      ]
    },
    {
      "cell_type": "markdown",
      "metadata": {
        "id": "xh7NH97LpDAN"
      },
      "source": [
        "The __all()__ method returns:\n",
        "\n",
        "- __True__ - If all all keys of the dictionary are true\n",
        "- __False__ - If any key of the dictionary is false\n",
        "\n",
        "\n",
        "The __any()__ function returns True if any key of the dictionary is True. If not, any() returns False."
      ]
    },
    {
      "cell_type": "code",
      "execution_count": null,
      "metadata": {
        "id": "7NjLLxPYpDAO",
        "outputId": "3d5c96df-6195-4524-c682-c00978d30636"
      },
      "outputs": [
        {
          "data": {
            "text/plain": [
              "{'Name': 'Asif', 'ID': 12345, 'DOB': 1991, 'Job': 'Analyst'}"
            ]
          },
          "execution_count": 995,
          "metadata": {},
          "output_type": "execute_result"
        }
      ],
      "source": [
        "mydict1 = {'Name':'Asif' , 'ID': 12345 , 'DOB': 1991 , 'Job': 'Analyst'}\n",
        "mydict1"
      ]
    },
    {
      "cell_type": "code",
      "execution_count": null,
      "metadata": {
        "id": "FdUPTpF7pDAO",
        "outputId": "fedeb013-4a52-4326-d7e6-af4415ab98fd"
      },
      "outputs": [
        {
          "data": {
            "text/plain": [
              "True"
            ]
          },
          "execution_count": 996,
          "metadata": {},
          "output_type": "execute_result"
        }
      ],
      "source": [
        "all(mydict1) # Will Return false as one value is false (Value 0)"
      ]
    },
    {
      "cell_type": "code",
      "execution_count": null,
      "metadata": {
        "id": "jOJ3qIOppDAP",
        "outputId": "260ed0e5-49bd-4038-d2c3-6413278d3f25"
      },
      "outputs": [
        {
          "data": {
            "text/plain": [
              "True"
            ]
          },
          "execution_count": 997,
          "metadata": {},
          "output_type": "execute_result"
        }
      ],
      "source": [
        "any(mydict1)  # Will Return True as we have items in the dictionary with True value"
      ]
    },
    {
      "cell_type": "code",
      "execution_count": null,
      "metadata": {
        "id": "NXO4z0QnpDAP",
        "outputId": "3ef0d9a7-a639-4dab-8a12-b6f032e34433"
      },
      "outputs": [
        {
          "data": {
            "text/plain": [
              "{'Name': 'Asif', 'ID': 12345, 'DOB': 1991, 'Job': 'Analyst', 0: 'test1'}"
            ]
          },
          "execution_count": 998,
          "metadata": {},
          "output_type": "execute_result"
        }
      ],
      "source": [
        "mydict1[0] = 'test1'\n",
        "mydict1"
      ]
    },
    {
      "cell_type": "code",
      "execution_count": null,
      "metadata": {
        "id": "AkuW3oXipDAP",
        "outputId": "b03daedb-bc86-43f7-ff74-a54ea7a306ab"
      },
      "outputs": [
        {
          "data": {
            "text/plain": [
              "False"
            ]
          },
          "execution_count": 999,
          "metadata": {},
          "output_type": "execute_result"
        }
      ],
      "source": [
        "all(mydict1) # Returns false as one value is false"
      ]
    },
    {
      "cell_type": "code",
      "execution_count": null,
      "metadata": {
        "id": "wzjA6dn3pDAR",
        "outputId": "fca25646-2faf-42b0-9266-0f46b0acb993"
      },
      "outputs": [
        {
          "data": {
            "text/plain": [
              "True"
            ]
          },
          "execution_count": 1000,
          "metadata": {},
          "output_type": "execute_result"
        }
      ],
      "source": [
        "any(mydict1)  # Will Return True as we have items in the dictionary with True value"
      ]
    },
    {
      "cell_type": "markdown",
      "metadata": {
        "id": "4cdYjLczpDAR"
      },
      "source": [
        "### Dictionary Comprehension"
      ]
    },
    {
      "cell_type": "code",
      "execution_count": null,
      "metadata": {
        "id": "Ex8pHpYkpDAS",
        "outputId": "34a98056-9bc8-4d56-c009-d72e3393fb63"
      },
      "outputs": [
        {
          "data": {
            "text/plain": [
              "{0: 0, 1: 2, 2: 4, 3: 6, 4: 8, 5: 10, 6: 12, 7: 14, 8: 16, 9: 18}"
            ]
          },
          "execution_count": 323,
          "metadata": {},
          "output_type": "execute_result"
        }
      ],
      "source": [
        "double = {i:i*2 for i in range(10)} #double each value using dict comprehension\n",
        "double"
      ]
    },
    {
      "cell_type": "code",
      "execution_count": null,
      "metadata": {
        "id": "eY1SruT5pDAS",
        "outputId": "b2c5c11b-c478-4c37-ba33-8f82b3eea08f"
      },
      "outputs": [
        {
          "data": {
            "text/plain": [
              "{0: 0, 1: 1, 2: 4, 3: 9, 4: 16, 5: 25, 6: 36, 7: 49, 8: 64, 9: 81}"
            ]
          },
          "execution_count": 327,
          "metadata": {},
          "output_type": "execute_result"
        }
      ],
      "source": [
        "square = {i:i**2 for i in range(10)}\n",
        "square"
      ]
    },
    {
      "cell_type": "markdown",
      "metadata": {
        "id": "GK_38rEppDAT"
      },
      "source": [
        "<img src=\"https://github.com/datasciencescoop/Python/blob/master/Dcomprehension.PNG?raw=1\">"
      ]
    },
    {
      "cell_type": "code",
      "execution_count": null,
      "metadata": {
        "id": "24XK8MelpDAT",
        "outputId": "7b49988c-b6ce-479f-bb0c-fc043c6f05a3"
      },
      "outputs": [
        {
          "data": {
            "text/plain": [
              "{'one': 1, 'two': 2, 'three': 3, 'four': 4, 'five': 5}"
            ]
          },
          "execution_count": 329,
          "metadata": {},
          "output_type": "execute_result"
        }
      ],
      "source": [
        "key = ['one' , 'two' , 'three' , 'four' , 'five']\n",
        "value = [1,2,3,4,5]\n",
        "\n",
        "mydict = {k:v for (k,v) in zip(key,value)} # using dict comprehension to create dictionary\n",
        "mydict"
      ]
    },
    {
      "cell_type": "code",
      "execution_count": null,
      "metadata": {
        "id": "yW05kLplpDAV",
        "outputId": "35db7b2c-c146-46a9-e3f1-07f53e250cb7"
      },
      "outputs": [
        {
          "data": {
            "text/plain": [
              "{'a': 1.0, 'b': 2.0, 'c': 3.0, 'd': 4.0, 'e': 5.0}"
            ]
          },
          "execution_count": 332,
          "metadata": {},
          "output_type": "execute_result"
        }
      ],
      "source": [
        "mydict1 = {'a':10 , 'b':20 , 'c':30 , 'd':40 , 'e':50}\n",
        "mydict1 = {k:v/10 for (k,v) in mydict1.items()} # Divide all values in a dictionary by 10\n",
        "mydict1"
      ]
    },
    {
      "cell_type": "code",
      "execution_count": null,
      "metadata": {
        "id": "MQ-53mqjpDAW",
        "outputId": "ea983b8a-2e8b-43f7-d089-75050d13e65d"
      },
      "outputs": [
        {
          "data": {
            "text/plain": [
              "{0: 'N',\n",
              " 1: 'a',\n",
              " 2: 't',\n",
              " 3: 'u',\n",
              " 4: 'r',\n",
              " 5: 'a',\n",
              " 6: 'l',\n",
              " 7: ' ',\n",
              " 8: 'L',\n",
              " 9: 'a',\n",
              " 10: 'n',\n",
              " 11: 'g',\n",
              " 12: 'u',\n",
              " 13: 'a',\n",
              " 14: 'g',\n",
              " 15: 'e',\n",
              " 16: ' ',\n",
              " 17: 'P',\n",
              " 18: 'r',\n",
              " 19: 'o',\n",
              " 20: 'c',\n",
              " 21: 'e',\n",
              " 22: 's',\n",
              " 23: 's',\n",
              " 24: 'i',\n",
              " 25: 'n',\n",
              " 26: 'g'}"
            ]
          },
          "execution_count": 334,
          "metadata": {},
          "output_type": "execute_result"
        }
      ],
      "source": [
        "str1 = \"Natural Language Processing\"\n",
        "\n",
        "mydict2 = {k:v for (k,v) in enumerate(str1)} # Store enumerated values in a dictionary\n",
        "mydict2"
      ]
    },
    {
      "cell_type": "code",
      "execution_count": null,
      "metadata": {
        "id": "EH68mcC8pDAX",
        "outputId": "3c1bfa03-752c-4746-add1-000b8c25f058"
      },
      "outputs": [
        {
          "data": {
            "text/plain": [
              "{'a': 'A',\n",
              " 'b': 'B',\n",
              " 'c': 'C',\n",
              " 'd': 'D',\n",
              " 'e': 'E',\n",
              " 'f': 'F',\n",
              " 'g': 'G',\n",
              " 'h': 'H',\n",
              " 'i': 'I',\n",
              " 'j': 'J',\n",
              " 'k': 'K',\n",
              " 'l': 'L',\n",
              " 'm': 'M',\n",
              " 'n': 'N',\n",
              " 'o': 'O',\n",
              " 'p': 'P',\n",
              " 'q': 'Q',\n",
              " 'r': 'R',\n",
              " 's': 'S',\n",
              " 't': 'T',\n",
              " 'u': 'U',\n",
              " 'v': 'V',\n",
              " 'w': 'W',\n",
              " 'x': 'X',\n",
              " 'y': 'Y',\n",
              " 'z': 'Z'}"
            ]
          },
          "execution_count": 337,
          "metadata": {},
          "output_type": "execute_result"
        }
      ],
      "source": [
        "str1 = \"abcdefghijklmnopqrstuvwxyz\"\n",
        "mydict3 = {i:i.upper() for i in str1} # Lower to Upper Case\n",
        "mydict3"
      ]
    },
    {
      "cell_type": "markdown",
      "metadata": {
        "id": "r9hCPQKMpDAY"
      },
      "source": [
        "### Word Frequency using dictionary"
      ]
    },
    {
      "cell_type": "code",
      "execution_count": null,
      "metadata": {
        "id": "e7Kv6ON4pDAZ"
      },
      "outputs": [],
      "source": [
        "mystr4 = \"one two three four one two two three five five six seven six seven one one one ten eight ten nine eleven ten ten nine\""
      ]
    },
    {
      "cell_type": "code",
      "execution_count": null,
      "metadata": {
        "id": "5W7U5iAVpDAZ",
        "outputId": "d55de2a8-91ce-4cca-e437-cbc9a3ab06a2"
      },
      "outputs": [
        {
          "data": {
            "text/plain": [
              "['one',\n",
              " 'two',\n",
              " 'three',\n",
              " 'four',\n",
              " 'one',\n",
              " 'two',\n",
              " 'two',\n",
              " 'three',\n",
              " 'five',\n",
              " 'five',\n",
              " 'six',\n",
              " 'seven',\n",
              " 'six',\n",
              " 'seven',\n",
              " 'one',\n",
              " 'one',\n",
              " 'one',\n",
              " 'ten',\n",
              " 'eight',\n",
              " 'ten',\n",
              " 'nine',\n",
              " 'eleven',\n",
              " 'ten',\n",
              " 'ten',\n",
              " 'nine']"
            ]
          },
          "execution_count": 64,
          "metadata": {},
          "output_type": "execute_result"
        }
      ],
      "source": [
        "mylist = mystr4.split() # Split String into substrings\n",
        "mylist"
      ]
    },
    {
      "cell_type": "code",
      "execution_count": null,
      "metadata": {
        "id": "XNRIlLM1pDAa",
        "outputId": "fd7ad02d-861c-40c6-fdbb-73636bb14fed"
      },
      "outputs": [
        {
          "data": {
            "text/plain": [
              "['nine',\n",
              " 'one',\n",
              " 'eight',\n",
              " 'two',\n",
              " 'seven',\n",
              " 'ten',\n",
              " 'four',\n",
              " 'five',\n",
              " 'three',\n",
              " 'eleven',\n",
              " 'six']"
            ]
          },
          "execution_count": 63,
          "metadata": {},
          "output_type": "execute_result"
        }
      ],
      "source": [
        "mylist1 = set(mylist) # Unique values in a list\n",
        "mylist1 = list (mylist1)\n",
        "mylist1"
      ]
    },
    {
      "cell_type": "code",
      "execution_count": null,
      "metadata": {
        "id": "JwS1kJerpDAa",
        "outputId": "57fa1af2-e816-4c79-dc05-0796324c7a0e"
      },
      "outputs": [
        {
          "name": "stdout",
          "output_type": "stream",
          "text": [
            "{'nine': 2, 'one': 5, 'eight': 1, 'two': 3, 'seven': 2, 'ten': 4, 'four': 1, 'five': 2, 'three': 2, 'eleven': 1, 'six': 2}\n"
          ]
        }
      ],
      "source": [
        "# Calculate frequenct of each word\n",
        "count1 = [0] * len(mylist1)\n",
        "mydict5 = dict()\n",
        "for i in range(len(mylist1)):\n",
        "    for j in range(len(mylist)):\n",
        "        if mylist1[i] == mylist[j]:\n",
        "            count1[i] += 1\n",
        "    mydict5[mylist1[i]] = count1[i]\n",
        "print(mydict5)"
      ]
    },
    {
      "cell_type": "markdown",
      "metadata": {
        "id": "BeHu-uq6pDAa"
      },
      "source": [
        "# Operators"
      ]
    },
    {
      "cell_type": "markdown",
      "metadata": {
        "id": "09yr_F7EpDAb"
      },
      "source": [
        "- __Operators are special symbols in Python which are used to perform operations on variables/values.__"
      ]
    },
    {
      "cell_type": "markdown",
      "metadata": {
        "id": "n1jpfNhNpDAb"
      },
      "source": [
        "### Arithmetic Operators"
      ]
    },
    {
      "cell_type": "code",
      "execution_count": null,
      "metadata": {
        "id": "YHtEnOffpDAb",
        "outputId": "0663018a-099f-432e-d796-60c40aa770b3"
      },
      "outputs": [
        {
          "name": "stdout",
          "output_type": "stream",
          "text": [
            "Addition of 5 and 2 will give :- 7\n",
            "\n",
            "Concatenate string 'x' and 'y' using '+' operaotr :- AsifBhat\n",
            "\n",
            "Subtracting 2 from 5 will give :- 3\n",
            "\n",
            "Multiplying 5 and 2 will give :- 10\n",
            "\n",
            "Dividing 5 by 2 will give :- 2.5\n",
            "\n",
            "Modulo of 5 , 2 will give :- 1\n",
            "\n",
            "5 raised to the power 2 will give :- 25\n",
            "\n",
            "Floor division of 5 by 2 will give :- 2\n",
            "\n"
          ]
        }
      ],
      "source": [
        "a = 5\n",
        "b = 2\n",
        "\n",
        "x = 'Asif'\n",
        "y = 'Bhat'\n",
        "\n",
        "# Addition\n",
        "c = a + b\n",
        "print('Addition of {} and {} will give :- {}\\n'.format(a,b,c))\n",
        "\n",
        "#Concatenate string using plus operator\n",
        "z = x+y\n",
        "print ('Concatenate string \\'x\\' and \\'y\\' using \\'+\\' operaotr :- {}\\n'.format(z))\n",
        "\n",
        "# Subtraction\n",
        "c = a - b\n",
        "print('Subtracting {} from {} will give :- {}\\n'.format(b,a,c))\n",
        "\n",
        "# Multiplication\n",
        "c = a * b\n",
        "print('Multiplying {} and {} will give :- {}\\n'.format(a,b,c))\n",
        "\n",
        "# Division\n",
        "c = a / b\n",
        "print('Dividing {} by {} will give :- {}\\n'.format(a,b,c))\n",
        "\n",
        "# Modulo of both number\n",
        "c = a % b\n",
        "print('Modulo of {} , {} will give :- {}\\n'.format(a,b,c))\n",
        "\n",
        "# Power\n",
        "c = a ** b\n",
        "print('{} raised to the power {} will give :- {}\\n'.format(a,b,c))\n",
        "\n",
        "# Division(floor)\n",
        "c = a // b\n",
        "print('Floor division of {} by {} will give :- {}\\n'.format(a,b,c))"
      ]
    },
    {
      "cell_type": "markdown",
      "metadata": {
        "id": "9pLEEAr7pDAc"
      },
      "source": [
        "### Comparison Operators"
      ]
    },
    {
      "cell_type": "markdown",
      "metadata": {
        "id": "KwlLlBzRpDAc"
      },
      "source": [
        "Comparison operators are used to compare values."
      ]
    },
    {
      "cell_type": "code",
      "execution_count": null,
      "metadata": {
        "id": "1AXsA4SgpDAc",
        "outputId": "b845c4ce-7864-43e0-828e-6af2204780de"
      },
      "outputs": [
        {
          "name": "stdout",
          "output_type": "stream",
          "text": [
            "Is x greater than y :-  False\n",
            "\n",
            "Is x less than  y :-  True\n",
            "\n",
            "Is x equal to  y :-  False\n",
            "\n",
            "Is x not equal to y :-  True\n",
            "\n",
            "Is x greater than or equal to y :-  False\n",
            "\n",
            "Is x less than or equal to y :-  True\n"
          ]
        }
      ],
      "source": [
        "x = 20\n",
        "y = 30\n",
        "\n",
        "print('Is x greater than y :- ',x>y)\n",
        "\n",
        "print('\\nIs x less than  y :- ',x<y)\n",
        "\n",
        "print('\\nIs x equal to  y :- ',x==y)\n",
        "\n",
        "print('\\nIs x not equal to y :- ',x!=y)\n",
        "\n",
        "print('\\nIs x greater than or equal to y :- ',x>=y)\n",
        "\n",
        "print('\\nIs x less than or equal to y :- ',x<=y)"
      ]
    },
    {
      "cell_type": "code",
      "execution_count": null,
      "metadata": {
        "id": "hAa_dthapDAd",
        "outputId": "7a830ad2-e393-4d7e-8bbf-bf7e3359bd15"
      },
      "outputs": [
        {
          "data": {
            "text/plain": [
              "(False, True, True)"
            ]
          },
          "execution_count": 87,
          "metadata": {},
          "output_type": "execute_result"
        }
      ],
      "source": [
        "a = 'Asif'\n",
        "b = 'Bhat'\n",
        "c = 'Asif'\n",
        "\n",
        "a == b , a ==c , a != b # Comparison operators on string"
      ]
    },
    {
      "cell_type": "markdown",
      "metadata": {
        "id": "jS6J6XQNpDAd"
      },
      "source": [
        "### Logical Operators"
      ]
    },
    {
      "cell_type": "code",
      "execution_count": null,
      "metadata": {
        "id": "BmVn9I-WpDAd",
        "outputId": "ef673c51-5b71-4702-ca32-561deb277782"
      },
      "outputs": [
        {
          "name": "stdout",
          "output_type": "stream",
          "text": [
            "Logical AND operation :-  False\n",
            "Logical OR operation :-  True\n",
            "NOT operation :-  False\n"
          ]
        }
      ],
      "source": [
        "x = True\n",
        "y = False\n",
        "\n",
        "print('Logical AND operation :- ',x and y) # True if both values are true\n",
        "print('Logical OR operation :- ',x or y) # True if either of the values is true\n",
        "print('NOT operation :- ',not x ) # True if operand is false"
      ]
    },
    {
      "cell_type": "markdown",
      "metadata": {
        "id": "70KqxTbGpDAe"
      },
      "source": [
        "### Bitwise operators"
      ]
    },
    {
      "cell_type": "markdown",
      "metadata": {
        "id": "dSnXxXRIpDAe"
      },
      "source": [
        "__Bitwise operators act on bits and performs bit by bit operation.__"
      ]
    },
    {
      "cell_type": "code",
      "execution_count": null,
      "metadata": {
        "id": "eu2xtVkIpDAe",
        "outputId": "4ca74220-f358-438a-bb8c-83dc4459bf11"
      },
      "outputs": [
        {
          "name": "stdout",
          "output_type": "stream",
          "text": [
            "Bitwise AND operation - 2\n",
            "Bitwise OR operation - 22\n",
            "Bitwise XOR operation - 20\n",
            "Bitwise NOT operation - -19\n",
            "Bitwise right shift operation - 4\n",
            "Bitwise left shift operation - 72\n"
          ]
        }
      ],
      "source": [
        "x = 18  # binary form 10010\n",
        "y = 6  # binary form 00110\n",
        "\n",
        "print('Bitwise AND operation - {}'.format(x&y))\n",
        "print('Bitwise OR operation - {}'.format(x|y))\n",
        "print('Bitwise XOR operation - {}'.format(x^y))\n",
        "print('Bitwise NOT operation - {}'.format(~x))\n",
        "print('Bitwise right shift operation - {}'.format(x>>2))\n",
        "print('Bitwise left shift operation - {}'.format(x<<2))"
      ]
    },
    {
      "cell_type": "markdown",
      "metadata": {
        "id": "CxhAs-5WpDAf"
      },
      "source": [
        "### Assignment Operators"
      ]
    },
    {
      "cell_type": "code",
      "execution_count": null,
      "metadata": {
        "id": "CDCap3-VpDAf",
        "outputId": "10a8dcf7-d4b4-4976-bcae-9262d55572d8"
      },
      "outputs": [
        {
          "name": "stdout",
          "output_type": "stream",
          "text": [
            "Initialize x with value 10 (x=10)) :-  10\n",
            "Add 20 to x :-  30\n",
            "subtract 20 from x :-  10\n",
            "Divide x by 10 :-  1.0\n",
            "Multiply x by 10 :-  10.0\n",
            "x raised to the power 2 :-  100\n",
            "Modulo Division :-  0\n",
            "Floor Division :-  6\n",
            "Bitwise AND :-  2\n",
            "Bitwise OR :-  2\n",
            "Bitwise XOR :-  0\n",
            "Bitwise left shift operation 40\n",
            "Bitwise right shift operation 10\n"
          ]
        }
      ],
      "source": [
        "x = 10\n",
        "\n",
        "print('Initialize x with value 10 (x=10)) :- ',x)\n",
        "\n",
        "\n",
        "x+=20 # x = x+20\n",
        "print ('Add 20 to x :- ',x)\n",
        "\n",
        "\n",
        "x-=20 # x = x-20\n",
        "print ('subtract 20 from x :- ',x)\n",
        "\n",
        "\n",
        "x/=10 # x = x/10\n",
        "print ('Divide x by 10 :- ',x)\n",
        "\n",
        "\n",
        "\n",
        "x*=10 # x = x/10\n",
        "print ('Multiply x by 10 :- ',x)\n",
        "\n",
        "x = int(x)\n",
        "\n",
        "\n",
        "x**=2 # x = x/10\n",
        "print ('x raised to the power 2 :- ',x)\n",
        "\n",
        "\n",
        "\n",
        "x%=2\n",
        "print ('Modulo Division :- ',x)\n",
        "\n",
        "\n",
        "x = 20\n",
        "\n",
        "\n",
        "x//=3\n",
        "print ('Floor Division :- ',x)\n",
        "\n",
        "\n",
        "x&=2\n",
        "print('Bitwise AND :- ',x)\n",
        "\n",
        "\n",
        "x|=2\n",
        "print('Bitwise OR :- ',x)\n",
        "\n",
        "\n",
        "x^=2\n",
        "print('Bitwise XOR :- ',x)\n",
        "\n",
        "\n",
        "x = 10\n",
        "\n",
        "\n",
        "x<<=2\n",
        "print('Bitwise left shift operation',x)\n",
        "\n",
        "\n",
        "x>>=2\n",
        "print('Bitwise right shift operation',x)"
      ]
    },
    {
      "cell_type": "markdown",
      "metadata": {
        "id": "LxAttUiCpDAg"
      },
      "source": [
        "### Membership Operators"
      ]
    },
    {
      "cell_type": "markdown",
      "metadata": {
        "id": "O4idN02apDAh"
      },
      "source": [
        "__Membership Operators are used to test whether a value / variable is present in a sequence.__"
      ]
    },
    {
      "cell_type": "code",
      "execution_count": null,
      "metadata": {
        "id": "BTmSHH_qpDAh",
        "outputId": "ad139d3d-dadf-4782-9761-fe14adfcad87"
      },
      "outputs": [
        {
          "data": {
            "text/plain": [
              "(True, False)"
            ]
          },
          "execution_count": 122,
          "metadata": {},
          "output_type": "execute_result"
        }
      ],
      "source": [
        "mystr = 'Asif Ali Bhat'\n",
        "\n",
        "'Asif' in mystr , 'John' in mystr"
      ]
    },
    {
      "cell_type": "code",
      "execution_count": null,
      "metadata": {
        "id": "tb8KflVNpDAk",
        "outputId": "c14250bd-eb98-422c-fcb5-17e96dbac7e5"
      },
      "outputs": [
        {
          "data": {
            "text/plain": [
              "(False, True)"
            ]
          },
          "execution_count": 123,
          "metadata": {},
          "output_type": "execute_result"
        }
      ],
      "source": [
        "mystr = 'Asif Ali Bhat'\n",
        "\n",
        "'Asif' not in mystr , 'John' not in mystr"
      ]
    },
    {
      "cell_type": "markdown",
      "metadata": {
        "id": "05R0lf0ypDAz"
      },
      "source": [
        "# Functions"
      ]
    },
    {
      "cell_type": "markdown",
      "metadata": {
        "id": "UO7_ZtuppDA8"
      },
      "source": [
        "- A function is a block of organized code written to carry out a specified task.\n",
        "\n",
        "- Functions help break our program into smaller and modular chunks for better readability.\n",
        "\n",
        "- Information can be passed into a function as arguments.\n",
        "\n",
        "- Parameters are specified after the function name inside the parentheses.\n",
        "\n",
        "- We can add as many parameters as we want. Parameters must be separated with a comma.\n",
        "\n",
        "- A function may or may not return data.\n",
        "\n",
        "- In Python a function is defined using the __def__ keyword\n",
        "\n",
        "### Parameter VS Argument\n",
        "\n",
        " - A parameter is the variable listed inside the parentheses in the function definition.\n",
        "\n",
        " - An argument is the value that is sent to the function when it is called.\n",
        "\n",
        "### Three types of functions in Python:-\n",
        "\n",
        "- __Built-in function :-__  Python predefined functions that are readily available for use like min() , max() , sum() , print() etc.\n",
        "\n",
        "- __User-Defined Functions:-__ Function that we define ourselves to perform a specific task.\n",
        "\n",
        "- __Anonymous functions :__ Function that is defined without a name. Anonymous functions are also called as lambda functions. They are not declared with the __def__ keyword.\n",
        "\n",
        "### Syntax"
      ]
    },
    {
      "cell_type": "markdown",
      "metadata": {
        "id": "2ek3OSv8pDBE"
      },
      "source": [
        "<img src=\"https://github.com/datasciencescoop/Python/blob/master/functions.PNG?raw=1\">"
      ]
    },
    {
      "cell_type": "markdown",
      "metadata": {
        "id": "g6nfv63ApDBF"
      },
      "source": [
        "### Modularity"
      ]
    },
    {
      "cell_type": "markdown",
      "metadata": {
        "id": "YLMOT1g3pDBG"
      },
      "source": [
        "<img src=\"https://github.com/datasciencescoop/Python/blob/master/modularity.PNG?raw=1\">"
      ]
    },
    {
      "cell_type": "code",
      "execution_count": null,
      "metadata": {
        "id": "UdmmrDQfpDBH",
        "outputId": "ac3b9d9c-a045-451e-e0a9-bf0df7a2465a"
      },
      "outputs": [
        {
          "name": "stdout",
          "output_type": "stream",
          "text": [
            "Hello Python Lovers\n"
          ]
        }
      ],
      "source": [
        "def myfunc():\n",
        "  print(\"Hello Python Lovers\")\n",
        "\n",
        "myfunc()"
      ]
    },
    {
      "cell_type": "code",
      "execution_count": null,
      "metadata": {
        "id": "FnIDwx8SpDBI",
        "outputId": "b15f771f-855c-44e9-ab86-b9cbc7e238c7"
      },
      "outputs": [
        {
          "name": "stdout",
          "output_type": "stream",
          "text": [
            "Name :-  Asif\n",
            "User ID is :-  asif123\n",
            "Country :-  India\n"
          ]
        }
      ],
      "source": [
        "def details(name,userid,country): # Function to print User details\n",
        "    print('Name :- ', name)\n",
        "    print('User ID is :- ', userid)\n",
        "    print('Country :- ',country)\n",
        "\n",
        "details('Asif' , 'asif123' , 'India')"
      ]
    },
    {
      "cell_type": "code",
      "execution_count": null,
      "metadata": {
        "id": "YuhbGgpmpDBJ",
        "outputId": "627b46b9-2287-41a5-dbc0-6fe10bb073bd"
      },
      "outputs": [
        {
          "data": {
            "text/plain": [
              "100"
            ]
          },
          "execution_count": 586,
          "metadata": {},
          "output_type": "execute_result"
        }
      ],
      "source": [
        "def square (n): #function to find square of a number\n",
        "    n= n*n\n",
        "    return n\n",
        "\n",
        "square (10)"
      ]
    },
    {
      "cell_type": "code",
      "execution_count": null,
      "metadata": {
        "id": "8-MXqSF9pDBJ",
        "outputId": "b398d03e-f706-4a08-914f-1050b3bb36f9"
      },
      "outputs": [
        {
          "name": "stdout",
          "output_type": "stream",
          "text": [
            "3  is odd number\n",
            "4  is even number\n",
            " This function will check whether a number is even or odd\n"
          ]
        }
      ],
      "source": [
        "def even_odd (num): #Even odd test\n",
        "    \"\"\" This function will check whether a number is even or odd\"\"\"\n",
        "    if num % 2 ==0:\n",
        "        print (num, ' is even number')\n",
        "    else:\n",
        "        print (num, ' is odd number')\n",
        "\n",
        "even_odd(3)\n",
        "even_odd(4)\n",
        "print(even_odd.__doc__) # Print function documentation string"
      ]
    },
    {
      "cell_type": "code",
      "execution_count": null,
      "metadata": {
        "id": "fSs6e_18pDBK",
        "outputId": "6485aca6-6580-44c4-8767-9d0d8655b903"
      },
      "outputs": [
        {
          "name": "stdout",
          "output_type": "stream",
          "text": [
            "Asif Ali Bhat\n"
          ]
        }
      ],
      "source": [
        "def fullname (firstname , middlename ,lastname): #Concatenate Strings\n",
        "    fullname = \"{} {} {}\".format(firstname,middlename,lastname)\n",
        "    print (fullname)\n",
        "\n",
        "fullname('Asif' , 'Ali' , 'Bhat')"
      ]
    },
    {
      "cell_type": "code",
      "execution_count": null,
      "metadata": {
        "id": "IsARJRW2pDBL",
        "outputId": "1759c894-9028-45c8-acbb-45de6999423e"
      },
      "outputs": [
        {
          "name": "stdout",
          "output_type": "stream",
          "text": [
            "Asif Ali Bhat\n"
          ]
        }
      ],
      "source": [
        "def fullname (firstname , middlename ,lastname): #Concatenate Strings\n",
        "    fullname = \"{} {} {}\".format(firstname,middlename,lastname)\n",
        "    print (fullname)\n",
        "\n",
        "fullname(lastname = 'Bhat' , middlename='Ali' , firstname='Asif') # Keyword Arguments. Order of the arguments does not matter."
      ]
    },
    {
      "cell_type": "code",
      "execution_count": null,
      "metadata": {
        "id": "pNmZ5LFfpDBN",
        "outputId": "b9a47283-27db-45d6-86f6-e0714c8e3118"
      },
      "outputs": [
        {
          "ename": "TypeError",
          "evalue": "fullname() missing 2 required positional arguments: 'middlename' and 'lastname'",
          "output_type": "error",
          "traceback": [
            "\u001b[1;31m---------------------------------------------------------------------------\u001b[0m",
            "\u001b[1;31mTypeError\u001b[0m                                 Traceback (most recent call last)",
            "\u001b[1;32m<ipython-input-592-d194f8b98253>\u001b[0m in \u001b[0;36m<module>\u001b[1;34m\u001b[0m\n\u001b[1;32m----> 1\u001b[1;33m \u001b[0mfullname\u001b[0m \u001b[1;33m(\u001b[0m\u001b[1;34m'Asif'\u001b[0m\u001b[1;33m)\u001b[0m\u001b[1;33m\u001b[0m\u001b[1;33m\u001b[0m\u001b[0m\n\u001b[0m",
            "\u001b[1;31mTypeError\u001b[0m: fullname() missing 2 required positional arguments: 'middlename' and 'lastname'"
          ]
        }
      ],
      "source": [
        "fullname ('Asif') # This will throw error as function is expecting 3 arguments."
      ]
    },
    {
      "cell_type": "code",
      "execution_count": null,
      "metadata": {
        "id": "UDYmNkZApDBO",
        "outputId": "23a5d292-243c-4481-e367-08c0e939f37c"
      },
      "outputs": [
        {
          "name": "stdout",
          "output_type": "stream",
          "text": [
            "Most Populous City :-  Mumbai\n"
          ]
        }
      ],
      "source": [
        "def myfunc(city = 'Mumbai'):\n",
        "    print('Most Populous City :- ', city)\n",
        "\n",
        "myfunc() # When a function is called without an argument it will use default value"
      ]
    },
    {
      "cell_type": "code",
      "execution_count": null,
      "metadata": {
        "id": "gLgR4-6jpDBO",
        "outputId": "041c9dba-e75f-4700-f081-bd1f27ce8970"
      },
      "outputs": [
        {
          "name": "stdout",
          "output_type": "stream",
          "text": [
            "100\n",
            "100\n"
          ]
        }
      ],
      "source": [
        "var1 = 100 # Variable with Global scope.\n",
        "\n",
        "def myfunc():\n",
        "    print(var1) # Value 100 will be displayed due to global scope of var1\n",
        "\n",
        "\n",
        "myfunc()\n",
        "print(var1)"
      ]
    },
    {
      "cell_type": "code",
      "execution_count": null,
      "metadata": {
        "id": "aNY-V5Q_pDBR",
        "outputId": "c95bd06f-1b85-4445-bb7d-641398041e87"
      },
      "outputs": [
        {
          "name": "stdout",
          "output_type": "stream",
          "text": [
            "10\n"
          ]
        },
        {
          "ename": "NameError",
          "evalue": "name 'var2' is not defined",
          "output_type": "error",
          "traceback": [
            "\u001b[1;31m---------------------------------------------------------------------------\u001b[0m",
            "\u001b[1;31mNameError\u001b[0m                                 Traceback (most recent call last)",
            "\u001b[1;32m<ipython-input-27-6a1c34e80ca2>\u001b[0m in \u001b[0;36m<module>\u001b[1;34m\u001b[0m\n\u001b[0;32m      8\u001b[0m \u001b[1;33m\u001b[0m\u001b[0m\n\u001b[0;32m      9\u001b[0m \u001b[0mmyfunc1\u001b[0m\u001b[1;33m(\u001b[0m\u001b[1;33m)\u001b[0m\u001b[1;33m\u001b[0m\u001b[1;33m\u001b[0m\u001b[0m\n\u001b[1;32m---> 10\u001b[1;33m \u001b[0mmyfunc2\u001b[0m\u001b[1;33m(\u001b[0m\u001b[1;33m)\u001b[0m\u001b[1;33m\u001b[0m\u001b[1;33m\u001b[0m\u001b[0m\n\u001b[0m",
            "\u001b[1;32m<ipython-input-27-6a1c34e80ca2>\u001b[0m in \u001b[0;36mmyfunc2\u001b[1;34m()\u001b[0m\n\u001b[0;32m      5\u001b[0m \u001b[1;33m\u001b[0m\u001b[0m\n\u001b[0;32m      6\u001b[0m \u001b[1;32mdef\u001b[0m \u001b[0mmyfunc2\u001b[0m\u001b[1;33m(\u001b[0m\u001b[1;33m)\u001b[0m\u001b[1;33m:\u001b[0m\u001b[1;33m\u001b[0m\u001b[1;33m\u001b[0m\u001b[0m\n\u001b[1;32m----> 7\u001b[1;33m     \u001b[0mprint\u001b[0m\u001b[1;33m(\u001b[0m\u001b[0mvar2\u001b[0m\u001b[1;33m)\u001b[0m \u001b[1;31m# Value 100 will be displayed due to global scope of var1\u001b[0m\u001b[1;33m\u001b[0m\u001b[1;33m\u001b[0m\u001b[0m\n\u001b[0m\u001b[0;32m      8\u001b[0m \u001b[1;33m\u001b[0m\u001b[0m\n\u001b[0;32m      9\u001b[0m \u001b[0mmyfunc1\u001b[0m\u001b[1;33m(\u001b[0m\u001b[1;33m)\u001b[0m\u001b[1;33m\u001b[0m\u001b[1;33m\u001b[0m\u001b[0m\n",
            "\u001b[1;31mNameError\u001b[0m: name 'var2' is not defined"
          ]
        }
      ],
      "source": [
        "def myfunc1():\n",
        "    var2 = 10  # Variable with Local scope\n",
        "    print(var2)\n",
        "\n",
        "\n",
        "def myfunc2():\n",
        "    print(var2) # This will throw error because var2 has a local scope. Var2 is only accessible in myfunc1()\n",
        "\n",
        "myfunc1()\n",
        "myfunc2()"
      ]
    },
    {
      "cell_type": "code",
      "execution_count": null,
      "metadata": {
        "id": "XjVFeJjjpDBS",
        "outputId": "538dc2e8-398a-4ded-ac1f-0743b07515df"
      },
      "outputs": [
        {
          "name": "stdout",
          "output_type": "stream",
          "text": [
            "99\n",
            "100\n"
          ]
        }
      ],
      "source": [
        "var1 = 100 # Variable with Global scope.\n",
        "\n",
        "def myfunc():\n",
        "    var1 = 99  # Local scope\n",
        "    print(var1)\n",
        "\n",
        "\n",
        "myfunc()\n",
        "print(var1) # The original value of var1 (100) will be retained due to global scope."
      ]
    },
    {
      "cell_type": "code",
      "execution_count": null,
      "metadata": {
        "id": "iWYmIDk-pDBT",
        "outputId": "db8777c4-807f-4bb3-b849-9b2a31e906b6"
      },
      "outputs": [
        {
          "name": "stdout",
          "output_type": "stream",
          "text": [
            "\"List1\" before calling the function:-  [11, 22, 33, 44, 55]\n",
            "\"List1\" after calling the function:-  [22, 33, 44, 55]\n"
          ]
        }
      ],
      "source": [
        "list1 = [11,22,33,44,55]\n",
        "\n",
        "def myfunc(list1):\n",
        "    del list1[0]\n",
        "\n",
        "print('\"List1\" before calling the function:- ',list1)\n",
        "myfunc(list1)  # Pass by reference (Any change in the parameter within the function is reflected back in the calling function.)\n",
        "print('\"List1\" after calling the function:- ',list1)"
      ]
    },
    {
      "cell_type": "code",
      "execution_count": null,
      "metadata": {
        "id": "hXXr8C0HpDBU",
        "outputId": "d9b6bbe4-af4e-47c2-9297-71a567d90dc3"
      },
      "outputs": [
        {
          "name": "stdout",
          "output_type": "stream",
          "text": [
            "\"List1\" before calling the function:-  [11, 22, 33, 44, 55]\n",
            "\"List1\" after calling the function:-  [11, 22, 33, 44, 55, 100]\n"
          ]
        }
      ],
      "source": [
        "list1 = [11,22,33,44,55]\n",
        "\n",
        "def myfunc(list1):\n",
        "    list1.append(100)\n",
        "\n",
        "print('\"List1\" before calling the function:- ',list1)\n",
        "myfunc(list1)  # Pass by reference (Any change in the parameter within the function is reflected back in the calling function.)\n",
        "print('\"List1\" after calling the function:- ',list1)"
      ]
    },
    {
      "cell_type": "code",
      "execution_count": null,
      "metadata": {
        "id": "_hMtwxdLpDBU",
        "outputId": "899195d8-92bb-4606-8ca7-a804e712f8f0"
      },
      "outputs": [
        {
          "name": "stdout",
          "output_type": "stream",
          "text": [
            "\"List1\" before calling the function:-  [11, 22, 33, 44, 55]\n",
            "\"List1\" after calling the function:-  [11, 22, 33, 44, 55]\n"
          ]
        }
      ],
      "source": [
        "list1 = [11,22,33,44,55]\n",
        "\n",
        "def myfunc(list1):\n",
        "    list1 = [10,100,1000,10000] # link of 'list1' with previous object is broken now as new object is assigned to 'list1'.\n",
        "\n",
        "print('\"List1\" before calling the function:- ',list1)\n",
        "myfunc(list1)  # Pass by reference (Any change in the parameter within the function is reflected back in the calling function.)\n",
        "print('\"List1\" after calling the function:- ',list1)"
      ]
    },
    {
      "cell_type": "code",
      "execution_count": null,
      "metadata": {
        "id": "U_jixsm4pDBU",
        "outputId": "b2f2bd06-e58d-4690-8f73-31a76bd35dce"
      },
      "outputs": [
        {
          "data": {
            "text/plain": [
              "(10, 20)"
            ]
          },
          "execution_count": 45,
          "metadata": {},
          "output_type": "execute_result"
        }
      ],
      "source": [
        "def swap(a,b):\n",
        "    temp = a\n",
        "    a = b      # link of 'a' with previous object is broken now as new object is assigned to 'a'.\n",
        "    b = temp   # link of 'b' with previous object is broken now as new object is assigned to 'b'.\n",
        "\n",
        "a = 10\n",
        "b = 20\n",
        "swap(a,b)\n",
        "a,b"
      ]
    },
    {
      "cell_type": "code",
      "execution_count": null,
      "metadata": {
        "id": "YzXrOiIKpDBV",
        "outputId": "2e71744b-63d4-4115-9fac-b6f243fd640b"
      },
      "outputs": [
        {
          "data": {
            "text/plain": [
              "24"
            ]
          },
          "execution_count": 601,
          "metadata": {},
          "output_type": "execute_result"
        }
      ],
      "source": [
        "def factorial(num):  # Calculate factorial of a number using recursive function call.\n",
        "    if num <=1 :\n",
        "        return 1\n",
        "    else:\n",
        "        return num * factorial(num-1)\n",
        "\n",
        "factorial(4)"
      ]
    },
    {
      "cell_type": "code",
      "execution_count": null,
      "metadata": {
        "id": "QNofusMypDBV",
        "outputId": "6b638b2a-91e5-4850-db9f-561eec282ae6"
      },
      "outputs": [
        {
          "data": {
            "text/plain": [
              "15"
            ]
          },
          "execution_count": 618,
          "metadata": {},
          "output_type": "execute_result"
        }
      ],
      "source": [
        "def add(num):  # Sum of first n natural numbers\n",
        "    if num == 0:\n",
        "        return 0\n",
        "    else:\n",
        "        return num + add(num-1)\n",
        "\n",
        "add(5) # Sum of first five natural numbers (1,2,3,4,5)"
      ]
    },
    {
      "cell_type": "code",
      "execution_count": null,
      "metadata": {
        "id": "aaVhVVKQpDBW",
        "outputId": "409df819-1a14-442b-a652-4b0ee1fbf386"
      },
      "outputs": [
        {
          "name": "stdout",
          "output_type": "stream",
          "text": [
            "How many fibonacci numbers you want to generate -10\n",
            "0\n",
            "1\n",
            "1\n",
            "2\n",
            "3\n",
            "5\n",
            "8\n",
            "13\n",
            "21\n",
            "34\n"
          ]
        }
      ],
      "source": [
        "def fiboacci(num):\n",
        "    if num <= 1:\n",
        "        return num\n",
        "    if num == 2:\n",
        "        return 1\n",
        "    else:\n",
        "        return(fiboacci(num-1) + fiboacci(num-2))\n",
        "\n",
        "nums = int(input(\"How many fibonacci numbers you want to generate -\"))\n",
        "\n",
        "\n",
        "\n",
        "for i in range(nums):\n",
        "    print(fiboacci(i))  # Generate Fibonacci series"
      ]
    },
    {
      "cell_type": "markdown",
      "metadata": {
        "id": "KKzlm96ZpDBW"
      },
      "source": [
        "# args & kwargs"
      ]
    },
    {
      "cell_type": "markdown",
      "metadata": {
        "id": "pnF1zjM1pDBW"
      },
      "source": [
        " *__args__\n",
        "- When we are not sure about the number of arguments being passed to a function then we can use *args as function parameter.\n",
        "\n",
        "- *args allow us to pass the variable number of __Non Keyword Arguments__ to function.\n",
        "\n",
        "- We can simply use an asterisk * before the parameter name to pass variable length arguments.\n",
        "\n",
        "- The arguments are always passed as a tuple.\n",
        "\n",
        "- We can rename it to anything as long as it is preceded by a single asterisk (*). It's best practice to keep naming it args to make it immediately recognizable."
      ]
    },
    {
      "cell_type": "markdown",
      "metadata": {
        "id": "CzLrdKwUpDBX"
      },
      "source": [
        "__**kwargs__\n",
        "- **kwargs allows us to pass the variable number of __Keyword Arguments__ to the function.\n",
        "\n",
        "- We can simply use an double asterisk ** before the parameter name to pass variable length arguments.\n",
        "\n",
        "- The arguments are passed as a dictionary.\n",
        "\n",
        "- We can rename it to anything as long as it is preceded by a double asterisk (**). It's best practice to keep naming it kwargs to make it immediately recognizable.\n",
        "\n"
      ]
    },
    {
      "cell_type": "markdown",
      "metadata": {
        "id": "RVjitgtSpDBX"
      },
      "source": [
        "<img src=\"https://github.com/datasciencescoop/Python/blob/master/argument.PNG?raw=1\">"
      ]
    },
    {
      "cell_type": "code",
      "execution_count": null,
      "metadata": {
        "id": "etCaVVL1pDBX",
        "outputId": "b4f816e0-bca0-46e3-dc2f-32ab9c7fcf8f"
      },
      "outputs": [
        {
          "name": "stdout",
          "output_type": "stream",
          "text": [
            "60\n"
          ]
        }
      ],
      "source": [
        "def add(a,b,c):\n",
        "    return a+b+c\n",
        "\n",
        "print(add(10,20,30)) # Sum of two numbers"
      ]
    },
    {
      "cell_type": "code",
      "execution_count": null,
      "metadata": {
        "id": "qM-Oa5zkpDBa",
        "outputId": "26dafa60-fde4-428b-c7c7-64b377e0418c"
      },
      "outputs": [
        {
          "ename": "SyntaxError",
          "evalue": "invalid syntax (<ipython-input-577-565d47b69332>, line 2)",
          "output_type": "error",
          "traceback": [
            "\u001b[1;36m  File \u001b[1;32m\"<ipython-input-577-565d47b69332>\"\u001b[1;36m, line \u001b[1;32m2\u001b[0m\n\u001b[1;33m    If we want to make argument list dynamic then *args wil come in picture'''\u001b[0m\n\u001b[1;37m                                                                              \n^\u001b[0m\n\u001b[1;31mSyntaxError\u001b[0m\u001b[1;31m:\u001b[0m invalid syntax\n"
          ]
        }
      ],
      "source": [
        "print(add(1,2,3,4)) '''This will throw below error as this function will only take two argumengts.\n",
        "If we want to make argument list dynamic then *args wil come in picture'''"
      ]
    },
    {
      "cell_type": "code",
      "execution_count": null,
      "metadata": {
        "id": "hjNpbwrapDBa",
        "outputId": "67bf9053-5d5d-4826-ee64-af8bd91723fb"
      },
      "outputs": [
        {
          "name": "stdout",
          "output_type": "stream",
          "text": [
            "arg_1: 1\n",
            "arg_2: 2\n",
            "arg_3: 3\n"
          ]
        }
      ],
      "source": [
        "def some_args(arg_1, arg_2, arg_3):\n",
        "    print(\"arg_1:\", arg_1)\n",
        "    print(\"arg_2:\", arg_2)\n",
        "    print(\"arg_3:\", arg_3)\n",
        "\n",
        "my_list = [2, 3]\n",
        "some_args(1, *my_list)"
      ]
    },
    {
      "cell_type": "code",
      "execution_count": null,
      "metadata": {
        "id": "JgqXQZO3pDBb",
        "outputId": "aa63a90c-08ad-4dc8-b8ce-329b704ef10a"
      },
      "outputs": [
        {
          "name": "stdout",
          "output_type": "stream",
          "text": [
            "6\n",
            "10\n",
            "15\n",
            "21\n",
            "28\n"
          ]
        }
      ],
      "source": [
        "def add1(*args):\n",
        "    return sum(args)\n",
        "\n",
        "print(add(1,2,3))\n",
        "print(add(1,2,3,4))  # *args will take dynamic argument list. So add() function will perform addition of any number of arguments\n",
        "print(add(1,2,3,4,5))\n",
        "print(add(1,2,3,4,5,6))\n",
        "print(add(1,2,3,4,5,6,7))"
      ]
    },
    {
      "cell_type": "code",
      "execution_count": null,
      "metadata": {
        "id": "HWB78ed0pDBc",
        "outputId": "f16a1590-56bc-483f-9e98-6a39ad4cc454"
      },
      "outputs": [
        {
          "data": {
            "text/plain": [
              "(28, 28)"
            ]
          },
          "execution_count": 561,
          "metadata": {},
          "output_type": "execute_result"
        }
      ],
      "source": [
        "list1 = [1,2,3,4,5,6,7]\n",
        "tuple1 = (1,2,3,4,5,6,7)\n",
        "\n",
        "add1(*list1) , add1(*tuple1) #tuple & list items will be passed as argument list and sum will be returned for both cases."
      ]
    },
    {
      "cell_type": "code",
      "execution_count": null,
      "metadata": {
        "id": "WiQLCcpvpDBc",
        "outputId": "b716dd31-8011-4046-f50a-9c751595fea6"
      },
      "outputs": [
        {
          "data": {
            "text/plain": [
              "112"
            ]
          },
          "execution_count": 562,
          "metadata": {},
          "output_type": "execute_result"
        }
      ],
      "source": [
        "list1 = [1,2,3,4,5,6,7]\n",
        "list2 = [1,2,3,4,5,6,7]\n",
        "list3 = [1,2,3,4,5,6,7]\n",
        "list4 = [1,2,3,4,5,6,7]\n",
        "\n",
        "add1(*list1 , *list2 , *list3 , *list4 ) #All four lists are unpacked and each individual item is passed to add1() function"
      ]
    },
    {
      "cell_type": "code",
      "execution_count": null,
      "metadata": {
        "id": "0d_ATQckpDBc",
        "outputId": "82204f22-436d-4b76-e7db-c5cbe1ee49da"
      },
      "outputs": [
        {
          "name": "stdout",
          "output_type": "stream",
          "text": [
            "('Asif', 7412, 41102, 33, 'India', 'Hindi')\n"
          ]
        }
      ],
      "source": [
        "def UserDetails(*args):\n",
        "    print(args)\n",
        "\n",
        "UserDetails('Asif' , 7412 , 41102 , 33 ,  'India' , 'Hindi')\n",
        "\n",
        "''' For the above example we have no idea about the parameters passed e.g 7412 , 41102 , 33 etc.\n",
        "    In such cases we can take help of Keyworded arguments (**kwargs) '''"
      ]
    },
    {
      "cell_type": "code",
      "execution_count": null,
      "metadata": {
        "id": "I9-nZ0GXpDBd",
        "outputId": "6fa540db-8141-4904-d4ed-8dde4e335cc3"
      },
      "outputs": [
        {
          "name": "stdout",
          "output_type": "stream",
          "text": [
            "{'Name': 'Asif', 'ID': 7412, 'Pincode': 41102, 'Age': 33, 'Country': 'India', 'Language': 'Hindi'}\n"
          ]
        }
      ],
      "source": [
        "def UserDetails(**kwargs):\n",
        "    print(kwargs)\n",
        "\n",
        "UserDetails(Name='Asif' , ID=7412 , Pincode=41102 , Age= 33 ,  Country= 'India' , Language= 'Hindi')"
      ]
    },
    {
      "cell_type": "code",
      "execution_count": null,
      "metadata": {
        "id": "mtbSmOalpDBd",
        "outputId": "f7c1ab9c-93bc-44f1-d191-b2b07db75872"
      },
      "outputs": [
        {
          "name": "stdout",
          "output_type": "stream",
          "text": [
            "Name :- Asif\n",
            "ID :- 7412\n",
            "Pincode :- 41102\n",
            "Age :- 33\n",
            "Country :- India\n",
            "Language :- Hindi\n"
          ]
        }
      ],
      "source": [
        "def UserDetails(**kwargs):\n",
        "    for key,val in kwargs.items():\n",
        "        print(\"{} :- {}\".format(key,val))\n",
        "\n",
        "UserDetails(Name='Asif' , ID=7412 , Pincode=41102 , Age= 33 ,  Country= 'India' , Language= 'Hindi')"
      ]
    },
    {
      "cell_type": "code",
      "execution_count": null,
      "metadata": {
        "id": "WbasEaT7pDBe",
        "outputId": "04881acb-9927-4a27-e0a4-fcddb0440f19"
      },
      "outputs": [
        {
          "name": "stdout",
          "output_type": "stream",
          "text": [
            "Name :- Asif\n",
            "ID :- 7412\n",
            "Pincode :- 41102\n",
            "Age :- 33\n",
            "Country :- India\n",
            "Language :- Hindi\n"
          ]
        }
      ],
      "source": [
        "mydict = {'Name': 'Asif', 'ID': 7412, 'Pincode': 41102, 'Age': 33, 'Country': 'India', 'Language': 'Hindi'}\n",
        "\n",
        "UserDetails(**mydict)"
      ]
    },
    {
      "cell_type": "code",
      "execution_count": null,
      "metadata": {
        "id": "zF6bRraopDBe",
        "outputId": "8422a1b2-cea5-4845-9871-c71bd6f2d318"
      },
      "outputs": [
        {
          "name": "stdout",
          "output_type": "stream",
          "text": [
            "License No :-  BHT145\n",
            "Full Name :- Asif Ali Bhat\n",
            "Phone Number:-  1234567890\n",
            "Name :- Asif\n",
            "ID :- 7412\n",
            "Pincode :- 41102\n",
            "Age :- 33\n",
            "Country :- India\n",
            "Language :- Hindi\n"
          ]
        }
      ],
      "source": [
        "def UserDetails(licenseNo,  *args , phoneNo=0 , **kwargs): # Using all four arguments types\n",
        "    print('License No :- ', licenseNo)\n",
        "    j=''\n",
        "    for i in args:\n",
        "        j = j+i\n",
        "    print('Full Name :-',j)\n",
        "    print('Phone Number:- ',phoneNo)\n",
        "    for key,val in kwargs.items():\n",
        "        print(\"{} :- {}\".format(key,val))\n",
        "\n",
        "\n",
        "name = ['Asif' , ' ' , 'Ali' , ' ','Bhat']\n",
        "mydict = {'Name': 'Asif', 'ID': 7412, 'Pincode': 41102, 'Age': 33, 'Country': 'India', 'Language': 'Hindi'}\n",
        "\n",
        "UserDetails('BHT145' , *name , phoneNo=1234567890,**mydict )"
      ]
    },
    {
      "cell_type": "code",
      "execution_count": null,
      "metadata": {
        "id": "b_rsShnLpDBe"
      },
      "outputs": [],
      "source": [
        "def UserDetails(licenseNo, *args , phoneNo=0, **kwargs): # Using all four arguments types. CORRECT ORDER\n",
        "    print('Nothing')"
      ]
    },
    {
      "cell_type": "code",
      "execution_count": null,
      "metadata": {
        "id": "mMj9dJTGpDBf",
        "outputId": "ee76d872-3326-4ddf-8418-d6b6e2f97515"
      },
      "outputs": [
        {
          "ename": "SyntaxError",
          "evalue": "invalid syntax (<ipython-input-557-dcd3c92277bc>, line 1)",
          "output_type": "error",
          "traceback": [
            "\u001b[1;36m  File \u001b[1;32m\"<ipython-input-557-dcd3c92277bc>\"\u001b[1;36m, line \u001b[1;32m1\u001b[0m\n\u001b[1;33m    def UserDetails(licenseNo, **kwargs , *args): # This will fail. *args MUST come before **kwargs in the argument list\u001b[0m\n\u001b[1;37m                                          ^\u001b[0m\n\u001b[1;31mSyntaxError\u001b[0m\u001b[1;31m:\u001b[0m invalid syntax\n"
          ]
        }
      ],
      "source": [
        "def UserDetails(licenseNo, **kwargs , *args): # This will fail. *args MUST come before **kwargs in the argument list\n",
        "    print('Nothing')"
      ]
    },
    {
      "cell_type": "code",
      "execution_count": null,
      "metadata": {
        "id": "cbUK07vspDBg",
        "outputId": "79d6fa7a-a869-4404-896f-bb7ea81f5cb4"
      },
      "outputs": [
        {
          "ename": "SyntaxError",
          "evalue": "non-default argument follows default argument (<ipython-input-564-8a3e722c7ed7>, line 2)",
          "output_type": "error",
          "traceback": [
            "\u001b[1;36m  File \u001b[1;32m\"<ipython-input-564-8a3e722c7ed7>\"\u001b[1;36m, line \u001b[1;32m2\u001b[0m\n\u001b[1;33m    def UserDetails(ID = 1, licenseNo, *args):\u001b[0m\n\u001b[1;37m                   ^\u001b[0m\n\u001b[1;31mSyntaxError\u001b[0m\u001b[1;31m:\u001b[0m non-default argument follows default argument\n"
          ]
        }
      ],
      "source": [
        "#The below function will fail. Default argument/positional argument (licenseNo) MUST come before Keyword argument(ID)\n",
        "def UserDetails(ID = 1, licenseNo, *args):\n",
        "    print('Nothing')"
      ]
    },
    {
      "cell_type": "markdown",
      "metadata": {
        "id": "cAFOowtBpDBh"
      },
      "source": [
        "# Lambda, Filter, Map and Reduce"
      ]
    },
    {
      "cell_type": "markdown",
      "metadata": {
        "id": "cVjR5sYjpDBh"
      },
      "source": [
        "__Lambda__\n",
        "\n",
        "- A lambda function is an anonymous function (function without a name).\n",
        "\n",
        "\n",
        "- Lambda functions can have any number of arguments but only one expression. The expression is evaluated and returned.\n",
        "\n",
        "\n",
        "- We use lambda functions when we require a nameless function for a short period of time.\n",
        "\n",
        "\n",
        "__Syntax:-__"
      ]
    },
    {
      "cell_type": "markdown",
      "metadata": {
        "id": "Z8E8B2_ZpDBh"
      },
      "source": [
        "<img src=\"https://github.com/datasciencescoop/Python/blob/master/lambda1.PNG?raw=1\">"
      ]
    },
    {
      "cell_type": "markdown",
      "metadata": {
        "id": "26o3r0uMpDBi"
      },
      "source": [
        "__Filter__\n",
        "\n",
        "\n",
        "- It is used to filter the iterables/sequence as per the conditions.\n",
        "\n",
        "\n",
        "- Filter function filters the original iterable and passes the items that returns True for the function provided to filter.\n",
        "\n",
        "\n",
        "- It is normally used with Lambda functions to filter list, tuple, or sets.\n",
        "\n",
        "\n",
        "\n",
        "filter() method takes two parameters:\n",
        "\n",
        "- __function__ - function tests if elements of an iterable returns true or false\n",
        "\n",
        "- __iterable__ - Sequence which needs to be filtered, could be sets, lists, tuples, or any iterators\n",
        "\n",
        "\n",
        "\n",
        "\n",
        "__Syntax:__"
      ]
    },
    {
      "cell_type": "markdown",
      "metadata": {
        "id": "nJBNxO71pDBi"
      },
      "source": [
        "<img src=\"https://github.com/datasciencescoop/Python/blob/master/filter.PNG?raw=1\">"
      ]
    },
    {
      "cell_type": "markdown",
      "metadata": {
        "id": "j5AVYsMPpDBi"
      },
      "source": [
        "__Map__\n",
        "\n",
        "- The map() function applies a given function to each item of an iterable (list, tuple etc.) and returns a list of the results.\n",
        "\n",
        "\n",
        "\n",
        "\n",
        "map() function takes two Parameters :\n",
        "\n",
        "-   __function__ :  The function to execute for each item of given iterable.\n",
        "\n",
        "\n",
        "-   __iterable__ : It is a iterable which is to be mapped.\n",
        "\n",
        "\n",
        "__Returns__ : Returns a list of the results after applying the given function to each item of a given iterable (list, tuple etc.)\n",
        "\n",
        "__Syntax:__"
      ]
    },
    {
      "cell_type": "markdown",
      "metadata": {
        "id": "ga9VWte3pDBi"
      },
      "source": [
        "<img src=\"https://github.com/datasciencescoop/Python/blob/master/map.PNG?raw=1\">"
      ]
    },
    {
      "cell_type": "markdown",
      "metadata": {
        "id": "p02IUjZLpDBj"
      },
      "source": [
        "__Reduce__\n",
        "\n",
        "- The reduce() function is defined in the __functools__ python module.The reduce() function receives two arguments, a function and an iterable. However, it doesn't return another iterable, instead it returns a single value.\n",
        "\n",
        "\n",
        "__Working:__\n",
        "\n",
        " 1)  Apply a function to the first two items in an iterable and generate a partial result.\n",
        "\n",
        " 2)  The function is then called again with the result obtained in __step 1__ and the next value in the sequence. This process keeps on repeating until there are items in the sequence.\n",
        "\n",
        " 3)  The final returned result is returned and printed on console.\n",
        "\n",
        "\n",
        "\n",
        "__Syntax:__"
      ]
    },
    {
      "cell_type": "markdown",
      "metadata": {
        "id": "wV-dZQG0pDBj"
      },
      "source": [
        "<img src=\"https://github.com/datasciencescoop/Python/blob/master/reduce.PNG?raw=1\">"
      ]
    },
    {
      "cell_type": "code",
      "execution_count": null,
      "metadata": {
        "id": "B7rkfOswpDBk",
        "outputId": "6d9e6358-67f1-4784-c3f7-3d2ff9ec12ea"
      },
      "outputs": [
        {
          "name": "stdout",
          "output_type": "stream",
          "text": [
            "15\n"
          ]
        }
      ],
      "source": [
        "addition = lambda a : a + 10  # This lambda function adds value 10 to an argument.\n",
        "print(addition(5))"
      ]
    },
    {
      "cell_type": "code",
      "execution_count": null,
      "metadata": {
        "id": "YSrajE3IpDBk",
        "outputId": "bc06c1c2-751b-4f58-d294-fd7310ef0081"
      },
      "outputs": [
        {
          "name": "stdout",
          "output_type": "stream",
          "text": [
            "30\n"
          ]
        }
      ],
      "source": [
        "product = lambda a, b : a * b #This lambda function takes two arguments (a,b) and returns their product (a*b).\n",
        "print(product(5, 6))"
      ]
    },
    {
      "cell_type": "code",
      "execution_count": null,
      "metadata": {
        "id": "E_Eg1m20pDBl",
        "outputId": "10ac3c92-0abc-4f01-b35b-b236cd10d979"
      },
      "outputs": [
        {
          "name": "stdout",
          "output_type": "stream",
          "text": [
            "13\n"
          ]
        }
      ],
      "source": [
        "addition = lambda a, b, c : a + b + c  #This lambda function takes three arguments (a,b,c) and returns their sum (a+b+c).\n",
        "print(addition(5, 6, 2))"
      ]
    },
    {
      "cell_type": "code",
      "execution_count": null,
      "metadata": {
        "id": "Z4LmKqGgpDBl",
        "outputId": "6e0210aa-a93f-4494-ab58-938475ea982e"
      },
      "outputs": [
        {
          "data": {
            "text/plain": [
              "(30, 100, 280)"
            ]
          },
          "execution_count": 364,
          "metadata": {},
          "output_type": "execute_result"
        }
      ],
      "source": [
        "res = (lambda *args: sum(args))  # This lambda function can take any number of arguments and return thier sum.\n",
        "res(10,20) , res(10,20,30,40) ,  res(10,20,30,40,50,60,70)"
      ]
    },
    {
      "cell_type": "code",
      "execution_count": null,
      "metadata": {
        "id": "4Cn0Q3F4pDBl",
        "outputId": "a888fec8-f391-4197-d3b3-49c9424bbfdd"
      },
      "outputs": [
        {
          "data": {
            "text/plain": [
              "(60, 150)"
            ]
          },
          "execution_count": 370,
          "metadata": {},
          "output_type": "execute_result"
        }
      ],
      "source": [
        "res1 = (lambda **kwargs: sum(kwargs.values())) # This lambda function can take any number of arguments and return thier sum.\n",
        "res1(a = 10 , b= 20 , c = 30) , res1(a = 10 , b= 20 , c = 30, d = 40 , e = 50)"
      ]
    },
    {
      "cell_type": "code",
      "execution_count": null,
      "metadata": {
        "id": "O5gtngZLpDBm",
        "outputId": "a48a8dd6-0624-4a8b-c42c-78c1d99a6271"
      },
      "outputs": [
        {
          "data": {
            "text/plain": [
              "(60, 150)"
            ]
          },
          "execution_count": 386,
          "metadata": {},
          "output_type": "execute_result"
        }
      ],
      "source": [
        "res1 = (lambda **kwargs: sum(kwargs.values())) # This lambda function can take any number of arguments and return thier sum.\n",
        "res1(a = 10 , b= 20 , c = 30) , res1(a = 10 , b= 20 , c = 30, d = 40 , e = 50)"
      ]
    },
    {
      "cell_type": "code",
      "execution_count": null,
      "metadata": {
        "id": "YvacOw6vpDBm",
        "outputId": "79a5209d-313f-4803-8a24-9d0a26400c71"
      },
      "outputs": [
        {
          "data": {
            "text/plain": [
              "(6000, 12000000)"
            ]
          },
          "execution_count": 446,
          "metadata": {},
          "output_type": "execute_result"
        }
      ],
      "source": [
        "# User defined function to find product of numbers\n",
        "def product(nums):\n",
        "    total = 1\n",
        "    for i in nums:\n",
        "        total *= i\n",
        "    return total\n",
        "\n",
        "# This lambda function can take any number of arguments and return thier product.\n",
        "res1 = (lambda **kwargs: product(kwargs.values()))\n",
        "res1(a = 10 , b= 20 , c = 30) , res1(a = 10 , b= 20 , c = 30, d = 40 , e = 50)"
      ]
    },
    {
      "cell_type": "code",
      "execution_count": null,
      "metadata": {
        "id": "0f7_s0PppDBn",
        "outputId": "0718f9b6-117b-4371-d13f-070ffb0b761f"
      },
      "outputs": [
        {
          "name": "stdout",
          "output_type": "stream",
          "text": [
            "15\n",
            "25\n",
            "35\n"
          ]
        }
      ],
      "source": [
        "def myfunc(n):\n",
        "  return lambda a : a + n\n",
        "\n",
        "add10 = myfunc(10)\n",
        "add20 = myfunc(20)\n",
        "add30 = myfunc(30)\n",
        "\n",
        "print(add10(5))\n",
        "print(add20(5))\n",
        "print(add30(5))"
      ]
    },
    {
      "cell_type": "code",
      "execution_count": null,
      "metadata": {
        "id": "bBFVPw0ypDBp",
        "outputId": "6dcb3360-c328-4b8d-dd54-1bf296380e70"
      },
      "outputs": [
        {
          "data": {
            "text/plain": [
              "[1, 3, 5, 7, 9]"
            ]
          },
          "execution_count": 437,
          "metadata": {},
          "output_type": "execute_result"
        }
      ],
      "source": [
        "list1 = [1,2,3,4,5,6,7,8,9]\n",
        "\n",
        "def odd(n):\n",
        "    if n%2 ==1: return True\n",
        "    else: return False\n",
        "\n",
        "odd_num = list(filter(odd,list1)) # This Filter function filters list1 and passes all odd numbers to filter().\n",
        "odd_num"
      ]
    },
    {
      "cell_type": "code",
      "execution_count": null,
      "metadata": {
        "id": "Tt2dnKwgpDBq",
        "outputId": "d90d4d2e-5574-4d9b-fb69-ff4dd09a2734"
      },
      "outputs": [
        {
          "data": {
            "text/plain": [
              "[1, 3, 5, 7, 9]"
            ]
          },
          "execution_count": 438,
          "metadata": {},
          "output_type": "execute_result"
        }
      ],
      "source": [
        "list1 = [1,2,3,4,5,6,7,8,9]\n",
        "# The below Filter function filters \"list1\" and passes all odd numbers using lambda function to filter().\n",
        "odd_num = list(filter(lambda n: n%2 ==1 ,list1))\n",
        "odd_num"
      ]
    },
    {
      "cell_type": "code",
      "execution_count": null,
      "metadata": {
        "id": "9R66NzwDpDBq",
        "outputId": "dd8befc9-7cfc-404b-9e14-80848a562e91"
      },
      "outputs": [
        {
          "data": {
            "text/plain": [
              "[2, 6, 10, 14, 18]"
            ]
          },
          "execution_count": 439,
          "metadata": {},
          "output_type": "execute_result"
        }
      ],
      "source": [
        "def twice(n):\n",
        "    return n*2\n",
        "\n",
        "doubles = list(map(twice,odd_num)) # The map function will apply user defined \"twice()\" function on all items of the list\n",
        "doubles"
      ]
    },
    {
      "cell_type": "code",
      "execution_count": null,
      "metadata": {
        "id": "Xsj_XoPJpDBr",
        "outputId": "b53dc4d2-f02b-4122-e236-1ee610d38a9d"
      },
      "outputs": [
        {
          "data": {
            "text/plain": [
              "[2, 6, 10, 14, 18]"
            ]
          },
          "execution_count": 440,
          "metadata": {},
          "output_type": "execute_result"
        }
      ],
      "source": [
        "doubles = list(map(lambda n:n*2,odd_num)) # This map function will double all items of the list using lambda function.\n",
        "doubles"
      ]
    },
    {
      "cell_type": "code",
      "execution_count": null,
      "metadata": {
        "id": "Lk9Ug93TpDBr",
        "outputId": "5824ad4f-b70b-47ef-b4de-4432cc0182bc"
      },
      "outputs": [
        {
          "data": {
            "text/plain": [
              "50"
            ]
          },
          "execution_count": 441,
          "metadata": {},
          "output_type": "execute_result"
        }
      ],
      "source": [
        "from functools import reduce\n",
        "\n",
        "def add(a,b):\n",
        "    return a+b\n",
        "\n",
        "sum_all = reduce(add,doubles) # This reduce function will perform sum of all items in the list using user defined \"add()\" func.\n",
        "sum_all"
      ]
    },
    {
      "cell_type": "code",
      "execution_count": null,
      "metadata": {
        "id": "wRK5uMRmpDBt",
        "outputId": "eb41686f-cfd7-4628-c189-2c39dd7429b1"
      },
      "outputs": [
        {
          "data": {
            "text/plain": [
              "50"
            ]
          },
          "execution_count": 442,
          "metadata": {},
          "output_type": "execute_result"
        }
      ],
      "source": [
        "#The below reduce() function will perform sum of all items in the list using lambda function.\n",
        "sum_all = reduce(lambda a,b : a+b,doubles)\n",
        "sum_all"
      ]
    },
    {
      "cell_type": "code",
      "execution_count": null,
      "metadata": {
        "id": "Ly0Wd7wipDBt",
        "outputId": "74863fc6-a049-4b6e-9c44-25604a8614cb"
      },
      "outputs": [
        {
          "data": {
            "text/plain": [
              "50"
            ]
          },
          "execution_count": 448,
          "metadata": {},
          "output_type": "execute_result"
        }
      ],
      "source": [
        "# Putting all together\n",
        "\n",
        "sum_all = reduce(lambda a,b : a+b,list(map(lambda n:n*2,list(filter(lambda n: n%2 ==1 ,list1)))))\n",
        "sum_all"
      ]
    },
    {
      "cell_type": "markdown",
      "metadata": {
        "id": "hIHVofT0pDBu"
      },
      "source": [
        "<img src=\"https://github.com/datasciencescoop/Python/blob/master/fmr.PNG?raw=1\">"
      ]
    },
    {
      "cell_type": "code",
      "execution_count": null,
      "metadata": {
        "id": "yYSQsczqpDBu"
      },
      "outputs": [],
      "source": [
        "# More examples on Map , Filter , Reduce"
      ]
    },
    {
      "cell_type": "code",
      "execution_count": null,
      "metadata": {
        "id": "7F78HmUepDBv",
        "outputId": "cffd3a07-5127-4cf6-c975-5e10aa0d87ef"
      },
      "outputs": [
        {
          "name": "stdout",
          "output_type": "stream",
          "text": [
            "--------\n",
            "[2, 4, 6, 8, 10]\n",
            "[1, 3, 5, 7, 9]\n",
            "--------\n",
            "['TWO', 'FOUR']\n",
            "['one', 'three']\n",
            "--------\n",
            "['one']\n",
            "['88', '99', '102']\n",
            "['one', 'two2', 'three3', '88', '99', '102']\n",
            "--------\n"
          ]
        }
      ],
      "source": [
        "list1 = [1,2,3,4,5,6,7,8,9,10]\n",
        "even = list(filter(lambda n: n%2 ==0 ,list1)) # Filter even numbers from the list\n",
        "odd =  list(filter(lambda n: n%2 !=0 ,list1))   # Filter odd numbers from the list\n",
        "\n",
        "print('--------')\n",
        "print(even)\n",
        "print(odd)\n",
        "print('--------')\n",
        "\n",
        "list2 = ['one' , 'TWO' , 'three' , 'FOUR']\n",
        "\n",
        "upper = list(filter(lambda x: x.isupper() , list2)) # filter uppercase strings from the list\n",
        "\n",
        "lower = list(filter(lambda x: x.islower() , list2)) # filter lowercase strings from the list\n",
        "\n",
        "\n",
        "print(upper)\n",
        "print(lower)\n",
        "print('--------')\n",
        "\n",
        "list3 = ['one' , 'two2' , 'three3' ,'88' , '99' , '102']\n",
        "\n",
        "numeric = list(filter(lambda x:x.isnumeric(), list3))  # filter numbers from the list\n",
        "\n",
        "alpha = list(filter(lambda x:x.isalpha(), list3))      # filter character strings from the list\n",
        "\n",
        "alphanum = list(filter(lambda x:x.isalnum(), list3)) # filtr numbers & character strings from the list\n",
        "\n",
        "\n",
        "print(alpha)\n",
        "print(numeric)\n",
        "print(alphanum)\n",
        "print('--------')\n",
        "\n",
        "\n",
        "#Vowel Test\n"
      ]
    },
    {
      "cell_type": "code",
      "execution_count": null,
      "metadata": {
        "id": "z4BQRY6UpDBv",
        "outputId": "97f1e92f-98ab-44b0-d08e-83a65225d194"
      },
      "outputs": [
        {
          "data": {
            "text/plain": [
              "['soap', 'sharp', 'ship', 'sheep']"
            ]
          },
          "execution_count": 3,
          "metadata": {},
          "output_type": "execute_result"
        }
      ],
      "source": [
        "# Filter example with & operation\n",
        "list1 = ['soap','sharp','Shy','silent','ship','summer','sheep']\n",
        "list(filter(lambda x : x.startswith('s') & x.endswith('p'),list1))"
      ]
    },
    {
      "cell_type": "code",
      "execution_count": null,
      "metadata": {
        "id": "knZbhUoOpDBw",
        "outputId": "ae491f0d-2398-4353-a696-44082fa1e688"
      },
      "outputs": [
        {
          "name": "stdout",
          "output_type": "stream",
          "text": [
            "---------------\n",
            "[2, 4, 6, 8]\n",
            "[6, 8, 10, 12]\n",
            "[1, 4, 9, 16]\n",
            "---------------\n",
            "[2, 4, 6, 8]\n",
            "[6, 8, 10, 12]\n",
            "[1, 4, 9, 16]\n",
            "---------------\n"
          ]
        }
      ],
      "source": [
        "list1 = [1,2,3,4]\n",
        "list2 = [5,6,7,8]\n",
        "\n",
        "def double(x):\n",
        "    return x+x\n",
        "\n",
        "def add(x,y):\n",
        "    return x+y\n",
        "\n",
        "def square(x):\n",
        "    return x*x\n",
        "\n",
        "print('---------------')\n",
        "\n",
        "print(list(map(double, list1))) # Double each number using map & User defined function\n",
        "print(list(map(add, list1, list2))) # add two items  using map & User defined function\n",
        "print(list(map(square, list1))) #Square numbers using map & User defined function\n",
        "\n",
        "print('---------------')\n",
        "\n",
        "print(list(map(lambda x: x + x, list1))) # Double each number using map & lambda\n",
        "print(list(map(lambda x, y: x + y, list1, list2))) # add two items  using map & lambda\n",
        "print(list(map(lambda x: x*x, list1))) #Square numbers using map & lambda\n",
        "\n",
        "print('---------------')"
      ]
    },
    {
      "cell_type": "code",
      "execution_count": null,
      "metadata": {
        "id": "FQfQ72kzpDBw",
        "outputId": "f0a5d626-5939-41b7-9c55-c2fa6b5b19bf"
      },
      "outputs": [
        {
          "data": {
            "text/plain": [
              "['India', 'Pakistan', 'Australia', 'Dubai']"
            ]
          },
          "execution_count": 2,
          "metadata": {},
          "output_type": "execute_result"
        }
      ],
      "source": [
        "countries = [\"india\" , \"pakistan\" , \"australia\" , \"dubai\"]\n",
        "list(map(lambda x : x.capitalize(),countries))"
      ]
    },
    {
      "cell_type": "code",
      "execution_count": null,
      "metadata": {
        "id": "SFJ8A4enpDBx",
        "outputId": "3eb79b76-5c34-475a-a1cd-0d0490cff786"
      },
      "outputs": [
        {
          "name": "stdout",
          "output_type": "stream",
          "text": [
            "24\n",
            "10\n",
            "Python Rocks\n",
            "Hello Hello Hello \n",
            "1\n",
            "4\n"
          ]
        }
      ],
      "source": [
        "list2 = [1,2,3,4]\n",
        "\n",
        "product = reduce (operator.mul,list2) # Product of all numbers in a list\n",
        "\n",
        "add = reduce(operator.add,list2) # Add all numbers in the list\n",
        "\n",
        "concat_str = reduce(operator.add , ['Python' , ' ' , 'Rocks']) # Concatenate string using reduce\n",
        "\n",
        "prod = reduce(operator.mul,['Hello ' , 3]) #Repeat a string multiple times\n",
        "\n",
        "min_num = reduce(lambda a, b: a if a < b else b, list2) # Minimum number in the list using reduce () & lambda\n",
        "\n",
        "max_num = reduce(lambda a, b: a if a > b else b, list2) # Maximum number in the list using reduce () & lambda\n",
        "\n",
        "print(product)\n",
        "\n",
        "print(add)\n",
        "\n",
        "print(concat_str)\n",
        "\n",
        "print(prod)\n",
        "\n",
        "print(min_num)\n",
        "\n",
        "print(max_num)"
      ]
    },
    {
      "cell_type": "code",
      "execution_count": null,
      "metadata": {
        "id": "g4LaV4A6pDBx",
        "outputId": "7d4a3ac2-96b8-4435-e1d8-7c99fadef0d0"
      },
      "outputs": [
        {
          "data": {
            "text/plain": [
              "(1, 4)"
            ]
          },
          "execution_count": 461,
          "metadata": {},
          "output_type": "execute_result"
        }
      ],
      "source": [
        "def min_func(a, b):\n",
        "        return a if a < b else b\n",
        "\n",
        "\n",
        "def max_func(a, b):\n",
        "    return a if a > b else b\n",
        "\n",
        "min_num = reduce(min_func, list2) # Minimum number in the list using reduce () & User defined min function\n",
        "\n",
        "max_num = reduce(max_func, list2) # Maximum number in the list using reduce () & User defined min function\n",
        "\n",
        "min_num , max_num"
      ]
    },
    {
      "cell_type": "code",
      "execution_count": null,
      "metadata": {
        "scrolled": true,
        "id": "QTn9hLrqpDBy",
        "outputId": "adc7dbe4-57ab-4456-addc-0bedf76a1b6b"
      },
      "outputs": [
        {
          "name": "stdout",
          "output_type": "stream",
          "text": [
            "------\n",
            "False\n",
            "True\n",
            "False\n",
            "------\n",
            "False\n",
            "True\n",
            "True\n",
            "------\n"
          ]
        }
      ],
      "source": [
        "print('------')\n",
        "print(reduce(lambda a, b: bool(a and b), [0, 0, 1, 0, 0])) # Returns True if all values in the list are True\n",
        "print(reduce(lambda a, b: bool(a and b), [2, 3, 1, 5, 6])) # Returns True if all items in the list are True\n",
        "print(reduce(lambda a, b: bool(a and b), [8, 9, 1, 0, 9])) # Returns True if all values in the list are True\n",
        "\n",
        "print('------')\n",
        "\n",
        "print(reduce(lambda a, b: bool(a or b), [0, 0, 0, 0, 0]))  # Returns True if any item in the list is True\n",
        "print(reduce(lambda a, b: bool(a or b), [2, 3, 1, 5, 6]))  # Returns True if any item in the list is True\n",
        "print(reduce(lambda a, b: bool(a or b), [8, 9, 1, 0, 9]))  # Returns True if any item in the list is True\n",
        "\n",
        "print('------')"
      ]
    },
    {
      "cell_type": "markdown",
      "metadata": {
        "id": "ZBaPKIrKpDBz"
      },
      "source": [
        "# Classes & Objects"
      ]
    },
    {
      "cell_type": "markdown",
      "metadata": {
        "id": "bb3ZzXdhpDBz"
      },
      "source": [
        "- A Class is an object constructor or a \"blueprint\" for creating objects.\n",
        "\n",
        "- Objects are nothing but an encapsulation of variables and functions into a single entity.\n",
        "\n",
        "- Objects get their variables and functions from classes.\n",
        "\n",
        "- To create a class we use the keyword __class__.\n",
        "\n",
        "- The first string inside the class is called docstring which gives the brief description about the class.\n",
        "\n",
        "- All classes have a function called $____init____()$ which is always executed when the class is being initiated.\n",
        "\n",
        "- We can use $____init____()$ function to assign values to object properties or other operations that are necessary to perform when the object is being created\n",
        "\n",
        "- The __self__ parameter is a reference to the current instance of the class and is used to access class variables.\n",
        "\n",
        "- __self__ must be the first parameter of any function in the class\n",
        "\n",
        "- The __super()__ builtin function returns a temporary object of the superclass that allows us to access methods of the base class.\n",
        "\n",
        "- __super()__ allows us to avoid using the base class name explicitly and to enable multiple inheritance.\n",
        "\n",
        "\n",
        "__Syntax__"
      ]
    },
    {
      "cell_type": "markdown",
      "metadata": {
        "id": "jPyVFrmxpDB0"
      },
      "source": [
        "<img src=\"https://github.com/datasciencescoop/Python/blob/master/class.PNG?raw=1\">"
      ]
    },
    {
      "cell_type": "code",
      "execution_count": null,
      "metadata": {
        "id": "etlwNxkbpDB0",
        "outputId": "fc8b60f6-eb58-472e-d4bb-a082a90eb70b"
      },
      "outputs": [
        {
          "name": "stdout",
          "output_type": "stream",
          "text": [
            "10\n"
          ]
        }
      ],
      "source": [
        "# Create a class with property \"var1\"\n",
        "class myclass:\n",
        "    var1 = 10\n",
        "\n",
        "obj1 = myclass() # Create an object of class \"myclass()\"\n",
        "print(obj1.var1)"
      ]
    },
    {
      "cell_type": "code",
      "execution_count": null,
      "metadata": {
        "id": "3qRRz2YvpDB0",
        "outputId": "c1a7336b-30b9-456f-bbca-8ba267ec94ff"
      },
      "outputs": [
        {
          "name": "stdout",
          "output_type": "stream",
          "text": [
            "Name :-  Asif\n",
            "Employee ID :-  34163\n",
            "Thanks for joining ABC Company Asif!!\n"
          ]
        }
      ],
      "source": [
        "# Create an employee class\n",
        "class Employee:\n",
        "  def __init__(self, name, empid): # __init__() function is used to assign values for name and empid\n",
        "    self.name = name\n",
        "    self.empid = empid\n",
        "  def greet(self): # Class Method\n",
        "    print(\"Thanks for joining ABC Company {}!!\".format(self.name))\n",
        "\n",
        "emp1 = Employee(\"Asif\", 34163)  # Create an employee object\n",
        "\n",
        "print('Name :- ',emp1.name)\n",
        "print('Employee ID :- ',emp1.empid)\n",
        "emp1.greet()"
      ]
    },
    {
      "cell_type": "code",
      "execution_count": null,
      "metadata": {
        "id": "8oJx-RpFpDB1",
        "outputId": "babe8d2c-2343-4648-e131-41f0dd669010"
      },
      "outputs": [
        {
          "data": {
            "text/plain": [
              "'Basit'"
            ]
          },
          "execution_count": 71,
          "metadata": {},
          "output_type": "execute_result"
        }
      ],
      "source": [
        "emp1.name = 'Basit' # Modify Object Properties\n",
        "emp1.name"
      ]
    },
    {
      "cell_type": "code",
      "execution_count": null,
      "metadata": {
        "id": "UkcqGPnzpDB1",
        "outputId": "c638fd60-7d44-4a51-f99a-face9ab9af08"
      },
      "outputs": [
        {
          "ename": "AttributeError",
          "evalue": "'Employee' object has no attribute 'empid'",
          "output_type": "error",
          "traceback": [
            "\u001b[1;31m---------------------------------------------------------------------------\u001b[0m",
            "\u001b[1;31mAttributeError\u001b[0m                            Traceback (most recent call last)",
            "\u001b[1;32m<ipython-input-72-b111c8b828fc>\u001b[0m in \u001b[0;36m<module>\u001b[1;34m\u001b[0m\n\u001b[0;32m      1\u001b[0m \u001b[1;32mdel\u001b[0m \u001b[0memp1\u001b[0m\u001b[1;33m.\u001b[0m\u001b[0mempid\u001b[0m   \u001b[1;31m# Delete Object Properties\u001b[0m\u001b[1;33m\u001b[0m\u001b[1;33m\u001b[0m\u001b[0m\n\u001b[1;32m----> 2\u001b[1;33m \u001b[0memp1\u001b[0m\u001b[1;33m.\u001b[0m\u001b[0mempid\u001b[0m\u001b[1;33m\u001b[0m\u001b[1;33m\u001b[0m\u001b[0m\n\u001b[0m",
            "\u001b[1;31mAttributeError\u001b[0m: 'Employee' object has no attribute 'empid'"
          ]
        }
      ],
      "source": [
        "del emp1.empid   # Delete Object Properties\n",
        "emp1.empid"
      ]
    },
    {
      "cell_type": "code",
      "execution_count": null,
      "metadata": {
        "id": "ODxfeHXFpDB1",
        "outputId": "b28e2733-2e7a-47cc-d654-33b53affd1b9"
      },
      "outputs": [
        {
          "ename": "NameError",
          "evalue": "name 'emp1' is not defined",
          "output_type": "error",
          "traceback": [
            "\u001b[1;31m---------------------------------------------------------------------------\u001b[0m",
            "\u001b[1;31mNameError\u001b[0m                                 Traceback (most recent call last)",
            "\u001b[1;32m<ipython-input-73-db2cb77ec9fb>\u001b[0m in \u001b[0;36m<module>\u001b[1;34m\u001b[0m\n\u001b[0;32m      1\u001b[0m \u001b[1;32mdel\u001b[0m \u001b[0memp1\u001b[0m \u001b[1;31m# Delete the object\u001b[0m\u001b[1;33m\u001b[0m\u001b[1;33m\u001b[0m\u001b[0m\n\u001b[1;32m----> 2\u001b[1;33m \u001b[0memp1\u001b[0m\u001b[1;33m\u001b[0m\u001b[1;33m\u001b[0m\u001b[0m\n\u001b[0m",
            "\u001b[1;31mNameError\u001b[0m: name 'emp1' is not defined"
          ]
        }
      ],
      "source": [
        "del emp1 # Delete the object\n",
        "emp1"
      ]
    },
    {
      "cell_type": "code",
      "execution_count": null,
      "metadata": {
        "id": "L9Nmu3K1pDB2",
        "outputId": "77a7d742-098d-432a-80f2-7b40436522f7"
      },
      "outputs": [
        {
          "name": "stdout",
          "output_type": "stream",
          "text": [
            "Name :-  Michael\n",
            "Employee ID :-  34162\n",
            "Thanks for joining ABC Company Michael!!\n"
          ]
        }
      ],
      "source": [
        "emp2 = Employee(\"Michael\", 34162)  # Create an employee object\n",
        "\n",
        "print('Name :- ',emp2.name)\n",
        "print('Employee ID :- ',emp2.empid)\n",
        "emp2.greet()"
      ]
    },
    {
      "cell_type": "code",
      "execution_count": null,
      "metadata": {
        "id": "eCFHHTEBpDB2",
        "outputId": "2a8cad8b-0510-4611-ad1f-a50544b15891"
      },
      "outputs": [
        {
          "data": {
            "text/plain": [
              "'India'"
            ]
          },
          "execution_count": 77,
          "metadata": {},
          "output_type": "execute_result"
        }
      ],
      "source": [
        "emp2.country = 'India' #instance variable can be created manually\n",
        "emp2.country"
      ]
    },
    {
      "cell_type": "markdown",
      "metadata": {
        "id": "zrZsvB03pDB2"
      },
      "source": [
        "## Inheritance"
      ]
    },
    {
      "cell_type": "markdown",
      "metadata": {
        "id": "Sb_rStgxpDB3"
      },
      "source": [
        "- Inheritance is a powerful feature in object oriented programming.\n",
        "\n",
        "\n",
        "- Inheritance provides code reusability in the program because we can use an existing class (Super Class/ Parent Class / Base Class)  to create a new class (Sub Class / Child Class / Derived Class) instead of creating it from scratch.\n",
        "\n",
        "\n",
        "- The child class inherits data definitions and methods from the parent class which facilitates the reuse of features already available. The child class can add few more definitions or redefine a base class method.\n",
        "\n",
        "\n",
        "- Inheritance comes into picture when a new class possesses the '__IS A__' relationship with an existing class. E.g Student is a person. Hence person is the base class and student is derived class."
      ]
    },
    {
      "cell_type": "markdown",
      "metadata": {
        "id": "0mp420JopDB3"
      },
      "source": [
        "<img src= \"inheritance1.PNG\">"
      ]
    },
    {
      "cell_type": "code",
      "execution_count": null,
      "metadata": {
        "id": "A-DoRRv2pDB3",
        "outputId": "74c76cd5-e8e7-4991-a0c4-50f277a39fd3"
      },
      "outputs": [
        {
          "name": "stdout",
          "output_type": "stream",
          "text": [
            "Student Details\n",
            "---------------\n",
            "Name :- Asif\n",
            "Age :- 24\n",
            "Gender :- Male\n",
            "Student ID :- 123\n",
            "Fees :- 1200\n",
            "\n",
            "Employee Details\n",
            "---------------\n",
            "Name :- Basit\n",
            "Age :- 36\n",
            "Gender :- Male\n",
            "Employee ID :- 456\n",
            "Salary :- 80000\n"
          ]
        }
      ],
      "source": [
        "class person:   # Parent Class\n",
        "    def __init__(self, name , age , gender):\n",
        "        self.name = name\n",
        "        self.age = age\n",
        "        self.gender = gender\n",
        "\n",
        "    def PersonInfo(self):\n",
        "        print('Name :- {}'.format(self.name))\n",
        "        print('Age :- {}'.format(self.age))\n",
        "        print('Gender :- {}'.format(self.gender))\n",
        "\n",
        "\n",
        "\n",
        "\n",
        "class student(person): # Child Class\n",
        "    def __init__(self,name,age,gender,studentid,fees):\n",
        "        person.__init__(self,name,age,gender)\n",
        "        self.studentid = studentid\n",
        "        self.fees = fees\n",
        "\n",
        "    def StudentInfo(self):\n",
        "        print('Student ID :- {}'.format(self.studentid))\n",
        "        print('Fees :- {}'.format(self.fees))\n",
        "\n",
        "\n",
        "\n",
        "class teacher(person): # Child Class\n",
        "    def __init__(self,name,age,gender,empid,salary):\n",
        "        person.__init__(self,name,age,gender)\n",
        "        self.empid = empid\n",
        "        self.salary = salary\n",
        "\n",
        "    def TeacherInfo(self):\n",
        "        print('Employee ID :- {}'.format(self.empid))\n",
        "        print('Salary :- {}'.format(self.salary))\n",
        "\n",
        "\n",
        "\n",
        "stud1 = student('Asif' , 24 , 'Male' , 123 , 1200)\n",
        "print('Student Details')\n",
        "print('---------------')\n",
        "stud1.PersonInfo()    # PersonInfo() method presnt in Parent Class will be accessible by child class\n",
        "stud1.StudentInfo()\n",
        "print()\n",
        "\n",
        "\n",
        "\n",
        "teacher1 = teacher('Basit' , 36 , 'Male' , 456 , 80000)\n",
        "print('Employee Details')\n",
        "print('---------------')\n",
        "teacher1.PersonInfo()    # PersonInfo() method presnt in Parent Class will be accessible by child class\n",
        "teacher1.TeacherInfo()"
      ]
    },
    {
      "cell_type": "code",
      "execution_count": null,
      "metadata": {
        "id": "DDiA7Y_0pDB4",
        "outputId": "79dff989-e572-469f-e058-1b6805db7823"
      },
      "outputs": [
        {
          "name": "stdout",
          "output_type": "stream",
          "text": [
            "Student Details\n",
            "---------------\n",
            "Name :- Asif\n",
            "Age :- 24\n",
            "Gender :- Male\n",
            "Student ID :- 123\n",
            "Fees :- 1200\n",
            "\n"
          ]
        }
      ],
      "source": [
        "class person:   # Parent Class\n",
        "    def __init__(self, name , age , gender):\n",
        "        self.name = name\n",
        "        self.age = age\n",
        "        self.gender = gender\n",
        "\n",
        "    def PersonInfo(self):\n",
        "        print('Name :- {}'.format(self.name))\n",
        "        print('Age :- {}'.format(self.age))\n",
        "        print('Gender :- {}'.format(self.gender))\n",
        "\n",
        "\n",
        "\n",
        "\n",
        "class student(person): # Child Class\n",
        "    def __init__(self,name,age,gender,studentid,fees):\n",
        "        person.__init__(self,name,age,gender)\n",
        "        self.studentid = studentid\n",
        "        self.fees = fees\n",
        "\n",
        "    def StudentInfo(self):\n",
        "        print('Student ID :- {}'.format(self.studentid))\n",
        "        print('Fees :- {}'.format(self.fees))\n",
        "\n",
        "\n",
        "stud1 = student('Asif' , 24 , 'Male' , 123 , 1200)\n",
        "print('Student Details')\n",
        "print('---------------')\n",
        "stud1.PersonInfo()    # PersonInfo() method presnt in Parent Class will be accessible by child class\n",
        "stud1.StudentInfo()\n",
        "print()"
      ]
    },
    {
      "cell_type": "code",
      "execution_count": null,
      "metadata": {
        "id": "ZQvaGR7spDB4",
        "outputId": "8d6bf7f8-3d3c-490b-83f8-ead0e82d1092"
      },
      "outputs": [
        {
          "name": "stdout",
          "output_type": "stream",
          "text": [
            "Name :- Asif\n",
            "Age :- 24\n",
            "Gender :- Male\n",
            "Student ID :- 123\n",
            "Fees :- 1200\n"
          ]
        }
      ],
      "source": [
        "# super() builtin function allows us to access methods of the base class.\n",
        "\n",
        "class person:   # Parent Class\n",
        "    def __init__(self, name , age , gender):\n",
        "        self.name = name\n",
        "        self.age = age\n",
        "        self.gender = gender\n",
        "\n",
        "    def PersonInfo(self):\n",
        "        print('Name :- {}'.format(self.name))\n",
        "        print('Age :- {}'.format(self.age))\n",
        "        print('Gender :- {}'.format(self.gender))\n",
        "\n",
        "\n",
        "\n",
        "\n",
        "class student(person): # Child Class\n",
        "    def __init__(self,name,age,gender,studentid,fees):\n",
        "        super().__init__(name,age,gender)\n",
        "        self.studentid = studentid\n",
        "        self.fees = fees\n",
        "\n",
        "    def StudentInfo(self):\n",
        "        super().PersonInfo()\n",
        "        print('Student ID :- {}'.format(self.studentid))\n",
        "        print('Fees :- {}'.format(self.fees))\n",
        "\n",
        "stud = student('Asif' , 24 , 'Male' , 123 , 1200)\n",
        "print('Student Details')\n",
        "print('---------------')\n",
        "stud.StudentInfo()"
      ]
    },
    {
      "cell_type": "markdown",
      "metadata": {
        "id": "8gM29EnHpDB5"
      },
      "source": [
        "### Multi-level Inheritance"
      ]
    },
    {
      "cell_type": "markdown",
      "metadata": {
        "id": "1po1Syi2pDB7"
      },
      "source": [
        "- In this type of inheritance, a class can inherit from a child class or derived class.\n",
        "\n",
        "- Multilevel Inheritance can be of any depth in python"
      ]
    },
    {
      "cell_type": "markdown",
      "metadata": {
        "id": "TNLOrdDnpDB7"
      },
      "source": [
        "<img src= \"multi-level inheritance.png\">"
      ]
    },
    {
      "cell_type": "code",
      "execution_count": null,
      "metadata": {
        "id": "QeOkO7xVpDB7",
        "outputId": "da1f25a7-912b-40b0-e8f0-147fd52c6a14"
      },
      "outputs": [
        {
          "name": "stdout",
          "output_type": "stream",
          "text": [
            "Contractual Employee Details\n",
            "****************************\n",
            "Name :- Basit\n",
            "Age :- 36\n",
            "Gender :- Male\n",
            "Employee ID :- 456\n",
            "Salary :- 80000\n",
            "Contract Expiry :- 21-12-2021\n",
            "\n",
            " \n",
            "\n",
            "Fulltime Employee Details\n",
            "****************************\n",
            "Name :- Asif\n",
            "Age :- 22\n",
            "Gender :- Male\n",
            "Employee ID :- 567\n",
            "Salary :- 70000\n",
            "Work Experience :- 12\n"
          ]
        }
      ],
      "source": [
        "class person:   # Parent Class\n",
        "    def __init__(self, name , age , gender):\n",
        "        self.name = name\n",
        "        self.age = age\n",
        "        self.gender = gender\n",
        "\n",
        "    def PersonInfo(self):\n",
        "        print('Name :- {}'.format(self.name))\n",
        "        print('Age :- {}'.format(self.age))\n",
        "        print('Gender :- {}'.format(self.gender))\n",
        "\n",
        "\n",
        "\n",
        "\n",
        "class employee(person): # Child Class\n",
        "    def __init__(self,name,age,gender,empid,salary):\n",
        "        person.__init__(self,name,age,gender)\n",
        "        self.empid = empid\n",
        "        self.salary = salary\n",
        "\n",
        "    def employeeInfo(self):\n",
        "        print('Employee ID :- {}'.format(self.empid))\n",
        "        print('Salary :- {}'.format(self.salary))\n",
        "\n",
        "\n",
        "\n",
        "\n",
        "class fulltime(employee): # Grand Child Class\n",
        "    def __init__(self,name,age,gender,empid,salary,WorkExperience):\n",
        "        employee.__init__(self,name,age,gender,empid,salary)\n",
        "        self.WorkExperience = WorkExperience\n",
        "\n",
        "    def FulltimeInfo(self):\n",
        "        print('Work Experience :- {}'.format(self.WorkExperience))\n",
        "\n",
        "\n",
        "\n",
        "\n",
        "class contractual(employee): # Grand Child Class\n",
        "    def __init__(self,name,age,gender,empid,salary,ContractExpiry):\n",
        "        employee.__init__(self,name,age,gender,empid,salary)\n",
        "        self.ContractExpiry = ContractExpiry\n",
        "\n",
        "    def ContractInfo(self):\n",
        "        print('Contract Expiry :- {}'.format(self.ContractExpiry))\n",
        "\n",
        "\n",
        "print('Contractual Employee Details')\n",
        "print('****************************')\n",
        "contract1 = contractual('Basit' , 36 , 'Male' , 456 , 80000,'21-12-2021')\n",
        "contract1.PersonInfo()\n",
        "contract1.employeeInfo()\n",
        "contract1.ContractInfo()\n",
        "\n",
        "print('\\n \\n')\n",
        "\n",
        "print('Fulltime Employee Details')\n",
        "print('****************************')\n",
        "fulltim1= fulltime('Asif' , 22 , 'Male' , 567 , 70000, 12)\n",
        "fulltim1.PersonInfo()\n",
        "fulltim1.employeeInfo()\n",
        "fulltim1.FulltimeInfo()"
      ]
    },
    {
      "cell_type": "markdown",
      "metadata": {
        "id": "rObyV-fEpDB8"
      },
      "source": [
        "### Multiple Inheritance"
      ]
    },
    {
      "cell_type": "markdown",
      "metadata": {
        "id": "8EnbSoSKpDB9"
      },
      "source": [
        "- Multiple inheritance is a feature in which a class (derived class) can inherit attributes and methods from more than one parent class.\n",
        "\n",
        "- The derived class inherits all the features of the base case."
      ]
    },
    {
      "cell_type": "markdown",
      "metadata": {
        "id": "tcC1hkbnpDB9"
      },
      "source": [
        "<img src = 'Multiple Inheritance.PNG'>"
      ]
    },
    {
      "cell_type": "code",
      "execution_count": null,
      "metadata": {
        "id": "6EXoTuH8pDB9",
        "outputId": "afcf55fb-18d3-4d4c-e102-58fa8ca976d6"
      },
      "outputs": [
        {
          "name": "stdout",
          "output_type": "stream",
          "text": [
            "My Name :-  Bill\n",
            "Father : John\n",
            "Mother : Kristen\n"
          ]
        }
      ],
      "source": [
        "# Super Class\n",
        "class Father:\n",
        "    def __init__(self):\n",
        "        self.fathername = str()\n",
        "\n",
        "\n",
        "# Super Class\n",
        "class Mother:\n",
        "    def __init__(self):\n",
        "        self.mothername = str()\n",
        "\n",
        "\n",
        "# Sub Class\n",
        "class Son(Father, Mother):\n",
        "    name = str()\n",
        "    def show(self):\n",
        "        print('My Name :- ',self.name)\n",
        "        print(\"Father :\", self.fathername)\n",
        "        print(\"Mother :\", self.mothername)\n",
        "\n",
        "\n",
        "s1 = Son()\n",
        "s1.name = 'Bill'\n",
        "s1.fathername = \"John\"\n",
        "s1.mothername = \"Kristen\"\n",
        "s1.show()"
      ]
    },
    {
      "cell_type": "code",
      "execution_count": null,
      "metadata": {
        "id": "OYi3xKdmpDB-",
        "outputId": "dae4cae6-a092-4f86-d59d-0eb349d80176"
      },
      "outputs": [
        {
          "name": "stdout",
          "output_type": "stream",
          "text": [
            "2020-08-09 23:48:55\n"
          ]
        }
      ],
      "source": [
        "class Date:\n",
        "    def __init__(self,date):\n",
        "        self.date = date\n",
        "\n",
        "class Time:\n",
        "    def __init__(self,time):\n",
        "        self.time = time\n",
        "\n",
        "class timestamp(CurrentDate,CurrentTime):\n",
        "    def __init__(self,date,time):\n",
        "        CurrentDate.__init__(self,date)\n",
        "        CurrentTime.__init__(self,time)\n",
        "        DateTime = self.date + ' ' + self.time\n",
        "        print(DateTime)\n",
        "\n",
        "datetime1 = timestamp( '2020-08-09', '23:48:55')"
      ]
    },
    {
      "cell_type": "markdown",
      "metadata": {
        "id": "wqKFSqb_pDB-"
      },
      "source": [
        "### Method Overriding"
      ]
    },
    {
      "cell_type": "markdown",
      "metadata": {
        "id": "IdrHiW_zpDB-"
      },
      "source": [
        "- Overriding is a very important part of object oreinted programming because it makes inheritance exploit its full power.\n",
        "\n",
        "\n",
        "- Overriding is the ability of a class (Sub Class / Child Class / Derived Class) to change the implementation of a method provided by one of its parent classes.\n",
        "\n",
        "\n",
        "- When a method in a subclass has the same name, same parameter and same return type as a method in its super-class, then the method in the subclass is said to override the method in the super-class.\n",
        "\n",
        "\n",
        "- The version of a method that is executed will be determined by the object that is used to invoke it.\n",
        "\n",
        "- If an object of a parent class is used to invoke the method, then the version in the parent class will be executed, but if an object of the subclass is used to invoke the method, then the version in the child class will be executed."
      ]
    },
    {
      "cell_type": "code",
      "execution_count": null,
      "metadata": {
        "id": "k964IsGjpDB_",
        "outputId": "53c84ffe-951f-4239-e2bb-15e1228777c4"
      },
      "outputs": [
        {
          "name": "stdout",
          "output_type": "stream",
          "text": [
            "Hello Student\n",
            "Hello Person\n"
          ]
        }
      ],
      "source": [
        "class person:   # Parent Class\n",
        "    def __init__(self, name , age , gender):\n",
        "        self.name = name\n",
        "        self.age = age\n",
        "        self.gender = gender\n",
        "\n",
        "    def greet(self):\n",
        "        print(\"Hello Person\")\n",
        "\n",
        "\n",
        "\n",
        "class student(person): # Child Class\n",
        "    def __init__(self,name,age,gender,studentid,fees):\n",
        "        person.__init__(self,name,age,gender)\n",
        "        self.studentid = studentid\n",
        "        self.fees = fees\n",
        "\n",
        "    def greet(self):\n",
        "        print(\"Hello Student\")\n",
        "\n",
        "\n",
        "stud = student('Gabriel' , 56 , 'Male' , 45 , 345678)\n",
        "stud.greet() # greet() method defined in subclass will be triggered as \"stud\" is an object of child class\n",
        "\n",
        "person1 = person('Gabriel' , 56 , 'Male')\n",
        "person1.greet() # greet() method defined in superclass will be triggered because \"person1\" is an object of parent class"
      ]
    },
    {
      "cell_type": "markdown",
      "metadata": {
        "id": "dtJQR6cBpDB_"
      },
      "source": [
        "# Container"
      ]
    },
    {
      "cell_type": "markdown",
      "metadata": {
        "id": "5Lw_n0ffpDB_"
      },
      "source": [
        "- Containers are data structures that hold data values.\n",
        "\n",
        "\n",
        "- They support membership tests which means we can check whether a value exists in the container or not.\n",
        "\n",
        "\n",
        "- Generally containers provide a way to access the contained objects and to iterate over them.\n",
        "\n",
        "\n",
        "- Examples of containers include tuple, list, set, dict, str"
      ]
    },
    {
      "cell_type": "code",
      "execution_count": null,
      "metadata": {
        "id": "GRcy-LIkpDCA",
        "outputId": "e312f2f3-7213-4e30-9c70-23889829c19c"
      },
      "outputs": [
        {
          "data": {
            "text/plain": [
              "True"
            ]
          },
          "execution_count": 124,
          "metadata": {},
          "output_type": "execute_result"
        }
      ],
      "source": [
        "list1 = ['asif' , 'john' , 'Michael' , 'Basit']\n",
        "\n",
        "'asif' in list1  # Membership check using 'in' operator"
      ]
    },
    {
      "cell_type": "code",
      "execution_count": null,
      "metadata": {
        "id": "ZHT-U6QZpDCA"
      },
      "outputs": [],
      "source": [
        "assert 'john' in list1  # If the condition returns true the program does nothing and move to the next line of code"
      ]
    },
    {
      "cell_type": "code",
      "execution_count": null,
      "metadata": {
        "id": "ZQVrvjYFpDCA",
        "outputId": "05b349ad-bda3-49a3-8644-e8ddb36b899a"
      },
      "outputs": [
        {
          "ename": "AssertionError",
          "evalue": "",
          "output_type": "error",
          "traceback": [
            "\u001b[1;31m---------------------------------------------------------------------------\u001b[0m",
            "\u001b[1;31mAssertionError\u001b[0m                            Traceback (most recent call last)",
            "\u001b[1;32m<ipython-input-127-f7bcea8c4682>\u001b[0m in \u001b[0;36m<module>\u001b[1;34m\u001b[0m\n\u001b[1;32m----> 1\u001b[1;33m \u001b[1;32massert\u001b[0m \u001b[1;34m'john1'\u001b[0m \u001b[1;32min\u001b[0m \u001b[0mlist1\u001b[0m\u001b[1;33m\u001b[0m\u001b[1;33m\u001b[0m\u001b[0m\n\u001b[0m",
            "\u001b[1;31mAssertionError\u001b[0m: "
          ]
        }
      ],
      "source": [
        "assert 'john1' in list1 # If the condition returns false, Assert will stop the program and throws an AssertionError."
      ]
    },
    {
      "cell_type": "code",
      "execution_count": null,
      "metadata": {
        "id": "2EgnS0_xpDCB",
        "outputId": "89937c76-b11b-47a6-a469-5d4b2f303c2e"
      },
      "outputs": [
        {
          "data": {
            "text/plain": [
              "{'Name': 'Asif', 'ID': 12345, 'DOB': 1991, 'Address': 'Hilsinki'}"
            ]
          },
          "execution_count": 130,
          "metadata": {},
          "output_type": "execute_result"
        }
      ],
      "source": [
        "mydict = {'Name':'Asif' , 'ID': 12345 , 'DOB': 1991 , 'Address' : 'Hilsinki'}\n",
        "mydict"
      ]
    },
    {
      "cell_type": "code",
      "execution_count": null,
      "metadata": {
        "id": "XXsDOVWrpDCC",
        "outputId": "22e106e5-e3c8-4ae2-9fc0-a979304b5b86"
      },
      "outputs": [
        {
          "data": {
            "text/plain": [
              "False"
            ]
          },
          "execution_count": 131,
          "metadata": {},
          "output_type": "execute_result"
        }
      ],
      "source": [
        "'Asif' in mydict # Dictionary membership will always check the keys"
      ]
    },
    {
      "cell_type": "code",
      "execution_count": null,
      "metadata": {
        "id": "z3SuCsMmpDCC",
        "outputId": "9cc46305-f324-42b9-f7b7-21d1f73da480"
      },
      "outputs": [
        {
          "data": {
            "text/plain": [
              "True"
            ]
          },
          "execution_count": 132,
          "metadata": {},
          "output_type": "execute_result"
        }
      ],
      "source": [
        "'Name' in mydict # Dictionary membership will always check the keys"
      ]
    },
    {
      "cell_type": "code",
      "execution_count": null,
      "metadata": {
        "id": "f-PhOtA-pDCD",
        "outputId": "d345328d-20cd-467c-93e5-3b09a161ff2a"
      },
      "outputs": [
        {
          "data": {
            "text/plain": [
              "True"
            ]
          },
          "execution_count": 133,
          "metadata": {},
          "output_type": "execute_result"
        }
      ],
      "source": [
        "'DOB' in mydict"
      ]
    },
    {
      "cell_type": "code",
      "execution_count": null,
      "metadata": {
        "id": "xm5ZmyhEpDCE",
        "outputId": "9673063b-ae17-40b4-fd0f-6f05dad56394"
      },
      "outputs": [
        {
          "data": {
            "text/plain": [
              "True"
            ]
          },
          "execution_count": 134,
          "metadata": {},
          "output_type": "execute_result"
        }
      ],
      "source": [
        "mystr = 'asifbhat'\n",
        "\n",
        "'as' in mystr  # Check if substring is present"
      ]
    },
    {
      "cell_type": "markdown",
      "metadata": {
        "id": "8cLEoU54pDCE"
      },
      "source": [
        "# Iterable & Iterator"
      ]
    },
    {
      "cell_type": "markdown",
      "metadata": {
        "id": "w2O-MRM9pDCF"
      },
      "source": [
        "- An __iterable__ is an object that can be iterated upon. It can return an iterator object with the purpose of traversing through all the elements of an iterable.\n",
        "\n",
        "\n",
        "- An iterable object implements ____iter__()__ which is expected to return an iterator object. The iterator object uses the ____next__()__ method. Every time __next()__ is called next element in the iterator stream is returned. When there are no more elements available __StopIteration exception__ is encountered. So any object that has a ____next__()__ method is called an __iterator__.\n",
        "\n",
        "\n",
        "\n",
        "- Python lists, tuples, dictionaries and sets are all examples of iterable objects."
      ]
    },
    {
      "cell_type": "markdown",
      "metadata": {
        "id": "TBa3XPKzpDCF"
      },
      "source": [
        "<img src = 'iterator1.PNG'>"
      ]
    },
    {
      "cell_type": "code",
      "execution_count": null,
      "metadata": {
        "id": "m1N49DJcpDCG",
        "outputId": "51f82f5d-b32d-4ed8-e340-5c3fe59dc6b4"
      },
      "outputs": [
        {
          "name": "stdout",
          "output_type": "stream",
          "text": [
            "Asif\n",
            "Basit\n",
            "John\n",
            "Michael\n"
          ]
        },
        {
          "ename": "StopIteration",
          "evalue": "",
          "output_type": "error",
          "traceback": [
            "\u001b[1;31m---------------------------------------------------------------------------\u001b[0m",
            "\u001b[1;31mStopIteration\u001b[0m                             Traceback (most recent call last)",
            "\u001b[1;32m<ipython-input-236-a2095e242a65>\u001b[0m in \u001b[0;36m<module>\u001b[1;34m\u001b[0m\n\u001b[0;32m      5\u001b[0m \u001b[0mprint\u001b[0m\u001b[1;33m(\u001b[0m\u001b[0mnext\u001b[0m\u001b[1;33m(\u001b[0m\u001b[0mlist_iter\u001b[0m\u001b[1;33m)\u001b[0m\u001b[1;33m)\u001b[0m\u001b[1;33m\u001b[0m\u001b[1;33m\u001b[0m\u001b[0m\n\u001b[0;32m      6\u001b[0m \u001b[0mprint\u001b[0m\u001b[1;33m(\u001b[0m\u001b[0mnext\u001b[0m\u001b[1;33m(\u001b[0m\u001b[0mlist_iter\u001b[0m\u001b[1;33m)\u001b[0m\u001b[1;33m)\u001b[0m\u001b[1;33m\u001b[0m\u001b[1;33m\u001b[0m\u001b[0m\n\u001b[1;32m----> 7\u001b[1;33m \u001b[0mprint\u001b[0m\u001b[1;33m(\u001b[0m\u001b[0mnext\u001b[0m\u001b[1;33m(\u001b[0m\u001b[0mlist_iter\u001b[0m\u001b[1;33m)\u001b[0m\u001b[1;33m)\u001b[0m\u001b[1;33m\u001b[0m\u001b[1;33m\u001b[0m\u001b[0m\n\u001b[0m",
            "\u001b[1;31mStopIteration\u001b[0m: "
          ]
        }
      ],
      "source": [
        "mylist = ['Asif' , 'Basit' , 'John' , 'Michael']\n",
        "list_iter = iter(mylist) # Create an iterator object using iter()\n",
        "print(next(list_iter))  # return first element in the iterator stream\n",
        "print(next(list_iter))  # return next element in the iterator stream\n",
        "print(next(list_iter))\n",
        "print(next(list_iter))\n",
        "print(next(list_iter))"
      ]
    },
    {
      "cell_type": "code",
      "execution_count": null,
      "metadata": {
        "id": "Bh43IXXrpDCG",
        "outputId": "3487c67c-96c6-430d-caf5-30aa3a35931e"
      },
      "outputs": [
        {
          "name": "stdout",
          "output_type": "stream",
          "text": [
            "Asif\n",
            "Basit\n",
            "John\n",
            "Michael\n"
          ]
        }
      ],
      "source": [
        "mylist = ['Asif' , 'Basit' , 'John' , 'Michael']\n",
        "list_iter = iter(mylist)     # Create an iterator object using iter()\n",
        "print(list_iter.__next__())  # return first element in the iterator stream\n",
        "print(list_iter.__next__())  # return next element in the iterator stream\n",
        "print(list_iter.__next__())\n",
        "print(list_iter.__next__())"
      ]
    },
    {
      "cell_type": "code",
      "execution_count": null,
      "metadata": {
        "id": "qvyq_apnpDCG",
        "outputId": "e67f79c3-a398-4cdf-bdf4-78436fa8e666"
      },
      "outputs": [
        {
          "name": "stdout",
          "output_type": "stream",
          "text": [
            "Asif\n",
            "Basit\n",
            "John\n",
            "Michael\n"
          ]
        }
      ],
      "source": [
        "mylist = ['Asif' , 'Basit' , 'John' , 'Michael']\n",
        "list_iter = iter(mylist)     # Create an iterator object using iter()\n",
        "for i in list_iter:\n",
        "    print(i)"
      ]
    },
    {
      "cell_type": "code",
      "execution_count": null,
      "metadata": {
        "id": "d5yEp8oXpDCH",
        "outputId": "3ce708ce-5cd1-47a5-fa03-933f0c9bfa33"
      },
      "outputs": [
        {
          "name": "stdout",
          "output_type": "stream",
          "text": [
            "Asif\n",
            "Basit\n",
            "John\n",
            "Michael\n"
          ]
        }
      ],
      "source": [
        "# Looping Through an Iterable (list) using for loop\n",
        "\n",
        "mylist = ['Asif' , 'Basit' , 'John' , 'Michael']\n",
        "\n",
        "for i in mylist:\n",
        "    print(i)"
      ]
    },
    {
      "cell_type": "code",
      "execution_count": null,
      "metadata": {
        "id": "Cokpvn_epDCI",
        "outputId": "4f9988e9-7780-4830-b86c-676cebdb5e66"
      },
      "outputs": [
        {
          "name": "stdout",
          "output_type": "stream",
          "text": [
            "Asif\n",
            "Basit\n",
            "John\n",
            "Michael\n"
          ]
        }
      ],
      "source": [
        "# Looping Through an Iterable (tuple) using for loop\n",
        "\n",
        "mytuple = ('Asif' , 'Basit' , 'John' , 'Michael')\n",
        "\n",
        "for i in mytuple:\n",
        "    print(i)"
      ]
    },
    {
      "cell_type": "code",
      "execution_count": null,
      "metadata": {
        "id": "4tA0eBwMpDCI",
        "outputId": "6bc04a40-4349-41e0-c5ba-7f7ee84d8f6c"
      },
      "outputs": [
        {
          "name": "stdout",
          "output_type": "stream",
          "text": [
            "H\n",
            "e\n",
            "l\n",
            "l\n",
            "o\n",
            " \n",
            "P\n",
            "y\n",
            "t\n",
            "h\n",
            "o\n",
            "n\n"
          ]
        }
      ],
      "source": [
        "# Looping Through an Iterable (string) using for loop\n",
        "\n",
        "mystr = \"Hello Python\"\n",
        "\n",
        "for i in mystr:\n",
        "    print(i)"
      ]
    },
    {
      "cell_type": "code",
      "execution_count": null,
      "metadata": {
        "id": "-zWttuNppDCK",
        "outputId": "60fc6d05-a4cd-4237-de59-32fe35239d43"
      },
      "outputs": [
        {
          "name": "stdout",
          "output_type": "stream",
          "text": [
            "1\n",
            "2\n",
            "3\n",
            "4\n",
            "5\n",
            "6\n",
            "7\n",
            "8\n",
            "9\n",
            "10\n"
          ]
        }
      ],
      "source": [
        "# This iterator produces all natural numbers from 1 to 10.\n",
        "class myiter:\n",
        "     def __init__(self):\n",
        "            self.num = 0\n",
        "\n",
        "     def __iter__(self):\n",
        "            self.num = 1\n",
        "            return self\n",
        "\n",
        "     def __next__(self):\n",
        "        if self.num <= 10:\n",
        "            val = self.num\n",
        "            self.num += 1\n",
        "            return val\n",
        "        else:\n",
        "            raise StopIteration\n",
        "\n",
        "mynum = myiter()\n",
        "iter1 = iter(mynum)\n",
        "for i in iter1:\n",
        "    print(i)"
      ]
    },
    {
      "cell_type": "code",
      "execution_count": null,
      "metadata": {
        "id": "MToGEHOupDCL",
        "outputId": "97c37174-1aba-49e5-eadd-a199cca5f504"
      },
      "outputs": [
        {
          "name": "stdout",
          "output_type": "stream",
          "text": [
            "1\n",
            "3\n",
            "5\n",
            "7\n",
            "9\n",
            "11\n",
            "13\n",
            "15\n",
            "17\n",
            "19\n"
          ]
        }
      ],
      "source": [
        "# This iterator will produce odd numbers\n",
        "class myiter:\n",
        "     def __init__(self):\n",
        "            self.num = 0\n",
        "\n",
        "     def __iter__(self):\n",
        "            self.num = 1\n",
        "            return self\n",
        "\n",
        "     def __next__(self):\n",
        "        if self.num <= 20 :\n",
        "            val = self.num\n",
        "            self.num += 2\n",
        "            return val\n",
        "        else:\n",
        "            raise StopIteration\n",
        "\n",
        "myodd = myiter()\n",
        "iter1 = iter(myodd)\n",
        "for i in iter1:\n",
        "    print(i)"
      ]
    },
    {
      "cell_type": "code",
      "execution_count": null,
      "metadata": {
        "id": "SxN8lTtSpDCL",
        "outputId": "80ee5120-b966-4fa4-aa66-dda0bd4f24c1"
      },
      "outputs": [
        {
          "name": "stdout",
          "output_type": "stream",
          "text": [
            "1\n",
            "1\n",
            "2\n",
            "3\n",
            "5\n",
            "8\n",
            "13\n",
            "21\n",
            "34\n"
          ]
        }
      ],
      "source": [
        "# This iterator will produce fibonacci numbers\n",
        "\n",
        "class myfibonacci:\n",
        "     def __init__(self):\n",
        "            self.prev = 0\n",
        "            self.cur = 0\n",
        "\n",
        "     def __iter__(self):\n",
        "            self.prev = 0\n",
        "            self.cur = 1\n",
        "            return self\n",
        "\n",
        "     def __next__(self):\n",
        "        if self.cur <= 50:\n",
        "            val = self.cur\n",
        "            self.cur += self.prev\n",
        "            self.prev = val\n",
        "            return val\n",
        "        else:\n",
        "            raise StopIteration\n",
        "\n",
        "myfibo = myfibonacci()\n",
        "iter1 = iter(myfibo)\n",
        "for i in iter1:\n",
        "    print(i)"
      ]
    },
    {
      "cell_type": "markdown",
      "metadata": {
        "id": "Udjm-3O6pDCL"
      },
      "source": [
        "# Generator"
      ]
    },
    {
      "cell_type": "markdown",
      "metadata": {
        "id": "Qk2uxNSIpDCM"
      },
      "source": [
        "- Python generators are easy way of creating iterators. It generates values one at a time from a given sequence instead of returning the entire sequence at once.  \n",
        "\n",
        "\n",
        "- It is a special type of function which returns an iterator object.\n",
        "\n",
        "\n",
        "- In a generator function, a __yield__ statement is used rather than a __return__ statement.\n",
        "\n",
        "\n",
        "- The generator function cannot include the return keyword. If we include it then it will terminate the execution of the function.\n",
        "\n",
        "\n",
        "- The difference between __yield__ and __return__ is that once yield returns a value the function is paused and the control is transferred to the caller.Local variables and their states are remembered between successive calls. In case of  the return statement value is returned and the execution of the function is terminated.\n",
        "\n",
        "\n",
        "- Methods like ____iter__()__ and ____next__()__ are implemented automatically in generator function.\n",
        "\n",
        "\n",
        "- Simple generators can be easily created using __generator expressions__. Generator expressions create anonymous generator functions like lambda.\n",
        "\n",
        "\n",
        "- The syntax for generator expression is similar to that of a list comprehension but the only difference is square brackets are replaced with round parentheses. Also list comprehension produces the entire list while the generator expression produces one item at a time which is more memory efficient than list comprehension."
      ]
    },
    {
      "cell_type": "code",
      "execution_count": null,
      "metadata": {
        "id": "izYpTLdtpDCM",
        "outputId": "0f69d016-fd8d-452a-d90d-4186f05e4279"
      },
      "outputs": [
        {
          "name": "stdout",
          "output_type": "stream",
          "text": [
            "1\n",
            "2\n",
            "3\n",
            "4\n",
            "5\n"
          ]
        },
        {
          "ename": "StopIteration",
          "evalue": "",
          "output_type": "error",
          "traceback": [
            "\u001b[1;31m---------------------------------------------------------------------------\u001b[0m",
            "\u001b[1;31mStopIteration\u001b[0m                             Traceback (most recent call last)",
            "\u001b[1;32m<ipython-input-258-4c1c399db6dd>\u001b[0m in \u001b[0;36m<module>\u001b[1;34m\u001b[0m\n\u001b[0;32m     24\u001b[0m \u001b[0mprint\u001b[0m\u001b[1;33m(\u001b[0m\u001b[0mnext\u001b[0m\u001b[1;33m(\u001b[0m\u001b[0mmygen1\u001b[0m\u001b[1;33m)\u001b[0m\u001b[1;33m)\u001b[0m\u001b[1;33m\u001b[0m\u001b[1;33m\u001b[0m\u001b[0m\n\u001b[0;32m     25\u001b[0m \u001b[0mprint\u001b[0m\u001b[1;33m(\u001b[0m\u001b[0mnext\u001b[0m\u001b[1;33m(\u001b[0m\u001b[0mmygen1\u001b[0m\u001b[1;33m)\u001b[0m\u001b[1;33m)\u001b[0m\u001b[1;33m\u001b[0m\u001b[1;33m\u001b[0m\u001b[0m\n\u001b[1;32m---> 26\u001b[1;33m \u001b[0mprint\u001b[0m\u001b[1;33m(\u001b[0m\u001b[0mnext\u001b[0m\u001b[1;33m(\u001b[0m\u001b[0mmygen1\u001b[0m\u001b[1;33m)\u001b[0m\u001b[1;33m)\u001b[0m\u001b[1;33m\u001b[0m\u001b[1;33m\u001b[0m\u001b[0m\n\u001b[0m",
            "\u001b[1;31mStopIteration\u001b[0m: "
          ]
        }
      ],
      "source": [
        "# Simple generator function that will generate numbers from 1 to 5.\n",
        "def mygen():\n",
        "    n = 1\n",
        "    yield n\n",
        "\n",
        "    n += 1\n",
        "    yield n\n",
        "\n",
        "    n += 1\n",
        "    yield n\n",
        "\n",
        "    n += 1\n",
        "    yield n\n",
        "\n",
        "    n += 1\n",
        "    yield n\n",
        "\n",
        "mygen1 = mygen()\n",
        "\n",
        "print(next(mygen1))\n",
        "print(next(mygen1))\n",
        "print(next(mygen1))\n",
        "print(next(mygen1))\n",
        "print(next(mygen1)) #Function will terminate here as all 5 values have been returned.\n",
        "print(next(mygen1)) # As function is already terminated, StopIteration is raised automatically."
      ]
    },
    {
      "cell_type": "code",
      "execution_count": null,
      "metadata": {
        "id": "IdACKt9IpDCM",
        "outputId": "6834beab-ae11-47d0-f320-314697a85d51"
      },
      "outputs": [
        {
          "name": "stdout",
          "output_type": "stream",
          "text": [
            "1\n",
            "2\n",
            "3\n",
            "4\n",
            "5\n",
            "6\n",
            "7\n",
            "8\n",
            "9\n",
            "10\n",
            "11\n",
            "12\n",
            "13\n",
            "14\n",
            "15\n",
            "16\n",
            "17\n",
            "18\n",
            "19\n"
          ]
        }
      ],
      "source": [
        "# Simple generator function that will generate natural numbers from 1 to 20.\n",
        "def mygen():\n",
        "    for i in range(1,20):\n",
        "        yield i\n",
        "\n",
        "\n",
        "mygen1 = mygen()\n",
        "\n",
        "for i in mygen1:\n",
        "    print(i)"
      ]
    },
    {
      "cell_type": "code",
      "execution_count": null,
      "metadata": {
        "id": "f7A5xDkLpDCN",
        "outputId": "ed080e02-4f82-4904-80c0-2b374dab2b6b"
      },
      "outputs": [
        {
          "data": {
            "text/plain": [
              "[1, 2, 3, 4, 5, 6, 7, 8, 9, 10, 11, 12, 13, 14, 15, 16, 17, 18, 19]"
            ]
          },
          "execution_count": 274,
          "metadata": {},
          "output_type": "execute_result"
        }
      ],
      "source": [
        "num = list(mygen()) # Store all values generated by generator function in a list\n",
        "num"
      ]
    },
    {
      "cell_type": "code",
      "execution_count": null,
      "metadata": {
        "id": "Nzib5iJ_pDCN",
        "outputId": "10e2df07-2997-427b-8876-6c7fbd2b6065"
      },
      "outputs": [
        {
          "name": "stdout",
          "output_type": "stream",
          "text": [
            "2\n",
            "4\n",
            "6\n",
            "8\n",
            "10\n",
            "12\n",
            "14\n",
            "16\n",
            "18\n"
          ]
        }
      ],
      "source": [
        "# Simple generator function that will generate even numbers from 1 to 20.\n",
        "def mygen():\n",
        "    for i in range(1,20):\n",
        "        if i%2 == 0:\n",
        "            yield i\n",
        "\n",
        "\n",
        "mygen1 = mygen()\n",
        "\n",
        "for i in mygen1:\n",
        "    print(i)"
      ]
    },
    {
      "cell_type": "code",
      "execution_count": null,
      "metadata": {
        "id": "A64NqwY8pDCO",
        "outputId": "0d9ff417-ea5d-4e34-aec4-05b714609746"
      },
      "outputs": [
        {
          "name": "stdout",
          "output_type": "stream",
          "text": [
            "0\n",
            "1\n",
            "1\n",
            "2\n",
            "3\n",
            "5\n",
            "8\n",
            "13\n",
            "21\n",
            "34\n"
          ]
        }
      ],
      "source": [
        "# This Generator function will generate ten numbers of fibonacci series.\n",
        "def myfibo():\n",
        "    num1 , num2 = 0,1\n",
        "    count = 0\n",
        "    while count < 10:\n",
        "            yield num1\n",
        "            num1,num2 = num2,num1+num2\n",
        "            count+=1\n",
        "\n",
        "\n",
        "fibo = myfibo()\n",
        "\n",
        "for i in fibo:\n",
        "    print(i)"
      ]
    },
    {
      "cell_type": "code",
      "execution_count": null,
      "metadata": {
        "id": "uc8AKsyMpDCP",
        "outputId": "5d2175a5-c7bf-4395-a692-b9ce8abe8566"
      },
      "outputs": [
        {
          "data": {
            "text/plain": [
              "[0, 1, 1, 2, 3, 5, 8, 13, 21, 34]"
            ]
          },
          "execution_count": 277,
          "metadata": {},
          "output_type": "execute_result"
        }
      ],
      "source": [
        "list1 = list(myfibo()) # Store the fibonacci series in a list\n",
        "list1"
      ]
    },
    {
      "cell_type": "code",
      "execution_count": null,
      "metadata": {
        "id": "WhSkmfJVpDCP",
        "outputId": "70c06e0f-5be0-4bf5-a676-eaa4d7b2adfb"
      },
      "outputs": [
        {
          "data": {
            "text/plain": [
              "[0, 1, 4, 9, 16, 25, 36, 49, 64, 81]"
            ]
          },
          "execution_count": 283,
          "metadata": {},
          "output_type": "execute_result"
        }
      ],
      "source": [
        "list2 = [i**2 for i in range(10)]  # List comprehension\n",
        "list2"
      ]
    },
    {
      "cell_type": "code",
      "execution_count": null,
      "metadata": {
        "id": "COacV0xZpDCQ",
        "outputId": "349aea70-07bf-4253-8514-5933b1b42d90"
      },
      "outputs": [
        {
          "data": {
            "text/plain": [
              "<generator object <genexpr> at 0x000001EF4B639848>"
            ]
          },
          "execution_count": 280,
          "metadata": {},
          "output_type": "execute_result"
        }
      ],
      "source": [
        "gen2 = (i**2 for i in range(10)) # Generator expression\n",
        "gen2"
      ]
    },
    {
      "cell_type": "code",
      "execution_count": null,
      "metadata": {
        "id": "GqLsqKr_pDCQ",
        "outputId": "803d9d78-b989-4ba9-9c96-2712cd5c0d85"
      },
      "outputs": [
        {
          "name": "stdout",
          "output_type": "stream",
          "text": [
            "1\n",
            "4\n",
            "9\n",
            "16\n",
            "25\n"
          ]
        }
      ],
      "source": [
        "print(next(gen2))\n",
        "print(next(gen2))\n",
        "print(next(gen2))\n",
        "print(next(gen2))\n",
        "print(next(gen2))"
      ]
    },
    {
      "cell_type": "code",
      "execution_count": null,
      "metadata": {
        "id": "J8dCL0MApDCR",
        "outputId": "c49baf0a-9a65-40f4-c26e-cd0899b7e123"
      },
      "outputs": [
        {
          "name": "stdout",
          "output_type": "stream",
          "text": [
            "0\n",
            "2\n",
            "4\n",
            "6\n",
            "8\n",
            "10\n",
            "12\n",
            "14\n",
            "16\n",
            "18\n",
            "20\n",
            "22\n",
            "24\n",
            "26\n",
            "28\n",
            "30\n",
            "32\n",
            "34\n",
            "36\n",
            "38\n"
          ]
        }
      ],
      "source": [
        "gen2 = (i for i in range(40) if i%2 == 0) # Generator expression to generate even numbers\n",
        "gen2\n",
        "\n",
        "for i in gen2:\n",
        "    print(i)"
      ]
    },
    {
      "cell_type": "markdown",
      "metadata": {
        "id": "AtJxOS6bpDCR"
      },
      "source": [
        "# Decorator"
      ]
    },
    {
      "cell_type": "markdown",
      "metadata": {
        "id": "Wo1WHg4HpDCS"
      },
      "source": [
        "__Decorator__ is very powerful and useful tool in Python as it allows us to wrap another function in order to extend the behavior of wrapped function without permanently modifying it.\n",
        "\n",
        "\n",
        "In Decorators functions are taken as the argument into another function and then called inside the wrapper function.\n",
        "\n",
        "__Advantages__ -\n",
        " - Logging & debugging\n",
        "\n",
        " - Access control and authentication"
      ]
    },
    {
      "cell_type": "code",
      "execution_count": null,
      "metadata": {
        "id": "BQmTKrhapDCS",
        "outputId": "975d4134-d4ce-4b37-d80b-0b367879e1a4"
      },
      "outputs": [
        {
          "name": "stdout",
          "output_type": "stream",
          "text": [
            "Result is :-  2\n",
            "Result is :-  -2\n"
          ]
        }
      ],
      "source": [
        "def subtract(num1 , num2):\n",
        "    res = num1 - num2\n",
        "    print('Result is :- ', res)\n",
        "\n",
        "subtract(4,2)\n",
        "subtract(2,4)"
      ]
    },
    {
      "cell_type": "code",
      "execution_count": null,
      "metadata": {
        "id": "TBHGLPVBpDCT",
        "outputId": "00569a1f-7f7b-47ee-c9cd-ad678d37194d"
      },
      "outputs": [
        {
          "name": "stdout",
          "output_type": "stream",
          "text": [
            "Result is :-  2\n"
          ]
        }
      ],
      "source": [
        "''' We now want subtract() function to always subtract lower number from higher one without modifying this function.\n",
        "    So when we pass (2,4) it should perform 4-2 not 2-4. To acheive this we will create a decorator function'''\n",
        "\n",
        "\n",
        "def sub_decorator(func):\n",
        "    def wrapper(num1,num2):\n",
        "        if num1 < num2:\n",
        "            num1,num2 = num2,num1\n",
        "            return func(num1,num2)\n",
        "    return wrapper\n",
        "\n",
        "sub = sub_decorator(subtract)\n",
        "\n",
        "sub(2,4)"
      ]
    },
    {
      "cell_type": "code",
      "execution_count": null,
      "metadata": {
        "id": "oCgNEnC1pDCT",
        "outputId": "581ee4c3-61ca-496a-9bd9-15fc918c277a"
      },
      "outputs": [
        {
          "name": "stdout",
          "output_type": "stream",
          "text": [
            "Result is :-  2\n"
          ]
        }
      ],
      "source": [
        "@sub_decorator   # we can use @ syntax for decorating a function in one step\n",
        "def subtract(num1 , num2):\n",
        "    res = num1 - num2\n",
        "    print('Result is :- ', res)\n",
        "subtract(2,4)"
      ]
    },
    {
      "cell_type": "code",
      "execution_count": null,
      "metadata": {
        "id": "Qoz6mq33pDCT",
        "outputId": "e7bc366e-d370-43b5-9c7e-8049fdc53ba9"
      },
      "outputs": [
        {
          "name": "stdout",
          "output_type": "stream",
          "text": [
            "Linux installation has started \n",
            "\n",
            "Windows installation has started \n",
            "\n",
            "Mac installation has started \n",
            "\n",
            "\n",
            "Please accept terms & conditions\n",
            "Linux installation has started \n",
            "\n",
            "Please accept terms & conditions\n",
            "Windows installation has started \n",
            " \n",
            "Please accept terms & conditions\n",
            "Mac installation has started \n",
            "\n"
          ]
        }
      ],
      "source": [
        "def InstallLinux():\n",
        "    print('Linux installation has started \\n')\n",
        "\n",
        "def InstallWindows():\n",
        "    print('Windows installation has started \\n')\n",
        "\n",
        "def InstallMac():\n",
        "    print('Mac installation has started \\n')\n",
        "\n",
        "\n",
        "InstallLinux()\n",
        "InstallWindows()\n",
        "InstallMac()\n",
        "\n",
        "print()\n",
        "\n",
        "\n",
        "''' Now suppose if we want to print message :- \"Please accept terms & conditions\" before every installation\n",
        "    then easy way will be to create one decorator function which will present this message instead of modifying all functions'''\n",
        "\n",
        "\n",
        "\n",
        "def InstallDecorator(func):\n",
        "    def wrapper():\n",
        "        print('Please accept terms & conditions')\n",
        "        return func()\n",
        "    return wrapper()\n",
        "\n",
        "@InstallDecorator    # we can use @ syntax for decorating a function in one step\n",
        "def InstallLinux():\n",
        "    print('Linux installation has started \\n')\n",
        "\n",
        "@InstallDecorator\n",
        "def InstallWindows():\n",
        "    print('Windows installation has started \\n ')\n",
        "\n",
        "@InstallDecorator\n",
        "def InstallMac():\n",
        "    print('Mac installation has started \\n')"
      ]
    },
    {
      "cell_type": "code",
      "execution_count": null,
      "metadata": {
        "id": "DaM4tKcHpDCU",
        "outputId": "b2db8bfc-8c99-4f4a-af80-09bfccc15434"
      },
      "outputs": [
        {
          "name": "stdout",
          "output_type": "stream",
          "text": [
            "Please accept terms & conditions...\n",
            "\n",
            "Please enter correct license key...\n",
            "\n",
            "Please enter partitioning choice...\n",
            "\n",
            "Linux installation has started \n",
            "\n"
          ]
        }
      ],
      "source": [
        "# Apply multiple decorator on a single function\n",
        "\n",
        "def InstallDecorator1(func):\n",
        "    def wrapper():\n",
        "        print('Please accept terms & conditions...\\n')\n",
        "        func()\n",
        "    return wrapper\n",
        "\n",
        "def InstallDecorator2(func):\n",
        "    def wrapper():\n",
        "        print('Please enter correct license key...\\n')\n",
        "        return func()\n",
        "    return wrapper\n",
        "\n",
        "\n",
        "def InstallDecorator3(func):\n",
        "    def wrapper():\n",
        "        print('Please enter partitioning choice...\\n')\n",
        "        return func()\n",
        "    return wrapper\n",
        "\n",
        "@InstallDecorator1\n",
        "@InstallDecorator2\n",
        "@InstallDecorator3\n",
        "def InstallLinux():\n",
        "    print('Linux installation has started \\n')\n",
        "\n",
        "InstallLinux()"
      ]
    },
    {
      "cell_type": "markdown",
      "metadata": {
        "id": "KKxGYoblpDCU"
      },
      "source": [
        "# File Management"
      ]
    },
    {
      "cell_type": "markdown",
      "metadata": {
        "id": "Ssje-lbcpDCV"
      },
      "source": [
        "### Python has several built-in modules and functions for creating, reading, updating and deleting files."
      ]
    },
    {
      "cell_type": "markdown",
      "metadata": {
        "id": "7c7U0ouNpDCV"
      },
      "source": [
        "<img src=\"https://github.com/datasciencescoop/Python/blob/master/fileoperation.PNG?raw=1\">"
      ]
    },
    {
      "cell_type": "markdown",
      "metadata": {
        "id": "OhJ0F1h3pDCV"
      },
      "source": [
        "### Open File"
      ]
    },
    {
      "cell_type": "code",
      "execution_count": null,
      "metadata": {
        "id": "PHkC_SA7pDCW"
      },
      "outputs": [],
      "source": [
        "fileobj = open('test1.txt')  # Open file in read/text mode"
      ]
    },
    {
      "cell_type": "code",
      "execution_count": null,
      "metadata": {
        "id": "6Hf_JKM1pDCW"
      },
      "outputs": [],
      "source": [
        "fileobj = open('test1.txt', 'r') # Open file in read mode"
      ]
    },
    {
      "cell_type": "code",
      "execution_count": null,
      "metadata": {
        "id": "Fq78nzbNpDCW"
      },
      "outputs": [],
      "source": [
        "fileobj = open('test1.txt', 'w') # Open file in write mode"
      ]
    },
    {
      "cell_type": "code",
      "execution_count": null,
      "metadata": {
        "id": "RVbdbKozpDCX"
      },
      "outputs": [],
      "source": [
        "fileobj = open('test1.txt', 'a') # Open file in append mode"
      ]
    },
    {
      "cell_type": "markdown",
      "metadata": {
        "id": "N5lKJ5BvpDCX"
      },
      "source": [
        "### Close File"
      ]
    },
    {
      "cell_type": "code",
      "execution_count": null,
      "metadata": {
        "id": "a-zKok4fpDCX"
      },
      "outputs": [],
      "source": [
        "fileobj.close()"
      ]
    },
    {
      "cell_type": "markdown",
      "metadata": {
        "id": "IVffKArCpDCZ"
      },
      "source": [
        "### Read File"
      ]
    },
    {
      "cell_type": "code",
      "execution_count": null,
      "metadata": {
        "id": "ZaIHX-2wpDCZ"
      },
      "outputs": [],
      "source": [
        "fileobj = open('test1.txt')"
      ]
    },
    {
      "cell_type": "code",
      "execution_count": null,
      "metadata": {
        "id": "lYJGoacZpDCa",
        "outputId": "8c6f670b-eaf6-4741-e3b2-7b53d7ea4b4a"
      },
      "outputs": [
        {
          "data": {
            "text/plain": [
              "'Python generators are easy way of creating iterators. It generates values one at a time from a given sequence instead of returning the entire sequence at once.\\nIt is a special type of function which returns an iterator object.\\nIn a generator function, a yield statement is used rather than a return statement.\\nThe generator function cannot include the return keyword. If we include it then it will terminate the execution of the function.\\nThe difference between yield and return is that once yield returns a value the function is paused and the control is transferred to the caller.Local variables and their states are remembered between successive calls. In case of the return statement value is returned and the execution of the function is terminated.\\nMethods like __iter()__ and __next()__ are implemented automatically in generator function.\\nSimple generators can be easily created using generator expressions. Generator expressions create anonymous generator functions like lambda.\\nThe syntax for generator expression is similar to that of a list comprehension but the only difference is square brackets are replaced with round parentheses. Also list comprehension produces the entire list while the generator expression produces one item at a time which is more memory efficient than list comprehension.'"
            ]
          },
          "execution_count": 85,
          "metadata": {},
          "output_type": "execute_result"
        }
      ],
      "source": [
        "fileobj.read() #Read whole file"
      ]
    },
    {
      "cell_type": "code",
      "execution_count": null,
      "metadata": {
        "id": "fJAR7XKCpDCb",
        "outputId": "1db1ba3c-70a7-4981-eaef-30db5bbd1b35"
      },
      "outputs": [
        {
          "data": {
            "text/plain": [
              "''"
            ]
          },
          "execution_count": 86,
          "metadata": {},
          "output_type": "execute_result"
        }
      ],
      "source": [
        "fileobj.read() #File cursor is already at the end of the file so it won't be able to read anything."
      ]
    },
    {
      "cell_type": "code",
      "execution_count": null,
      "metadata": {
        "id": "W0o50p8XpDCc",
        "outputId": "5e051c3c-fdd5-494e-c981-4989d74ac33d"
      },
      "outputs": [
        {
          "data": {
            "text/plain": [
              "'Python generators are easy way of creating iterators. It generates values one at a time from a given sequence instead of returning the entire sequence at once.\\nIt is a special type of function which returns an iterator object.\\nIn a generator function, a yield statement is used rather than a return statement.\\nThe generator function cannot include the return keyword. If we include it then it will terminate the execution of the function.\\nThe difference between yield and return is that once yield returns a value the function is paused and the control is transferred to the caller.Local variables and their states are remembered between successive calls. In case of the return statement value is returned and the execution of the function is terminated.\\nMethods like __iter()__ and __next()__ are implemented automatically in generator function.\\nSimple generators can be easily created using generator expressions. Generator expressions create anonymous generator functions like lambda.\\nThe syntax for generator expression is similar to that of a list comprehension but the only difference is square brackets are replaced with round parentheses. Also list comprehension produces the entire list while the generator expression produces one item at a time which is more memory efficient than list comprehension.'"
            ]
          },
          "execution_count": 87,
          "metadata": {},
          "output_type": "execute_result"
        }
      ],
      "source": [
        "fileobj.seek(0) # Bring file cursor to initial position.\n",
        "fileobj.read()"
      ]
    },
    {
      "cell_type": "code",
      "execution_count": null,
      "metadata": {
        "id": "Tl6RwR2-pDCd",
        "outputId": "6d260a2e-9a11-4922-a614-1db03a2266e0"
      },
      "outputs": [
        {
          "data": {
            "text/plain": [
              "'generators are easy way of creating iterators. It generates values one at a time from a given sequence instead of returning the entire sequence at once.\\nIt is a special type of function which returns an iterator object.\\nIn a generator function, a yield statement is used rather than a return statement.\\nThe generator function cannot include the return keyword. If we include it then it will terminate the execution of the function.\\nThe difference between yield and return is that once yield returns a value the function is paused and the control is transferred to the caller.Local variables and their states are remembered between successive calls. In case of the return statement value is returned and the execution of the function is terminated.\\nMethods like __iter()__ and __next()__ are implemented automatically in generator function.\\nSimple generators can be easily created using generator expressions. Generator expressions create anonymous generator functions like lambda.\\nThe syntax for generator expression is similar to that of a list comprehension but the only difference is square brackets are replaced with round parentheses. Also list comprehension produces the entire list while the generator expression produces one item at a time which is more memory efficient than list comprehension.'"
            ]
          },
          "execution_count": 88,
          "metadata": {},
          "output_type": "execute_result"
        }
      ],
      "source": [
        "fileobj.seek(7) # place file cursor at loc 7\n",
        "fileobj.read()"
      ]
    },
    {
      "cell_type": "code",
      "execution_count": null,
      "metadata": {
        "id": "8GlKyY_5pDCe",
        "outputId": "cbf1d228-42fc-48a1-eede-d12221e7ce53"
      },
      "outputs": [
        {
          "data": {
            "text/plain": [
              "'Python generator'"
            ]
          },
          "execution_count": 89,
          "metadata": {},
          "output_type": "execute_result"
        }
      ],
      "source": [
        "fileobj.seek(0)\n",
        "\n",
        "fileobj.read(16) # Return the first 16 characters of the file"
      ]
    },
    {
      "cell_type": "code",
      "execution_count": null,
      "metadata": {
        "id": "65zcydvZpDCe",
        "outputId": "e991285f-ca6f-47cf-b51a-d743f349ae13"
      },
      "outputs": [
        {
          "data": {
            "text/plain": [
              "16"
            ]
          },
          "execution_count": 90,
          "metadata": {},
          "output_type": "execute_result"
        }
      ],
      "source": [
        "fileobj.tell() # Get the file cursor position"
      ]
    },
    {
      "cell_type": "code",
      "execution_count": null,
      "metadata": {
        "id": "fQeJAJLIpDCf",
        "outputId": "a1babf24-8cd6-4cb4-c9ab-47fd1d2d6533"
      },
      "outputs": [
        {
          "name": "stdout",
          "output_type": "stream",
          "text": [
            "Python generators are easy way of creating iterators. It generates values one at a time from a given sequence instead of returning the entire sequence at once.\n",
            "\n",
            "It is a special type of function which returns an iterator object.\n",
            "\n",
            "In a generator function, a yield statement is used rather than a return statement.\n",
            "\n"
          ]
        }
      ],
      "source": [
        "fileobj.seek(0)\n",
        "\n",
        "print(fileobj.readline()) # Read first line of a file.\n",
        "\n",
        "print(fileobj.readline()) # Read second line of a file.\n",
        "\n",
        "print(fileobj.readline()) # Read third line of a file."
      ]
    },
    {
      "cell_type": "code",
      "execution_count": null,
      "metadata": {
        "id": "rSjGydl9pDCg",
        "outputId": "28fd66d7-5e7e-48e2-8211-cd7d8b5c24ed"
      },
      "outputs": [
        {
          "data": {
            "text/plain": [
              "['Python generators are easy way of creating iterators. It generates values one at a time from a given sequence instead of returning the entire sequence at once.\\n',\n",
              " 'It is a special type of function which returns an iterator object.\\n',\n",
              " 'In a generator function, a yield statement is used rather than a return statement.\\n',\n",
              " 'The generator function cannot include the return keyword. If we include it then it will terminate the execution of the function.\\n',\n",
              " 'The difference between yield and return is that once yield returns a value the function is paused and the control is transferred to the caller.Local variables and their states are remembered between successive calls. In case of the return statement value is returned and the execution of the function is terminated.\\n',\n",
              " 'Methods like __iter()__ and __next()__ are implemented automatically in generator function.\\n',\n",
              " 'Simple generators can be easily created using generator expressions. Generator expressions create anonymous generator functions like lambda.\\n',\n",
              " 'The syntax for generator expression is similar to that of a list comprehension but the only difference is square brackets are replaced with round parentheses. Also list comprehension produces the entire list while the generator expression produces one item at a time which is more memory efficient than list comprehension.']"
            ]
          },
          "execution_count": 92,
          "metadata": {},
          "output_type": "execute_result"
        }
      ],
      "source": [
        "fileobj.seek(0)\n",
        "\n",
        "fileobj.readlines() # Read all lines of a file."
      ]
    },
    {
      "cell_type": "code",
      "execution_count": null,
      "metadata": {
        "id": "4b3d_cSxpDCg",
        "outputId": "60c335df-4ed6-4b5c-ff70-8ed2a3aebaa1"
      },
      "outputs": [
        {
          "name": "stdout",
          "output_type": "stream",
          "text": [
            "Python generators are easy way of creating iterators. It generates values one at a time from a given sequence instead of returning the entire sequence at once.\n",
            "\n",
            "It is a special type of function which returns an iterator object.\n",
            "\n",
            "In a generator function, a yield statement is used rather than a return statement.\n",
            "\n",
            "The generator function cannot include the return keyword. If we include it then it will terminate the execution of the function.\n",
            "\n",
            "The difference between yield and return is that once yield returns a value the function is paused and the control is transferred to the caller.Local variables and their states are remembered between successive calls. In case of the return statement value is returned and the execution of the function is terminated.\n",
            "\n"
          ]
        }
      ],
      "source": [
        "# Read first 5 lines of a file using readline()\n",
        "fileobj.seek(0)\n",
        "\n",
        "count = 0\n",
        "for i in range(5):\n",
        "    if (count < 5):\n",
        "        print(fileobj.readline())\n",
        "    else:\n",
        "        break\n",
        "    count+=1"
      ]
    },
    {
      "cell_type": "code",
      "execution_count": null,
      "metadata": {
        "id": "4JdfP4VmpDCi",
        "outputId": "6d0ca055-8905-4745-f464-e5b7d0cf4190"
      },
      "outputs": [
        {
          "name": "stdout",
          "output_type": "stream",
          "text": [
            "Python generators are easy way of creating iterators. It generates values one at a time from a given sequence instead of returning the entire sequence at once.\n",
            "\n",
            "It is a special type of function which returns an iterator object.\n",
            "\n",
            "In a generator function, a yield statement is used rather than a return statement.\n",
            "\n",
            "The generator function cannot include the return keyword. If we include it then it will terminate the execution of the function.\n",
            "\n",
            "The difference between yield and return is that once yield returns a value the function is paused and the control is transferred to the caller.Local variables and their states are remembered between successive calls. In case of the return statement value is returned and the execution of the function is terminated.\n",
            "\n"
          ]
        }
      ],
      "source": [
        "# Read first 5 lines of a file using readlines()\n",
        "fileobj.seek(0)\n",
        "\n",
        "count = 0\n",
        "for i in fileobj.readlines():\n",
        "    if (count < 5):\n",
        "        print(i)\n",
        "    else:\n",
        "        break\n",
        "    count+=1"
      ]
    },
    {
      "cell_type": "markdown",
      "metadata": {
        "id": "YsCo2ei0pDCk"
      },
      "source": [
        "### Write File"
      ]
    },
    {
      "cell_type": "code",
      "execution_count": null,
      "metadata": {
        "id": "J7MaK0sWpDCk",
        "outputId": "80bb4e63-157a-4070-e411-a7e7172e82b9"
      },
      "outputs": [
        {
          "data": {
            "text/plain": [
              "'Python generators are easy way of creating iterators. It generates values one at a time from a given sequence instead of returning the entire sequence at once.\\nIt is a special type of function which returns an iterator object.\\nIn a generator function, a yield statement is used rather than a return statement.\\nThe generator function cannot include the return keyword. If we include it then it will terminate the execution of the function.\\nThe difference between yield and return is that once yield returns a value the function is paused and the control is transferred to the caller.Local variables and their states are remembered between successive calls. In case of the return statement value is returned and the execution of the function is terminated.\\nMethods like __iter()__ and __next()__ are implemented automatically in generator function.\\nSimple generators can be easily created using generator expressions. Generator expressions create anonymous generator functions like lambda.\\nThe syntax for generator expression is similar to that of a list comprehension but the only difference is square brackets are replaced with round parentheses. Also list comprehension produces the entire list while the generator expression produces one item at a time which is more memory efficient than list comprehension.THIS IS THE NEW CONTENT APPENDED IN THE FILE'"
            ]
          },
          "execution_count": 95,
          "metadata": {},
          "output_type": "execute_result"
        }
      ],
      "source": [
        "fileobj = open('test1.txt', 'a')\n",
        "\n",
        "fileobj.write('THIS IS THE NEW CONTENT APPENDED IN THE FILE') # Append content to the file\n",
        "\n",
        "fileobj.close()\n",
        "\n",
        "fileobj = open('test1.txt')\n",
        "\n",
        "fileobj.read()"
      ]
    },
    {
      "cell_type": "code",
      "execution_count": null,
      "metadata": {
        "id": "BtHP4SKMpDCl",
        "outputId": "c8aaf45c-1757-4ea8-af49-8f1a63bdac4d"
      },
      "outputs": [
        {
          "data": {
            "text/plain": [
              "'NEW CONTENT ADDED IN THE FILE. PREVIOUS CONTENT HAS BEEN OVERWRITTEN'"
            ]
          },
          "execution_count": 96,
          "metadata": {},
          "output_type": "execute_result"
        }
      ],
      "source": [
        "fileobj = open(\"test1.txt\", \"w\")\n",
        "\n",
        "fileobj.write(\"NEW CONTENT ADDED IN THE FILE. PREVIOUS CONTENT HAS BEEN OVERWRITTEN\") # overwrite the content in the file\n",
        "\n",
        "fileobj.close()\n",
        "\n",
        "fileobj = open('test1.txt')\n",
        "\n",
        "fileobj.read()"
      ]
    },
    {
      "cell_type": "code",
      "execution_count": null,
      "metadata": {
        "id": "Gen201NvpDCm",
        "outputId": "cf37b874-4927-4680-83da-ae3237aa6104"
      },
      "outputs": [
        {
          "data": {
            "text/plain": [
              "['First Line\\n',\n",
              " 'Second Line\\n',\n",
              " 'Third Line\\n',\n",
              " 'Fourth Line\\n',\n",
              " 'Fifth Line\\n']"
            ]
          },
          "execution_count": 114,
          "metadata": {},
          "output_type": "execute_result"
        }
      ],
      "source": [
        "fileobj = open(\"test2.txt\", \"w\") # Create a new file\n",
        "\n",
        "fileobj.write(\"First Line\\n\")\n",
        "fileobj.write(\"Second Line\\n\")\n",
        "fileobj.write(\"Third Line\\n\")\n",
        "fileobj.write(\"Fourth Line\\n\")\n",
        "fileobj.write(\"Fifth Line\\n\")\n",
        "fileobj.close()\n",
        "\n",
        "fileobj = open('test2.txt')\n",
        "\n",
        "fileobj.readlines()"
      ]
    },
    {
      "cell_type": "markdown",
      "metadata": {
        "id": "RlunoHxqpDCm"
      },
      "source": [
        "### Delete file"
      ]
    },
    {
      "cell_type": "code",
      "execution_count": null,
      "metadata": {
        "id": "T2FpcM53pDCn"
      },
      "outputs": [],
      "source": [
        "os.remove(\"test3.txt\") # Delete file"
      ]
    },
    {
      "cell_type": "code",
      "execution_count": null,
      "metadata": {
        "id": "OI1EslTbpDCn",
        "outputId": "9c578979-bdc3-499a-fad2-fabff885725a"
      },
      "outputs": [
        {
          "ename": "FileNotFoundError",
          "evalue": "[WinError 2] The system cannot find the file specified: 'test3.txt'",
          "output_type": "error",
          "traceback": [
            "\u001b[1;31m---------------------------------------------------------------------------\u001b[0m",
            "\u001b[1;31mFileNotFoundError\u001b[0m                         Traceback (most recent call last)",
            "\u001b[1;32m<ipython-input-116-fecc9f240170>\u001b[0m in \u001b[0;36m<module>\u001b[1;34m\u001b[0m\n\u001b[1;32m----> 1\u001b[1;33m \u001b[0mos\u001b[0m\u001b[1;33m.\u001b[0m\u001b[0mremove\u001b[0m\u001b[1;33m(\u001b[0m\u001b[1;34m\"test3.txt\"\u001b[0m\u001b[1;33m)\u001b[0m\u001b[1;33m\u001b[0m\u001b[1;33m\u001b[0m\u001b[0m\n\u001b[0m",
            "\u001b[1;31mFileNotFoundError\u001b[0m: [WinError 2] The system cannot find the file specified: 'test3.txt'"
          ]
        }
      ],
      "source": [
        "os.remove(\"test3.txt\")"
      ]
    },
    {
      "cell_type": "code",
      "execution_count": null,
      "metadata": {
        "id": "CnEbLneupDCn"
      },
      "outputs": [],
      "source": [
        "os.rmdir('folder1/')  # Delete folder"
      ]
    },
    {
      "cell_type": "code",
      "execution_count": null,
      "metadata": {
        "id": "K1URSTQxpDCo",
        "outputId": "d18f76d5-de5e-4442-bbdb-902ae13b601c"
      },
      "outputs": [
        {
          "ename": "FileNotFoundError",
          "evalue": "[WinError 2] The system cannot find the file specified: 'folder1/'",
          "output_type": "error",
          "traceback": [
            "\u001b[1;31m---------------------------------------------------------------------------\u001b[0m",
            "\u001b[1;31mFileNotFoundError\u001b[0m                         Traceback (most recent call last)",
            "\u001b[1;32m<ipython-input-118-e9e89c9edbf0>\u001b[0m in \u001b[0;36m<module>\u001b[1;34m\u001b[0m\n\u001b[1;32m----> 1\u001b[1;33m \u001b[0mos\u001b[0m\u001b[1;33m.\u001b[0m\u001b[0mrmdir\u001b[0m\u001b[1;33m(\u001b[0m\u001b[1;34m'folder1/'\u001b[0m\u001b[1;33m)\u001b[0m\u001b[1;33m\u001b[0m\u001b[1;33m\u001b[0m\u001b[0m\n\u001b[0m",
            "\u001b[1;31mFileNotFoundError\u001b[0m: [WinError 2] The system cannot find the file specified: 'folder1/'"
          ]
        }
      ],
      "source": [
        "os.rmdir('folder1/')"
      ]
    },
    {
      "cell_type": "markdown",
      "metadata": {
        "id": "mPHOTKA4pDCo"
      },
      "source": [
        "# Error & Exception Handling"
      ]
    },
    {
      "cell_type": "markdown",
      "metadata": {
        "id": "sToG1jmtpDCo"
      },
      "source": [
        "- Python has many built-in exceptions (ArithmeticError, ZeroDivisionError, EOFError, IndexError, KeyError, SyntaxError, IndentationError, FileNotFoundError etc) that are raised when your program encounters an error.\n",
        "\n",
        "\n",
        "- When the exception occurs Python interpreter stops the current process and passes it to the calling process until it is handled. If exception is not handled the program will crash.\n",
        "\n",
        "\n",
        "- Exceptions in python can be handled using a __try__ statement. The __try__ block lets you test a block of code for errors.\n",
        "\n",
        "\n",
        "- The block of code which can raise an exception is placed inside the try clause. The code that will handle the exceptions is written in the __except__ clause.\n",
        "\n",
        "\n",
        "- The __finally__ code block will execute regardless of the result of the try and except blocks.\n",
        "\n",
        "\n",
        "- We can also use the __else__ keyword to define a block of code to be executed if no exceptions were raised.\n",
        "\n",
        "\n",
        "- Python also allows us to create our own exceptions that can be raised from the program using the __raise__ keyword and caught using the __except__ clause. We can define what kind of error to raise, and the text to print to the user."
      ]
    },
    {
      "cell_type": "markdown",
      "metadata": {
        "id": "xht6muHDpDCp"
      },
      "source": [
        "<img src = 'exception1.PNG'>\n",
        "<img src = 'exception2.PNG'>"
      ]
    },
    {
      "cell_type": "code",
      "execution_count": null,
      "metadata": {
        "id": "wNHSztgapDCp",
        "outputId": "e35607de-d159-4c27-969f-1cac143540e7"
      },
      "outputs": [
        {
          "name": "stdout",
          "output_type": "stream",
          "text": [
            "division by zero Exception occured\n",
            "Run this block of code always\n"
          ]
        }
      ],
      "source": [
        "try:\n",
        "    print(100/0) # ZeroDivisionError will be encountered here. So the control will pass to except block\n",
        "\n",
        "except:\n",
        "    print(sys.exc_info()[1] , 'Exception occured') # This statement will be executed\n",
        "\n",
        "else:\n",
        "    print('No exception occurred') # This will be skipped as code block inside try encountered an exception\n",
        "\n",
        "finally:\n",
        "    print('Run this block of code always') # This will be always executed\n",
        ""
      ]
    },
    {
      "cell_type": "code",
      "execution_count": null,
      "metadata": {
        "id": "igGgZNWkpDCq",
        "outputId": "01032f9e-9c17-4b37-ced8-49e18f1a6b89"
      },
      "outputs": [
        {
          "name": "stdout",
          "output_type": "stream",
          "text": [
            "Variable x is not defined\n"
          ]
        }
      ],
      "source": [
        "try:\n",
        "    print(x)  # NameError exception will be encountered as variable x is not defined\n",
        "\n",
        "except:\n",
        "    print('Variable x is not defined')"
      ]
    },
    {
      "cell_type": "code",
      "execution_count": null,
      "metadata": {
        "id": "QB_7ieltpDCr",
        "outputId": "5da53179-ae31-484b-fea4-fea38ea9f5b1"
      },
      "outputs": [
        {
          "name": "stdout",
          "output_type": "stream",
          "text": [
            "BELOW EXCEPTION OCCURED\n",
            "[WinError 2] The system cannot find the file specified: 'test3.txt'\n",
            "\n",
            "Run this block of code always\n"
          ]
        }
      ],
      "source": [
        "try:\n",
        "    os.remove(\"test3.txt\") # FileNotFoundError will be encountered as \"test3.txt\" is not present in the directory\n",
        "\n",
        "except:                     # Below statement will be executed as exception occured.\n",
        "    print(\"BELOW EXCEPTION OCCURED\")\n",
        "    print(sys.exc_info()[1])\n",
        "\n",
        "else:\n",
        "    print('\\nNo exception occurred')\n",
        "\n",
        "finally:\n",
        "    print('\\nRun this block of code always')"
      ]
    },
    {
      "cell_type": "code",
      "execution_count": null,
      "metadata": {
        "id": "QAxoqBuxpDCs",
        "outputId": "2a568a3a-9006-41eb-bb2f-2db5064e266e"
      },
      "outputs": [
        {
          "name": "stdout",
          "output_type": "stream",
          "text": [
            "Enter first number :- 12\n",
            "Enter first number :- 13\n",
            "0.9230769230769231\n",
            "FileNotFoundError exception occurred\n"
          ]
        }
      ],
      "source": [
        "# Handling specific exceptions\n",
        "try:\n",
        "    x = int(input('Enter first number :- '))\n",
        "    y =  int(input('Enter first number :- '))  # If input entered is non-zero the control will move to next line\n",
        "    print(x/y)\n",
        "    os.remove(\"test3.txt\")\n",
        "\n",
        "except NameError:\n",
        "    print('NameError exception occurred')\n",
        "\n",
        "except FileNotFoundError:\n",
        "    print('FileNotFoundError exception occurred')\n",
        "\n",
        "except ZeroDivisionError:\n",
        "    print('ZeroDivisionError exception occurred')"
      ]
    },
    {
      "cell_type": "code",
      "execution_count": null,
      "metadata": {
        "id": "qn84ZSnEpDCs",
        "outputId": "b5774582-3e27-4009-e139-a559c5883aba"
      },
      "outputs": [
        {
          "name": "stdout",
          "output_type": "stream",
          "text": [
            "Enter first number :- 10\n",
            "Enter first number :- 0\n",
            "ZeroDivisionError exception occurred\n"
          ]
        }
      ],
      "source": [
        "# Handling specific exceptions\n",
        "try:\n",
        "    x = int(input('Enter first number :- '))\n",
        "    y =  int(input('Enter first number :- ')) # If the input entered is zero the control will move to except block.\n",
        "    print(x/y)\n",
        "    os.remove(\"test3.txt\")\n",
        "\n",
        "except NameError:\n",
        "    print('NameError exception occurred')\n",
        "\n",
        "except FileNotFoundError:\n",
        "    print('FileNotFoundError exception occurred')\n",
        "\n",
        "except ZeroDivisionError:\n",
        "    print('ZeroDivisionError exception occurred')"
      ]
    },
    {
      "cell_type": "code",
      "execution_count": null,
      "metadata": {
        "id": "zmaChhkwpDCt",
        "outputId": "e50181a5-09ca-45b3-db4d-2483a0941b19"
      },
      "outputs": [
        {
          "name": "stdout",
          "output_type": "stream",
          "text": [
            "Enter first number :- 100\n",
            "<class 'ValueError'>\n"
          ]
        }
      ],
      "source": [
        "try:\n",
        "    x = int(input('Enter first number :- '))\n",
        "    if x > 50:\n",
        "        raise ValueError(x) # If value of x is greater than 50 ValueError exception will be encountered.\n",
        "except:\n",
        "    print(sys.exc_info()[0])"
      ]
    },
    {
      "cell_type": "markdown",
      "metadata": {
        "id": "qLgH3cXvpDCu"
      },
      "source": [
        "### Built-in Exceptions"
      ]
    },
    {
      "cell_type": "code",
      "execution_count": null,
      "metadata": {
        "id": "0s1nH9k_pDCu",
        "outputId": "3d9cc3ec-6dc9-41df-a854-be803ea179b4"
      },
      "outputs": [
        {
          "name": "stdout",
          "output_type": "stream",
          "text": [
            "(<class 'OverflowError'>, OverflowError('math range error'), <traceback object at 0x000002B2B12EFB88>)\n"
          ]
        }
      ],
      "source": [
        "# OverflowError - This exception is raised when the result of a numeric calculation is too large\n",
        "\n",
        "try:\n",
        "    import math\n",
        "    print(math.exp(1000))\n",
        "except OverflowError:\n",
        "        print (sys.exc_info())\n",
        "else:\n",
        "    print (\"Success, no error!\")"
      ]
    },
    {
      "cell_type": "code",
      "execution_count": null,
      "metadata": {
        "id": "ZCNZU1_QpDCu",
        "outputId": "0e8f9cdc-c359-41bf-ea34-9ab98e35769f"
      },
      "outputs": [
        {
          "name": "stdout",
          "output_type": "stream",
          "text": [
            "Enter first number :- 100\n",
            "Enter first number :- 0\n",
            "ZeroDivisionError exception occurred\n"
          ]
        }
      ],
      "source": [
        "# ZeroDivisionError - This exception is raised when the second operator in a division is zero\n",
        "\n",
        "try:\n",
        "    x = int(input('Enter first number :- '))\n",
        "    y =  int(input('Enter first number :- '))\n",
        "    print(x/y)\n",
        "\n",
        "except ZeroDivisionError:\n",
        "    print('ZeroDivisionError exception occurred')"
      ]
    },
    {
      "cell_type": "code",
      "execution_count": null,
      "metadata": {
        "id": "MPoCQwqOpDCv",
        "outputId": "b1f3a8bc-cc9d-40ed-d157-4dc10396f566"
      },
      "outputs": [
        {
          "name": "stdout",
          "output_type": "stream",
          "text": [
            "NameError exception occurred\n"
          ]
        }
      ],
      "source": [
        "# NameError - This exception is raised when a variable does not exist\n",
        "\n",
        "try:\n",
        "    print(x1)\n",
        "\n",
        "except NameError:\n",
        "    print('NameError exception occurred')"
      ]
    },
    {
      "cell_type": "code",
      "execution_count": null,
      "metadata": {
        "id": "iXouRNuDpDCv",
        "outputId": "3e31875a-3540-4f8b-ebed-e82f6bda17b5"
      },
      "outputs": [
        {
          "name": "stdout",
          "output_type": "stream",
          "text": [
            "Assertion Exception Raised.\n"
          ]
        }
      ],
      "source": [
        "# AssertionError - This exception is raised when an assert statement fails\n",
        "\n",
        "try:\n",
        "    a = 50\n",
        "    b = \"Asif\"\n",
        "    assert a == b\n",
        "except AssertionError:\n",
        "        print (\"Assertion Exception Raised.\")"
      ]
    },
    {
      "cell_type": "code",
      "execution_count": null,
      "metadata": {
        "id": "tClhbu34pDCv",
        "outputId": "d760bb21-a8ed-4c68-b0ae-efd650ac8a7d"
      },
      "outputs": [
        {
          "name": "stdout",
          "output_type": "stream",
          "text": [
            "ModuleNotFoundError Exception Raised.\n"
          ]
        }
      ],
      "source": [
        "# ModuleNotFoundError - This exception is raised when an imported module does not exist\n",
        "\n",
        "try:\n",
        "    import MyModule\n",
        "\n",
        "except ModuleNotFoundError:\n",
        "        print (\"ModuleNotFoundError Exception Raised.\")"
      ]
    },
    {
      "cell_type": "code",
      "execution_count": null,
      "metadata": {
        "id": "lrtyR6MupDCw",
        "outputId": "5ec2b42f-445e-4afc-e84c-af7e5c094fdc"
      },
      "outputs": [
        {
          "name": "stdout",
          "output_type": "stream",
          "text": [
            "KeyError Exception Raised.\n"
          ]
        }
      ],
      "source": [
        "# KeyError - This exception is raised when key does not exist in a dictionary\n",
        "\n",
        "try:\n",
        "    mydict = {1:'Asif', 2:'Basit', 3:'Michael'}\n",
        "    print (mydict[4])\n",
        "\n",
        "except KeyError:\n",
        "     print (\"KeyError Exception Raised.\")"
      ]
    },
    {
      "cell_type": "code",
      "execution_count": null,
      "metadata": {
        "id": "GenwMvVMpDCw",
        "outputId": "d89caf53-90ce-4f10-8b04-18b164e20fdb"
      },
      "outputs": [
        {
          "name": "stdout",
          "output_type": "stream",
          "text": [
            "IndexError Exception Raised.\n"
          ]
        }
      ],
      "source": [
        "# IndexError - This exception is raised when an index of a sequence does not exist.\n",
        "\n",
        "try:\n",
        "    mylist = [1,2,3,4,5,6]\n",
        "    print (mylist[10])\n",
        "\n",
        "except IndexError:\n",
        "     print (\"IndexError Exception Raised.\")"
      ]
    },
    {
      "cell_type": "code",
      "execution_count": null,
      "metadata": {
        "id": "wC9bBp5TpDCx",
        "outputId": "337e0be1-ccd7-4441-fff8-363c9b9db9e9"
      },
      "outputs": [
        {
          "name": "stdout",
          "output_type": "stream",
          "text": [
            "TypeError Exception Raised.\n"
          ]
        }
      ],
      "source": [
        "# TypeError - This exception is raised when two different datatypes are combined\n",
        "\n",
        "try:\n",
        "    a = 50\n",
        "    b = \"Asif\"\n",
        "    c = a/b\n",
        "except TypeError:\n",
        "        print (\"TypeError Exception Raised.\")"
      ]
    },
    {
      "cell_type": "code",
      "execution_count": null,
      "metadata": {
        "id": "9YXB1RJGpDCx",
        "outputId": "d164c510-d483-4ddb-84cf-d13bec4929f4"
      },
      "outputs": [
        {
          "name": "stdout",
          "output_type": "stream",
          "text": [
            "AttributeError Exception Raised.\n"
          ]
        }
      ],
      "source": [
        "# AttributeError: - This exception is raised when attribute reference or assignment fails\n",
        "\n",
        "try:\n",
        "    a = 10\n",
        "    b = a.upper()\n",
        "    print(b)\n",
        "except AttributeError:\n",
        "        print (\"AttributeError Exception Raised.\")"
      ]
    },
    {
      "cell_type": "code",
      "execution_count": null,
      "metadata": {
        "id": "ccTAo77kpDCy"
      },
      "outputs": [],
      "source": [
        "try:\n",
        "    x = input('Enter first number :- ')\n",
        "\n",
        "\n",
        "except:\n",
        "    print('ZeroDivisionError exception occurred')"
      ]
    },
    {
      "cell_type": "markdown",
      "metadata": {
        "id": "cRXUNYrQpDCy"
      },
      "source": [
        "# END"
      ]
    },
    {
      "cell_type": "code",
      "execution_count": null,
      "metadata": {
        "id": "1_POp9yHpDCz"
      },
      "outputs": [],
      "source": [
        "### Examples"
      ]
    },
    {
      "cell_type": "code",
      "execution_count": null,
      "metadata": {
        "id": "8g6E030ipDCz",
        "outputId": "a2ec0d65-0876-4f56-855c-4bc73e7fcd8d"
      },
      "outputs": [
        {
          "name": "stdout",
          "output_type": "stream",
          "text": [
            "1,2,3,5,7,11,13,17,19,"
          ]
        }
      ],
      "source": [
        "# Print all prime numbers betweem 1 - 20\n",
        "for i in range(1, 20):\n",
        "    flag = True\n",
        "    for j in range(2,i):\n",
        "        if i % j == 0:\n",
        "            flag = False\n",
        "            break\n",
        "    if flag :\n",
        "        print(i,end=',')"
      ]
    },
    {
      "cell_type": "code",
      "execution_count": null,
      "metadata": {
        "id": "b54q4CYkpDCz",
        "outputId": "261c3bac-9a6b-44ca-8c2e-d9ab8ff6257b"
      },
      "outputs": [
        {
          "data": {
            "text/plain": [
              "(24, 6, 120)"
            ]
          },
          "execution_count": 6,
          "metadata": {},
          "output_type": "execute_result"
        }
      ],
      "source": [
        "# Calculate factorial using recursion\n",
        "def fact(n):\n",
        "    if n>0:\n",
        "        return n*fact(n-1)\n",
        "    else:\n",
        "        return 1\n",
        "\n",
        "fact(4) , fact(3) , fact(5)"
      ]
    },
    {
      "cell_type": "code",
      "execution_count": null,
      "metadata": {
        "id": "fs27qls5pDC0",
        "outputId": "c14d186c-e743-4102-98d2-2a672e94ae05"
      },
      "outputs": [
        {
          "data": {
            "text/plain": [
              "(24, 6, 120)"
            ]
          },
          "execution_count": 7,
          "metadata": {},
          "output_type": "execute_result"
        }
      ],
      "source": [
        "# Calculate factorial\n",
        "def fact(n):\n",
        "    fact1 = 1\n",
        "    for i in range(1,n+1):\n",
        "        fact1 *=i\n",
        "    return fact1\n",
        "\n",
        "\n",
        "fact(4) , fact(3) , fact(5)"
      ]
    },
    {
      "cell_type": "code",
      "execution_count": null,
      "metadata": {
        "id": "84_GFd-ipDC0",
        "outputId": "b14b46f1-c269-46a4-8b0d-660611664975"
      },
      "outputs": [
        {
          "name": "stdout",
          "output_type": "stream",
          "text": [
            "Mutual Friends :- ['userid3', 'userid4']\n"
          ]
        },
        {
          "data": {
            "text/plain": [
              "{'userid3', 'userid4'}"
            ]
          },
          "execution_count": 8,
          "metadata": {},
          "output_type": "execute_result"
        }
      ],
      "source": [
        "# Intersection of two lists or common elements between two lists\n",
        "my_all_friends = ['userid1','userid2','userid3','userid4']\n",
        "profile_friends = ['userid3','userid4','userid5','userid6']\n",
        "\n",
        "mutual_friends = [i for i in my_all_friends if i in profile_friends]\n",
        "print('Mutual Friends :-',mutual_friends)\n",
        "\n",
        "# OR\n",
        "\n",
        "my_all_friends = ['userid1','userid2','userid3','userid4']\n",
        "profile_friends = ['userid3','userid4','userid5','userid6']\n",
        "\n",
        "my_all_friends = set(['userid1','userid2','userid3','userid4'])\n",
        "profile_friends =set(['userid3','userid4','userid5','userid6'])\n",
        "\n",
        "mutual_friends = my_all_friends & profile_friends\n",
        "mutual_friends"
      ]
    },
    {
      "cell_type": "code",
      "execution_count": null,
      "metadata": {
        "id": "t7Tc8guKpDC1",
        "outputId": "5b5c3239-57ba-4039-cbd1-529e9597038e"
      },
      "outputs": [
        {
          "name": "stdout",
          "output_type": "stream",
          "text": [
            "Enter first number :-10\n",
            "Enter second number :-20\n",
            "Please choice the operation: \n",
            "\n",
            "                        1 : Addition\n",
            " \n",
            "                        2 : Subtraction\n",
            " \n",
            "                        3 : Multiplication\n",
            "\n",
            "                        4 : Division\n",
            "\n",
            "                        5 : Exit\n",
            "3\n",
            "200\n",
            "Please choice the operation: \n",
            "\n",
            "                        1 : Addition\n",
            " \n",
            "                        2 : Subtraction\n",
            " \n",
            "                        3 : Multiplication\n",
            "\n",
            "                        4 : Division\n",
            "\n",
            "                        5 : Exit\n",
            "1\n",
            "30\n",
            "Please choice the operation: \n",
            "\n",
            "                        1 : Addition\n",
            " \n",
            "                        2 : Subtraction\n",
            " \n",
            "                        3 : Multiplication\n",
            "\n",
            "                        4 : Division\n",
            "\n",
            "                        5 : Exit\n",
            "2\n",
            "-10\n",
            "Please choice the operation: \n",
            "\n",
            "                        1 : Addition\n",
            " \n",
            "                        2 : Subtraction\n",
            " \n",
            "                        3 : Multiplication\n",
            "\n",
            "                        4 : Division\n",
            "\n",
            "                        5 : Exit\n",
            "4\n",
            "0.5\n",
            "Please choice the operation: \n",
            "\n",
            "                        1 : Addition\n",
            " \n",
            "                        2 : Subtraction\n",
            " \n",
            "                        3 : Multiplication\n",
            "\n",
            "                        4 : Division\n",
            "\n",
            "                        5 : Exit\n",
            "5\n"
          ]
        }
      ],
      "source": [
        "# Switch Case in Python\n",
        "def mapper(choice,a,b):\n",
        "    operation_dict ={1: a+b,\n",
        "                     2: a-b ,\n",
        "                     3: a*b,\n",
        "                     4: a/b}\n",
        "    return operation_dict[choice]\n",
        "\n",
        "a = int(input('Enter first number :-'))\n",
        "b = int(input('Enter second number :-'))\n",
        "operation = 0\n",
        "while True:\n",
        "    operation = int(input('''Please choice the operation: \\n\n",
        "                        1 : Addition\\n\n",
        "                        2 : Subtraction\\n\n",
        "                        3 : Multiplication\\n\n",
        "                        4 : Division\\n\n",
        "                        5 : Exit\\n'''))\n",
        "    if operation == 5:\n",
        "        break\n",
        "    else:\n",
        "        print(mapper(operation,a,b))"
      ]
    },
    {
      "cell_type": "code",
      "execution_count": null,
      "metadata": {
        "id": "oi8YSD5hpDC1",
        "outputId": "fc3fb72a-19b0-451c-df30-05be318b2898"
      },
      "outputs": [
        {
          "name": "stdout",
          "output_type": "stream",
          "text": [
            "['Asif', 'Basit', 'Arun', 'Sajad'] \n",
            " ['Asif', 'Basit', 'Arun', 'Sajad']\n",
            "['John', 'Basit', 'Arun', 'Sajad'] \n",
            " ['John', 'Basit', 'Arun', 'Sajad']\n"
          ]
        }
      ],
      "source": [
        "#### Shadow Copying\n",
        "l1 = ['Asif' , 'Basit' , 'Arun' , 'Sajad']\n",
        "l2 = l1\n",
        "print(l1,'\\n',l2)\n",
        "\n",
        "l1[0] = 'John'\n",
        "print(l1,'\\n',l2)"
      ]
    },
    {
      "cell_type": "code",
      "execution_count": null,
      "metadata": {
        "id": "0DTRjU4upDC1",
        "outputId": "146abc28-555f-4edb-d00b-61c5f0c07926"
      },
      "outputs": [
        {
          "data": {
            "text/plain": [
              "['I',\n",
              " 'am',\n",
              " 'currently',\n",
              " 'enrolled',\n",
              " 'in',\n",
              " 'data',\n",
              " 'science',\n",
              " 'course',\n",
              " 'Conducted',\n",
              " 'UpGrad',\n",
              " 'IITB',\n",
              " 'Banglore',\n",
              " 'Karnataka']"
            ]
          },
          "execution_count": 16,
          "metadata": {},
          "output_type": "execute_result"
        }
      ],
      "source": [
        "# Split String at special character loc\n",
        "Iam=\"I,am!currently$ enrolled%in,data!science ^ course^Conducted  @UpGrad@IITB^Banglore^Karnataka\"\n",
        "spec_char = \"@[_!#$%^&*()<>?/|,}{~:]\"\n",
        "index_list = []\n",
        "for i in range(len(Iam)):\n",
        "    if Iam[i] in spec_char:\n",
        "        index_list.append(i)\n",
        "final_list = []\n",
        "\n",
        "for i in range(len(index_list)):\n",
        "    if (i < 1):\n",
        "        final_list.append(Iam[0:index_list[i]].strip())\n",
        "    else:\n",
        "        final_list.append(Iam[index_list[i-1]+1:index_list[i]].strip())\n",
        "final_list.append(Iam[index_list[i]+1:len(Iam)])\n",
        "final_list"
      ]
    },
    {
      "cell_type": "code",
      "execution_count": null,
      "metadata": {
        "id": "j1SJXbdrpDC2",
        "outputId": "b7bebef2-60cd-468e-b0a6-c5c4a963e55f"
      },
      "outputs": [
        {
          "name": "stdout",
          "output_type": "stream",
          "text": [
            "Enter String: boom\n",
            "NO\n"
          ]
        }
      ],
      "source": [
        "#Vowel Test\n",
        "vowels = \"AaEeIiOoUu\"\n",
        "input_str = input(\"Enter String: \")\n",
        "if (input_str[0] in vowels):\n",
        "    print(\"YES\")\n",
        "else:\n",
        "    print('NO')"
      ]
    },
    {
      "cell_type": "code",
      "execution_count": null,
      "metadata": {
        "id": "kp3RZyd9pDC2",
        "outputId": "33d9e738-c767-4f5f-c608-c7f08b8a4e5a"
      },
      "outputs": [
        {
          "name": "stdout",
          "output_type": "stream",
          "text": [
            "876534\n",
            "435678\n"
          ]
        }
      ],
      "source": [
        "# Reverse Number\n",
        "#take input of the number here\n",
        "n = int(input())\n",
        "\n",
        "#write code to reverse the number here\n",
        "r= 0\n",
        "while (n>0):\n",
        "    r = r*10 +n%10\n",
        "    n = n//10\n",
        "print(r)\n"
      ]
    },
    {
      "cell_type": "code",
      "execution_count": null,
      "metadata": {
        "id": "7-2KbzEfpDC3",
        "outputId": "60ba8c28-830f-4b8a-c07f-d5aac4104f89"
      },
      "outputs": [
        {
          "name": "stdout",
          "output_type": "stream",
          "text": [
            "153\n",
            "True\n"
          ]
        }
      ],
      "source": [
        "# Armstrong number Test\n",
        "n=int(input())\n",
        "sum = 0\n",
        "div=n\n",
        "while (div>0):\n",
        "    r= div%10\n",
        "    sum+=r**3\n",
        "    div = int(div/10)\n",
        "print(sum==n)"
      ]
    },
    {
      "cell_type": "code",
      "execution_count": null,
      "metadata": {
        "id": "RaxO8PRxpDC4",
        "outputId": "c280b89b-d00b-4ee1-a407-14943a51624b"
      },
      "outputs": [
        {
          "name": "stdout",
          "output_type": "stream",
          "text": [
            "10\n",
            "0\n",
            "1\n",
            "1\n",
            "2\n",
            "3\n",
            "5\n",
            "8\n",
            "13\n",
            "21\n",
            "34\n"
          ]
        }
      ],
      "source": [
        "# Fibonacci Series\n",
        "n=int(input())\n",
        "#write your code here\n",
        "prev = 0\n",
        "nxt =1\n",
        "if n > 0:\n",
        "    print(0)\n",
        "if n > 1:\n",
        "    print(1)\n",
        "if n > 2:\n",
        "    for i in range(3,n+1):\n",
        "        nxt=prev+nxt\n",
        "        print(nxt)\n",
        "        prev = nxt-prev"
      ]
    },
    {
      "cell_type": "code",
      "execution_count": null,
      "metadata": {
        "id": "c3kW6gkGpDC5",
        "outputId": "9ecf2eda-f16b-446a-db4f-c735faa9c6cb"
      },
      "outputs": [
        {
          "name": "stdout",
          "output_type": "stream",
          "text": [
            "5\n",
            "10\n"
          ]
        }
      ],
      "source": [
        "# Sum of prime numbers from 2 to n\n",
        "n=int(input())\n",
        "sum= 0\n",
        "for i in range(2,n+1):\n",
        "    flag=True\n",
        "    for j in range(2,int(n/2)+1):\n",
        "        if i%j ==0 and i!=j:\n",
        "            flag=False\n",
        "            break\n",
        "    if flag:\n",
        "        sum+=i\n",
        "print(sum)"
      ]
    },
    {
      "cell_type": "code",
      "execution_count": null,
      "metadata": {
        "id": "WpyHSx9VpDC5",
        "outputId": "42626730-578f-473a-85d3-25bba72cd953"
      },
      "outputs": [
        {
          "name": "stdout",
          "output_type": "stream",
          "text": [
            "6,5\n",
            "[1, 1, 1, 1, 1]\n",
            "[1, 0, 0, 0, 1]\n",
            "[1, 0, 0, 0, 1]\n",
            "[1, 0, 0, 0, 1]\n",
            "[1, 0, 0, 0, 1]\n",
            "[1, 1, 1, 1, 1]\n"
          ]
        }
      ],
      "source": [
        "# Fenced Matrix\n",
        "import ast\n",
        "mylist= ast.literal_eval(input())\n",
        "rows, cols = (mylist[0],mylist[1])\n",
        "dlist = [[0 for i in range(cols)] for j in range(rows)]\n",
        "for i in range(rows):\n",
        "    for j in range(cols):\n",
        "        if i ==0 or j==0 or i ==rows-1 or j == cols-1:\n",
        "            dlist[i][j]=1\n",
        "\n",
        "\n",
        "for i in range(rows):\n",
        "    print(dlist[i])"
      ]
    },
    {
      "cell_type": "code",
      "execution_count": null,
      "metadata": {
        "id": "wfnjmBO2pDC5",
        "outputId": "1304984b-eb5d-49ae-b777-d7b58ebd663c"
      },
      "outputs": [
        {
          "name": "stdout",
          "output_type": "stream",
          "text": [
            "5\n",
            "[1, 4, 6, 4, 1]\n"
          ]
        }
      ],
      "source": [
        "# Pascal's Triangle\n",
        "from math import factorial\n",
        "n=int(input())\n",
        "print([factorial(i)//(factorial(k)*factorial(i-k)) for i in range(n)  if i == n-1 for k in range(i+1)])"
      ]
    },
    {
      "cell_type": "code",
      "execution_count": null,
      "metadata": {
        "id": "9YMpMixGpDC6",
        "outputId": "4b3ff4f9-5b35-42a0-8496-ce875322dec0"
      },
      "outputs": [
        {
          "name": "stdout",
          "output_type": "stream",
          "text": [
            "Second Largest Number :-  9\n"
          ]
        }
      ],
      "source": [
        "# Second largest number\n",
        "mylist = [10,5,5,6,7,8,9,3,8,8,8,9,9,10,10]\n",
        "second_largest = list(sorted(set(mylist)))[-2]\n",
        "print('Second Largest Number :- ',second_largest)"
      ]
    },
    {
      "cell_type": "code",
      "execution_count": null,
      "metadata": {
        "id": "XHD0CsW8pDC7",
        "outputId": "062ab321-90d8-44cd-cd49-2951239fa3bf"
      },
      "outputs": [
        {
          "name": "stdout",
          "output_type": "stream",
          "text": [
            "DeEd\n",
            "True\n"
          ]
        }
      ],
      "source": [
        "# Palindrome\n",
        "s = input()\n",
        "\n",
        "print(s.lower() == s[::-1].lower())"
      ]
    },
    {
      "cell_type": "code",
      "execution_count": null,
      "metadata": {
        "id": "C015I3sXpDC7",
        "outputId": "46a35633-55f5-489b-a1cf-c4d7d184fc3e"
      },
      "outputs": [
        {
          "name": "stdout",
          "output_type": "stream",
          "text": [
            "Hello everyone have a great day\n",
            "day great a have everyone Hello\n"
          ]
        }
      ],
      "source": [
        "# Reverse sentence\n",
        "\n",
        "sentence=input()\n",
        "list1 = sentence.split(' ')\n",
        "list1.reverse()\n",
        "print(' '.join(list1))"
      ]
    },
    {
      "cell_type": "code",
      "execution_count": null,
      "metadata": {
        "id": "z6Ymrb0RpDC8"
      },
      "outputs": [],
      "source": []
    },
    {
      "cell_type": "code",
      "execution_count": null,
      "metadata": {
        "id": "L3lHLjH5pDC9"
      },
      "outputs": [],
      "source": []
    },
    {
      "cell_type": "code",
      "execution_count": null,
      "metadata": {
        "id": "iza9dZiSpDC9"
      },
      "outputs": [],
      "source": []
    },
    {
      "cell_type": "code",
      "execution_count": null,
      "metadata": {
        "id": "JGypp_sLpDC-"
      },
      "outputs": [],
      "source": []
    }
  ],
  "metadata": {
    "kernelspec": {
      "display_name": "Python 3",
      "language": "python",
      "name": "python3"
    },
    "language_info": {
      "codemirror_mode": {
        "name": "ipython",
        "version": 3
      },
      "file_extension": ".py",
      "mimetype": "text/x-python",
      "name": "python",
      "nbconvert_exporter": "python",
      "pygments_lexer": "ipython3",
      "version": "3.8.5"
    },
    "colab": {
      "provenance": []
    }
  },
  "nbformat": 4,
  "nbformat_minor": 0
}